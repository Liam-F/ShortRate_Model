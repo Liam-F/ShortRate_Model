{
 "cells": [
  {
   "cell_type": "markdown",
   "metadata": {},
   "source": [
    "# Derivativos de Taxa de Juros\n",
    "## Modelo de Kalotay-Williams-Fabozzi\n",
    "\n",
    "Renato Mori, Uirá Caiado. 19 de Junho, 2016"
   ]
  },
  {
   "cell_type": "markdown",
   "metadata": {},
   "source": [
    "**Resumo**\n",
    "\n",
    "*Neste projeto vamos implementar um modelo de um fator chamado [Kalotay-Williams-Fabozzi](https://en.wikipedia.org/wiki/Short-rate_model#One-factor_short-rate_models), onde apenas um único fator estocástico - a taxa de juros instantânea - determina a evolução de toda estrutura a termo da taxa de juros. Vamos descrever brevemente o modelo, detalhar sua implementação, estimar seus parâmetros e demonstrar sua utilização para precificação de alguns títulos que sejam possíveis de compara com preços de mercado.*"
   ]
  },
  {
   "cell_type": "markdown",
   "metadata": {},
   "source": [
    "## 1. Introdução\n",
    "\n",
    "Nesta sessão vamos introduzir o modelo discutido neste trabalho e descrever o problema que será abordado aqui.\n",
    "\n",
    "\n",
    "### 1.1. Modelagem da Curva de Juros\n",
    "\n",
    "Como colocado por Fabozzi, a Taxa de Juros frequentemente é modelada usando equações diferenciais estocásticas([SDEs](https://en.wikipedia.org/wiki/Stochastic_differential_equation) é a abreviação em inglês). Os modelos mais comumente utilizados são os modelos de um ou dois fatores (estocástios), sendo que o de um usa uma SDE para representar a taxa de juros de curto prazo e a segunda representa tanto a taxa de curto como a de longo prazo. Na dinâmica escolhida para o modelo que deve ser refletidas as características desejadas para a curva, como reversão a média e volatilidade dependente do nível da taxa.\n",
    "\n",
    "Existe duas abordagens para na utilizaçtão de equações estocásticas na modelagem da curva a termo de juros: modelos de equilibrio e modelos de não arbitragem, sendo que ambos são usados para precificar *Bonds* e derivativos sobre taxa de juros.\n",
    "\n",
    "Modelos de equilíbrio começam com uma SDE e desenvolvem uma estrutura que não necessariamente correspondem aos preços observados no mercado. Alguns exemplos de modelos desta classe são o Vasicek, Brenna and Schwartz e o Cox, Ingersoll and Ross.\n",
    "\n",
    "Os modelos de não arbitragem também utilizam uma SDE, porém usam os preços de mercado para gerar os caminhos possíveis para taxa de juros. Esta estrutura segue as características impostas pela SDE as taxas de juros encontradas, quando usadas para precificar um bond qualquer, resultam na mesma taxa de juros observada no mercado. Exemplos são o Ho and Lee, Black, Derman and Toy e o Hull and White.\n",
    "\n",
    "Os modelos de não arbitragem geralmente são escolhidos para precificação de Bonds e derivativos pois garantem que as taxas atuais correspondam ao mercado. Este trabalgho explorará um modelo de não arbitragem chamado Kalotay-Williams-Fabozzi.\n",
    "\n",
    "### 1.2. Modelo Kalotay-Williams-Fabozzi\n",
    "\n",
    "O modelo Kalotay-Williams-Fabozzi (KWF) assume que as mudanças na taxa de juros de curto prazo segue um certo [processo estocástico](https://en.wikipedia.org/wiki/Stochastic_process) que pode ser descrito pela seguinte SDE:\n",
    "\n",
    "$$ \\mathrm{d} \\ln(r) = \\theta(t) \\mathrm{d} t + \\sigma\\mathrm{d}Z$$\n",
    "\n",
    "Onde $Z$ é um processo de [Wiener](https://en.wikipedia.org/wiki/Wiener_process), $\\theta$ é o *drift* do processo e $\\sigma$ é a volatilidade da primeira diferença das taxas de curto prazo.  Como o que a equação descreve é a dinâmica do **logarítimo natural** de taxa $r$ e $W$ tem distribuição normal, o $\\ln(r)$ terá distribuição normal e o $r$, log normal. Desta maneira, embora $\\ln(r)$ possa assumir valores negativos, $r$ não assumirá.\n",
    "\n",
    "No trabalho original em que o modelo KWF foi apresentado, os autores não incluiram explicitamente o *drift* na dinâmica do processo e, por tanto, também não utilizaremos ele aqui,"
   ]
  },
  {
   "cell_type": "markdown",
   "metadata": {},
   "source": [
    "## 2. Implementando o Modelo\n",
    "\n",
    "Nesta sessão detalharemos e implementaremos o modelo utilizando como referência o artigo original e calibraremos ele para que bata com os dados de mercado.\n",
    "\n",
    "### 2.1. Aproximação da SDE por Árvore Binomial\n",
    "\n",
    "As equações diferenciais estocásticas podem ter sua solução aproximada numericamente utilizando uma árvore binomial. Este método assume que a taxa de juros de curto prazo pode assumir apenas dois valores no período seguinte da discretização, $r_{u}$ ou $r_{d}$, onde $r_{u} > r_{d}$. Como cada nó da árvore dá origem à dois novos nós, a medida que se aumenta os passos de discretização, o número de nós rapidamente aumenta. Para evitar este crescimento exponencial, é imposto ao modelo que a árvore seja recombinante, ou seja, um movimento de subida seguido por uma queda resulta no mesmo nó de uma queda seguida de uma alta. \n",
    "\n",
    "Um movimento de alta na taxa de juros tem probabilidade $q$ de ocorrer, enquanto um de queda tem probabilidade de $1 - q$. Utilizaremos probabilidade de $q=0.5$ para garantir a netralidade a risco na solução da SDE. É importante frisar que isso não implica na probabilidade real da taxa de juros cair. $q$ representa apenas a probabilidade *neutra a risco*. "
   ]
  },
  {
   "cell_type": "code",
   "execution_count": 1,
   "metadata": {
    "collapsed": false
   },
   "outputs": [],
   "source": [
    "# bibliotecas necessarias\n",
    "import numpy as np\n",
    "import math\n",
    "import pandas as pd\n",
    "import seaborn as sns\n",
    "import matplotlib.pylab as plt"
   ]
  },
  {
   "cell_type": "code",
   "execution_count": 3,
   "metadata": {
    "collapsed": false
   },
   "outputs": [
    {
     "name": "stdout",
     "output_type": "stream",
     "text": [
      "Tempo para inicar toda a arvore: \n",
      "- Com 10 passos: Criados 55 em 0.00 segundos\n",
      "- Com 100 passos: Criados 5,050 em 0.12 segundos\n",
      "- Com 250 passos: Criados 31,375 em 0.72 segundos\n",
      "- Com 500 passos: Criados 125,250 em 3.09 segundos\n",
      "- Com 1000 passos: Criados 500,500 em 13.97 segundos\n"
     ]
    }
   ],
   "source": [
    "import time\n",
    "import binomial_tree; reload(binomial_tree);\n",
    "\n",
    "def foo(i):\n",
    "    f_start = time.time()\n",
    "    x = binomial_tree.BinomialTree(i)\n",
    "    x._go_foward()\n",
    "    i_rtn = len(x.set_of_nodes)\n",
    "    return i_rtn, time.time() - f_start\n",
    "\n",
    "print \"Tempo para inicar toda a arvore: \"\n",
    "for i in [10, 100, 250, 500, 1000]:\n",
    "    # mais de 1000 nodes trava\n",
    "    i_nodes, f_time = foo(i)\n",
    "    print \"- Com {} passos: Criados {:0,.0f} em {:.2f} segundos\".format(i, i_nodes, f_time)"
   ]
  },
  {
   "cell_type": "code",
   "execution_count": 37,
   "metadata": {
    "collapsed": false
   },
   "outputs": [
    {
     "name": "stdout",
     "output_type": "stream",
     "text": [
      "Primeiros passos da arvore criada:\n",
      "========================================\n",
      "\n",
      "\n",
      "\t\t\t\t\t\t\t\tDDDDDDDD\n",
      "\t\t\t\t\t\t\tDDDDDDD\t\n",
      "\t\t\t\t\t\tDDDDDD\t\tDDDDDDDU\n",
      "\t\t\t\t\tDDDDD\t\tDDDDDDU\t\n",
      "\t\t\t\tDDDD\t\tDDDDDU\t\tDDDDDDUU\n",
      "\t\t\tDDD\t\tDDDDU\t\tDDDDDUU\t\n",
      "\t\tDD\t\tDDDU\t\tDDDDUU\t\tDDDDDUUU\n",
      "\tD\t\tDDU\t\tDDDUU\t\tDDDDUUU\t\n",
      "_\t\tDU\t\tDDUU\t\tDDDUUU\t\tDDDDUUUU\n",
      "\tU\t\tDUU\t\tDDUUU\t\tDDDUUUU\t\n",
      "\t\tUU\t\tDUUU\t\tDDUUUU\t\tDDDUUUUU\n",
      "\t\t\tUUU\t\tDUUUU\t\tDDUUUUU\t\n",
      "\t\t\t\tUUUU\t\tDUUUUU\t\tDDUUUUUU\n",
      "\t\t\t\t\tUUUUU\t\tDUUUUUU\t\n",
      "\t\t\t\t\t\tUUUUUU\t\tDUUUUUUU\n",
      "\t\t\t\t\t\t\tUUUUUUU\t\n",
      "\t\t\t\t\t\t\t\tUUUUUUUU\n",
      "\n",
      "Plotted 8 from 12 steps\n"
     ]
    }
   ],
   "source": [
    "import binomial_tree; reload(binomial_tree);\n",
    "x = binomial_tree.BinomialTree(12)\n",
    "x._go_foward()\n",
    "print 'Primeiros passos da arvore criada:\\n========================================\\n\\n'\n",
    "print x"
   ]
  },
  {
   "cell_type": "code",
   "execution_count": null,
   "metadata": {
    "collapsed": true
   },
   "outputs": [],
   "source": []
  },
  {
   "cell_type": "code",
   "execution_count": 52,
   "metadata": {
    "collapsed": false
   },
   "outputs": [
    {
     "name": "stdout",
     "output_type": "stream",
     "text": [
      "Primeiros passos da arvore criada:\n",
      "========================================\n",
      "\n",
      "\t\t\tDDD\n",
      "\t\tDD\t\n",
      "\tD\t\tDDU\n",
      "_\t\tDU\t\n",
      "\tU\t\tDUU\n",
      "\t\tUU\t\n",
      "\t\t\tUUU\n",
      "\n"
     ]
    }
   ],
   "source": [
    "import binomial_tree; reload(binomial_tree);\n",
    "x = binomial_tree.KWFTree([0.035, 0.04, 0.045], [1., 2., 3.])\n",
    "print 'Primeiros passos da arvore criada:\\n========================================\\n'\n",
    "x.fit_foward_curve(0.1)\n",
    "print x"
   ]
  },
  {
   "cell_type": "code",
   "execution_count": 53,
   "metadata": {
    "collapsed": false
   },
   "outputs": [
    {
     "data": {
      "text/html": [
       "<div>\n",
       "<table border=\"1\" class=\"dataframe\">\n",
       "  <thead>\n",
       "    <tr style=\"text-align: right;\">\n",
       "      <th></th>\n",
       "      <th>0</th>\n",
       "      <th>1</th>\n",
       "      <th>2</th>\n",
       "    </tr>\n",
       "  </thead>\n",
       "  <tbody>\n",
       "    <tr>\n",
       "      <th>0</th>\n",
       "      <td>0.035</td>\n",
       "      <td>0.040736</td>\n",
       "      <td>0.045296</td>\n",
       "    </tr>\n",
       "    <tr>\n",
       "      <th>1</th>\n",
       "      <td>0.035</td>\n",
       "      <td>0.040736</td>\n",
       "      <td>0.055325</td>\n",
       "    </tr>\n",
       "    <tr>\n",
       "      <th>2</th>\n",
       "      <td>0.035</td>\n",
       "      <td>0.049755</td>\n",
       "      <td>0.055325</td>\n",
       "    </tr>\n",
       "    <tr>\n",
       "      <th>3</th>\n",
       "      <td>0.035</td>\n",
       "      <td>0.049755</td>\n",
       "      <td>0.067574</td>\n",
       "    </tr>\n",
       "  </tbody>\n",
       "</table>\n",
       "</div>"
      ],
      "text/plain": [
       "       0         1         2\n",
       "0  0.035  0.040736  0.045296\n",
       "1  0.035  0.040736  0.055325\n",
       "2  0.035  0.049755  0.055325\n",
       "3  0.035  0.049755  0.067574"
      ]
     },
     "execution_count": 53,
     "metadata": {},
     "output_type": "execute_result"
    }
   ],
   "source": [
    "x.get_lattice()\n"
   ]
  },
  {
   "cell_type": "code",
   "execution_count": 54,
   "metadata": {
    "collapsed": false
   },
   "outputs": [],
   "source": [
    "df = x.get_short_rate_paths()"
   ]
  },
  {
   "cell_type": "code",
   "execution_count": 55,
   "metadata": {
    "collapsed": false
   },
   "outputs": [
    {
     "data": {
      "text/plain": [
       "<matplotlib.axes._subplots.AxesSubplot at 0x7fd660b90610>"
      ]
     },
     "execution_count": 55,
     "metadata": {},
     "output_type": "execute_result"
    },
    {
     "data": {
      "image/png": "[encoded data removed]",
      "text/plain": [
       "<matplotlib.figure.Figure at 0x7fd698053e90>"
      ]
     },
     "metadata": {},
     "output_type": "display_data"
    }
   ],
   "source": [
    "df.plot(legend=False)"
   ]
  },
  {
   "cell_type": "code",
   "execution_count": 56,
   "metadata": {
    "collapsed": false
   },
   "outputs": [
    {
     "name": "stdout",
     "output_type": "stream",
     "text": [
      "Erro de aproximacao: 0.000442\n"
     ]
    }
   ],
   "source": [
    "import pandas as pd\n",
    "print \"Erro de aproximacao: {:.6f}\".format(abs(df.T.mean()-pd.Series([0.035, 0.04, 0.045])).sum())"
   ]
  },
  {
   "cell_type": "code",
   "execution_count": null,
   "metadata": {
    "collapsed": true
   },
   "outputs": [],
   "source": []
  },
  {
   "cell_type": "code",
   "execution_count": null,
   "metadata": {
    "collapsed": true
   },
   "outputs": [],
   "source": []
  },
  {
   "cell_type": "code",
   "execution_count": 311,
   "metadata": {
    "collapsed": false
   },
   "outputs": [],
   "source": [
    "import binomial_tree; reload(binomial_tree)\n",
    "import pandas as pd\n",
    "\n",
    "l_txindicativa = [14.152, 14.0265, 13.7596, 13.4663, 13.1995,\n",
    "                  12.9729, 12.8001, 12.7250, 12.6541, 12.5649,\n",
    "                  12.5653, 12.6005]\n",
    "l_prazo = [9., 73., 135., 198., 259., 323., 384., 445., 508, 634., 758., 887.]\n",
    "\n",
    "\n",
    "l_txindicativa = [14.152, 14.0265, 13.7596]\n",
    "l_txindicativa = [14.152, 14.0265]\n",
    "l_txindicativa = [x/100. for x in l_txindicativa]\n",
    "# l_prazo = [9., 73., 135.]\n",
    "\n",
    "l_prazo = [1., 2.5]\n",
    "l_prazo = [x*252. for x in l_prazo]\n",
    "\n",
    "\n",
    "# l_txindicativa = [0.035, 0.04, 0.045]\n",
    "# l_prazo = [1., 2., 3.]\n",
    "# l_prazo = [x*252. for x in l_prazo]\n",
    "\n",
    "\n",
    "my_tree = binomial_tree.KWFTree([x for x in l_txindicativa],\n",
    "                                [x/252. for x in l_prazo])\n",
    "my_tree.fit_foward_curve(f_sigma=0.1)\n",
    "self = my_tree\n",
    "\n",
    "df = my_tree.get_lattice()\n",
    "# print \"Erro de aproximacao: {:.6f}\".format(abs(df.T.mean()-pd.Series(l_txindicativa)).sum())"
   ]
  },
  {
   "cell_type": "code",
   "execution_count": 261,
   "metadata": {
    "collapsed": false
   },
   "outputs": [
    {
     "data": {
      "text/plain": [
       "1.0    0.14152\n",
       "2.5        NaN\n",
       "dtype: float64"
      ]
     },
     "execution_count": 261,
     "metadata": {},
     "output_type": "execute_result"
    }
   ],
   "source": [
    "df.T.mean()"
   ]
  },
  {
   "cell_type": "code",
   "execution_count": 152,
   "metadata": {
    "collapsed": false
   },
   "outputs": [
    {
     "data": {
      "text/plain": [
       "<matplotlib.axes._subplots.AxesSubplot at 0x7fdec9f8bb50>"
      ]
     },
     "execution_count": 152,
     "metadata": {},
     "output_type": "execute_result"
    },
    {
     "data": {
      "image/png": "[encoded data removed]",
      "text/plain": [
       "<matplotlib.figure.Figure at 0x7fdecaef7a10>"
      ]
     },
     "metadata": {},
     "output_type": "display_data"
    }
   ],
   "source": [
    "df1 = self.get_lattice()\n",
    "df1.plot(legend=False)"
   ]
  },
  {
   "cell_type": "code",
   "execution_count": 134,
   "metadata": {
    "collapsed": false
   },
   "outputs": [
    {
     "data": {
      "text/html": [
       "<div>\n",
       "<table border=\"1\" class=\"dataframe\">\n",
       "  <thead>\n",
       "    <tr style=\"text-align: right;\">\n",
       "      <th></th>\n",
       "      <th>0</th>\n",
       "      <th>1</th>\n",
       "      <th>2</th>\n",
       "      <th>3</th>\n",
       "    </tr>\n",
       "  </thead>\n",
       "  <tbody>\n",
       "    <tr>\n",
       "      <th>0</th>\n",
       "      <td>0.141520</td>\n",
       "      <td>0.141520</td>\n",
       "      <td>0.141520</td>\n",
       "      <td>0.141520</td>\n",
       "    </tr>\n",
       "    <tr>\n",
       "      <th>1</th>\n",
       "      <td>0.160224</td>\n",
       "      <td>0.160224</td>\n",
       "      <td>0.196170</td>\n",
       "      <td>0.196170</td>\n",
       "    </tr>\n",
       "    <tr>\n",
       "      <th>2</th>\n",
       "      <td>0.172232</td>\n",
       "      <td>0.192855</td>\n",
       "      <td>0.217367</td>\n",
       "      <td>0.244218</td>\n",
       "    </tr>\n",
       "  </tbody>\n",
       "</table>\n",
       "</div>"
      ],
      "text/plain": [
       "          0         1         2         3\n",
       "0  0.141520  0.141520  0.141520  0.141520\n",
       "1  0.160224  0.160224  0.196170  0.196170\n",
       "2  0.172232  0.192855  0.217367  0.244218"
      ]
     },
     "execution_count": 134,
     "metadata": {},
     "output_type": "execute_result"
    }
   ],
   "source": [
    "df1"
   ]
  },
  {
   "cell_type": "code",
   "execution_count": null,
   "metadata": {
    "collapsed": true
   },
   "outputs": [],
   "source": []
  },
  {
   "cell_type": "code",
   "execution_count": 109,
   "metadata": {
    "collapsed": false
   },
   "outputs": [
    {
     "data": {
      "text/html": [
       "<div>\n",
       "<table border=\"1\" class=\"dataframe\">\n",
       "  <thead>\n",
       "    <tr style=\"text-align: right;\">\n",
       "      <th></th>\n",
       "      <th>0</th>\n",
       "      <th>1</th>\n",
       "      <th>2</th>\n",
       "    </tr>\n",
       "  </thead>\n",
       "  <tbody>\n",
       "    <tr>\n",
       "      <th>0</th>\n",
       "      <td>0.035</td>\n",
       "      <td>0.037864</td>\n",
       "      <td>0.040335</td>\n",
       "    </tr>\n",
       "    <tr>\n",
       "      <th>1</th>\n",
       "      <td>0.035</td>\n",
       "      <td>0.037864</td>\n",
       "      <td>0.043652</td>\n",
       "    </tr>\n",
       "    <tr>\n",
       "      <th>2</th>\n",
       "      <td>0.035</td>\n",
       "      <td>0.042351</td>\n",
       "      <td>0.046658</td>\n",
       "    </tr>\n",
       "    <tr>\n",
       "      <th>3</th>\n",
       "      <td>0.035</td>\n",
       "      <td>0.042351</td>\n",
       "      <td>0.050692</td>\n",
       "    </tr>\n",
       "  </tbody>\n",
       "</table>\n",
       "</div>"
      ],
      "text/plain": [
       "       0         1         2\n",
       "0  0.035  0.037864  0.040335\n",
       "1  0.035  0.037864  0.043652\n",
       "2  0.035  0.042351  0.046658\n",
       "3  0.035  0.042351  0.050692"
      ]
     },
     "execution_count": 109,
     "metadata": {},
     "output_type": "execute_result"
    }
   ],
   "source": [
    "df.T"
   ]
  },
  {
   "cell_type": "code",
   "execution_count": 310,
   "metadata": {
    "collapsed": false
   },
   "outputs": [
    {
     "name": "stdout",
     "output_type": "stream",
     "text": [
      "        cupon     valor     taxa      prazo     \n",
      "_        0.00       nan    14.152    1.0000\n",
      "D       14.03       nan-2438847320.062    1.0000\n",
      "U       14.03       nan-2978814843.455    1.0000\n",
      "DD      21.76   100.000     0.000    1.5000\n",
      "DU      21.76   100.000     0.000    1.5000\n",
      "UU      21.76   100.000     0.000    1.5000\n"
     ]
    }
   ],
   "source": [
    "my_tree.get_description()"
   ]
  },
  {
   "cell_type": "code",
   "execution_count": 193,
   "metadata": {
    "collapsed": false
   },
   "outputs": [],
   "source": [
    "i_step = 2"
   ]
  },
  {
   "cell_type": "code",
   "execution_count": 254,
   "metadata": {
    "collapsed": false
   },
   "outputs": [],
   "source": [
    "my_tree['D'].f_r = 0.1251527519\n",
    "my_tree['U'].f_r = 0.1528619165"
   ]
  },
  {
   "cell_type": "code",
   "execution_count": 255,
   "metadata": {
    "collapsed": true
   },
   "outputs": [],
   "source": [
    "f_initial_rate = self.l_short_rates[i_step]\n",
    "f_face_value = self.f_face_value"
   ]
  },
  {
   "cell_type": "code",
   "execution_count": 263,
   "metadata": {
    "collapsed": true
   },
   "outputs": [],
   "source": [
    "self = my_tree"
   ]
  },
  {
   "cell_type": "code",
   "execution_count": 264,
   "metadata": {
    "collapsed": false
   },
   "outputs": [
    {
     "name": "stdout",
     "output_type": "stream",
     "text": [
      "0.137596\n"
     ]
    }
   ],
   "source": [
    "f_rate = f_initial_rate\n",
    "print f_rate"
   ]
  },
  {
   "cell_type": "code",
   "execution_count": 290,
   "metadata": {
    "collapsed": true
   },
   "outputs": [],
   "source": [
    "# preenche taxas do passo atual\n",
    "f_face_value = self.f_face_value\n",
    "for node in self.d_step[i_step]:\n",
    "    node.f_r = self._get_short_rate(f_rate, node)"
   ]
  },
  {
   "cell_type": "code",
   "execution_count": 291,
   "metadata": {
    "collapsed": true
   },
   "outputs": [],
   "source": [
    "i_step = 1"
   ]
  },
  {
   "cell_type": "code",
   "execution_count": 292,
   "metadata": {
    "collapsed": false
   },
   "outputs": [
    {
     "name": "stdout",
     "output_type": "stream",
     "text": [
      "        cupon     valor     taxa      prazo     \n",
      "_        0.00       nan    14.152    1.0000\n",
      "D       14.03       nan    14.027    1.0000\n",
      "U       14.03       nan    17.132    1.0000\n",
      "DD      21.76   100.000    13.760    1.5000\n",
      "DU      21.76   100.000    16.806    1.5000\n",
      "UU      21.76   100.000    20.527    1.5000\n"
     ]
    }
   ],
   "source": [
    "self.get_description()"
   ]
  },
  {
   "cell_type": "code",
   "execution_count": 312,
   "metadata": {
    "collapsed": true
   },
   "outputs": [],
   "source": [
    "f_rate = 0.140265"
   ]
  },
  {
   "cell_type": "code",
   "execution_count": 321,
   "metadata": {
    "collapsed": false
   },
   "outputs": [],
   "source": [
    "# preenche taxas do passo atual\n",
    "f_face_value = self.f_face_value\n",
    "for node in self.d_step[i_step]:\n",
    "    node.f_r = self._get_short_rate(f_rate, node)"
   ]
  },
  {
   "cell_type": "code",
   "execution_count": 314,
   "metadata": {
    "collapsed": false
   },
   "outputs": [
    {
     "name": "stdout",
     "output_type": "stream",
     "text": [
      "        cupon     valor     taxa      prazo     \n",
      "_        0.00       nan    14.152    1.0000\n",
      "D       14.03       nan    14.027    1.0000\n",
      "U       14.03       nan    17.132    1.0000\n",
      "DD      21.76   100.000     0.000    1.5000\n",
      "DU      21.76   100.000     0.000    1.5000\n",
      "UU      21.76   100.000     0.000    1.5000\n"
     ]
    }
   ],
   "source": [
    "self.get_description()"
   ]
  },
  {
   "cell_type": "code",
   "execution_count": 315,
   "metadata": {
    "collapsed": false
   },
   "outputs": [],
   "source": [
    "f_initial_rate = f_rate"
   ]
  },
  {
   "cell_type": "code",
   "execution_count": 323,
   "metadata": {
    "collapsed": true
   },
   "outputs": [],
   "source": [
    "f_rate = 0.12515"
   ]
  },
  {
   "cell_type": "code",
   "execution_count": 324,
   "metadata": {
    "collapsed": false
   },
   "outputs": [
    {
     "name": "stdout",
     "output_type": "stream",
     "text": [
      "D: DD, DU = 2.451\n",
      "U: DU, UU = 1.853\n",
      "_: D, U = 14.172\n"
     ]
    }
   ],
   "source": [
    "for i_aux_step in xrange(i_step, -1, -1):\n",
    "    for node in self.d_step[i_aux_step]:\n",
    "        f_cupon = f_face_value * ((1+f_initial_rate)**node.f_time-1)\n",
    "        s_down, s_up = node.get_childrens()\n",
    "        node_down = self[s_down]\n",
    "        node_up = self[s_up]\n",
    "        f_aux = (node_down.f_value + node_down.f_cupon)\n",
    "        f_aux *= node_down.f_prob\n",
    "        f_aux += (node_up.f_value + node_up.f_cupon) * node_up.f_prob\n",
    "        f_aux /= (1+node.f_r)**(node_down.f_time)\n",
    "#         if node.name=='D':\n",
    "#             break\n",
    "        node.set_values(f_cupon=f_cupon,\n",
    "                        f_value=f_aux)\n",
    "        print \"{}: {}, {} = {:.3f}\".format(node, node_down, node_up, f_aux)\n",
    "\n"
   ]
  },
  {
   "cell_type": "code",
   "execution_count": 325,
   "metadata": {
    "collapsed": false
   },
   "outputs": [
    {
     "name": "stdout",
     "output_type": "stream",
     "text": [
      "        cupon     valor     taxa      prazo     \n",
      "_        0.00    14.172    14.152    1.0000\n",
      "D       14.03     2.451  1251.500    1.0000\n",
      "U       14.03     1.853  1528.586    1.0000\n",
      "DD      21.76   100.000     0.000    1.5000\n",
      "DU      21.76   100.000     0.000    1.5000\n",
      "UU      21.76   100.000     0.000    1.5000\n"
     ]
    }
   ],
   "source": [
    "self.get_description()\n"
   ]
  },
  {
   "cell_type": "code",
   "execution_count": null,
   "metadata": {
    "collapsed": true
   },
   "outputs": [],
   "source": []
  },
  {
   "cell_type": "code",
   "execution_count": null,
   "metadata": {
    "collapsed": true
   },
   "outputs": [],
   "source": []
  },
  {
   "cell_type": "code",
   "execution_count": 288,
   "metadata": {
    "collapsed": false
   },
   "outputs": [],
   "source": [
    "self._go_backward(i_step)"
   ]
  },
  {
   "cell_type": "code",
   "execution_count": 302,
   "metadata": {
    "collapsed": true
   },
   "outputs": [],
   "source": [
    "# preenche valores no passo posterior\n",
    "f_initial_rate = self.l_short_rates[i_step]\n",
    "f_face_value = self.f_face_value\n",
    "\n",
    "for node in self.d_step[i_step+1]:\n",
    "    f_cupon = f_face_value * ((1+f_initial_rate)**node.f_time-1)\n",
    "    node.set_values(f_cupon=f_cupon,\n",
    "                    f_value=f_face_value)"
   ]
  },
  {
   "cell_type": "code",
   "execution_count": 305,
   "metadata": {
    "collapsed": true
   },
   "outputs": [],
   "source": [
    "from scipy import optimize"
   ]
  },
  {
   "cell_type": "code",
   "execution_count": 306,
   "metadata": {
    "collapsed": true
   },
   "outputs": [],
   "source": [
    "optimize.minimize?"
   ]
  },
  {
   "cell_type": "code",
   "execution_count": 318,
   "metadata": {
    "collapsed": false
   },
   "outputs": [
    {
     "name": "stdout",
     "output_type": "stream",
     "text": [
      "[ 0.140265]\n",
      "[ 0.00014027]\n",
      "[ 0.00014027]\n",
      "[-23816868.35997907]\n",
      "[-23816868.35997907]\n",
      "[-23816.86835998]\n",
      "[ -1.19084342e+08]\n",
      "[ -1.19084342e+08]\n",
      "[-119084.3417999]\n",
      "[ -5.00154236e+08]\n",
      "[ -5.00154236e+08]\n",
      "[-500154.23555956]\n",
      "[ -1.19084342e+09]\n",
      "[ -1.19084342e+09]\n",
      "[-1190843.41799896]\n",
      "[ -1.19084342e+09]\n",
      "[ -1.19084342e+09]\n",
      "[-1190843.41799896]\n",
      "[ -1.19084342e+09]\n",
      "[ -1.19084342e+09]\n",
      "[-1190843.41799896]\n",
      "[ -1.19084342e+09]\n",
      "[ -1.19084342e+09]\n",
      "[-1190843.41799896]\n",
      "[ -1.19084342e+09]\n",
      "[ -1.19084342e+09]\n",
      "[-1190843.41799896]\n",
      "[ -1.19084342e+09]\n",
      "[ -1.19084342e+09]\n",
      "[-1190843.41799896]\n",
      "[ -1.19084342e+09]\n",
      "[ -1.19084342e+09]\n",
      "[-1190843.41799896]\n",
      "[ -1.19084342e+09]\n",
      "[ -1.19084342e+09]\n",
      "[-1190843.41799896]\n",
      "[ -1.19084342e+09]\n",
      "[ -1.19084342e+09]\n",
      "[-1190843.41799896]\n",
      "[ -1.19084342e+09]\n",
      "[ -1.19084342e+09]\n",
      "[-1190843.41799896]\n",
      "[ -1.19084342e+09]\n",
      "[ -1.19084342e+09]\n",
      "[-1190843.41799896]\n",
      "[ -1.19084342e+09]\n",
      "[ -1.19084342e+09]\n",
      "[-1190843.41799896]\n",
      "[ -1.19084342e+09]\n",
      "[ -1.19084342e+09]\n",
      "[-1190843.41799896]\n",
      "[ -1.19084342e+09]\n",
      "[ -1.19084342e+09]\n",
      "[-1190843.41799896]\n",
      "[ -1.19084342e+09]\n",
      "[ -1.19084342e+09]\n",
      "[-1190843.41799896]\n",
      "[ -1.19084342e+09]\n",
      "[ -1.19084342e+09]\n",
      "[-1190843.41799896]\n",
      "[ -1.19084342e+09]\n",
      "[ -1.19084342e+09]\n",
      "[-1190843.41799896]\n",
      "[ -1.19084342e+09]\n",
      "[ -1.19084342e+09]\n",
      "[-1190843.41799896]\n",
      "[ -1.19084342e+09]\n",
      "[ -1.19084342e+09]\n",
      "[-1190843.41799896]\n",
      "[ -1.19084342e+09]\n",
      "[ -1.19084342e+09]\n",
      "[-1190843.41799896]\n",
      "[ -1.19084342e+09]\n",
      "[ -1.19084342e+09]\n",
      "[-1190843.41799896]\n",
      "[ -1.19084342e+09]\n",
      "[ -1.19084342e+09]\n",
      "[-1190843.41799896]\n",
      "[ -1.19084342e+09]\n",
      "[ -1.19084342e+09]\n",
      "[-1190843.41799896]\n",
      "[ -1.19084342e+09]\n",
      "[ -1.19084342e+09]\n",
      "[-1190843.41799896]\n",
      "[ -1.19084342e+09]\n",
      "[ -1.19084342e+09]\n",
      "[-1190843.41799896]\n",
      "[ -1.19084342e+09]\n",
      "[ -1.19084342e+09]\n",
      "[-1190843.41799896]\n",
      "[ -1.19084342e+09]\n",
      "[ -1.19084342e+09]\n",
      "[-1190843.41799896]\n",
      "[-23816868.35997907]\n",
      "[-23816868.35997907]\n",
      "[-23816.86835998]\n",
      "[-47633736.71995829]\n",
      "[-47633736.71995829]\n",
      "[-47633.73671996]\n",
      "[-95267473.43991672]\n",
      "[-95267473.43991672]\n",
      "[-95267.47343992]\n",
      "[ -1.90534947e+08]\n",
      "[ -1.90534947e+08]\n",
      "[-190534.94687983]\n",
      "[ -3.81069894e+08]\n",
      "[ -3.81069894e+08]\n",
      "[-381069.89375967]\n",
      "[ -7.62139788e+08]\n",
      "[ -7.62139788e+08]\n",
      "[-762139.78751933]\n",
      "[ -1.52427958e+09]\n",
      "[ -1.52427958e+09]\n",
      "[-1524279.57503867]\n",
      "[ -3.04855915e+09]\n",
      "[ -3.04855915e+09]\n",
      "[-3048559.15007734]\n",
      "[ -6.09711830e+09]\n",
      "[ -6.09711830e+09]\n",
      "[-6097118.30015468]\n",
      "[ -1.21942366e+10]\n",
      "[ -1.21942366e+10]\n",
      "[-12194236.60030936]\n",
      "[ -2.43884732e+10]\n",
      "[ -2.43884732e+10]\n",
      "[-24388473.20061871]\n"
     ]
    }
   ],
   "source": [
    "    res = optimize.minimize(self._set_all_values,\n",
    "                            f_initial_rate * 1000,\n",
    "                            args=(f_initial_rate, i_step, True),\n",
    "                           )"
   ]
  },
  {
   "cell_type": "code",
   "execution_count": null,
   "metadata": {
    "collapsed": true
   },
   "outputs": [],
   "source": []
  },
  {
   "cell_type": "code",
   "execution_count": 308,
   "metadata": {
    "collapsed": false
   },
   "outputs": [
    {
     "name": "stdout",
     "output_type": "stream",
     "text": [
      "        cupon     valor     taxa      prazo     \n",
      "_        0.00       nan    14.152    1.0000\n",
      "D       14.03       nan-46517590.521    1.0000\n",
      "U       14.03       nan-56816713.365    1.0000\n",
      "DD      21.76   100.000    13.760    1.5000\n",
      "DU      21.76   100.000    16.806    1.5000\n",
      "UU      21.76   100.000    20.527    1.5000\n"
     ]
    }
   ],
   "source": [
    "self.get_description()"
   ]
  },
  {
   "cell_type": "code",
   "execution_count": null,
   "metadata": {
    "collapsed": true
   },
   "outputs": [],
   "source": []
  },
  {
   "cell_type": "code",
   "execution_count": 301,
   "metadata": {
    "collapsed": false
   },
   "outputs": [
    {
     "data": {
      "text/plain": [
       "0.140265"
      ]
     },
     "execution_count": 301,
     "metadata": {},
     "output_type": "execute_result"
    }
   ],
   "source": [
    "f_initial_rate"
   ]
  },
  {
   "cell_type": "code",
   "execution_count": null,
   "metadata": {
    "collapsed": true
   },
   "outputs": [],
   "source": []
  },
  {
   "cell_type": "code",
   "execution_count": null,
   "metadata": {
    "collapsed": true
   },
   "outputs": [],
   "source": []
  },
  {
   "cell_type": "code",
   "execution_count": 244,
   "metadata": {
    "collapsed": false
   },
   "outputs": [
    {
     "data": {
      "text/plain": [
       "D"
      ]
     },
     "execution_count": 244,
     "metadata": {},
     "output_type": "execute_result"
    }
   ],
   "source": [
    "node"
   ]
  },
  {
   "cell_type": "code",
   "execution_count": 247,
   "metadata": {
    "collapsed": false
   },
   "outputs": [
    {
     "data": {
      "text/plain": [
       "121.33387968022306"
      ]
     },
     "execution_count": 247,
     "metadata": {},
     "output_type": "execute_result"
    }
   ],
   "source": [
    "(node_down.f_value + node_down.f_cupon)"
   ]
  },
  {
   "cell_type": "code",
   "execution_count": 251,
   "metadata": {
    "collapsed": false
   },
   "outputs": [],
   "source": [
    "        f_aux = (node_down.f_value + node_down.f_cupon)\n",
    "        f_aux *= node_down.f_prob\n",
    "        f_aux += (node_up.f_value + node_up.f_cupon) * node_up.f_prob"
   ]
  },
  {
   "cell_type": "code",
   "execution_count": 253,
   "metadata": {
    "collapsed": false
   },
   "outputs": [
    {
     "data": {
      "text/plain": [
       "0.1528619165"
      ]
     },
     "execution_count": 253,
     "metadata": {},
     "output_type": "execute_result"
    }
   ],
   "source": [
    "node.f_r"
   ]
  },
  {
   "cell_type": "code",
   "execution_count": 250,
   "metadata": {
    "collapsed": false
   },
   "outputs": [
    {
     "data": {
      "text/plain": [
       "120.02121606815004"
      ]
     },
     "execution_count": 250,
     "metadata": {},
     "output_type": "execute_result"
    }
   ],
   "source": [
    "(node_up.f_value + node_up.f_cupon)"
   ]
  },
  {
   "cell_type": "code",
   "execution_count": null,
   "metadata": {
    "collapsed": true
   },
   "outputs": [],
   "source": []
  },
  {
   "cell_type": "code",
   "execution_count": null,
   "metadata": {
    "collapsed": true
   },
   "outputs": [],
   "source": []
  },
  {
   "cell_type": "code",
   "execution_count": null,
   "metadata": {
    "collapsed": true
   },
   "outputs": [],
   "source": []
  },
  {
   "cell_type": "code",
   "execution_count": null,
   "metadata": {
    "collapsed": true
   },
   "outputs": [],
   "source": []
  },
  {
   "cell_type": "code",
   "execution_count": 289,
   "metadata": {
    "collapsed": false
   },
   "outputs": [
    {
     "name": "stdout",
     "output_type": "stream",
     "text": [
      "        cupon     valor     taxa      prazo     \n",
      "_        0.00       nan    14.152    1.0000\n",
      "D       14.03       nan-46517590.521    1.0000\n",
      "U       14.03       nan-56816713.365    1.0000\n",
      "DD      21.76   100.000    13.760    1.5000\n",
      "DU      21.76   100.000    16.806    1.5000\n",
      "UU      21.76   100.000    20.527    1.5000\n"
     ]
    }
   ],
   "source": [
    "self.get_description()"
   ]
  },
  {
   "cell_type": "code",
   "execution_count": null,
   "metadata": {
    "collapsed": true
   },
   "outputs": [],
   "source": []
  },
  {
   "cell_type": "code",
   "execution_count": 201,
   "metadata": {
    "collapsed": false
   },
   "outputs": [
    {
     "ename": "AttributeError",
     "evalue": "'float' object has no attribute 'f_value'",
     "output_type": "error",
     "traceback": [
      "\u001b[1;31m---------------------------------------------------------------------------\u001b[0m",
      "\u001b[1;31mAttributeError\u001b[0m                            Traceback (most recent call last)",
      "\u001b[1;32m<ipython-input-201-450ddccc7c7a>\u001b[0m in \u001b[0;36m<module>\u001b[1;34m()\u001b[0m\n\u001b[0;32m     13\u001b[0m         \u001b[0mnode_down\u001b[0m \u001b[1;33m=\u001b[0m \u001b[0mself\u001b[0m\u001b[1;33m[\u001b[0m\u001b[0ms_down\u001b[0m\u001b[1;33m]\u001b[0m\u001b[1;33m\u001b[0m\u001b[0m\n\u001b[0;32m     14\u001b[0m         \u001b[0mnode_up\u001b[0m \u001b[1;33m=\u001b[0m \u001b[0mself\u001b[0m\u001b[1;33m[\u001b[0m\u001b[0ms_up\u001b[0m\u001b[1;33m]\u001b[0m\u001b[1;33m\u001b[0m\u001b[0m\n\u001b[1;32m---> 15\u001b[1;33m         \u001b[0mf_aux\u001b[0m \u001b[1;33m=\u001b[0m \u001b[1;33m(\u001b[0m\u001b[0mnode_down\u001b[0m\u001b[1;33m.\u001b[0m\u001b[0mf_value\u001b[0m \u001b[1;33m+\u001b[0m \u001b[0mnode_down\u001b[0m\u001b[1;33m.\u001b[0m\u001b[0mf_cupon\u001b[0m\u001b[1;33m)\u001b[0m\u001b[1;33m\u001b[0m\u001b[0m\n\u001b[0m\u001b[0;32m     16\u001b[0m         \u001b[0mf_aux\u001b[0m \u001b[1;33m*=\u001b[0m \u001b[0mnode_down\u001b[0m\u001b[1;33m.\u001b[0m\u001b[0mf_prob\u001b[0m\u001b[1;33m\u001b[0m\u001b[0m\n\u001b[0;32m     17\u001b[0m         \u001b[0mf_aux\u001b[0m \u001b[1;33m+=\u001b[0m \u001b[1;33m(\u001b[0m\u001b[0mnode_up\u001b[0m\u001b[1;33m.\u001b[0m\u001b[0mf_value\u001b[0m \u001b[1;33m+\u001b[0m \u001b[0mnode_up\u001b[0m\u001b[1;33m.\u001b[0m\u001b[0mf_cupon\u001b[0m\u001b[1;33m)\u001b[0m \u001b[1;33m*\u001b[0m \u001b[0mnode_up\u001b[0m\u001b[1;33m.\u001b[0m\u001b[0mf_prob\u001b[0m\u001b[1;33m\u001b[0m\u001b[0m\n",
      "\u001b[1;31mAttributeError\u001b[0m: 'float' object has no attribute 'f_value'"
     ]
    }
   ],
   "source": [
    "        # preenche taxas do passo atual\n",
    "        f_face_value = self.f_face_value\n",
    "        for node in self.d_step[i_step]:\n",
    "            node.f_r = self._get_short_rate(f_rate, node)\n",
    "        # itera toda a arvore. Eh esperado que nos anteriores jah\n",
    "        # tenham a taxa setada\n",
    "        for i_aux_step in xrange(i_step, -1, -1):\n",
    "            for node in self.d_step[i_aux_step]:\n",
    "                # calcula cupon usando taxa atual\n",
    "                f_cupon = f_face_value * ((1+f_initial_rate)**node.f_time-1)\n",
    "                # calcula valor presente pegabdo valores dos childrens\n",
    "                s_down, s_up = node.get_childrens()\n",
    "                node_down = self[s_down]\n",
    "                node_up = self[s_up]\n",
    "                f_aux = (node_down.f_value + node_down.f_cupon)\n",
    "                f_aux *= node_down.f_prob\n",
    "                f_aux += (node_up.f_value + node_up.f_cupon) * node_up.f_prob\n",
    "                f_aux /= (1+node.f_r)**(node_down.f_time)\n",
    "                node.set_values(f_cupon=f_cupon,\n",
    "                                f_value=f_aux)"
   ]
  },
  {
   "cell_type": "code",
   "execution_count": 204,
   "metadata": {
    "collapsed": false
   },
   "outputs": [
    {
     "data": {
      "text/plain": [
       "3"
      ]
     },
     "execution_count": 204,
     "metadata": {},
     "output_type": "execute_result"
    }
   ],
   "source": [
    "i_step"
   ]
  },
  {
   "cell_type": "code",
   "execution_count": 203,
   "metadata": {
    "collapsed": false
   },
   "outputs": [
    {
     "data": {
      "text/plain": [
       "3"
      ]
     },
     "execution_count": 203,
     "metadata": {},
     "output_type": "execute_result"
    }
   ],
   "source": [
    "i_aux_step"
   ]
  },
  {
   "cell_type": "code",
   "execution_count": 202,
   "metadata": {
    "collapsed": false
   },
   "outputs": [
    {
     "data": {
      "text/plain": [
       "DDD"
      ]
     },
     "execution_count": 202,
     "metadata": {},
     "output_type": "execute_result"
    }
   ],
   "source": [
    "node"
   ]
  },
  {
   "cell_type": "code",
   "execution_count": null,
   "metadata": {
    "collapsed": true
   },
   "outputs": [],
   "source": []
  },
  {
   "cell_type": "code",
   "execution_count": null,
   "metadata": {
    "collapsed": true
   },
   "outputs": [],
   "source": []
  },
  {
   "cell_type": "code",
   "execution_count": null,
   "metadata": {
    "collapsed": true
   },
   "outputs": [],
   "source": []
  },
  {
   "cell_type": "code",
   "execution_count": null,
   "metadata": {
    "collapsed": true
   },
   "outputs": [],
   "source": []
  },
  {
   "cell_type": "code",
   "execution_count": 190,
   "metadata": {
    "collapsed": false
   },
   "outputs": [
    {
     "data": {
      "text/plain": [
       "1.5"
      ]
     },
     "execution_count": 190,
     "metadata": {},
     "output_type": "execute_result"
    }
   ],
   "source": [
    "node.f_time"
   ]
  },
  {
   "cell_type": "code",
   "execution_count": null,
   "metadata": {
    "collapsed": true
   },
   "outputs": [],
   "source": [
    "f_rate = "
   ]
  },
  {
   "cell_type": "code",
   "execution_count": 189,
   "metadata": {
    "collapsed": false
   },
   "outputs": [
    {
     "data": {
      "text/plain": [
       "0.17578661234413762"
      ]
     },
     "execution_count": 189,
     "metadata": {},
     "output_type": "execute_result"
    }
   ],
   "source": [
    "self._get_short_rate(f_rate, node)"
   ]
  },
  {
   "cell_type": "code",
   "execution_count": 187,
   "metadata": {
    "collapsed": false
   },
   "outputs": [],
   "source": [
    "node = self['DU']"
   ]
  },
  {
   "cell_type": "code",
   "execution_count": 198,
   "metadata": {
    "collapsed": false
   },
   "outputs": [
    {
     "name": "stdout",
     "output_type": "stream",
     "text": [
      "        cupon     valor     taxa      prazo     \n",
      "_        0.00       nan    14.152    1.0000\n",
      "D       13.76       nan    15.286    1.0000\n",
      "U       13.76       nan    12.515    1.0000\n",
      "DD      21.33   100.000    13.760    1.5000\n",
      "DU      21.33    98.687    16.806    1.5000\n",
      "UU      21.33    97.152    20.527    1.5000\n",
      "DDD      6.66   100.000     0.000    0.5000\n",
      "DDU      6.66   100.000     0.000    0.5000\n",
      "DUU      6.66   100.000     0.000    0.5000\n",
      "UUU      6.66   100.000     0.000    0.5000\n"
     ]
    }
   ],
   "source": [
    "print \"     {:3}{:10}{:10}{:10}{:10}\".format('', 'cupon','valor','taxa','prazo')\n",
    "for i_step in self.d_step.keys():\n",
    "    for node in self.d_step[i_step]:\n",
    "        f_val = float(node.f_value)\n",
    "        if not f_val:\n",
    "            f_val = 0\n",
    "        f_val1 = float(node.f_r)\n",
    "        if not f_val1:\n",
    "            f_val1 = 0\n",
    "        print \"{:3}{:10.2f}{:10.3f}{:10.3f}{:10.4f}\".format(node.name,\n",
    "                                                                    node.f_cupon,\n",
    "                                                                    f_val,\n",
    "                                                                    f_val1 * 100,\n",
    "                                                                    node.f_time)"
   ]
  },
  {
   "cell_type": "code",
   "execution_count": 282,
   "metadata": {
    "collapsed": false
   },
   "outputs": [
    {
     "data": {
      "text/plain": [
       "0.0004458992017760612"
      ]
     },
     "execution_count": 282,
     "metadata": {},
     "output_type": "execute_result"
    }
   ],
   "source": [
    "f_val1"
   ]
  },
  {
   "cell_type": "code",
   "execution_count": 202,
   "metadata": {
    "collapsed": false
   },
   "outputs": [
    {
     "data": {
      "text/plain": [
       "[DD, DU, UU]"
      ]
     },
     "execution_count": 202,
     "metadata": {},
     "output_type": "execute_result"
    }
   ],
   "source": [
    "l_nodes"
   ]
  },
  {
   "cell_type": "code",
   "execution_count": 184,
   "metadata": {
    "collapsed": false
   },
   "outputs": [],
   "source": [
    "for node in self.d_step[i_step+1]:\n",
    "    f_cupon = f_face_value * (((1+f_r_step)**node.f_time)-1)\n",
    "    node.set_values(f_cupon=f_cupon,\n",
    "                    f_value=f_face_value)"
   ]
  },
  {
   "cell_type": "code",
   "execution_count": 185,
   "metadata": {
    "collapsed": false
   },
   "outputs": [
    {
     "data": {
      "text/plain": [
       "3.389792086309673"
      ]
     },
     "execution_count": 185,
     "metadata": {},
     "output_type": "execute_result"
    }
   ],
   "source": [
    "node.f_cupon"
   ]
  },
  {
   "cell_type": "code",
   "execution_count": 186,
   "metadata": {
    "collapsed": false
   },
   "outputs": [
    {
     "data": {
      "text/plain": [
       "0.140265"
      ]
     },
     "execution_count": 186,
     "metadata": {},
     "output_type": "execute_result"
    }
   ],
   "source": [
    "f_initial_rate"
   ]
  },
  {
   "cell_type": "code",
   "execution_count": 188,
   "metadata": {
    "collapsed": false
   },
   "outputs": [
    {
     "data": {
      "text/plain": [
       "0.140265"
      ]
     },
     "execution_count": 188,
     "metadata": {},
     "output_type": "execute_result"
    }
   ],
   "source": [
    "f_initial_rate"
   ]
  },
  {
   "cell_type": "code",
   "execution_count": 189,
   "metadata": {
    "collapsed": false
   },
   "outputs": [
    {
     "data": {
      "text/plain": [
       "100.0"
      ]
     },
     "execution_count": 189,
     "metadata": {},
     "output_type": "execute_result"
    }
   ],
   "source": [
    "self.f_face_value"
   ]
  },
  {
   "cell_type": "code",
   "execution_count": 190,
   "metadata": {
    "collapsed": false
   },
   "outputs": [
    {
     "data": {
      "text/plain": [
       "array([ nan])"
      ]
     },
     "execution_count": 190,
     "metadata": {},
     "output_type": "execute_result"
    }
   ],
   "source": [
    "self['_'].f_value"
   ]
  },
  {
   "cell_type": "code",
   "execution_count": 191,
   "metadata": {
    "collapsed": false
   },
   "outputs": [
    {
     "data": {
      "text/plain": [
       "16.501019531845827"
      ]
     },
     "execution_count": 191,
     "metadata": {},
     "output_type": "execute_result"
    }
   ],
   "source": [
    "self._set_all_values(f_initial_rate, i_step)"
   ]
  },
  {
   "cell_type": "code",
   "execution_count": 193,
   "metadata": {
    "collapsed": false
   },
   "outputs": [
    {
     "data": {
      "text/plain": [
       "38.26911210512003"
      ]
     },
     "execution_count": 193,
     "metadata": {},
     "output_type": "execute_result"
    }
   ],
   "source": [
    "res**0.5"
   ]
  },
  {
   "cell_type": "code",
   "execution_count": null,
   "metadata": {
    "collapsed": true
   },
   "outputs": [],
   "source": []
  },
  {
   "cell_type": "code",
   "execution_count": null,
   "metadata": {
    "collapsed": true
   },
   "outputs": [],
   "source": []
  },
  {
   "cell_type": "code",
   "execution_count": null,
   "metadata": {
    "collapsed": true
   },
   "outputs": [],
   "source": []
  },
  {
   "cell_type": "code",
   "execution_count": 87,
   "metadata": {
    "collapsed": false
   },
   "outputs": [
    {
     "data": {
      "text/plain": [
       "[0.14151999999999998, 0.140265, 0.137596]"
      ]
     },
     "execution_count": 87,
     "metadata": {},
     "output_type": "execute_result"
    }
   ],
   "source": [
    "[x/100. for x in l_txindicativa]"
   ]
  },
  {
   "cell_type": "code",
   "execution_count": 88,
   "metadata": {
    "collapsed": true
   },
   "outputs": [],
   "source": [
    "node = my_tree['U']"
   ]
  },
  {
   "cell_type": "code",
   "execution_count": 89,
   "metadata": {
    "collapsed": false
   },
   "outputs": [
    {
     "data": {
      "text/plain": [
       "1"
      ]
     },
     "execution_count": 89,
     "metadata": {},
     "output_type": "execute_result"
    }
   ],
   "source": [
    "node.i_step"
   ]
  },
  {
   "cell_type": "code",
   "execution_count": 90,
   "metadata": {
    "collapsed": false
   },
   "outputs": [
    {
     "data": {
      "text/plain": [
       "0.17132005787333623"
      ]
     },
     "execution_count": 90,
     "metadata": {},
     "output_type": "execute_result"
    }
   ],
   "source": [
    "my_tree._get_short_rate(l_txindicativa[1]/100, node)"
   ]
  },
  {
   "cell_type": "code",
   "execution_count": null,
   "metadata": {
    "collapsed": true
   },
   "outputs": [],
   "source": []
  },
  {
   "cell_type": "code",
   "execution_count": null,
   "metadata": {
    "collapsed": true
   },
   "outputs": [],
   "source": []
  },
  {
   "cell_type": "code",
   "execution_count": null,
   "metadata": {
    "collapsed": true
   },
   "outputs": [],
   "source": []
  },
  {
   "cell_type": "code",
   "execution_count": null,
   "metadata": {
    "collapsed": true
   },
   "outputs": [],
   "source": []
  },
  {
   "cell_type": "code",
   "execution_count": null,
   "metadata": {
    "collapsed": true
   },
   "outputs": [],
   "source": []
  },
  {
   "cell_type": "code",
   "execution_count": 58,
   "metadata": {
    "collapsed": false
   },
   "outputs": [],
   "source": [
    "i_step = 0\n",
    "self = my_tree\n",
    "\n",
    "f_initial_rate = self.l_short_rates[i_step]\n",
    "f_face_value = self.f_face_value\n",
    "f_r_step = self.l_short_rates[i_step]\n",
    "for node in self.d_step[i_step+1]:\n",
    "    f_cupon = f_face_value * (((1+f_r_step)**node.f_time)-1)"
   ]
  },
  {
   "cell_type": "code",
   "execution_count": 59,
   "metadata": {
    "collapsed": false
   },
   "outputs": [
    {
     "data": {
      "text/plain": [
       "4.738358815740362"
      ]
     },
     "execution_count": 59,
     "metadata": {},
     "output_type": "execute_result"
    }
   ],
   "source": [
    "f_cupon"
   ]
  },
  {
   "cell_type": "code",
   "execution_count": 63,
   "metadata": {
    "collapsed": false
   },
   "outputs": [
    {
     "data": {
      "text/plain": [
       "140.26500000000001"
      ]
     },
     "execution_count": 63,
     "metadata": {},
     "output_type": "execute_result"
    }
   ],
   "source": [
    "my_tree['DD'].f_cupon"
   ]
  },
  {
   "cell_type": "code",
   "execution_count": null,
   "metadata": {
    "collapsed": true
   },
   "outputs": [],
   "source": []
  },
  {
   "cell_type": "code",
   "execution_count": null,
   "metadata": {
    "collapsed": true
   },
   "outputs": [],
   "source": []
  },
  {
   "cell_type": "code",
   "execution_count": 57,
   "metadata": {
    "collapsed": false
   },
   "outputs": [
    {
     "data": {
      "text/plain": [
       "0.03389792086309673"
      ]
     },
     "execution_count": 57,
     "metadata": {},
     "output_type": "execute_result"
    }
   ],
   "source": [
    "(((1+f_r_step)**node.f_time)-1)"
   ]
  },
  {
   "cell_type": "code",
   "execution_count": 54,
   "metadata": {
    "collapsed": false
   },
   "outputs": [
    {
     "data": {
      "text/plain": [
       "0.140265"
      ]
     },
     "execution_count": 54,
     "metadata": {},
     "output_type": "execute_result"
    }
   ],
   "source": [
    "f_r_step"
   ]
  },
  {
   "cell_type": "code",
   "execution_count": 55,
   "metadata": {
    "collapsed": false
   },
   "outputs": [
    {
     "data": {
      "text/plain": [
       "33.89792086309673"
      ]
     },
     "execution_count": 55,
     "metadata": {},
     "output_type": "execute_result"
    }
   ],
   "source": [
    "f_cupon"
   ]
  },
  {
   "cell_type": "code",
   "execution_count": null,
   "metadata": {
    "collapsed": true
   },
   "outputs": [],
   "source": []
  },
  {
   "cell_type": "code",
   "execution_count": 39,
   "metadata": {
    "collapsed": false
   },
   "outputs": [
    {
     "data": {
      "text/plain": [
       "array([-3811.63173898])"
      ]
     },
     "execution_count": 39,
     "metadata": {},
     "output_type": "execute_result"
    }
   ],
   "source": [
    "my_tree['D'].f_r"
   ]
  },
  {
   "cell_type": "code",
   "execution_count": 14,
   "metadata": {
    "collapsed": true
   },
   "outputs": [],
   "source": [
    "import pandas as pd"
   ]
  },
  {
   "cell_type": "code",
   "execution_count": 28,
   "metadata": {
    "collapsed": false
   },
   "outputs": [],
   "source": [
    "df = pd.DataFrame(l_txindicativa)\n",
    "df.index = [x/252. for x in l_prazo]"
   ]
  },
  {
   "cell_type": "code",
   "execution_count": 30,
   "metadata": {
    "collapsed": false
   },
   "outputs": [
    {
     "data": {
      "text/plain": [
       "<matplotlib.axes._subplots.AxesSubplot at 0x7fa2dde5a3d0>"
      ]
     },
     "execution_count": 30,
     "metadata": {},
     "output_type": "execute_result"
    },
    {
     "data": {
      "image/png": "[encoded data removed]",
      "text/plain": [
       "<matplotlib.figure.Figure at 0x7fa2dded0450>"
      ]
     },
     "metadata": {},
     "output_type": "display_data"
    }
   ],
   "source": [
    "df.plot()"
   ]
  },
  {
   "cell_type": "code",
   "execution_count": null,
   "metadata": {
    "collapsed": true
   },
   "outputs": [],
   "source": []
  },
  {
   "cell_type": "code",
   "execution_count": 355,
   "metadata": {
    "collapsed": true
   },
   "outputs": [],
   "source": [
    "import numpy as np"
   ]
  },
  {
   "cell_type": "code",
   "execution_count": 359,
   "metadata": {
    "collapsed": false
   },
   "outputs": [
    {
     "data": {
      "text/plain": [
       "[0.035000000000000003]"
      ]
     },
     "execution_count": 359,
     "metadata": {},
     "output_type": "execute_result"
    }
   ],
   "source": [
    "list(np.arange(0.035, 0.1))"
   ]
  },
  {
   "cell_type": "code",
   "execution_count": 385,
   "metadata": {
    "collapsed": false
   },
   "outputs": [
    {
     "name": "stdout",
     "output_type": "stream",
     "text": [
      "CPU times: user 36.4 s, sys: 187 ms, total: 36.6 s\n",
      "Wall time: 36.6 s\n"
     ]
    }
   ],
   "source": [
    "def foo():\n",
    "    l_rates = list(np.linspace(0.035, 0.12, 100))\n",
    "    l_mat = list(np.arange(1., len(l_rates)+1))\n",
    "    x = binomial_tree.KWFTree(l_rates, l_mat)\n",
    "    x.fit_foward_curve(0.1)\n",
    "    df = x.get_lattice()\n",
    "    return df\n",
    "\n",
    "%time df = foo()"
   ]
  },
  {
   "cell_type": "code",
   "execution_count": 389,
   "metadata": {
    "collapsed": false
   },
   "outputs": [
    {
     "data": {
      "text/html": [
       "<div>\n",
       "<table border=\"1\" class=\"dataframe\">\n",
       "  <thead>\n",
       "    <tr style=\"text-align: right;\">\n",
       "      <th></th>\n",
       "      <th>0</th>\n",
       "      <th>1</th>\n",
       "      <th>2</th>\n",
       "      <th>3</th>\n",
       "      <th>4</th>\n",
       "      <th>5</th>\n",
       "      <th>6</th>\n",
       "      <th>7</th>\n",
       "      <th>8</th>\n",
       "      <th>9</th>\n",
       "      <th>...</th>\n",
       "      <th>188</th>\n",
       "      <th>189</th>\n",
       "      <th>190</th>\n",
       "      <th>191</th>\n",
       "      <th>192</th>\n",
       "      <th>193</th>\n",
       "      <th>194</th>\n",
       "      <th>195</th>\n",
       "      <th>196</th>\n",
       "      <th>197</th>\n",
       "    </tr>\n",
       "  </thead>\n",
       "  <tbody>\n",
       "    <tr>\n",
       "      <th>95</th>\n",
       "      <td>0.147789</td>\n",
       "      <td>0.147789</td>\n",
       "      <td>0.147789</td>\n",
       "      <td>0.147789</td>\n",
       "      <td>0.147789</td>\n",
       "      <td>0.147789</td>\n",
       "      <td>0.147789</td>\n",
       "      <td>0.147789</td>\n",
       "      <td>0.148062</td>\n",
       "      <td>0.148062</td>\n",
       "      <td>...</td>\n",
       "      <td>712.019198</td>\n",
       "      <td>712.019198</td>\n",
       "      <td>831.302867</td>\n",
       "      <td>831.302867</td>\n",
       "      <td>971.339544</td>\n",
       "      <td>971.339544</td>\n",
       "      <td>1136.247253</td>\n",
       "      <td>1136.247253</td>\n",
       "      <td>1330.964444</td>\n",
       "      <td>1330.964444</td>\n",
       "    </tr>\n",
       "    <tr>\n",
       "      <th>96</th>\n",
       "      <td>0.147472</td>\n",
       "      <td>0.147472</td>\n",
       "      <td>0.147472</td>\n",
       "      <td>0.147472</td>\n",
       "      <td>0.147472</td>\n",
       "      <td>0.147472</td>\n",
       "      <td>0.147744</td>\n",
       "      <td>0.147744</td>\n",
       "      <td>0.148338</td>\n",
       "      <td>0.148338</td>\n",
       "      <td>...</td>\n",
       "      <td>786.914906</td>\n",
       "      <td>786.914906</td>\n",
       "      <td>919.157896</td>\n",
       "      <td>919.157896</td>\n",
       "      <td>1074.469540</td>\n",
       "      <td>1074.469540</td>\n",
       "      <td>1257.430117</td>\n",
       "      <td>1257.430117</td>\n",
       "      <td>1473.533642</td>\n",
       "      <td>1473.533642</td>\n",
       "    </tr>\n",
       "    <tr>\n",
       "      <th>97</th>\n",
       "      <td>0.147170</td>\n",
       "      <td>0.147170</td>\n",
       "      <td>0.147170</td>\n",
       "      <td>0.147170</td>\n",
       "      <td>0.147441</td>\n",
       "      <td>0.147441</td>\n",
       "      <td>0.148033</td>\n",
       "      <td>0.148033</td>\n",
       "      <td>0.149005</td>\n",
       "      <td>0.149005</td>\n",
       "      <td>...</td>\n",
       "      <td>869.744506</td>\n",
       "      <td>869.744506</td>\n",
       "      <td>1016.354983</td>\n",
       "      <td>1016.354983</td>\n",
       "      <td>1188.606718</td>\n",
       "      <td>1188.606718</td>\n",
       "      <td>1391.593865</td>\n",
       "      <td>1391.593865</td>\n",
       "      <td>inf</td>\n",
       "      <td>inf</td>\n",
       "    </tr>\n",
       "    <tr>\n",
       "      <th>98</th>\n",
       "      <td>0.146883</td>\n",
       "      <td>0.146883</td>\n",
       "      <td>0.147153</td>\n",
       "      <td>0.147153</td>\n",
       "      <td>0.147743</td>\n",
       "      <td>0.147743</td>\n",
       "      <td>0.148711</td>\n",
       "      <td>0.148711</td>\n",
       "      <td>0.150123</td>\n",
       "      <td>0.150123</td>\n",
       "      <td>...</td>\n",
       "      <td>961.352682</td>\n",
       "      <td>961.352682</td>\n",
       "      <td>1123.891805</td>\n",
       "      <td>1123.891805</td>\n",
       "      <td>inf</td>\n",
       "      <td>inf</td>\n",
       "      <td>inf</td>\n",
       "      <td>inf</td>\n",
       "      <td>inf</td>\n",
       "      <td>inf</td>\n",
       "    </tr>\n",
       "    <tr>\n",
       "      <th>99</th>\n",
       "      <td>0.146611</td>\n",
       "      <td>0.146880</td>\n",
       "      <td>0.147148</td>\n",
       "      <td>0.147468</td>\n",
       "      <td>0.148052</td>\n",
       "      <td>0.148431</td>\n",
       "      <td>0.149390</td>\n",
       "      <td>0.149838</td>\n",
       "      <td>0.151237</td>\n",
       "      <td>0.151763</td>\n",
       "      <td>...</td>\n",
       "      <td>1060.549118</td>\n",
       "      <td>1062.674340</td>\n",
       "      <td>inf</td>\n",
       "      <td>inf</td>\n",
       "      <td>inf</td>\n",
       "      <td>inf</td>\n",
       "      <td>inf</td>\n",
       "      <td>inf</td>\n",
       "      <td>inf</td>\n",
       "      <td>inf</td>\n",
       "    </tr>\n",
       "  </tbody>\n",
       "</table>\n",
       "<p>5 rows × 198 columns</p>\n",
       "</div>"
      ],
      "text/plain": [
       "         0         1         2         3         4         5         6    \\\n",
       "95  0.147789  0.147789  0.147789  0.147789  0.147789  0.147789  0.147789   \n",
       "96  0.147472  0.147472  0.147472  0.147472  0.147472  0.147472  0.147744   \n",
       "97  0.147170  0.147170  0.147170  0.147170  0.147441  0.147441  0.148033   \n",
       "98  0.146883  0.146883  0.147153  0.147153  0.147743  0.147743  0.148711   \n",
       "99  0.146611  0.146880  0.147148  0.147468  0.148052  0.148431  0.149390   \n",
       "\n",
       "         7         8         9       ...               188          189  \\\n",
       "95  0.147789  0.148062  0.148062     ...        712.019198   712.019198   \n",
       "96  0.147744  0.148338  0.148338     ...        786.914906   786.914906   \n",
       "97  0.148033  0.149005  0.149005     ...        869.744506   869.744506   \n",
       "98  0.148711  0.150123  0.150123     ...        961.352682   961.352682   \n",
       "99  0.149838  0.151237  0.151763     ...       1060.549118  1062.674340   \n",
       "\n",
       "            190          191          192          193          194  \\\n",
       "95   831.302867   831.302867   971.339544   971.339544  1136.247253   \n",
       "96   919.157896   919.157896  1074.469540  1074.469540  1257.430117   \n",
       "97  1016.354983  1016.354983  1188.606718  1188.606718  1391.593865   \n",
       "98  1123.891805  1123.891805          inf          inf          inf   \n",
       "99          inf          inf          inf          inf          inf   \n",
       "\n",
       "            195          196          197  \n",
       "95  1136.247253  1330.964444  1330.964444  \n",
       "96  1257.430117  1473.533642  1473.533642  \n",
       "97  1391.593865          inf          inf  \n",
       "98          inf          inf          inf  \n",
       "99          inf          inf          inf  \n",
       "\n",
       "[5 rows x 198 columns]"
      ]
     },
     "execution_count": 389,
     "metadata": {},
     "output_type": "execute_result"
    }
   ],
   "source": [
    "df.tail()"
   ]
  },
  {
   "cell_type": "code",
   "execution_count": 396,
   "metadata": {
    "collapsed": false
   },
   "outputs": [
    {
     "data": {
      "text/html": [
       "<div>\n",
       "<table border=\"1\" class=\"dataframe\">\n",
       "  <thead>\n",
       "    <tr style=\"text-align: right;\">\n",
       "      <th></th>\n",
       "      <th>99</th>\n",
       "    </tr>\n",
       "  </thead>\n",
       "  <tbody>\n",
       "    <tr>\n",
       "      <th>183</th>\n",
       "      <td>660.575320</td>\n",
       "    </tr>\n",
       "    <tr>\n",
       "      <th>184</th>\n",
       "      <td>774.974345</td>\n",
       "    </tr>\n",
       "    <tr>\n",
       "      <th>185</th>\n",
       "      <td>776.527847</td>\n",
       "    </tr>\n",
       "    <tr>\n",
       "      <th>186</th>\n",
       "      <td>906.993742</td>\n",
       "    </tr>\n",
       "    <tr>\n",
       "      <th>187</th>\n",
       "      <td>908.811547</td>\n",
       "    </tr>\n",
       "    <tr>\n",
       "      <th>188</th>\n",
       "      <td>1060.549118</td>\n",
       "    </tr>\n",
       "    <tr>\n",
       "      <th>189</th>\n",
       "      <td>1062.674340</td>\n",
       "    </tr>\n",
       "    <tr>\n",
       "      <th>190</th>\n",
       "      <td>inf</td>\n",
       "    </tr>\n",
       "    <tr>\n",
       "      <th>191</th>\n",
       "      <td>inf</td>\n",
       "    </tr>\n",
       "    <tr>\n",
       "      <th>192</th>\n",
       "      <td>inf</td>\n",
       "    </tr>\n",
       "    <tr>\n",
       "      <th>193</th>\n",
       "      <td>inf</td>\n",
       "    </tr>\n",
       "    <tr>\n",
       "      <th>194</th>\n",
       "      <td>inf</td>\n",
       "    </tr>\n",
       "    <tr>\n",
       "      <th>195</th>\n",
       "      <td>inf</td>\n",
       "    </tr>\n",
       "    <tr>\n",
       "      <th>196</th>\n",
       "      <td>inf</td>\n",
       "    </tr>\n",
       "    <tr>\n",
       "      <th>197</th>\n",
       "      <td>inf</td>\n",
       "    </tr>\n",
       "  </tbody>\n",
       "</table>\n",
       "</div>"
      ],
      "text/plain": [
       "              99\n",
       "183   660.575320\n",
       "184   774.974345\n",
       "185   776.527847\n",
       "186   906.993742\n",
       "187   908.811547\n",
       "188  1060.549118\n",
       "189  1062.674340\n",
       "190          inf\n",
       "191          inf\n",
       "192          inf\n",
       "193          inf\n",
       "194          inf\n",
       "195          inf\n",
       "196          inf\n",
       "197          inf"
      ]
     },
     "execution_count": 396,
     "metadata": {},
     "output_type": "execute_result"
    }
   ],
   "source": [
    "df.tail(1).T.tail(15)"
   ]
  },
  {
   "cell_type": "code",
   "execution_count": null,
   "metadata": {
    "collapsed": true
   },
   "outputs": [],
   "source": []
  },
  {
   "cell_type": "code",
   "execution_count": 387,
   "metadata": {
    "collapsed": false
   },
   "outputs": [
    {
     "data": {
      "text/plain": [
       "<matplotlib.axes._subplots.AxesSubplot at 0x11ed07c10>"
      ]
     },
     "execution_count": 387,
     "metadata": {},
     "output_type": "execute_result"
    },
    {
     "data": {
      "image/png": "[encoded data removed]",
      "text/plain": [
       "<matplotlib.figure.Figure at 0x115544850>"
      ]
     },
     "metadata": {},
     "output_type": "display_data"
    }
   ],
   "source": [
    "df.plot(legend=False)"
   ]
  },
  {
   "cell_type": "code",
   "execution_count": 388,
   "metadata": {
    "collapsed": false
   },
   "outputs": [
    {
     "data": {
      "text/plain": [
       "(100, 198)"
      ]
     },
     "execution_count": 388,
     "metadata": {},
     "output_type": "execute_result"
    }
   ],
   "source": [
    "df.shape"
   ]
  },
  {
   "cell_type": "code",
   "execution_count": null,
   "metadata": {
    "collapsed": true
   },
   "outputs": [],
   "source": []
  },
  {
   "cell_type": "code",
   "execution_count": null,
   "metadata": {
    "collapsed": true
   },
   "outputs": [],
   "source": []
  },
  {
   "cell_type": "code",
   "execution_count": null,
   "metadata": {
    "collapsed": true
   },
   "outputs": [],
   "source": []
  },
  {
   "cell_type": "code",
   "execution_count": null,
   "metadata": {
    "collapsed": true
   },
   "outputs": [],
   "source": []
  },
  {
   "cell_type": "code",
   "execution_count": null,
   "metadata": {
    "collapsed": true
   },
   "outputs": [],
   "source": []
  },
  {
   "cell_type": "code",
   "execution_count": null,
   "metadata": {
    "collapsed": true
   },
   "outputs": [],
   "source": []
  },
  {
   "cell_type": "code",
   "execution_count": null,
   "metadata": {
    "collapsed": true
   },
   "outputs": [],
   "source": []
  },
  {
   "cell_type": "markdown",
   "metadata": {},
   "source": [
    "#### TODO:\n",
    "- Apresentar os principais pontos da abordagem (hipóteses, limitações e etc)\n",
    "- Implementar\n",
    "- detalhar o processo de calibração (juros e vol)\n",
    "- Detalhar a determiação dos parâmetros do modelo ($\\sigma$)\n",
    "- Checar se tem base de dados de opções (Call Européia) de Juros\n",
    "- Levantar os preços histórico dos títulos: NTB...\n",
    "- Demonstrar a precificação de 2 derivativos mais complexos (opcional compara com mercado)\n"
   ]
  },
  {
   "cell_type": "code",
   "execution_count": 1,
   "metadata": {
    "collapsed": false
   },
   "outputs": [
    {
     "data": {
      "text/plain": [
       "[1, 2, 3, 4, 5]"
      ]
     },
     "execution_count": 1,
     "metadata": {},
     "output_type": "execute_result"
    }
   ],
   "source": [
    "[1, 2, 3, 4, 5]"
   ]
  },
  {
   "cell_type": "code",
   "execution_count": null,
   "metadata": {
    "collapsed": true
   },
   "outputs": [],
   "source": [
    "{1: [1], 2:[2, 2], 3:[3, 3, 3]}"
   ]
  },
  {
   "cell_type": "code",
   "execution_count": null,
   "metadata": {
    "collapsed": true
   },
   "outputs": [],
   "source": []
  },
  {
   "cell_type": "code",
   "execution_count": null,
   "metadata": {
    "collapsed": true
   },
   "outputs": [],
   "source": [
    "class kwf_model(object):\n",
    "    '''\n",
    "    '''\n",
    "    def __init__(self, l_prices, l_maturity, f_sigma, ll_cupon=[])\n",
    "        '''\n",
    "        Implements the kwf model\n",
    "        :param l_prices: list. Market Prices\n",
    "        :param l_maturity: list. The maturirity in year of the contracts\n",
    "        :param f_sigma. float. The volatility of the \n",
    "        :*ll_cupon: list of lists. The cupons of each instrument\n",
    "        '''\n",
    "        self.l_prices = l_prices\n",
    "        self.l_maturity = l_maturity\n",
    "        self.f_sigma = f_sigma\n",
    "        sefl.ll_cupon = ll_cupon\n",
    "        self.d_forward = self.fit_curve()\n",
    "\n",
    "    def fit_curve(self):\n",
    "        '''\n",
    "        Return the forwards that fit the market curve\n",
    "        '''\n",
    "        raise NotImplementedError()\n",
    "        return d_rtn\n",
    "\n",
    "    \n",
    "class Bond(object):\n",
    "    '''\n",
    "    '''\n",
    "    def __init__(self, f_cupon, f_face_value):\n",
    "        '''\n",
    "        '''\n",
    "        raise NotImplementedError()\n",
    "\n",
    "    def get_value(self, o_kwf_model):\n",
    "        '''\n",
    "        '''\n",
    "        raise NotImplementedError()\n",
    "        return f_rtn\n"
   ]
  },
  {
   "cell_type": "code",
   "execution_count": null,
   "metadata": {
    "collapsed": true
   },
   "outputs": [],
   "source": [
    "l_prices = [0.035, 0.04, 0.045]\n",
    "l_maturity = [1., 2., 3.]\n",
    "f_sigma = 0.1\n",
    "\n",
    "\n",
    "my_curve = kwf_model(l_prices, l_maturity, f_sigma)"
   ]
  },
  {
   "cell_type": "code",
   "execution_count": null,
   "metadata": {
    "collapsed": true
   },
   "outputs": [],
   "source": [
    "mybond = Bond(0.045, 100.)\n",
    "mybond.get_value(my_curve)  # retorna preco"
   ]
  },
  {
   "cell_type": "code",
   "execution_count": null,
   "metadata": {
    "collapsed": true
   },
   "outputs": [],
   "source": []
  },
  {
   "cell_type": "code",
   "execution_count": null,
   "metadata": {
    "collapsed": true
   },
   "outputs": [],
   "source": []
  },
  {
   "cell_type": "code",
   "execution_count": null,
   "metadata": {
    "collapsed": true
   },
   "outputs": [],
   "source": []
  },
  {
   "cell_type": "code",
   "execution_count": null,
   "metadata": {
    "collapsed": true
   },
   "outputs": [],
   "source": []
  },
  {
   "cell_type": "markdown",
   "metadata": {},
   "source": [
    "## 2. Bla\n",
    "\n",
    "bla bla\n",
    "\n",
    "### 2.1. Bla\n",
    "\n",
    "bla bla"
   ]
  },
  {
   "cell_type": "code",
   "execution_count": null,
   "metadata": {
    "collapsed": true
   },
   "outputs": [],
   "source": []
  },
  {
   "cell_type": "code",
   "execution_count": null,
   "metadata": {
    "collapsed": true
   },
   "outputs": [],
   "source": []
  },
  {
   "cell_type": "code",
   "execution_count": null,
   "metadata": {
    "collapsed": true
   },
   "outputs": [],
   "source": []
  },
  {
   "cell_type": "code",
   "execution_count": null,
   "metadata": {
    "collapsed": true
   },
   "outputs": [],
   "source": []
  },
  {
   "cell_type": "markdown",
   "metadata": {},
   "source": [
    "## 3. Conclusão\n",
    "\n",
    "bla bla\n",
    "\n",
    "## 4. Últimas Considerações\n",
    "\n",
    "bla bla"
   ]
  },
  {
   "cell_type": "code",
   "execution_count": null,
   "metadata": {
    "collapsed": true
   },
   "outputs": [],
   "source": []
  },
  {
   "cell_type": "code",
   "execution_count": null,
   "metadata": {
    "collapsed": true
   },
   "outputs": [],
   "source": []
  },
  {
   "cell_type": "code",
   "execution_count": null,
   "metadata": {
    "collapsed": true
   },
   "outputs": [],
   "source": []
  },
  {
   "cell_type": "code",
   "execution_count": null,
   "metadata": {
    "collapsed": true
   },
   "outputs": [],
   "source": []
  },
  {
   "cell_type": "code",
   "execution_count": null,
   "metadata": {
    "collapsed": true
   },
   "outputs": [],
   "source": []
  },
  {
   "cell_type": "markdown",
   "metadata": {},
   "source": [
    "*Style notebook and change matplotlib defaults*"
   ]
  },
  {
   "cell_type": "code",
   "execution_count": 11,
   "metadata": {
    "collapsed": false
   },
   "outputs": [
    {
     "data": {
      "text/html": [
       "<style>\n",
       "    @font-face {\n",
       "        font-family: \"Computer Modern\";\n",
       "        src: url('http://9dbb143991406a7c655e-aa5fcb0a5a4ec34cff238a2d56ca4144.r56.cf5.rackcdn.com/cmunss.otf');\n",
       "    }\n",
       "    @font-face {\n",
       "        font-family: \"Computer Modern\";\n",
       "        font-weight: bold;\n",
       "        src: url('http://9dbb143991406a7c655e-aa5fcb0a5a4ec34cff238a2d56ca4144.r56.cf5.rackcdn.com/cmunsx.otf');\n",
       "    }\n",
       "    @font-face {\n",
       "        font-family: \"Computer Modern\";\n",
       "        font-style: oblique;\n",
       "        src: url('http://9dbb143991406a7c655e-aa5fcb0a5a4ec34cff238a2d56ca4144.r56.cf5.rackcdn.com/cmunsi.otf');\n",
       "    }\n",
       "    @font-face {\n",
       "        font-family: \"Computer Modern\";\n",
       "        font-weight: bold;\n",
       "        font-style: oblique;\n",
       "        src: url('http://9dbb143991406a7c655e-aa5fcb0a5a4ec34cff238a2d56ca4144.r56.cf5.rackcdn.com/cmunso.otf');\n",
       "    }\n",
       "    div.cell{\n",
       "        width:800px;\n",
       "        margin-left:16% !important;\n",
       "        margin-right:auto;\n",
       "    }\n",
       "    h1 {\n",
       "        font-family: Helvetica, serif;\n",
       "    }\n",
       "    h4{\n",
       "        margin-top:12px;\n",
       "        margin-bottom: 3px;\n",
       "       }\n",
       "    div.text_cell_render{\n",
       "        font-family: Computer Modern, \"Helvetica Neue\", Arial, Helvetica, Geneva, sans-serif;\n",
       "        line-height: 145%;\n",
       "        font-size: 130%;\n",
       "        width:800px;\n",
       "        margin-left:auto;\n",
       "        margin-right:auto;\n",
       "    }\n",
       "    .CodeMirror{\n",
       "            font-family: \"Source Code Pro\", source-code-pro,Consolas, monospace;\n",
       "    }\n",
       "    .prompt{\n",
       "        display: None;\n",
       "    }\n",
       "    .text_cell_render h5 {\n",
       "        font-weight: 300;\n",
       "        font-size: 22pt;\n",
       "        color: #4057A1;\n",
       "        font-style: italic;\n",
       "        margin-bottom: .5em;\n",
       "        margin-top: 0.5em;\n",
       "        display: block;\n",
       "    }\n",
       "\n",
       "    .warning{\n",
       "        color: rgb( 240, 20, 20 )\n",
       "        }\n",
       "</style>\n",
       "\n",
       "\n",
       "\n",
       "<style>\n",
       "    table {\n",
       "        overflow:hidden;\n",
       "        font-family: Computer Modern, \"Helvetica Neue\", Arial, Helvetica, Geneva, sans-serif;\n",
       "        font-size: 12px;\n",
       "        margin: 10px;\n",
       "        width: 480px;\n",
       "        text-align: left;\n",
       "        border-collapse: collapse;\n",
       "        border: 1px solid #d3d3d3;\n",
       "        -moz-border-radius:5px; FF1+;\n",
       "        -webkit-border-radius:5px; Saf3-4;\n",
       "        border-radius:5px;\n",
       "        -moz-box-shadow: 0 0 4px rgba(0, 0, 0, 0.01);\n",
       "    }\n",
       "    th\n",
       "    {\n",
       "        padding: 12px 17px 12px 17px;\n",
       "        font-weight: normal;\n",
       "        font-size: 14px;\n",
       "        border-bottom: 1px dashed #69c;\n",
       "    }\n",
       "\n",
       "    td\n",
       "    {\n",
       "        padding: 7px 17px 7px 17px;\n",
       "\n",
       "    }\n",
       "\n",
       "    tbody tr:hover th\n",
       "    {\n",
       "\n",
       "        background:  #E9E9E9;\n",
       "    }\n",
       "\n",
       "    tbody tr:hover td\n",
       "    {\n",
       "\n",
       "        background:  #E9E9E9;\n",
       "    }\n",
       "\n",
       "</style>\n",
       "\n",
       "<script>\n",
       "    MathJax.Hub.Config({\n",
       "                        TeX: {\n",
       "                           extensions: [\"AMSmath.js\"]\n",
       "                           },\n",
       "                tex2jax: {\n",
       "                    inlineMath: [ ['$','$'], [\"\\\\(\",\"\\\\)\"] ],\n",
       "                    displayMath: [ ['$$','$$'], [\"\\\\[\",\"\\\\]\"] ]\n",
       "                },\n",
       "                displayAlign: 'center', // Change this to 'center' to center equations.\n",
       "                \"HTML-CSS\": {\n",
       "                    styles: {'.MathJax_Display': {\"margin\": 4}}\n",
       "                }\n",
       "        });\n",
       "</script>\n"
      ],
      "text/plain": [
       "<IPython.core.display.HTML object>"
      ]
     },
     "execution_count": 11,
     "metadata": {},
     "output_type": "execute_result"
    }
   ],
   "source": [
    "#loading style sheet\n",
    "from IPython.core.display import HTML\n",
    "HTML(open('ipython_style.css').read())"
   ]
  },
  {
   "cell_type": "code",
   "execution_count": 12,
   "metadata": {
    "collapsed": false
   },
   "outputs": [],
   "source": [
    "#changing matplotlib defaults\n",
    "%matplotlib inline\n",
    "import seaborn as sns\n",
    "sns.set_palette(\"deep\", desat=.6)\n",
    "sns.set_context(rc={\"figure.figsize\": (8, 4)})\n",
    "sns.set_style(\"whitegrid\")\n",
    "sns.set_palette(sns.color_palette(\"PuBuGn_d\", 10))"
   ]
  },
  {
   "cell_type": "code",
   "execution_count": null,
   "metadata": {
    "collapsed": true
   },
   "outputs": [],
   "source": []
  }
 ],
 "metadata": {
  "kernelspec": {
   "display_name": "Python 2",
   "language": "python",
   "name": "python2"
  },
  "language_info": {
   "codemirror_mode": {
    "name": "ipython",
    "version": 2
   },
   "file_extension": ".py",
   "mimetype": "text/x-python",
   "name": "python",
   "nbconvert_exporter": "python",
   "pygments_lexer": "ipython2",
   "version": "2.7.11"
  }
 },
 "nbformat": 4,
 "nbformat_minor": 0
}
