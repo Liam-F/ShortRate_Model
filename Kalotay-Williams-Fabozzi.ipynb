{
 "cells": [
  {
   "cell_type": "markdown",
   "metadata": {},
   "source": [
    "# Derivativos de Taxa de Juros\n",
    "## Modelo de Kalotay-Williams-Fabozzi\n",
    "\n",
    "Renato Mori, Uirá Caiado. 19 de Junho, 2016"
   ]
  },
  {
   "cell_type": "markdown",
   "metadata": {},
   "source": [
    "**Resumo**\n",
    "\n",
    "*Neste projeto vamos implementar um modelo de um fator chamado [Kalotay-Williams-Fabozzi](https://en.wikipedia.org/wiki/Short-rate_model#One-factor_short-rate_models), onde apenas um único fator estocástico - a taxa de juros instantânea - determina a evolução de toda estrutura a termo da taxa de juros. Vamos descrever brevemente o modelo, detalhar sua implementação, estimar seus parâmetros e demonstrar sua utilização para precificação de alguns títulos que sejam possíveis de compara com preços de mercado.*"
   ]
  },
  {
   "cell_type": "markdown",
   "metadata": {},
   "source": [
    "## 1. Introdução\n",
    "\n",
    "Nesta sessão vamos introduzir o modelo discutido neste trabalho e descrever o problema que será abordado aqui.\n",
    "\n",
    "\n",
    "### 1.1. Modelagem da Curva de Juros\n",
    "\n",
    "Como colocado por Fabozzi, a Taxa de Juros frequentemente é modelada usando equações diferenciais estocásticas([SDEs](https://en.wikipedia.org/wiki/Stochastic_differential_equation) é a abreviação em inglês). Os modelos mais comumente utilizados são os modelos de um ou dois fatores (estocástios), sendo que o de um usa uma SDE para representar a taxa de juros de curto prazo e a segunda representa tanto a taxa de curto como a de longo prazo. Na dinâmica escolhida para o modelo que deve ser refletidas as características desejadas para a curva, como reversão a média e volatilidade dependente do nível da taxa.\n",
    "\n",
    "Existe duas abordagens para na utilizaçtão de equações estocásticas na modelagem da curva a termo de juros: modelos de equilibrio e modelos de não arbitragem, sendo que ambos são usados para precificar *Bonds* e derivativos sobre taxa de juros.\n",
    "\n",
    "Modelos de equilíbrio começam com uma SDE e desenvolvem uma estrutura que não necessariamente correspondem aos preços observados no mercado. Alguns exemplos de modelos desta classe são o Vasicek, Brenna and Schwartz e o Cox, Ingersoll and Ross.\n",
    "\n",
    "Os modelos de não arbitragem também utilizam uma SDE, porém usam os preços de mercado para gerar os caminhos possíveis para taxa de juros. Esta estrutura segue as características impostas pela SDE as taxas de juros encontradas, quando usadas para precificar um bond qualquer, resultam na mesma taxa de juros observada no mercado. Exemplos são o Ho and Lee, Black, Derman and Toy e o Hull and White.\n",
    "\n",
    "Os modelos de não arbitragem geralmente são escolhidos para precificação de Bonds e derivativos pois garantem que as taxas atuais correspondam ao mercado. Este trabalgho explorará um modelo de não arbitragem chamado Kalotay-Williams-Fabozzi.\n",
    "\n",
    "### 1.2. Modelo Kalotay-Williams-Fabozzi\n",
    "\n",
    "O modelo Kalotay-Williams-Fabozzi (KWF) assume que as mudanças na taxa de juros de curto prazo segue um certo [processo estocástico](https://en.wikipedia.org/wiki/Stochastic_process) que pode ser descrito pela seguinte SDE:\n",
    "\n",
    "$$ \\mathrm{d} \\ln(r) = \\theta(t) \\mathrm{d} t + \\sigma\\mathrm{d}Z$$\n",
    "\n",
    "Onde $Z$ é um processo de [Wiener](https://en.wikipedia.org/wiki/Wiener_process), $\\theta$ é o *drift* do processo e $\\sigma$ é a volatilidade da primeira diferença das taxas de curto prazo.  Como o que a equação descreve é a dinâmica do **logarítimo natural** de taxa $r$ e $W$ tem distribuição normal, o $\\ln(r)$ terá distribuição normal e o $r$, log normal. Desta maneira, embora $\\ln(r)$ possa assumir valores negativos, $r$ não assumirá.\n",
    "\n",
    "No trabalho original em que o modelo KWF foi apresentado, os autores não incluiram explicitamente o *drift* na dinâmica do processo e, por tanto, também não utilizaremos ele aqui,"
   ]
  },
  {
   "cell_type": "markdown",
   "metadata": {},
   "source": [
    "## 2. Implementando o Modelo\n",
    "\n",
    "Nesta sessão detalharemos e implementaremos o modelo utilizando como referência o artigo original e calibraremos ele para que bata com os dados de mercado.\n",
    "\n",
    "### 2.1. Aproximação da SDE por Árvore Binomial\n",
    "\n",
    "As equações diferenciais estocásticas podem ter sua solução aproximada numericamente utilizando uma árvore binomial. Este método assume que a taxa de juros de curto prazo pode assumir apenas dois valores no período seguinte da discretização, $r_{u}$ ou $r_{d}$, onde $r_{u} > r_{d}$. Como cada nó da árvore dá origem à dois novos nós, a medida que se aumenta os passos de discretização, o número de nós rapidamente aumenta. Para evitar este crescimento exponencial, é imposto ao modelo que a árvore seja recombinante, ou seja, um movimento de subida seguido por uma queda resulta no mesmo nó de uma queda seguida de uma alta. \n",
    "\n",
    "Um movimento de alta na taxa de juros tem probabilidade $q$ de ocorrer, enquanto um de queda tem probabilidade de $1 - q$. Utilizaremos probabilidade de $q=0.5$ para garantir a netralidade a risco na solução da SDE. É importante frisar que isso não implica na probabilidade real da taxa de juros cair. $q$ representa apenas a probabilidade *neutra a risco*. "
   ]
  },
  {
   "cell_type": "code",
   "execution_count": 15,
   "metadata": {
    "collapsed": false
   },
   "outputs": [
    {
     "ename": "ImportError",
     "evalue": "cannot import name doccer",
     "output_type": "error",
     "traceback": [
      "\u001b[1;31m---------------------------------------------------------------------------\u001b[0m",
      "\u001b[1;31mImportError\u001b[0m                               Traceback (most recent call last)",
      "\u001b[1;32m<ipython-input-15-1ff8d535f65a>\u001b[0m in \u001b[0;36m<module>\u001b[1;34m()\u001b[0m\n\u001b[0;32m      3\u001b[0m \u001b[1;32mimport\u001b[0m \u001b[0mmath\u001b[0m\u001b[1;33m\u001b[0m\u001b[0m\n\u001b[0;32m      4\u001b[0m \u001b[1;32mimport\u001b[0m \u001b[0mpandas\u001b[0m \u001b[1;32mas\u001b[0m \u001b[0mpd\u001b[0m\u001b[1;33m\u001b[0m\u001b[0m\n\u001b[1;32m----> 5\u001b[1;33m \u001b[1;32mimport\u001b[0m \u001b[0mseaborn\u001b[0m \u001b[1;32mas\u001b[0m \u001b[0msns\u001b[0m\u001b[1;33m\u001b[0m\u001b[0m\n\u001b[0m\u001b[0;32m      6\u001b[0m \u001b[1;32mimport\u001b[0m \u001b[0mmatplotlib\u001b[0m\u001b[1;33m.\u001b[0m\u001b[0mpylab\u001b[0m \u001b[1;32mas\u001b[0m \u001b[0mplt\u001b[0m\u001b[1;33m\u001b[0m\u001b[0m\n",
      "\u001b[1;32m/home/uira/anaconda2/lib/python2.7/site-packages/seaborn/__init__.py\u001b[0m in \u001b[0;36m<module>\u001b[1;34m()\u001b[0m\n\u001b[1;32m----> 1\u001b[1;33m \u001b[1;32mfrom\u001b[0m \u001b[1;33m.\u001b[0m\u001b[0mrcmod\u001b[0m \u001b[1;32mimport\u001b[0m \u001b[1;33m*\u001b[0m\u001b[1;33m\u001b[0m\u001b[0m\n\u001b[0m\u001b[0;32m      2\u001b[0m \u001b[1;32mfrom\u001b[0m \u001b[1;33m.\u001b[0m\u001b[0mutils\u001b[0m \u001b[1;32mimport\u001b[0m \u001b[1;33m*\u001b[0m\u001b[1;33m\u001b[0m\u001b[0m\n\u001b[0;32m      3\u001b[0m \u001b[1;32mfrom\u001b[0m \u001b[1;33m.\u001b[0m\u001b[0mpalettes\u001b[0m \u001b[1;32mimport\u001b[0m \u001b[1;33m*\u001b[0m\u001b[1;33m\u001b[0m\u001b[0m\n\u001b[0;32m      4\u001b[0m \u001b[1;32mfrom\u001b[0m \u001b[1;33m.\u001b[0m\u001b[0mlinearmodels\u001b[0m \u001b[1;32mimport\u001b[0m \u001b[1;33m*\u001b[0m\u001b[1;33m\u001b[0m\u001b[0m\n\u001b[0;32m      5\u001b[0m \u001b[1;32mfrom\u001b[0m \u001b[1;33m.\u001b[0m\u001b[0mcategorical\u001b[0m \u001b[1;32mimport\u001b[0m \u001b[1;33m*\u001b[0m\u001b[1;33m\u001b[0m\u001b[0m\n",
      "\u001b[1;32m/home/uira/anaconda2/lib/python2.7/site-packages/seaborn/rcmod.py\u001b[0m in \u001b[0;36m<module>\u001b[1;34m()\u001b[0m\n\u001b[0;32m      6\u001b[0m \u001b[1;32mimport\u001b[0m \u001b[0mmatplotlib\u001b[0m \u001b[1;32mas\u001b[0m \u001b[0mmpl\u001b[0m\u001b[1;33m\u001b[0m\u001b[0m\n\u001b[0;32m      7\u001b[0m \u001b[1;33m\u001b[0m\u001b[0m\n\u001b[1;32m----> 8\u001b[1;33m \u001b[1;32mfrom\u001b[0m \u001b[1;33m.\u001b[0m \u001b[1;32mimport\u001b[0m \u001b[0mpalettes\u001b[0m\u001b[1;33m\u001b[0m\u001b[0m\n\u001b[0m\u001b[0;32m      9\u001b[0m \u001b[1;33m\u001b[0m\u001b[0m\n\u001b[0;32m     10\u001b[0m \u001b[0mmpl_ge_150\u001b[0m \u001b[1;33m=\u001b[0m \u001b[0mLooseVersion\u001b[0m\u001b[1;33m(\u001b[0m\u001b[0mmpl\u001b[0m\u001b[1;33m.\u001b[0m\u001b[0m__version__\u001b[0m\u001b[1;33m)\u001b[0m \u001b[1;33m>=\u001b[0m \u001b[1;34m'1.5.0'\u001b[0m\u001b[1;33m\u001b[0m\u001b[0m\n",
      "\u001b[1;32m/home/uira/anaconda2/lib/python2.7/site-packages/seaborn/palettes.py\u001b[0m in \u001b[0;36m<module>\u001b[1;34m()\u001b[0m\n\u001b[0;32m     10\u001b[0m \u001b[1;32mfrom\u001b[0m \u001b[1;33m.\u001b[0m\u001b[0mexternal\u001b[0m\u001b[1;33m.\u001b[0m\u001b[0msix\u001b[0m\u001b[1;33m.\u001b[0m\u001b[0mmoves\u001b[0m \u001b[1;32mimport\u001b[0m \u001b[0mrange\u001b[0m\u001b[1;33m\u001b[0m\u001b[0m\n\u001b[0;32m     11\u001b[0m \u001b[1;33m\u001b[0m\u001b[0m\n\u001b[1;32m---> 12\u001b[1;33m \u001b[1;32mfrom\u001b[0m \u001b[1;33m.\u001b[0m\u001b[0mutils\u001b[0m \u001b[1;32mimport\u001b[0m \u001b[0mdesaturate\u001b[0m\u001b[1;33m,\u001b[0m \u001b[0mset_hls_values\u001b[0m\u001b[1;33m,\u001b[0m \u001b[0mget_color_cycle\u001b[0m\u001b[1;33m\u001b[0m\u001b[0m\n\u001b[0m\u001b[0;32m     13\u001b[0m \u001b[1;32mfrom\u001b[0m \u001b[1;33m.\u001b[0m\u001b[0mxkcd_rgb\u001b[0m \u001b[1;32mimport\u001b[0m \u001b[0mxkcd_rgb\u001b[0m\u001b[1;33m\u001b[0m\u001b[0m\n\u001b[0;32m     14\u001b[0m \u001b[1;32mfrom\u001b[0m \u001b[1;33m.\u001b[0m\u001b[0mcrayons\u001b[0m \u001b[1;32mimport\u001b[0m \u001b[0mcrayons\u001b[0m\u001b[1;33m\u001b[0m\u001b[0m\n",
      "\u001b[1;32m/home/uira/anaconda2/lib/python2.7/site-packages/seaborn/utils.py\u001b[0m in \u001b[0;36m<module>\u001b[1;34m()\u001b[0m\n\u001b[0;32m      6\u001b[0m \u001b[1;33m\u001b[0m\u001b[0m\n\u001b[0;32m      7\u001b[0m \u001b[1;32mimport\u001b[0m \u001b[0mnumpy\u001b[0m \u001b[1;32mas\u001b[0m \u001b[0mnp\u001b[0m\u001b[1;33m\u001b[0m\u001b[0m\n\u001b[1;32m----> 8\u001b[1;33m \u001b[1;32mfrom\u001b[0m \u001b[0mscipy\u001b[0m \u001b[1;32mimport\u001b[0m \u001b[0mstats\u001b[0m\u001b[1;33m\u001b[0m\u001b[0m\n\u001b[0m\u001b[0;32m      9\u001b[0m \u001b[1;32mimport\u001b[0m \u001b[0mpandas\u001b[0m \u001b[1;32mas\u001b[0m \u001b[0mpd\u001b[0m\u001b[1;33m\u001b[0m\u001b[0m\n\u001b[0;32m     10\u001b[0m \u001b[1;32mimport\u001b[0m \u001b[0mmatplotlib\u001b[0m \u001b[1;32mas\u001b[0m \u001b[0mmpl\u001b[0m\u001b[1;33m\u001b[0m\u001b[0m\n",
      "\u001b[1;32m/home/uira/anaconda2/lib/python2.7/site-packages/scipy/stats/__init__.py\u001b[0m in \u001b[0;36m<module>\u001b[1;34m()\u001b[0m\n\u001b[0;32m    336\u001b[0m \u001b[1;32mfrom\u001b[0m \u001b[0m__future__\u001b[0m \u001b[1;32mimport\u001b[0m \u001b[0mdivision\u001b[0m\u001b[1;33m,\u001b[0m \u001b[0mprint_function\u001b[0m\u001b[1;33m,\u001b[0m \u001b[0mabsolute_import\u001b[0m\u001b[1;33m\u001b[0m\u001b[0m\n\u001b[0;32m    337\u001b[0m \u001b[1;33m\u001b[0m\u001b[0m\n\u001b[1;32m--> 338\u001b[1;33m \u001b[1;32mfrom\u001b[0m \u001b[1;33m.\u001b[0m\u001b[0mstats\u001b[0m \u001b[1;32mimport\u001b[0m \u001b[1;33m*\u001b[0m\u001b[1;33m\u001b[0m\u001b[0m\n\u001b[0m\u001b[0;32m    339\u001b[0m \u001b[1;32mfrom\u001b[0m \u001b[1;33m.\u001b[0m\u001b[0mdistributions\u001b[0m \u001b[1;32mimport\u001b[0m \u001b[1;33m*\u001b[0m\u001b[1;33m\u001b[0m\u001b[0m\n\u001b[0;32m    340\u001b[0m \u001b[1;32mfrom\u001b[0m \u001b[1;33m.\u001b[0m\u001b[0mmorestats\u001b[0m \u001b[1;32mimport\u001b[0m \u001b[1;33m*\u001b[0m\u001b[1;33m\u001b[0m\u001b[0m\n",
      "\u001b[1;32m/home/uira/anaconda2/lib/python2.7/site-packages/scipy/stats/stats.py\u001b[0m in \u001b[0;36m<module>\u001b[1;34m()\u001b[0m\n\u001b[0;32m    181\u001b[0m \u001b[1;32mimport\u001b[0m \u001b[0mscipy\u001b[0m\u001b[1;33m.\u001b[0m\u001b[0mlinalg\u001b[0m \u001b[1;32mas\u001b[0m \u001b[0mlinalg\u001b[0m\u001b[1;33m\u001b[0m\u001b[0m\n\u001b[0;32m    182\u001b[0m \u001b[1;32mimport\u001b[0m \u001b[0mnumpy\u001b[0m \u001b[1;32mas\u001b[0m \u001b[0mnp\u001b[0m\u001b[1;33m\u001b[0m\u001b[0m\n\u001b[1;32m--> 183\u001b[1;33m \u001b[1;32mfrom\u001b[0m \u001b[1;33m.\u001b[0m \u001b[1;32mimport\u001b[0m \u001b[0mdistributions\u001b[0m\u001b[1;33m\u001b[0m\u001b[0m\n\u001b[0m\u001b[0;32m    184\u001b[0m \u001b[1;32mfrom\u001b[0m \u001b[1;33m.\u001b[0m \u001b[1;32mimport\u001b[0m \u001b[0mmstats_basic\u001b[0m\u001b[1;33m\u001b[0m\u001b[0m\n\u001b[0;32m    185\u001b[0m \u001b[1;32mfrom\u001b[0m \u001b[1;33m.\u001b[0m\u001b[0m_distn_infrastructure\u001b[0m \u001b[1;32mimport\u001b[0m \u001b[0m_lazywhere\u001b[0m\u001b[1;33m\u001b[0m\u001b[0m\n",
      "\u001b[1;32m/home/uira/anaconda2/lib/python2.7/site-packages/scipy/stats/distributions.py\u001b[0m in \u001b[0;36m<module>\u001b[1;34m()\u001b[0m\n\u001b[0;32m      8\u001b[0m \u001b[1;32mfrom\u001b[0m \u001b[0m__future__\u001b[0m \u001b[1;32mimport\u001b[0m \u001b[0mdivision\u001b[0m\u001b[1;33m,\u001b[0m \u001b[0mprint_function\u001b[0m\u001b[1;33m,\u001b[0m \u001b[0mabsolute_import\u001b[0m\u001b[1;33m\u001b[0m\u001b[0m\n\u001b[0;32m      9\u001b[0m \u001b[1;33m\u001b[0m\u001b[0m\n\u001b[1;32m---> 10\u001b[1;33m from ._distn_infrastructure import (entropy, rv_discrete, rv_continuous,\n\u001b[0m\u001b[0;32m     11\u001b[0m                                     rv_frozen)\n\u001b[0;32m     12\u001b[0m \u001b[1;33m\u001b[0m\u001b[0m\n",
      "\u001b[1;32m/home/uira/anaconda2/lib/python2.7/site-packages/scipy/stats/_distn_infrastructure.py\u001b[0m in \u001b[0;36m<module>\u001b[1;34m()\u001b[0m\n\u001b[0;32m     14\u001b[0m \u001b[1;32mimport\u001b[0m \u001b[0mwarnings\u001b[0m\u001b[1;33m\u001b[0m\u001b[0m\n\u001b[0;32m     15\u001b[0m \u001b[1;33m\u001b[0m\u001b[0m\n\u001b[1;32m---> 16\u001b[1;33m \u001b[1;32mfrom\u001b[0m \u001b[0mscipy\u001b[0m\u001b[1;33m.\u001b[0m\u001b[0mmisc\u001b[0m \u001b[1;32mimport\u001b[0m \u001b[0mdoccer\u001b[0m\u001b[1;33m\u001b[0m\u001b[0m\n\u001b[0m\u001b[0;32m     17\u001b[0m \u001b[1;32mfrom\u001b[0m \u001b[1;33m.\u001b[0m\u001b[0m_distr_params\u001b[0m \u001b[1;32mimport\u001b[0m \u001b[0mdistcont\u001b[0m\u001b[1;33m,\u001b[0m \u001b[0mdistdiscrete\u001b[0m\u001b[1;33m\u001b[0m\u001b[0m\n\u001b[0;32m     18\u001b[0m \u001b[1;32mfrom\u001b[0m \u001b[0mscipy\u001b[0m\u001b[1;33m.\u001b[0m\u001b[0m_lib\u001b[0m\u001b[1;33m.\u001b[0m\u001b[0m_util\u001b[0m \u001b[1;32mimport\u001b[0m \u001b[0mcheck_random_state\u001b[0m\u001b[1;33m,\u001b[0m \u001b[0m_lazywhere\u001b[0m\u001b[1;33m\u001b[0m\u001b[0m\n",
      "\u001b[1;32m/home/uira/anaconda2/lib/python2.7/site-packages/scipy/misc/__init__.py\u001b[0m in \u001b[0;36m<module>\u001b[1;34m()\u001b[0m\n\u001b[0;32m     46\u001b[0m            'comb', 'factorial', 'factorial2', 'factorialk']\n\u001b[0;32m     47\u001b[0m \u001b[1;33m\u001b[0m\u001b[0m\n\u001b[1;32m---> 48\u001b[1;33m \u001b[1;32mfrom\u001b[0m \u001b[1;33m.\u001b[0m \u001b[1;32mimport\u001b[0m \u001b[0mdoccer\u001b[0m\u001b[1;33m\u001b[0m\u001b[0m\n\u001b[0m\u001b[0;32m     49\u001b[0m \u001b[1;32mfrom\u001b[0m \u001b[1;33m.\u001b[0m\u001b[0mcommon\u001b[0m \u001b[1;32mimport\u001b[0m \u001b[1;33m*\u001b[0m\u001b[1;33m\u001b[0m\u001b[0m\n\u001b[0;32m     50\u001b[0m \u001b[1;32mfrom\u001b[0m \u001b[0mnumpy\u001b[0m \u001b[1;32mimport\u001b[0m \u001b[0mwho\u001b[0m\u001b[1;33m,\u001b[0m \u001b[0msource\u001b[0m\u001b[1;33m,\u001b[0m \u001b[0minfo\u001b[0m \u001b[1;32mas\u001b[0m \u001b[0m_info\u001b[0m\u001b[1;33m\u001b[0m\u001b[0m\n",
      "\u001b[1;31mImportError\u001b[0m: cannot import name doccer"
     ]
    }
   ],
   "source": [
    "# bibliotecas necessarias\n",
    "import numpy as np\n",
    "import math\n",
    "import pandas as pd\n",
    "import seaborn as sns\n",
    "import matplotlib.pylab as plt"
   ]
  },
  {
   "cell_type": "code",
   "execution_count": 121,
   "metadata": {
    "collapsed": false
   },
   "outputs": [],
   "source": [
    "from collections import defaultdict\n",
    "\n",
    "class DIFFERENT_SOURCES_ERROR(Exception):\n",
    "    '''\n",
    "    DIFFERENT_SOURCES_ERROR is raised when ...\n",
    "    '''\n",
    "    pass\n",
    "\n",
    "\n",
    "class Node(object):\n",
    "    '''\n",
    "    A representation of a single Node in a binary tree\n",
    "    '''\n",
    "    def __init__(self, s_name):\n",
    "        '''\n",
    "        Instatiate a Node object. Save all parameter as attributes\n",
    "        :param s_name: string. The name of the node. Is expected\n",
    "            to be composed just by 'D'(down) and 'U'(up)\n",
    "        '''\n",
    "        # conta a qtde de subidas e descidas para\n",
    "        # organizacao de nos posteriormente\n",
    "        i_d = s_name.count('D') * -1\n",
    "        i_u = s_name.count('U')\n",
    "        i_len = len(s_name)\n",
    "        if s_name == '_':\n",
    "            i_len = 0\n",
    "        self.i_step = i_len\n",
    "        self.i_level = i_d+i_u\n",
    "        self.node_idx = '{},{}'.format(i_len, i_d+i_u)\n",
    "        # guarda nome e inicia branch\n",
    "        self.name = str(s_name)\n",
    "        # inicia parametros do no\n",
    "        self.f_r = None\n",
    "        self.f_time = None\n",
    "        self.f_cupon = None\n",
    "        self.f_value = None\n",
    "\n",
    "    def get_childrens(self):\n",
    "        '''\n",
    "        Return the possible childrens of the node\n",
    "        '''\n",
    "        s_name = self.name\n",
    "        if self.name == '_':\n",
    "            s_name = ''\n",
    "        return s_name + 'D',  s_name + 'U'\n",
    "    \n",
    "    def get_source(self):\n",
    "        '''\n",
    "        Return the possible childrens of the node\n",
    "        '''\n",
    "        s_name = self.name\n",
    "        if len(s_name) == 1 and s_name != '_':\n",
    "            return '_'\n",
    "        elif self.name == '_':\n",
    "            s_name = ''\n",
    "        else:\n",
    "            return s_name[:-1]\n",
    "\n",
    "    def __str__(self):\n",
    "        '''\n",
    "        Return the name of the node\n",
    "        '''\n",
    "        return self.name\n",
    "    \n",
    "    def __add__(self, other):\n",
    "        '''\n",
    "        Add Vectors\n",
    "        :param other: Object. A Node instace\n",
    "        '''\n",
    "        s_src = self.get_source()\n",
    "        # para serem somados, os nodes preciosam ser iguais\n",
    "        if other != other.get_source():\n",
    "            raise DIFFERENT_SOURCES_ERROR\n",
    "        # cria novo node com valores somados\n",
    "        node_aux = Node(s_src)\n",
    "        node_aux.f_r = self.f_r\n",
    "        node_aux.f_time = self.f_time\n",
    "        node_aux.f_cupon = self.f_cupon\n",
    "        # assume que a probabilidade eh sempre 50p\n",
    "        node_aux.f_value = (self.f_value + other.f_value) * 0.5\n",
    "        \n",
    "        return node_aux\n",
    "\n",
    "    def __repr__(self):\n",
    "        '''\n",
    "        Return the name of the node\n",
    "        '''\n",
    "        return self.name\n",
    "\n",
    "    def __eq__(self, other):\n",
    "        '''\n",
    "        Return if a node has different node_idx from the other\n",
    "        :param other: node object. Node to be compared\n",
    "        '''\n",
    "        if isinstance(other, str):\n",
    "            i_aux = other.count('D')*-1 + other.count('U')\n",
    "            i_len = len(other)\n",
    "            if s_name == '_':\n",
    "                i_len = 0\n",
    "            s_aux = '{},{}'.format(i_len, i_aux)\n",
    "            return self.node_idx == s_aux\n",
    "        return self.node_idx == other.node_idx\n",
    "\n",
    "    def __ne__(self, other):\n",
    "        '''\n",
    "        Return if a node has the same node_idx from the other\n",
    "        :param other: node object. Node to be compared\n",
    "        '''\n",
    "        return not self.__eq__(other)\n",
    "\n",
    "    def __hash__(self):\n",
    "        '''\n",
    "        Allow the node object be used as a key in a hash\n",
    "        table\n",
    "        '''\n",
    "        return self.node_idx.__hash__()\n",
    "\n",
    "\n",
    "class BinomialTree(object):\n",
    "    '''\n",
    "    A representation of a Binomial Tree\n",
    "    '''\n",
    "    def __init__(self, i_steps):\n",
    "        '''\n",
    "        Initiate a BinomialTree object. Save all parameter as\n",
    "        attributes\n",
    "        :param i_step: integer. Number of steps in the tree\n",
    "        '''\n",
    "        # python sets se comportam como hastable. O tempo\n",
    "        # de procura eh O(1), e nao O(n) como uma lista\n",
    "        self.set_of_nodes = set([])\n",
    "        # inicia outras variaveis\n",
    "        self.i_steps = i_steps\n",
    "        self.d_step = defaultdict(list)\n",
    "        self.d_level = defaultdict(list)\n",
    "        # insere nodes\n",
    "        node_root = Node('_')\n",
    "        self.d_level[0] = [node_root]\n",
    "        self.d_step[0] = [node_root]\n",
    "        self.set_of_nodes.add(node_root)\n",
    "        # constroi arvore\n",
    "        self.set_branchs(i_steps)\n",
    "\n",
    "    def set_branchs(self, i_steps):\n",
    "        '''\n",
    "        Create all the brachs of the binomial tree using the\n",
    "        first node as root\n",
    "        :param i_step: integer. Number of steps in the tree\n",
    "        '''\n",
    "        # constroi arvore\n",
    "        for i_step in xrange(1, i_steps):\n",
    "            for node in self.d_step[i_step-1]:\n",
    "                s_down, s_up = node.get_childrens()\n",
    "                self.add_node(i_step, s_down)\n",
    "                self.add_node(i_step, s_up)\n",
    "\n",
    "    def add_node(self, i_step, s_name):\n",
    "        '''\n",
    "        Include a new node in the tree. To reduce the number\n",
    "        of nodes, a restriction called recombination condition\n",
    "        is imposed on the algorithm. This make the binomial\n",
    "        method more computationally tractable since the number\n",
    "        of nodes at each step increases by only one node\n",
    "        :param i_step: integer.\n",
    "        :param s_name: string.\n",
    "        '''\n",
    "        node = Node(s_name)\n",
    "        if node not in self.set_of_nodes:\n",
    "            self.set_of_nodes.add(node)\n",
    "            self.d_step[node.i_step].append(node)\n",
    "            self.d_level[node.i_level].append(node)\n",
    "\n",
    "    def __str__(self):\n",
    "        '''\n",
    "        Return ascii representation of the binomial tree,\n",
    "        imposing a limite of 8 nodes to be printed out\n",
    "        '''\n",
    "        # limita passos plotados\n",
    "        i_steps = min(8, self.i_steps)\n",
    "        # itera dicionario de niveis e insere em string tabulada\n",
    "        d_aux = {}\n",
    "        for i_key in xrange(-1 * i_steps, i_steps + 1, 1):\n",
    "            s_aux = ''\n",
    "            for i_inner in xrange(0, i_steps + 1):\n",
    "                valid_node = ''\n",
    "                for node in self.d_level[i_key]:\n",
    "                    if node.i_step == i_inner:\n",
    "                        valid_node = node\n",
    "                s_aux += '{}\\t'.format(valid_node)\n",
    "            d_aux[i_key] = s_aux[:-1] + '\\n'\n",
    "        # organiza chaves\n",
    "        l = d_aux.keys()\n",
    "        l.sort()\n",
    "        # junta strings criadas em uma unica, de maneir aordenada\n",
    "        s_rtn = ''\n",
    "        for i_key in l:\n",
    "            s_rtn += d_aux[i_key]\n",
    "        if i_steps != self.i_steps:\n",
    "            s_rtn += '\\nPlotted {} from {} steps'.format(i_steps, self.i_steps)\n",
    "        return s_rtn"
   ]
  },
  {
   "cell_type": "code",
   "execution_count": 3,
   "metadata": {
    "collapsed": false
   },
   "outputs": [
    {
     "name": "stdout",
     "output_type": "stream",
     "text": [
      "Tempo para inicar toda a arvore: \n",
      "- Com 10 passos: Criados 55 em 0.00 segundos\n",
      "- Com 100 passos: Criados 5,050 em 0.09 segundos\n",
      "- Com 250 passos: Criados 31,375 em 0.63 segundos\n",
      "- Com 500 passos: Criados 125,250 em 2.53 segundos\n",
      "- Com 1000 passos: Criados 500,500 em 11.35 segundos\n"
     ]
    }
   ],
   "source": [
    "import time\n",
    "import binomial_tree; reload(binomial_tree);\n",
    "\n",
    "def foo(i):\n",
    "    f_start = time.time()\n",
    "    x = binomial_tree.BinomialTree(i)\n",
    "    i_rtn = len(x.set_of_nodes)\n",
    "    return i_rtn, time.time() - f_start\n",
    "\n",
    "print \"Tempo para inicar toda a arvore: \"\n",
    "for i in [10, 100, 250, 500, 1000]:\n",
    "    # mais de 1000 nodes trava\n",
    "    i_nodes, f_time = foo(i)\n",
    "    print \"- Com {} passos: Criados {:0,.0f} em {:.2f} segundos\".format(i, i_nodes, f_time)"
   ]
  },
  {
   "cell_type": "code",
   "execution_count": 13,
   "metadata": {
    "collapsed": false
   },
   "outputs": [
    {
     "name": "stdout",
     "output_type": "stream",
     "text": [
      "Primeiros passos da arvore criada:\n",
      "========================================\n",
      "\n",
      "\n",
      "\t\t\t\t\t\t\t\tDDDDDDDD\n",
      "\t\t\t\t\t\t\tDDDDDDD\t\n",
      "\t\t\t\t\t\tDDDDDD\t\tDDDDDDDU\n",
      "\t\t\t\t\tDDDDD\t\tDDDDDDU\t\n",
      "\t\t\t\tDDDD\t\tDDDDDU\t\tDDDDDDUU\n",
      "\t\t\tDDD\t\tDDDDU\t\tDDDDDUU\t\n",
      "\t\tDD\t\tDDDU\t\tDDDDUU\t\tDDDDDUUU\n",
      "\tD\t\tDDU\t\tDDDUU\t\tDDDDUUU\t\n",
      "_\t\tDU\t\tDDUU\t\tDDDUUU\t\tDDDDUUUU\n",
      "\tU\t\tDUU\t\tDDUUU\t\tDDDUUUU\t\n",
      "\t\tUU\t\tDUUU\t\tDDUUUU\t\tDDDUUUUU\n",
      "\t\t\tUUU\t\tDUUUU\t\tDDUUUUU\t\n",
      "\t\t\t\tUUUU\t\tDUUUUU\t\tDDUUUUUU\n",
      "\t\t\t\t\tUUUUU\t\tDUUUUUU\t\n",
      "\t\t\t\t\t\tUUUUUU\t\tDUUUUUUU\n",
      "\t\t\t\t\t\t\tUUUUUUU\t\n",
      "\t\t\t\t\t\t\t\tUUUUUUUU\n",
      "\n",
      "Plotted 8 from 12 steps\n"
     ]
    }
   ],
   "source": [
    "import binomial_tree; reload(binomial_tree);\n",
    "x = binomial_tree.BinomialTree(12)\n",
    "print 'Primeiros passos da arvore criada:\\n========================================\\n\\n'\n",
    "print x"
   ]
  },
  {
   "cell_type": "code",
   "execution_count": null,
   "metadata": {
    "collapsed": true
   },
   "outputs": [],
   "source": []
  },
  {
   "cell_type": "code",
   "execution_count": null,
   "metadata": {
    "collapsed": true
   },
   "outputs": [],
   "source": [
    "def squared_error(l_par, l_T, l_yield):\n",
    "    '''\n",
    "    Return the squared error between the curve calculate by the NSS model and\n",
    "    the real data\n",
    "    :param l_par: list. parameters to be used to create the NSS model\n",
    "    :param l_T: list. a ordered list of time in years of each foward rate\n",
    "    :param l_yield: list. list of floats of the foward rates. ordered by l_T\n",
    "    '''\n",
    "    nss = NelsonSiegelSvensson(*l_par)\n",
    "    return sum([(b-float(a)) ** 2 for a, b in zip(nss(l_T), l_yield)])\n",
    "\n",
    "res = optimize.minimize(squared_error, l_par2, args=(l_T, l_yield))\n",
    "nss = NelsonSiegelSvensson(*res.x)"
   ]
  },
  {
   "cell_type": "code",
   "execution_count": 148,
   "metadata": {
    "collapsed": true
   },
   "outputs": [],
   "source": [
    "class BinomialTreeOptimized(object):\n",
    "    '''\n",
    "    A representation of the Binomial Tree Optimized\n",
    "    '''\n",
    "    def __init__(self, i_steps):\n",
    "        '''\n",
    "        Initiate a BinomialTreeOptimized object. Save all parameter as\n",
    "        attributes\n",
    "        :param i_step: integer. Number of steps in the tree\n",
    "        '''\n",
    "        # python sets se comportam como hastable. O tempo\n",
    "        # de procura eh O(1), e nao O(n) como uma lista\n",
    "        self.set_of_nodes = set([])\n",
    "        self.set_of_nodes_new = set([])\n",
    "        # inicia outras variaveis\n",
    "        self.i_steps = i_steps\n",
    "        self.d_step = defaultdict(Node)\n",
    "        # insere nodes\n",
    "        node_root = Node('_')\n",
    "        self.d_step[0] = [node_root]\n",
    "        self.set_of_nodes.add(node_root)\n",
    "        # constroi arvore\n",
    "        self.set_foward(i_steps)\n",
    "\n",
    "    def set_foward(self, i_steps):\n",
    "        '''\n",
    "        Create all the brachs of the binomial tree using the\n",
    "        first node as root\n",
    "        :param i_step: integer. Number of steps in the tree\n",
    "        '''\n",
    "        # constroi arvore\n",
    "        for i_step in xrange(1, i_steps):\n",
    "            self.set_of_nodes_new = set([])\n",
    "            for node in self.set_of_nodes:\n",
    "                s_down, s_up = node.get_childrens()\n",
    "                self.add_node(s_down)\n",
    "                self.add_node(s_up)\n",
    "            self.set_of_nodes = self.set_of_nodes_new.copy()\n",
    "            \n",
    "    def set_backward(self):\n",
    "        '''\n",
    "        Create all the brachs of the binomial tree from\n",
    "        the last step to the first\n",
    "        '''\n",
    "        # constroi arvore\n",
    "        for i_step in xrange(len(self.set_of_nodes)-1, 0, -1):\n",
    "            self.set_of_nodes_new = set([])\n",
    "            for node in self.set_of_nodes:\n",
    "                s_src= node.get_source()\n",
    "                self.add_node(s_src)\n",
    "            self.set_of_nodes = self.set_of_nodes_new.copy()\n",
    "\n",
    "    def add_node(self, s_name):\n",
    "        '''\n",
    "        Include a new node in the tree. To reduce the number\n",
    "        of nodes, a restriction called recombination condition\n",
    "        is imposed on the algorithm. This make the binomial\n",
    "        method more computationally tractable since the number\n",
    "        of nodes at each step increases by only one node\n",
    "        :param s_name: string.\n",
    "        '''\n",
    "        node = Node(s_name)\n",
    "        if node not in self.set_of_nodes:\n",
    "            self.set_of_nodes_new.add(node)\n",
    "            if node.name.count('D') == node.i_step:\n",
    "                self.d_step[node.i_step] = node\n",
    "    \n",
    "    def __str__(self):\n",
    "        '''\n",
    "        Create a BinomialTree to return ascii representation tree,\n",
    "        imposing a limite of 8 nodes to be printed out\n",
    "        '''\n",
    "        # limita passos plotados\n",
    "        i_steps = min(8, self.i_steps)\n",
    "        # TODO: isso tah muito porco\n",
    "        tree_aux = BinomialTree(i_steps)\n",
    "        s_rtn = str(tree_aux)\n",
    "        if i_steps != self.i_steps:\n",
    "            s_rtn += '\\nPlotted {} from {} steps'.format(i_steps, self.i_steps)\n",
    "        return s_rtn"
   ]
  },
  {
   "cell_type": "code",
   "execution_count": 143,
   "metadata": {
    "collapsed": false
   },
   "outputs": [],
   "source": [
    "# from scipy import optimize\n",
    "\n",
    "class KWFTree(object):\n",
    "    '''\n",
    "    A representation of the Binomial Tree used in Kalotay-\n",
    "    Williams-Fabozzi model\n",
    "    '''\n",
    "    def __init__(self, l_short_rates, l_maturity):\n",
    "        '''\n",
    "        Initiate a BinomialTree object. Save all parameter as\n",
    "        attributes\n",
    "        :param l_short_rates: list. short rates from the market\n",
    "        :param l_maturity: list. maturities of the short rates\n",
    "        '''\n",
    "        # checa se a quantidade de passos eh a mesma das listas\n",
    "        s_err = \"The lists should have the same length\"\n",
    "        assert len(l_short_rates) == len(l_maturity), s_err\n",
    "        # python sets se comportam como hastable. O tempo\n",
    "        # de procura eh O(1), e nao O(n) como uma lista\n",
    "        self.set_of_nodes = set([])\n",
    "        self.set_of_nodes_new = set([])\n",
    "        # inicia outras variaveis\n",
    "        self.l_short_rates = l_short_rates\n",
    "        self.l_maturity = l_maturity\n",
    "        self.i_steps = len(l_short_rates)\n",
    "        self.d_step = defaultdict(Node)\n",
    "        # insere nodes\n",
    "        node_root = Node('_')\n",
    "        node_root.f_r = l_short_rates[0]\n",
    "        node_root.f_time = l_maturity[0]\n",
    "        self.d_step[0] = [node_root]\n",
    "        self.set_of_nodes.add(node_root)\n",
    "        # constroi arvore\n",
    "        self.set_foward(i_steps)\n",
    "\n",
    "    def set_foward(self, i_steps):\n",
    "        '''\n",
    "        Create all the brachs of the binomial tree using the\n",
    "        first node as root\n",
    "        :param i_step: integer. Number of steps in the tree\n",
    "        '''\n",
    "        # constroi arvore\n",
    "        for i_step in xrange(1, i_steps):\n",
    "            self.set_of_nodes_new = set([])\n",
    "            for node in self.set_of_nodes:\n",
    "                s_down, s_up = node.get_childrens()\n",
    "                self.add_node(s_down)\n",
    "                self.add_node(s_up)\n",
    "            self.set_of_nodes = self.set_of_nodes_new.copy()\n",
    "            \n",
    "    def set_backward(self):\n",
    "        '''\n",
    "        Create all the brachs of the binomial tree from\n",
    "        the last step to the first\n",
    "        '''\n",
    "        # constroi arvore\n",
    "        for i_step in xrange(len(self.set_of_nodes)-1, 0, -1):\n",
    "            self.set_of_nodes_new = set([])\n",
    "            for node in self.set_of_nodes:\n",
    "                s_src= node.get_source()\n",
    "                self.add_node(s_src)\n",
    "            self.set_of_nodes = self.set_of_nodes_new.copy()\n",
    "\n",
    "    def add_node(self, s_name):\n",
    "        '''\n",
    "        Include a new node in the tree. To reduce the number\n",
    "        of nodes, a restriction called recombination condition\n",
    "        is imposed on the algorithm. This make the binomial\n",
    "        method more computationally tractable since the number\n",
    "        of nodes at each step increases by only one node\n",
    "        :param s_name: string.\n",
    "        '''\n",
    "        node = Node(s_name)\n",
    "        if node not in self.set_of_nodes:\n",
    "            self.set_of_nodes_new.add(node)\n",
    "            if node.name.count('D') == node.i_step:\n",
    "                self.d_step[node.i_step] = node\n",
    "    \n",
    "    def __str__(self):\n",
    "        '''\n",
    "        Create a BinomialTree to return ascii representation tree,\n",
    "        imposing a limite of 8 nodes to be printed out\n",
    "        '''\n",
    "        # limita passos plotados\n",
    "        i_steps = min(8, self.i_steps)\n",
    "        # TODO: isso tah muito porco\n",
    "        tree_aux = BinomialTree(i_steps)\n",
    "        s_rtn = str(tree_aux)\n",
    "        if i_steps != self.i_steps:\n",
    "            s_rtn += '\\nPlotted {} from {} steps'.format(i_steps, self.i_steps)\n",
    "        return s_rtn\n",
    "        \n",
    "        "
   ]
  },
  {
   "cell_type": "code",
   "execution_count": 149,
   "metadata": {
    "collapsed": false
   },
   "outputs": [
    {
     "name": "stdout",
     "output_type": "stream",
     "text": [
      "Tempo para inicar toda a arvore: \n",
      "- Com 10 passos: Criados 10 em 0.00 segundos\n",
      "- Com 100 passos: Criados 100 em 0.10 segundos\n",
      "- Com 250 passos: Criados 250 em 0.74 segundos\n",
      "- Com 500 passos: Criados 500 em 3.22 segundos\n",
      "- Com 1000 passos: Criados 1,000 em 16.55 segundos\n",
      "- Com 2000 passos: Criados 2,000 em 92.47 segundos\n"
     ]
    }
   ],
   "source": [
    "import time\n",
    "import binomial_tree; reload(binomial_tree);\n",
    "\n",
    "def foo(i):\n",
    "    f_start = time.time()\n",
    "    x = BinomialTreeOptimized(i)\n",
    "    i_rtn = len(x.set_of_nodes)\n",
    "    return i_rtn, time.time() - f_start\n",
    "\n",
    "print \"Tempo para inicar toda a arvore: \"\n",
    "for i in [10, 100, 250, 500, 1000, 2000]:\n",
    "    # mais de 1000 nodes trava\n",
    "    i_nodes, f_time = foo(i)\n",
    "    print \"- Com {} passos: Criados {:0,.0f} em {:.2f} segundos\".format(i, i_nodes, f_time)"
   ]
  },
  {
   "cell_type": "code",
   "execution_count": 132,
   "metadata": {
    "collapsed": false
   },
   "outputs": [
    {
     "name": "stdout",
     "output_type": "stream",
     "text": [
      "Primeiros passos da arvore criada:\n",
      "========================================\n",
      "\n",
      "\n",
      "\t\t\t\t\t\t\t\t\n",
      "\t\t\t\t\t\t\tDDDDDDD\t\n",
      "\t\t\t\t\t\tDDDDDD\t\t\n",
      "\t\t\t\t\tDDDDD\t\tDDDDDDU\t\n",
      "\t\t\t\tDDDD\t\tDDDDDU\t\t\n",
      "\t\t\tDDD\t\tDDDDU\t\tDDDDDUU\t\n",
      "\t\tDD\t\tDDDU\t\tDDDDUU\t\t\n",
      "\tD\t\tDDU\t\tDDDUU\t\tDDDDUUU\t\n",
      "_\t\tDU\t\tDDUU\t\tDDDUUU\t\t\n",
      "\tU\t\tDUU\t\tDDUUU\t\tDDDUUUU\t\n",
      "\t\tUU\t\tDUUU\t\tDDUUUU\t\t\n",
      "\t\t\tUUU\t\tDUUUU\t\tDDUUUUU\t\n",
      "\t\t\t\tUUUU\t\tDUUUUU\t\t\n",
      "\t\t\t\t\tUUUUU\t\tDUUUUUU\t\n",
      "\t\t\t\t\t\tUUUUUU\t\t\n",
      "\t\t\t\t\t\t\tUUUUUUU\t\n",
      "\t\t\t\t\t\t\t\t\n",
      "\n",
      "Plotted 8 from 12 steps\n"
     ]
    }
   ],
   "source": [
    "print 'Primeiros passos da arvore criada:\\n========================================\\n\\n'\n",
    "x = KWFTree(12, [], [])\n",
    "print x"
   ]
  },
  {
   "cell_type": "code",
   "execution_count": 133,
   "metadata": {
    "collapsed": true
   },
   "outputs": [],
   "source": [
    "x.set_backward()"
   ]
  },
  {
   "cell_type": "code",
   "execution_count": 134,
   "metadata": {
    "collapsed": false
   },
   "outputs": [
    {
     "data": {
      "text/plain": [
       "{_}"
      ]
     },
     "execution_count": 134,
     "metadata": {},
     "output_type": "execute_result"
    }
   ],
   "source": [
    "x.set_of_nodes"
   ]
  },
  {
   "cell_type": "code",
   "execution_count": null,
   "metadata": {
    "collapsed": true
   },
   "outputs": [],
   "source": []
  },
  {
   "cell_type": "code",
   "execution_count": 138,
   "metadata": {
    "collapsed": false
   },
   "outputs": [
    {
     "ename": "AssertionError",
     "evalue": "The lists should have the same length",
     "output_type": "error",
     "traceback": [
      "\u001b[1;31m---------------------------------------------------------------------------\u001b[0m",
      "\u001b[1;31mAssertionError\u001b[0m                            Traceback (most recent call last)",
      "\u001b[1;32m<ipython-input-138-55d386f62431>\u001b[0m in \u001b[0;36m<module>\u001b[1;34m()\u001b[0m\n\u001b[0;32m      3\u001b[0m \u001b[1;33m\u001b[0m\u001b[0m\n\u001b[0;32m      4\u001b[0m \u001b[0ms_err\u001b[0m \u001b[1;33m=\u001b[0m \u001b[1;34m\"The lists should have the same length\"\u001b[0m\u001b[1;33m\u001b[0m\u001b[0m\n\u001b[1;32m----> 5\u001b[1;33m \u001b[1;32massert\u001b[0m \u001b[0mlen\u001b[0m\u001b[1;33m(\u001b[0m\u001b[0ml_short_rates\u001b[0m\u001b[1;33m)\u001b[0m \u001b[1;33m==\u001b[0m \u001b[0mlen\u001b[0m\u001b[1;33m(\u001b[0m\u001b[0ml_maturity\u001b[0m\u001b[1;33m)\u001b[0m\u001b[1;33m,\u001b[0m \u001b[0ms_err\u001b[0m\u001b[1;33m\u001b[0m\u001b[0m\n\u001b[0m",
      "\u001b[1;31mAssertionError\u001b[0m: The lists should have the same length"
     ]
    }
   ],
   "source": [
    "l_maturity = [1, 2, 3]\n",
    "l_short_rates = [1, 2, 3, 4]\n",
    "\n",
    "s_err = \"The lists should have the same length\"\n",
    "assert len(l_short_rates) == len(l_maturity), s_err"
   ]
  },
  {
   "cell_type": "code",
   "execution_count": null,
   "metadata": {
    "collapsed": true
   },
   "outputs": [],
   "source": []
  },
  {
   "cell_type": "code",
   "execution_count": null,
   "metadata": {
    "collapsed": true
   },
   "outputs": [],
   "source": []
  },
  {
   "cell_type": "code",
   "execution_count": null,
   "metadata": {
    "collapsed": true
   },
   "outputs": [],
   "source": []
  },
  {
   "cell_type": "code",
   "execution_count": null,
   "metadata": {
    "collapsed": true
   },
   "outputs": [],
   "source": []
  },
  {
   "cell_type": "code",
   "execution_count": 84,
   "metadata": {
    "collapsed": true
   },
   "outputs": [],
   "source": [
    "self.set_of_nodes = set([Node('_')])\n",
    "l_last_set = list(self.set_of_nodes)"
   ]
  },
  {
   "cell_type": "code",
   "execution_count": 88,
   "metadata": {
    "collapsed": false
   },
   "outputs": [],
   "source": [
    "for node in l_last_set:\n",
    "    s_down, s_up = node.get_childrens()"
   ]
  },
  {
   "cell_type": "code",
   "execution_count": 90,
   "metadata": {
    "collapsed": true
   },
   "outputs": [],
   "source": [
    "self.set_of_nodes_new = set([])"
   ]
  },
  {
   "cell_type": "code",
   "execution_count": null,
   "metadata": {
    "collapsed": false
   },
   "outputs": [],
   "source": [
    "        node = Node(s_name)\n",
    "        l_last_set = list(self.set_of_nodes)"
   ]
  },
  {
   "cell_type": "code",
   "execution_count": null,
   "metadata": {
    "collapsed": true
   },
   "outputs": [],
   "source": []
  },
  {
   "cell_type": "code",
   "execution_count": 89,
   "metadata": {
    "collapsed": false
   },
   "outputs": [
    {
     "data": {
      "text/plain": [
       "'D'"
      ]
     },
     "execution_count": 89,
     "metadata": {},
     "output_type": "execute_result"
    }
   ],
   "source": [
    "s_down"
   ]
  },
  {
   "cell_type": "code",
   "execution_count": null,
   "metadata": {
    "collapsed": true
   },
   "outputs": [],
   "source": []
  },
  {
   "cell_type": "code",
   "execution_count": 78,
   "metadata": {
    "collapsed": true
   },
   "outputs": [],
   "source": [
    "x = binomial_tree.BinomialTree(4)"
   ]
  },
  {
   "cell_type": "code",
   "execution_count": 80,
   "metadata": {
    "collapsed": false
   },
   "outputs": [
    {
     "data": {
      "text/plain": [
       "[DDD, DDU, DUU, UUU]"
      ]
     },
     "execution_count": 80,
     "metadata": {},
     "output_type": "execute_result"
    }
   ],
   "source": [
    "x.d_step[3]"
   ]
  },
  {
   "cell_type": "code",
   "execution_count": 83,
   "metadata": {
    "collapsed": true
   },
   "outputs": [],
   "source": [
    "self = y"
   ]
  },
  {
   "cell_type": "code",
   "execution_count": 86,
   "metadata": {
    "collapsed": true
   },
   "outputs": [],
   "source": [
    "self.set_of_nodes = set([Node('_')])\n",
    "l_last_set = list(self.set_of_nodes)"
   ]
  },
  {
   "cell_type": "code",
   "execution_count": 87,
   "metadata": {
    "collapsed": false
   },
   "outputs": [
    {
     "data": {
      "text/plain": [
       "[_]"
      ]
     },
     "execution_count": 87,
     "metadata": {},
     "output_type": "execute_result"
    }
   ],
   "source": [
    "l_last_set"
   ]
  },
  {
   "cell_type": "code",
   "execution_count": null,
   "metadata": {
    "collapsed": true
   },
   "outputs": [],
   "source": []
  },
  {
   "cell_type": "code",
   "execution_count": null,
   "metadata": {
    "collapsed": true
   },
   "outputs": [],
   "source": []
  },
  {
   "cell_type": "code",
   "execution_count": null,
   "metadata": {
    "collapsed": true
   },
   "outputs": [],
   "source": []
  },
  {
   "cell_type": "code",
   "execution_count": null,
   "metadata": {
    "collapsed": true
   },
   "outputs": [],
   "source": []
  },
  {
   "cell_type": "code",
   "execution_count": 97,
   "metadata": {
    "collapsed": true
   },
   "outputs": [],
   "source": [
    "x = binomial_tree.BinomialTree(10)"
   ]
  },
  {
   "cell_type": "code",
   "execution_count": null,
   "metadata": {
    "collapsed": false
   },
   "outputs": [],
   "source": []
  },
  {
   "cell_type": "code",
   "execution_count": 101,
   "metadata": {
    "collapsed": false
   },
   "outputs": [
    {
     "name": "stdout",
     "output_type": "stream",
     "text": [
      "\t\t\t\t\t\t\t\tDDDDDDDD\n",
      "\t\t\t\t\t\t\tDDDDDDD\t\n",
      "\t\t\t\t\t\tDDDDDD\t\tDDDDDDDU\n",
      "\t\t\t\t\tDDDDD\t\tDDDDDDU\t\n",
      "\t\t\t\tDDDD\t\tDDDDDU\t\tDDDDDDUU\n",
      "\t\t\tDDD\t\tDDDDU\t\tDDDDDUU\t\n",
      "\t\tDD\t\tDDDU\t\tDDDDUU\t\tDDDDDUUU\n",
      "\tD\t\tDDU\t\tDDDUU\t\tDDDDUUU\t\n",
      "_\t\tDU\t\tDDUU\t\tDDDUUU\t\tDDDDUUUU\n",
      "\tU\t\tDUU\t\tDDUUU\t\tDDDUUUU\t\n",
      "\t\tUU\t\tDUUU\t\tDDUUUU\t\tDDDUUUUU\n",
      "\t\t\tUUU\t\tDUUUU\t\tDDUUUUU\t\n",
      "\t\t\t\tUUUU\t\tDUUUUU\t\tDDUUUUUU\n",
      "\t\t\t\t\tUUUUU\t\tDUUUUUU\t\n",
      "\t\t\t\t\t\tUUUUUU\t\tDUUUUUUU\n",
      "\t\t\t\t\t\t\tUUUUUUU\t\n",
      "\t\t\t\t\t\t\t\tUUUUUUUU\n",
      "\n",
      "Plotted 8 from 10 steps\n"
     ]
    }
   ],
   "source": [
    "print x\n"
   ]
  },
  {
   "cell_type": "code",
   "execution_count": null,
   "metadata": {
    "collapsed": true
   },
   "outputs": [],
   "source": [
    "aaa"
   ]
  },
  {
   "cell_type": "code",
   "execution_count": 95,
   "metadata": {
    "collapsed": false
   },
   "outputs": [],
   "source": [
    "y = KWFTree(10)"
   ]
  },
  {
   "cell_type": "code",
   "execution_count": 96,
   "metadata": {
    "collapsed": false
   },
   "outputs": [
    {
     "data": {
      "text/plain": [
       "{UUUUUUUUU,\n",
       " DUUUUUUUD,\n",
       " DDDUUUUUD,\n",
       " DUUUUDUUD,\n",
       " DDDDDDDDU,\n",
       " DDDUDDDUU,\n",
       " UUUUUUUUD,\n",
       " DDDDDDDUU,\n",
       " DDDUDUDUU,\n",
       " DDDDDDDDD}"
      ]
     },
     "execution_count": 96,
     "metadata": {},
     "output_type": "execute_result"
    }
   ],
   "source": [
    "y.set_of_nodes"
   ]
  },
  {
   "cell_type": "code",
   "execution_count": null,
   "metadata": {
    "collapsed": true
   },
   "outputs": [],
   "source": []
  },
  {
   "cell_type": "code",
   "execution_count": null,
   "metadata": {
    "collapsed": true
   },
   "outputs": [],
   "source": []
  },
  {
   "cell_type": "code",
   "execution_count": null,
   "metadata": {
    "collapsed": true
   },
   "outputs": [],
   "source": []
  },
  {
   "cell_type": "code",
   "execution_count": null,
   "metadata": {
    "collapsed": true
   },
   "outputs": [],
   "source": []
  },
  {
   "cell_type": "markdown",
   "metadata": {},
   "source": [
    "#### TODO:\n",
    "- Apresentar os principais pontos da abordagem (hipóteses, limitações e etc)\n",
    "- Implementar\n",
    "- detalhar o processo de calibração (juros e vol)\n",
    "- Detalhar a determiação dos parâmetros do modelo ($\\sigma$)\n",
    "- Checar se tem base de dados de opções (Call Européia) de Juros\n",
    "- Levantar os preços histórico dos títulos: NTB...\n",
    "- Demonstrar a precificação de 2 derivativos mais complexos (opcional compara com mercado)\n"
   ]
  },
  {
   "cell_type": "code",
   "execution_count": 1,
   "metadata": {
    "collapsed": false
   },
   "outputs": [
    {
     "data": {
      "text/plain": [
       "[1, 2, 3, 4, 5]"
      ]
     },
     "execution_count": 1,
     "metadata": {},
     "output_type": "execute_result"
    }
   ],
   "source": [
    "[1, 2, 3, 4, 5]"
   ]
  },
  {
   "cell_type": "code",
   "execution_count": null,
   "metadata": {
    "collapsed": true
   },
   "outputs": [],
   "source": [
    "{1: [1], 2:[2, 2], 3:[3, 3, 3]}"
   ]
  },
  {
   "cell_type": "code",
   "execution_count": null,
   "metadata": {
    "collapsed": true
   },
   "outputs": [],
   "source": []
  },
  {
   "cell_type": "code",
   "execution_count": null,
   "metadata": {
    "collapsed": true
   },
   "outputs": [],
   "source": [
    "class kwf_model(object):\n",
    "    '''\n",
    "    '''\n",
    "    def __init__(self, l_prices, l_maturity, f_sigma, ll_cupon=[])\n",
    "        '''\n",
    "        Implements the kwf model\n",
    "        :param l_prices: list. Market Prices\n",
    "        :param l_maturity: list. The maturirity in year of the contracts\n",
    "        :param f_sigma. float. The volatility of the \n",
    "        :*ll_cupon: list of lists. The cupons of each instrument\n",
    "        '''\n",
    "        self.l_prices = l_prices\n",
    "        self.l_maturity = l_maturity\n",
    "        self.f_sigma = f_sigma\n",
    "        sefl.ll_cupon = ll_cupon\n",
    "        self.d_forward = self.fit_curve()\n",
    "\n",
    "    def fit_curve(self):\n",
    "        '''\n",
    "        Return the forwards that fit the market curve\n",
    "        '''\n",
    "        raise NotImplementedError()\n",
    "        return d_rtn\n",
    "\n",
    "    \n",
    "class Bond(object):\n",
    "    '''\n",
    "    '''\n",
    "    def __init__(self, f_cupon, f_face_value):\n",
    "        '''\n",
    "        '''\n",
    "        raise NotImplementedError()\n",
    "\n",
    "    def get_value(self, o_kwf_model):\n",
    "        '''\n",
    "        '''\n",
    "        raise NotImplementedError()\n",
    "        return f_rtn\n"
   ]
  },
  {
   "cell_type": "code",
   "execution_count": null,
   "metadata": {
    "collapsed": true
   },
   "outputs": [],
   "source": [
    "l_prices = [0.035, 0.04, 0.045]\n",
    "l_maturity = [1., 2., 3.]\n",
    "f_sigma = 0.1\n",
    "\n",
    "\n",
    "my_curve = kwf_model(l_prices, l_maturity, f_sigma)"
   ]
  },
  {
   "cell_type": "code",
   "execution_count": null,
   "metadata": {
    "collapsed": true
   },
   "outputs": [],
   "source": [
    "mybond = Bond(0.045, 100.)\n",
    "mybond.get_value(my_curve)  # retorna preco"
   ]
  },
  {
   "cell_type": "code",
   "execution_count": null,
   "metadata": {
    "collapsed": true
   },
   "outputs": [],
   "source": []
  },
  {
   "cell_type": "code",
   "execution_count": null,
   "metadata": {
    "collapsed": true
   },
   "outputs": [],
   "source": []
  },
  {
   "cell_type": "code",
   "execution_count": null,
   "metadata": {
    "collapsed": true
   },
   "outputs": [],
   "source": []
  },
  {
   "cell_type": "code",
   "execution_count": null,
   "metadata": {
    "collapsed": true
   },
   "outputs": [],
   "source": []
  },
  {
   "cell_type": "markdown",
   "metadata": {},
   "source": [
    "## 2. Bla\n",
    "\n",
    "bla bla\n",
    "\n",
    "### 2.1. Bla\n",
    "\n",
    "bla bla"
   ]
  },
  {
   "cell_type": "code",
   "execution_count": null,
   "metadata": {
    "collapsed": true
   },
   "outputs": [],
   "source": []
  },
  {
   "cell_type": "code",
   "execution_count": null,
   "metadata": {
    "collapsed": true
   },
   "outputs": [],
   "source": []
  },
  {
   "cell_type": "code",
   "execution_count": null,
   "metadata": {
    "collapsed": true
   },
   "outputs": [],
   "source": []
  },
  {
   "cell_type": "code",
   "execution_count": null,
   "metadata": {
    "collapsed": true
   },
   "outputs": [],
   "source": []
  },
  {
   "cell_type": "markdown",
   "metadata": {},
   "source": [
    "## 3. Conclusão\n",
    "\n",
    "bla bla\n",
    "\n",
    "## 4. Últimas Considerações\n",
    "\n",
    "bla bla"
   ]
  },
  {
   "cell_type": "code",
   "execution_count": null,
   "metadata": {
    "collapsed": true
   },
   "outputs": [],
   "source": []
  },
  {
   "cell_type": "code",
   "execution_count": null,
   "metadata": {
    "collapsed": true
   },
   "outputs": [],
   "source": []
  },
  {
   "cell_type": "code",
   "execution_count": null,
   "metadata": {
    "collapsed": true
   },
   "outputs": [],
   "source": []
  },
  {
   "cell_type": "code",
   "execution_count": null,
   "metadata": {
    "collapsed": true
   },
   "outputs": [],
   "source": []
  },
  {
   "cell_type": "code",
   "execution_count": null,
   "metadata": {
    "collapsed": true
   },
   "outputs": [],
   "source": []
  },
  {
   "cell_type": "markdown",
   "metadata": {},
   "source": [
    "*Style notebook and change matplotlib defaults*"
   ]
  },
  {
   "cell_type": "code",
   "execution_count": 1,
   "metadata": {
    "collapsed": false
   },
   "outputs": [
    {
     "data": {
      "text/html": [
       "<style>\n",
       "    @font-face {\n",
       "        font-family: \"Computer Modern\";\n",
       "        src: url('http://9dbb143991406a7c655e-aa5fcb0a5a4ec34cff238a2d56ca4144.r56.cf5.rackcdn.com/cmunss.otf');\n",
       "    }\n",
       "    @font-face {\n",
       "        font-family: \"Computer Modern\";\n",
       "        font-weight: bold;\n",
       "        src: url('http://9dbb143991406a7c655e-aa5fcb0a5a4ec34cff238a2d56ca4144.r56.cf5.rackcdn.com/cmunsx.otf');\n",
       "    }\n",
       "    @font-face {\n",
       "        font-family: \"Computer Modern\";\n",
       "        font-style: oblique;\n",
       "        src: url('http://9dbb143991406a7c655e-aa5fcb0a5a4ec34cff238a2d56ca4144.r56.cf5.rackcdn.com/cmunsi.otf');\n",
       "    }\n",
       "    @font-face {\n",
       "        font-family: \"Computer Modern\";\n",
       "        font-weight: bold;\n",
       "        font-style: oblique;\n",
       "        src: url('http://9dbb143991406a7c655e-aa5fcb0a5a4ec34cff238a2d56ca4144.r56.cf5.rackcdn.com/cmunso.otf');\n",
       "    }\n",
       "    div.cell{\n",
       "        width:800px;\n",
       "        margin-left:16% !important;\n",
       "        margin-right:auto;\n",
       "    }\n",
       "    h1 {\n",
       "        font-family: Helvetica, serif;\n",
       "    }\n",
       "    h4{\n",
       "        margin-top:12px;\n",
       "        margin-bottom: 3px;\n",
       "       }\n",
       "    div.text_cell_render{\n",
       "        font-family: Computer Modern, \"Helvetica Neue\", Arial, Helvetica, Geneva, sans-serif;\n",
       "        line-height: 145%;\n",
       "        font-size: 130%;\n",
       "        width:800px;\n",
       "        margin-left:auto;\n",
       "        margin-right:auto;\n",
       "    }\n",
       "    .CodeMirror{\n",
       "            font-family: \"Source Code Pro\", source-code-pro,Consolas, monospace;\n",
       "    }\n",
       "    .prompt{\n",
       "        display: None;\n",
       "    }\n",
       "    .text_cell_render h5 {\n",
       "        font-weight: 300;\n",
       "        font-size: 22pt;\n",
       "        color: #4057A1;\n",
       "        font-style: italic;\n",
       "        margin-bottom: .5em;\n",
       "        margin-top: 0.5em;\n",
       "        display: block;\n",
       "    }\n",
       "\n",
       "    .warning{\n",
       "        color: rgb( 240, 20, 20 )\n",
       "        }\n",
       "</style>\n",
       "\n",
       "\n",
       "\n",
       "<style>\n",
       "    table {\n",
       "        overflow:hidden;\n",
       "        font-family: Computer Modern, \"Helvetica Neue\", Arial, Helvetica, Geneva, sans-serif;\n",
       "        font-size: 12px;\n",
       "        margin: 10px;\n",
       "        width: 480px;\n",
       "        text-align: left;\n",
       "        border-collapse: collapse;\n",
       "        border: 1px solid #d3d3d3;\n",
       "        -moz-border-radius:5px; FF1+;\n",
       "        -webkit-border-radius:5px; Saf3-4;\n",
       "        border-radius:5px;\n",
       "        -moz-box-shadow: 0 0 4px rgba(0, 0, 0, 0.01);\n",
       "    }\n",
       "    th\n",
       "    {\n",
       "        padding: 12px 17px 12px 17px;\n",
       "        font-weight: normal;\n",
       "        font-size: 14px;\n",
       "        border-bottom: 1px dashed #69c;\n",
       "    }\n",
       "\n",
       "    td\n",
       "    {\n",
       "        padding: 7px 17px 7px 17px;\n",
       "\n",
       "    }\n",
       "\n",
       "    tbody tr:hover th\n",
       "    {\n",
       "\n",
       "        background:  #E9E9E9;\n",
       "    }\n",
       "\n",
       "    tbody tr:hover td\n",
       "    {\n",
       "\n",
       "        background:  #E9E9E9;\n",
       "    }\n",
       "\n",
       "</style>\n",
       "\n",
       "<script>\n",
       "    MathJax.Hub.Config({\n",
       "                        TeX: {\n",
       "                           extensions: [\"AMSmath.js\"]\n",
       "                           },\n",
       "                tex2jax: {\n",
       "                    inlineMath: [ ['$','$'], [\"\\\\(\",\"\\\\)\"] ],\n",
       "                    displayMath: [ ['$$','$$'], [\"\\\\[\",\"\\\\]\"] ]\n",
       "                },\n",
       "                displayAlign: 'center', // Change this to 'center' to center equations.\n",
       "                \"HTML-CSS\": {\n",
       "                    styles: {'.MathJax_Display': {\"margin\": 4}}\n",
       "                }\n",
       "        });\n",
       "</script>\n"
      ],
      "text/plain": [
       "<IPython.core.display.HTML object>"
      ]
     },
     "execution_count": 1,
     "metadata": {},
     "output_type": "execute_result"
    }
   ],
   "source": [
    "#loading style sheet\n",
    "from IPython.core.display import HTML\n",
    "HTML(open('ipython_style.css').read())"
   ]
  },
  {
   "cell_type": "code",
   "execution_count": 2,
   "metadata": {
    "collapsed": false
   },
   "outputs": [],
   "source": [
    "#changing matplotlib defaults\n",
    "%matplotlib inline\n",
    "import seaborn as sns\n",
    "sns.set_palette(\"deep\", desat=.6)\n",
    "sns.set_context(rc={\"figure.figsize\": (8, 4)})\n",
    "sns.set_style(\"whitegrid\")\n",
    "sns.set_palette(sns.color_palette(\"PuBuGn_d\", 10))"
   ]
  },
  {
   "cell_type": "code",
   "execution_count": null,
   "metadata": {
    "collapsed": true
   },
   "outputs": [],
   "source": []
  }
 ],
 "metadata": {
  "kernelspec": {
   "display_name": "Python 2",
   "language": "python",
   "name": "python2"
  },
  "language_info": {
   "codemirror_mode": {
    "name": "ipython",
    "version": 2
   },
   "file_extension": ".py",
   "mimetype": "text/x-python",
   "name": "python",
   "nbconvert_exporter": "python",
   "pygments_lexer": "ipython2",
   "version": "2.7.11"
  }
 },
 "nbformat": 4,
 "nbformat_minor": 0
}
