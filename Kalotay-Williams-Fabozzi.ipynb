{
 "cells": [
  {
   "cell_type": "markdown",
   "metadata": {},
   "source": [
    "# Derivativos de Taxa de Juros\n",
    "## Modelo de Kalotay-Williams-Fabozzi\n",
    "\n",
    "Renato Mori, Uirá Caiado. 19 de Junho, 2016"
   ]
  },
  {
   "cell_type": "markdown",
   "metadata": {},
   "source": [
    "**Resumo**\n",
    "\n",
    "*Neste projeto vamos implementar um modelo de um fator chamado [Kalotay-Williams-Fabozzi](https://en.wikipedia.org/wiki/Short-rate_model#One-factor_short-rate_models), onde apenas um único fator estocástico - a taxa de juros instantânea - determina a evolução de toda estrutura a termo da taxa de juros. Vamos descrever brevemente o modelo, detalhar sua implementação, estimar seus parâmetros e demonstrar sua utilização para precificação de alguns títulos que sejam possíveis de compara com preços de mercado.*"
   ]
  },
  {
   "cell_type": "markdown",
   "metadata": {},
   "source": [
    "## 1. Introdução\n",
    "\n",
    "Nesta sessão vamos introduzir o modelo discutido neste trabalho e descrever o problema que será abordado aqui.\n",
    "\n",
    "\n",
    "### 1.1. Modelagem da Curva de Juros\n",
    "\n",
    "Como colocado por Fabozzi, a Taxa de Juros frequentemente é modelada usando equações diferenciais estocásticas ([SDEs](https://en.wikipedia.org/wiki/Stochastic_differential_equation) é a abreviação em inglês). Os modelos mais comumente utilizados são os modelos de um ou dois fatores (estocástios), sendo que o de um usa uma SDE para representar a taxa de juros de curto prazo e a segunda representa tanto a taxa de curto como a de longo prazo. Na dinâmica escolhida para o modelo que deve ser refletidas as características desejadas para a curva, como reversão a média e volatilidade dependente do nível da taxa.\n",
    "\n",
    "Existe duas abordagens para na utilizaçtão de equações estocásticas na modelagem da curva a termo de juros: modelos de equilibrio e modelos de não arbitragem, sendo que ambos são usados para precificar *Bonds* e derivativos sobre taxa de juros.\n",
    "\n",
    "Modelos de equilíbrio começam com uma SDE e desenvolvem uma estrutura que não necessariamente correspondem aos preços observados no mercado. Alguns exemplos de modelos desta classe são o Vasicek, Brenna and Schwartz e o Cox, Ingersoll and Ross.\n",
    "\n",
    "Os modelos de não arbitragem também utilizam uma SDE, porém usam os preços de mercado para gerar os caminhos possíveis para taxa de juros. Esta estrutura segue as características impostas pela SDE as taxas de juros encontradas, quando usadas para precificar um bond qualquer, resultam na mesma taxa de juros observada no mercado. Exemplos são o Ho and Lee, Black, Derman and Toy e o Hull and White.\n",
    "\n",
    "Os modelos de não arbitragem geralmente são escolhidos para precificação de Bonds e derivativos pois garantem que as taxas atuais correspondam ao mercado. Este trabalgho explorará um modelo de não arbitragem chamado Kalotay-Williams-Fabozzi.\n",
    "\n",
    "### 1.2. Modelo Kalotay-Williams-Fabozzi\n",
    "\n",
    "O modelo Kalotay-Williams-Fabozzi (KWF) assume que as mudanças na taxa de juros de curto prazo segue um certo [processo estocástico](https://en.wikipedia.org/wiki/Stochastic_process) que pode ser descrito pela seguinte SDE:\n",
    "\n",
    "$$ \\mathrm{d} \\ln \\left (  r(t) \\right ) = \\theta(t) \\mathrm{d} t + \\sigma\\mathrm{d}Z$$\n",
    "\n",
    "Onde $Z$ é um processo de [Wiener](https://en.wikipedia.org/wiki/Wiener_process), $\\theta$ é o *drift* do processo e $\\sigma$ é a volatilidade da primeira diferença das taxas de curto prazo.  Como o que a equação descreve é a dinâmica do **logarítimo natural** de taxa $r$; e $W$ tem distribuição normal, o $\\ln(r)$ terá distribuição normal e o $r$, log normal. Desta maneira, embora $\\ln(r)$ possa assumir valores negativos, $r$ não assumirá.\n",
    "\n",
    "No trabalho original em que o modelo KWF foi apresentado, os autores não incluiram explicitamente o *drift* na dinâmica do processo na modelagem e, por tanto, também não utilizaremos ele aqui. Assim, assumindo $\\theta=0$, integrando ambos os lados da SDE, chamando $\\ln(r)$ de $f(t)$ e sabendo que $W_t - W_s = W_{t-s}$, ficamos com:\n",
    "\n",
    "\\begin{equation}\n",
    "    \\begin{aligned}\n",
    "    \\int_{t}^{T}{\\mathrm{d} f(t)} &=  \\sigma \\int_{t}^{T}{\\mathrm{d}W_{t}} \\\\\n",
    "    f(T) - f(t) &= \\sigma \\left (  W_{T} - W_{t} \\right ) \\\\\n",
    "    \\ln \\left (  r(T) \\right ) - \\ln \\left (  r(t) \\right ) &= \\sigma \\left (  W_{T} - W_{t} \\right )\\\\\n",
    "    r(T) &= r(t) \\cdot e^{\\sigma \\cdot W_{T-t}}\n",
    "    \\end{aligned}\n",
    "\\end{equation}\n",
    "\n",
    "Na proxima seção, discretizaremos este processo e implementaremos este modelo."
   ]
  },
  {
   "cell_type": "markdown",
   "metadata": {},
   "source": [
    "## 2. Implementando o Modelo\n",
    "\n",
    "Nesta sessão detalharemos e implementaremos o modelo utilizando como referência o artigo original e calibraremos ele para que bata com os dados de mercado.\n",
    "\n",
    "### 2.1. Aproximação da SDE por Árvore Binomial\n",
    "\n",
    "As equações diferenciais estocásticas podem ter sua solução aproximada numericamente utilizando uma árvore binomial. Este método assume que a taxa de juros de curto prazo pode assumir apenas dois valores no período seguinte da discretização, $r_{u}$ ou $r_{d}$, onde $r_{u} > r_{d}$. Como cada nó da árvore dá origem à dois novos nós, a medida que se aumenta os passos de discretização, o número de nós aumenta rapidamente, resultando em uma árvore com $2^{\\,\\,passos-1}$ nós no último passo da árvore, cado um representando uma evolução específica da taxa.\n",
    "\n",
    "Para evitar este crescimento exponencial, é imposto ao modelo que a árvore seja recombinante, ou seja, um movimento de subida seguido por uma queda resulta no mesmo nó de uma queda seguida de uma alta. Isto reduz a árvore para a ter a mesma quantidade de nós que tem de passos no último estágio. Um movimento de alta na taxa de juros tem probabilidade $q$ de ocorrer, enquanto um de queda tem probabilidade de $1 - q$. Combinando cada nó com sua respectiva probabilidade, esta árvore é eqivalente à árvore não recombinante. \n",
    "\n",
    "Utilizaremos probabilidade de $q=0.5$ para garantir a neutralidade a risco na solução da SDE. É importante frisar que isso não implica na probabilidade real da taxa de juros cair. A probabilidade $q$ representa apenas a probabilidade no mundo [*neutro a risco*](https://en.wikipedia.org/wiki/Risk-neutral_measure). Abaixo, vamos testar a estrtutura criada para representar uma árvore binomial. Como será demonstrado, o total de nós criados é equivalente a $\\sum_{i=1}^{n+1}{i}$, onde $n$ é a quantidade de passos."
   ]
  },
  {
   "cell_type": "code",
   "execution_count": 1,
   "metadata": {
    "collapsed": false
   },
   "outputs": [],
   "source": [
    "# bibliotecas necessarias\n",
    "import numpy as np\n",
    "import math\n",
    "import pandas as pd\n",
    "import seaborn as sns\n",
    "import matplotlib.pylab as plt"
   ]
  },
  {
   "cell_type": "code",
   "execution_count": 5,
   "metadata": {
    "collapsed": false
   },
   "outputs": [
    {
     "name": "stdout",
     "output_type": "stream",
     "text": [
      "Tempo para inicar toda a arvore: \n",
      "- Com 10 passos: Criados 66 nós em 0.00 segundos\n",
      "- Com 100 passos: Criados 5,151 nós em 0.10 segundos\n",
      "- Com 250 passos: Criados 31,626 nós em 0.51 segundos\n",
      "- Com 500 passos: Criados 125,751 nós em 2.24 segundos\n",
      "- Com 1000 passos: Criados 501,501 nós em 10.10 segundos\n"
     ]
    }
   ],
   "source": [
    "import time\n",
    "import binomial_tree; reload(binomial_tree);\n",
    "\n",
    "def foo(i):\n",
    "    f_start = time.time()\n",
    "    x = binomial_tree.BinomialTree(i)\n",
    "    x._go_foward(i)\n",
    "    i_rtn = len(x.set_of_nodes)\n",
    "    return i_rtn, time.time() - f_start\n",
    "\n",
    "print \"Tempo para inicar toda a arvore: \"\n",
    "for i in [10, 100, 250, 500, 1000]:\n",
    "    # mais de 1000 nodes trava\n",
    "    i_nodes, f_time = foo(i)\n",
    "    print u\"- Com {} passos: Criados {:0,.0f} nós em {:.2f} segundos\".format(i, i_nodes, f_time)"
   ]
  },
  {
   "cell_type": "markdown",
   "metadata": {},
   "source": [
    "A propriedade da recombinação pode ser visualizada no diagrama abaixo:"
   ]
  },
  {
   "cell_type": "code",
   "execution_count": 6,
   "metadata": {
    "collapsed": false
   },
   "outputs": [
    {
     "name": "stdout",
     "output_type": "stream",
     "text": [
      "Primeiros passos da arvore criada:\n",
      "========================================\n",
      "\n",
      "\n",
      "\t\t\t\t\t\t\t\tUUUUUUUU\n",
      "\t\t\t\t\t\t\tUUUUUUU\t\n",
      "\t\t\t\t\t\tUUUUUU\t\tDUUUUUUU\n",
      "\t\t\t\t\tUUUUU\t\tDUUUUUU\t\n",
      "\t\t\t\tUUUU\t\tDUUUUU\t\tDDUUUUUU\n",
      "\t\t\tUUU\t\tDUUUU\t\tDDUUUUU\t\n",
      "\t\tUU\t\tDUUU\t\tDDUUUU\t\tDDDUUUUU\n",
      "\tU\t\tDUU\t\tDDUUU\t\tDDDUUUU\t\n",
      "_\t\tDU\t\tDDUU\t\tDDDUUU\t\tDDDDUUUU\n",
      "\tD\t\tDDU\t\tDDDUU\t\tDDDDUUU\t\n",
      "\t\tDD\t\tDDDU\t\tDDDDUU\t\tDDDDDUUU\n",
      "\t\t\tDDD\t\tDDDDU\t\tDDDDDUU\t\n",
      "\t\t\t\tDDDD\t\tDDDDDU\t\tDDDDDDUU\n",
      "\t\t\t\t\tDDDDD\t\tDDDDDDU\t\n",
      "\t\t\t\t\t\tDDDDDD\t\tDDDDDDDU\n",
      "\t\t\t\t\t\t\tDDDDDDD\t\n",
      "\t\t\t\t\t\t\t\tDDDDDDDD\n",
      "\n",
      "Plotted 8 from 12 steps\n"
     ]
    }
   ],
   "source": [
    "import binomial_tree; reload(binomial_tree);\n",
    "x = binomial_tree.BinomialTree(12)\n",
    "x._go_foward(12)\n",
    "print 'Primeiros passos da arvore criada:\\n========================================\\n\\n'\n",
    "print x"
   ]
  },
  {
   "cell_type": "markdown",
   "metadata": {},
   "source": [
    "### 2.2. Discretização o Modelo\n",
    "\n",
    "Como pode ser visto no diagrama acima, a taxa $r_U$ está sempre $2$ nós distante da taxa $r_D$  (há um nó vazio entre elas). Como a dinâmica proposta é dinâmica $r(T) = r(t) \\cdot e^{\\sigma \\cdot W_{T-t}}$, considerando que já possuímos o nó mais baixo, se utilizarmos $r_D$ como *proxy*, a taxa logo acima dela será $r_U=r_D\\, e ^{\\,2\\sigma}$, onde $\\sigma$ é a volatilidade constante da taxa [*forward*](http://www.investopedia.com/terms/f/forwardrate.asp) de um ano.\n",
    "\n",
    "```\n",
    "TODO: melhorar esse boloco. Preciso explicar ajuste proposto pelo Renato\n",
    "```\n",
    "\n",
    "Assim o modelo segue de maneira bem direta: itera os nós mais baixos de maneira que, ao atualizar os nós acima no mesmo passo e trazer o valor de um bond hipotético a valor presente, o preço seja seja markoviado, ou seja, que $E\\,[\\,X_{t+1}] = X_t$. A iteração foi feita chutando valores ao redor de um ponto inicial (o juros de mercado) e minimizando os [erros quadrados](http://docs.scipy.org/doc/scipy/reference/generated/scipy.optimize.leastsq.html) entre os preços encontrados pelo modelo e o preço observado no mercado."
   ]
  },
  {
   "cell_type": "code",
   "execution_count": 7,
   "metadata": {
    "collapsed": false
   },
   "outputs": [
    {
     "name": "stdout",
     "output_type": "stream",
     "text": [
      "\t\t\tUUU\n",
      "\t\tUU\t\n",
      "\tU\t\tDUU\n",
      "_\t\tDU\t\n",
      "\tD\t\tDDU\n",
      "\t\tDD\t\n",
      "\t\t\tDDD\n",
      "\n"
     ]
    }
   ],
   "source": [
    "# dados originais do paper\n",
    "import binomial_tree; reload(binomial_tree)\n",
    "l_txindicativa = [0.035, 0.04, 0.045]\n",
    "l_prazo = [1., 2., 3.]\n",
    "\n",
    "my_tree = binomial_tree.KWFTree(l_txindicativa, l_prazo)\n",
    "my_tree.fit_foward_curve(f_sigma=0.1, f_faceval=100.)\n",
    "print my_tree"
   ]
  },
  {
   "cell_type": "code",
   "execution_count": 8,
   "metadata": {
    "collapsed": false
   },
   "outputs": [
    {
     "name": "stdout",
     "output_type": "stream",
     "text": [
      "                 cupon     valor     taxa      prazo     venc      sigma     \n",
      "_                 0.00   100.000     3.500    1.0000    0.0000    0.0000\n",
      "D                 4.50    99.926     4.074    1.0000    1.0000   10.0000\n",
      "U                 4.50    98.074     4.976    1.0000    1.0000   10.0000\n",
      "DD                4.50    99.972     4.530    1.0000    2.0000   10.0000\n",
      "DU                4.50    99.022     5.532    1.0000    2.0000   10.0000\n",
      "UU                4.50    97.886     6.757    1.0000    2.0000   10.0000\n",
      "DDD               4.50   100.000     0.000    1.0000    3.0000    0.0000\n",
      "DDU               4.50   100.000     0.000    1.0000    3.0000    0.0000\n",
      "DUU               4.50   100.000     0.000    1.0000    3.0000    0.0000\n",
      "UUU               4.50   100.000     0.000    1.0000    3.0000    0.0000\n"
     ]
    }
   ],
   "source": [
    "my_tree.get_description()"
   ]
  },
  {
   "cell_type": "markdown",
   "metadata": {},
   "source": [
    "Onde as taxas nos pontos D, DD e DDD foram obtidas por iteração. Utilizando a curva obtida acima, pode-se então calcular o preço de um bond hipotético que vale $\\$\\,100$ no vencimento e paga cupons de $\\$\\,5.25$ por ano."
   ]
  },
  {
   "cell_type": "code",
   "execution_count": 9,
   "metadata": {
    "collapsed": false
   },
   "outputs": [
    {
     "name": "stdout",
     "output_type": "stream",
     "text": [
      "Preço do Bond: 102.07\n"
     ]
    }
   ],
   "source": [
    "import instruments; reload(instruments);\n",
    "bond_example = instruments.Bond(f_face_value=100., f_cupon=5.25)\n",
    "print \"Preço do Bond: {:.2f}\".format(bond_example.get_current_value(my_tree, 3))"
   ]
  },
  {
   "cell_type": "markdown",
   "metadata": {},
   "source": [
    "Abaixo realizamos o mesmo procedimento para fitar uma curva de LTNs. Utilizamos como referência os preços dos bonds no dia $13$ de Junho, que foram levantados pelo site da [ANBIMA](http://portal.anbima.com.br/Pages/home.aspx). Utilizamos $12$ vértices no total. O juros de um nó para outro e a volatilidade foram ajustados ao vencimento de cada ponto. Primeiro, vamos checar quanto temo a estrtutura criada leva para se ajustar aos vértices passados, utilizando bons hipotéticos com cupons nos juros de cada vértice."
   ]
  },
  {
   "cell_type": "code",
   "execution_count": 10,
   "metadata": {
    "collapsed": false
   },
   "outputs": [],
   "source": [
    "import binomial_tree; reload(binomial_tree)\n",
    "import pandas as pd\n",
    "# definindo parametros\n",
    "l_txindicativa = [14.152, 14.0265, 13.7596, 13.4663, 13.1995,\n",
    "                  12.9729, 12.8001, 12.7250, 12.6541, 12.5649,\n",
    "                  12.5653, 12.6005]\n",
    "l_prazo = [9., 74., 136., 199., 260., 324., 385., 446., 509, 635., 758., 888.]\n",
    "l_txindicativa = [x/100. for x in l_txindicativa]"
   ]
  },
  {
   "cell_type": "code",
   "execution_count": 11,
   "metadata": {
    "collapsed": false
   },
   "outputs": [
    {
     "name": "stdout",
     "output_type": "stream",
     "text": [
      "1 loop, best of 3: 603 ms per loop\n"
     ]
    }
   ],
   "source": [
    "# testa tempo\n",
    "def foo():\n",
    "    my_tree = binomial_tree.KWFTree([x for x in l_txindicativa],\n",
    "                                    [x/252. for x in l_prazo])\n",
    "    my_tree.fit_foward_curve(f_sigma=0.1)\n",
    "    \n",
    "%timeit foo()"
   ]
  },
  {
   "cell_type": "code",
   "execution_count": 66,
   "metadata": {
    "collapsed": false
   },
   "outputs": [],
   "source": [
    "#cria arvore\n",
    "import binomial_tree; reload(binomial_tree)\n",
    "my_tree = binomial_tree.KWFTree([x for x in l_txindicativa],\n",
    "                                [x/252. for x in l_prazo])\n",
    "my_tree.fit_foward_curve(f_sigma=0.1, f_faceval=1000.)"
   ]
  },
  {
   "cell_type": "code",
   "execution_count": 25,
   "metadata": {
    "collapsed": false
   },
   "outputs": [
    {
     "name": "stdout",
     "output_type": "stream",
     "text": [
      "                 cupon     valor     taxa      prazo     venc      sigma     \n",
      "_                 0.00  1000.000    14.152    0.0357    0.0000    0.0000\n",
      "D                 4.25  1032.765    12.622    0.0357    0.0357   10.0000\n",
      "U                 4.25   968.216    15.417    0.0357    0.0357   10.0000\n",
      "DD               31.08  1062.316    10.907    0.2579    0.2937   10.0000\n",
      "DU               31.08  1005.360    13.321    0.2579    0.2937   10.0000\n",
      "UU               31.08   941.862    16.271    0.2579    0.2937   10.0000\n",
      "DDD              29.63  1084.957     9.373    0.2460    0.5397   10.0000\n",
      "DDU              29.63  1035.224    11.448    0.2460    0.5397   10.0000\n",
      "DUU              29.63   979.065    13.983    0.2460    0.5397   10.0000\n",
      "UUU              29.63   916.580    17.079    0.2460    0.5397   10.0000\n",
      "DDDD             30.11  1100.834     8.103    0.2500    0.7897   10.0000\n",
      "...\n"
     ]
    }
   ],
   "source": [
    "my_tree.get_description()"
   ]
  },
  {
   "cell_type": "markdown",
   "metadata": {},
   "source": [
    "Com a curva ajustada, vamos calcular os preços atuais de zeros-cupons que tem principal de $\\$\\,1.000$ para cada um dos vértices e comparar com os seguintes PUs:"
   ]
  },
  {
   "cell_type": "code",
   "execution_count": 26,
   "metadata": {
    "collapsed": false
   },
   "outputs": [
    {
     "name": "stdout",
     "output_type": "stream",
     "text": [
      "PU do prazo    9: 995.28\n",
      "PU do prazo   74: 962.19\n",
      "PU do prazo  136: 932.79\n",
      "PU do prazo  199: 905.05\n",
      "PU do prazo  260: 879.93\n",
      "PU do prazo  324: 854.85\n",
      "PU do prazo  385: 831.92\n",
      "PU do prazo  446: 808.97\n",
      "PU do prazo  509: 786.10\n",
      "PU do prazo  635: 742.12\n",
      "PU do prazo  758: 700.45\n",
      "PU do prazo  888: 658.24\n"
     ]
    }
   ],
   "source": [
    "for f_r, f_prazo in zip(l_txindicativa, l_prazo):\n",
    "    f_aux = 1000./(1+f_r)**(f_prazo/252.)\n",
    "    print \"PU do prazo {:4.0f}: {:.2f}\".format(f_prazo, f_aux)"
   ]
  },
  {
   "cell_type": "code",
   "execution_count": 27,
   "metadata": {
    "collapsed": false
   },
   "outputs": [
    {
     "name": "stdout",
     "output_type": "stream",
     "text": [
      "1: 995.28\n",
      "2: 962.19\n",
      "3: 932.81\n",
      "4: 905.13\n",
      "5: 880.12\n",
      "6: 855.17\n",
      "7: 832.39\n",
      "8: 809.52\n",
      "9: 786.74\n",
      "10: 742.89\n",
      "11: 701.18\n",
      "12: 658.79\n"
     ]
    }
   ],
   "source": [
    "# calcula precos dos bonds\n",
    "import instruments; reload(instruments);\n",
    "bond_example = instruments.Bond(f_face_value=1000., f_cupon=0.)\n",
    "for i in xrange(1, 13):\n",
    "    print \"{}: {:5.2f}\".format(i, bond_example.get_current_value(my_tree, i_steps=i))"
   ]
  },
  {
   "cell_type": "markdown",
   "metadata": {
    "collapsed": false
   },
   "source": [
    "Como observado, os valores ficam muito próximos, porém ainda não condizem com os valores de mercado. Para garantir que o modelo convirja para os preços desejados, ao invés de calcularmos um bond hipotético que paga cupons para fazermos a aproximação, como feito no paper, faremos com um zero cupon e imporemos que o modelo se iguale os PUs originais."
   ]
  },
  {
   "cell_type": "code",
   "execution_count": 69,
   "metadata": {
    "collapsed": false
   },
   "outputs": [
    {
     "name": "stdout",
     "output_type": "stream",
     "text": [
      "                 cupon     valor     taxa      prazo     venc      sigma     \n",
      "_                 0.00   658.236    14.152    0.0357    0.0000    0.0000\n",
      "D                 0.00   666.684    13.959    0.0357    0.0357    0.3571\n",
      "U                 0.00   656.026    14.059    0.0357    0.0357    0.3571\n",
      "DD                0.00   694.906    13.051    0.2579    0.2937    1.4683\n",
      "DU                0.00   684.169    13.439    0.2579    0.2937    1.4683\n",
      "UU                0.00   673.166    13.840    0.2579    0.2937    1.4683\n",
      "DDD               0.00   721.363    12.157    0.2460    0.5397    1.7989\n",
      "DDU               0.00   711.032    12.602    0.2460    0.5397    1.7989\n",
      "DUU               0.00   700.423    13.064    0.2460    0.5397    1.7989\n",
      "UUU               0.00   689.536    13.542    0.2460    0.5397    1.7989\n",
      "DDDD              0.00   747.234    11.390    0.2500    0.7897    1.9742\n",
      "...\n"
     ]
    }
   ],
   "source": [
    "#cria arvore\n",
    "import binomial_tree; reload(binomial_tree)\n",
    "my_tree = binomial_tree.KWFTreePU([x for x in l_txindicativa],\n",
    "                                [x/252. for x in l_prazo])\n",
    "my_tree.fit_foward_curve(f_sigma=0.1, f_faceval=1000.)\n",
    "my_tree.get_description()"
   ]
  },
  {
   "cell_type": "code",
   "execution_count": 70,
   "metadata": {
    "collapsed": false
   },
   "outputs": [
    {
     "name": "stdout",
     "output_type": "stream",
     "text": [
      "1: 995.28\n",
      "2: 962.19\n",
      "3: 932.79\n",
      "4: 905.05\n",
      "5: 879.93\n",
      "6: 854.85\n",
      "7: 831.92\n",
      "8: 808.97\n",
      "9: 786.10\n",
      "10: 742.12\n",
      "11: 700.45\n",
      "12: 658.24\n"
     ]
    }
   ],
   "source": [
    "bond_example = instruments.Bond(f_face_value=1000., f_cupon=0.)\n",
    "for i in xrange(1, 13):\n",
    "    print \"{}: {:5.2f}\".format(i, bond_example.get_current_value(my_tree, i_steps=i))"
   ]
  },
  {
   "cell_type": "markdown",
   "metadata": {},
   "source": [
    "### 2.3. Por que Árvores Binomiais Funcionam ?"
   ]
  },
  {
   "cell_type": "markdown",
   "metadata": {},
   "source": [
    "É interessante notar que os modelos de árvore binomial, de maneira geral, usam a recombinação para diminuir a quantidade de simulações executadas. Porém, mantém as características da distribuição resultante se todos os caminhos possíveis fossem criados. Por exemplo, se criarmos todos os caminhos possíveis para a árvore atual com $12$ vértices teremos:"
   ]
  },
  {
   "cell_type": "code",
   "execution_count": 71,
   "metadata": {
    "collapsed": false
   },
   "outputs": [
    {
     "name": "stdout",
     "output_type": "stream",
     "text": [
      "Quantidade de caminhos gerados: 2048\n"
     ]
    }
   ],
   "source": [
    "df = bond_example.get_range_of_values(my_tree, i_steps=12)\n",
    "print \"Quantidade de caminhos gerados: {}\".format(df.shape[0])"
   ]
  },
  {
   "cell_type": "markdown",
   "metadata": {},
   "source": [
    "A média dos valores gerados será igual ao valor encontrado utilizando apenas a estrutura original, como pode ser visto abaixo para o último vértice:"
   ]
  },
  {
   "cell_type": "code",
   "execution_count": 72,
   "metadata": {
    "collapsed": false
   },
   "outputs": [
    {
     "name": "stdout",
     "output_type": "stream",
     "text": [
      "Preço encontrado do vértice 12: 658.24\n"
     ]
    }
   ],
   "source": [
    "print \"Preço encontrado do vértice {}: {:5.2f}\".format(12, df.mean())"
   ]
  },
  {
   "cell_type": "markdown",
   "metadata": {},
   "source": [
    "Todos os caminhos gerados podem ser visualizados na treliça abaixo:"
   ]
  },
  {
   "cell_type": "code",
   "execution_count": 73,
   "metadata": {
    "collapsed": false
   },
   "outputs": [],
   "source": [
    "#cria arvore e calcula taxas\n",
    "bond_example = instruments.Bond(f_face_value=1000., f_cupon=0.)\n",
    "d_rtn = {}\n",
    "for i in xrange(1, 13):\n",
    "    df_aux = bond_example.get_range_of_values(my_tree, i_steps=i)\n",
    "    f_time = l_prazo[i-1]/252.\n",
    "    df_aux = (1000./df_aux) ** (1./ f_time) - 1\n",
    "    d_rtn[f_time] = list(df_aux.values)"
   ]
  },
  {
   "cell_type": "code",
   "execution_count": 74,
   "metadata": {
    "collapsed": false
   },
   "outputs": [
    {
     "data": {
      "image/png": "[encoded data removed]",
      "text/plain": [
       "<matplotlib.figure.Figure at 0x11a56f410>"
      ]
     },
     "metadata": {},
     "output_type": "display_data"
    }
   ],
   "source": [
    "# plota todas as curva geradas\n",
    "df_curves = pd.DataFrame(d_rtn)\n",
    "ax1 = df_curves.T.plot(legend=False)\n",
    "ax1.set_xlabel('Prazos em anos')\n",
    "ax1.set_ylabel('Taxas')\n",
    "ax1.set_title(u'Curvas Geradas pela Árvore\\n', fontsize=16);"
   ]
  },
  {
   "cell_type": "markdown",
   "metadata": {},
   "source": [
    "Agora, comparando a média de todas as curvas geradas com os preços de mercado, temos:"
   ]
  },
  {
   "cell_type": "code",
   "execution_count": 75,
   "metadata": {
    "collapsed": false
   },
   "outputs": [
    {
     "data": {
      "image/png": "[encoded data removed]",
      "text/plain": [
       "<matplotlib.figure.Figure at 0x11aadb410>"
      ]
     },
     "metadata": {},
     "output_type": "display_data"
    }
   ],
   "source": [
    "# compara curva media e curva de mercado\n",
    "df_plot = pd.DataFrame(df_curves.mean())\n",
    "df_plot.columns = [u\"Média das Simulações\"]\n",
    "ax = df_plot.plot()\n",
    "df_plot = pd.DataFrame(l_txindicativa, index=[x/252. for x in l_prazo])\n",
    "df_plot.columns = [\"Mercado\"]\n",
    "df_plot.plot(style='ro', alpha = 0.7, ax=ax)\n",
    "ax.set_title(u\"Comparação de Curvas\\n\", fontsize=16)\n",
    "ax.set_xlabel('Prazos em anos')\n",
    "ax.set_ylabel('Taxas');"
   ]
  },
  {
   "cell_type": "markdown",
   "metadata": {},
   "source": [
    "Por fim, ainda podemos visualizar todas os preços possíveis para o bond do último vértice. A distribuição é centrada no preço de mercado do bond, por construção."
   ]
  },
  {
   "cell_type": "code",
   "execution_count": 76,
   "metadata": {
    "collapsed": false
   },
   "outputs": [
    {
     "data": {
      "image/png": "[encoded data removed]",
      "text/plain": [
       "<matplotlib.figure.Figure at 0x11cf02050>"
      ]
     },
     "metadata": {},
     "output_type": "display_data"
    }
   ],
   "source": [
    "ax = df.hist(bins=20)\n",
    "ax.set_xlabel(\"Valor Atual\")\n",
    "ax.set_title(u\"Valores Atuais Possíveis Para o Bond Precificado\\n\", fontsize=15);"
   ]
  },
  {
   "cell_type": "markdown",
   "metadata": {},
   "source": [
    "O curioso é que com apenas $91$ nós criados ao longo da árvore, é possível se obter o mesmo preço gerado com os $2048$ caminhos criados."
   ]
  },
  {
   "cell_type": "markdown",
   "metadata": {
    "collapsed": true
   },
   "source": [
    "## 3. Aplicação do Modelo\n",
    "\n",
    "Nesta seção iremos ajustar a volatilidade do modelo e usar a curva criada para precificar diversos instrumentos.\n",
    "\n",
    "### 3.1. A importância da Volatilidade\n",
    "\n",
    "A volatilidade é o único parâmetro do modelo e se refere ao $\\sigma$ da taxa *forward* de 1 ano. Para demonstrar sua importância, abaixo iremos plotar a distribuição dos valores encontrados para cada caminho do último vértice da curva. Vamos calcular a distribuição para os $\\sigma=\\{2\\%, 5\\%, 10\\%, 25\\%, 50\\%, 95\\%\\}$. Assim, primeiro vamos calcular as médias da distribuição."
   ]
  },
  {
   "cell_type": "code",
   "execution_count": 157,
   "metadata": {
    "collapsed": true
   },
   "outputs": [],
   "source": [
    "# TODO: criar dispersão para diferentes volatilidades. mostrar que eh importante ter\n",
    "# uma estimacaso crivel dela\n",
    "#cria arvore\n",
    "import binomial_tree; reload(binomial_tree)\n",
    "d_vals = {}\n",
    "bond_example = instruments.Bond(f_face_value=1000., f_cupon=0.)\n",
    "for f_sig in [0.02, 0.05, 0.1, 0.25, 0.5, 0.95]:\n",
    "    my_tree.fit_foward_curve(f_sigma=f_sig, f_faceval=1000.)\n",
    "    df = bond_example.get_range_of_values(my_tree, i_steps=12)\n",
    "    d_vals[f_sig] = list(df.values)"
   ]
  },
  {
   "cell_type": "code",
   "execution_count": 158,
   "metadata": {
    "collapsed": false
   },
   "outputs": [
    {
     "data": {
      "text/plain": [
       "0.02    658.236155\n",
       "0.05    658.236155\n",
       "0.10    658.236155\n",
       "0.25    658.236153\n",
       "0.50    658.236148\n",
       "0.95    658.236122\n",
       "dtype: float64"
      ]
     },
     "execution_count": 158,
     "metadata": {},
     "output_type": "execute_result"
    }
   ],
   "source": [
    "df_sig = pd.DataFrame(d_vals)\n",
    "df_sig.mean()"
   ]
  },
  {
   "cell_type": "markdown",
   "metadata": {},
   "source": [
    "Como esperado, são todas \"iguais\". Agora, vamos plotar o histograma de cada uma das distribuições. Observe que o range de valores do eixo X aumenta em cada gráfico, além da média ficar cada vez mais deslocada para direita."
   ]
  },
  {
   "cell_type": "code",
   "execution_count": 161,
   "metadata": {
    "collapsed": false
   },
   "outputs": [
    {
     "data": {
      "image/png": "[encoded data removed]",
      "text/plain": [
       "<matplotlib.figure.Figure at 0x114d66ad0>"
      ]
     },
     "metadata": {},
     "output_type": "display_data"
    }
   ],
   "source": [
    "df2 = df_sig.stack().reset_index()\n",
    "df2.columns = [\"index\", \"$\\sigma$\", u\"Price\"]\n",
    "g = sns.FacetGrid(df2, col=\"$\\sigma$\", col_wrap=3, margin_titles=True,\n",
    "                  sharex=False, sharey=True, size=3)\n",
    "g.map(plt.hist, 'Price', edgecolor='white')\n",
    "g.fig.suptitle(u\"Distribuição de Preços Atuais Para Diferentes Sigmas\",\n",
    "               fontsize=16, y=1.04);"
   ]
  },
  {
   "cell_type": "markdown",
   "metadata": {},
   "source": [
    "Para resaltar a disperssão para cada um dos sigmas, abaixo vamos plotar a descrição deste dados."
   ]
  },
  {
   "cell_type": "code",
   "execution_count": 163,
   "metadata": {
    "collapsed": false
   },
   "outputs": [
    {
     "data": {
      "text/html": [
       "<div>\n",
       "<table border=\"1\" class=\"dataframe\">\n",
       "  <thead>\n",
       "    <tr style=\"text-align: right;\">\n",
       "      <th></th>\n",
       "      <th>$\\sigma$</th>\n",
       "      <th>0.02</th>\n",
       "      <th>0.05</th>\n",
       "      <th>0.1</th>\n",
       "      <th>0.25</th>\n",
       "      <th>0.5</th>\n",
       "      <th>0.95</th>\n",
       "    </tr>\n",
       "  </thead>\n",
       "  <tbody>\n",
       "    <tr>\n",
       "      <th rowspan=\"8\" valign=\"top\">Price</th>\n",
       "      <th>count</th>\n",
       "      <td>2048.000000</td>\n",
       "      <td>2048.000000</td>\n",
       "      <td>2048.000000</td>\n",
       "      <td>2048.000000</td>\n",
       "      <td>2048.000000</td>\n",
       "      <td>2048.000000</td>\n",
       "    </tr>\n",
       "    <tr>\n",
       "      <th>mean</th>\n",
       "      <td>12.600822</td>\n",
       "      <td>12.602511</td>\n",
       "      <td>12.608550</td>\n",
       "      <td>12.651168</td>\n",
       "      <td>12.808162</td>\n",
       "      <td>13.409541</td>\n",
       "    </tr>\n",
       "    <tr>\n",
       "      <th>std</th>\n",
       "      <td>0.126563</td>\n",
       "      <td>0.316510</td>\n",
       "      <td>0.633743</td>\n",
       "      <td>1.597096</td>\n",
       "      <td>3.287308</td>\n",
       "      <td>6.905992</td>\n",
       "    </tr>\n",
       "    <tr>\n",
       "      <th>min</th>\n",
       "      <td>12.212594</td>\n",
       "      <td>11.658470</td>\n",
       "      <td>10.804274</td>\n",
       "      <td>8.690043</td>\n",
       "      <td>6.281002</td>\n",
       "      <td>3.958541</td>\n",
       "    </tr>\n",
       "    <tr>\n",
       "      <th>25%</th>\n",
       "      <td>12.512740</td>\n",
       "      <td>12.380292</td>\n",
       "      <td>12.158345</td>\n",
       "      <td>11.491909</td>\n",
       "      <td>10.397421</td>\n",
       "      <td>8.570103</td>\n",
       "    </tr>\n",
       "    <tr>\n",
       "      <th>50%</th>\n",
       "      <td>12.599974</td>\n",
       "      <td>12.597249</td>\n",
       "      <td>12.587588</td>\n",
       "      <td>12.522114</td>\n",
       "      <td>12.305924</td>\n",
       "      <td>11.660371</td>\n",
       "    </tr>\n",
       "    <tr>\n",
       "      <th>75%</th>\n",
       "      <td>12.688215</td>\n",
       "      <td>12.819759</td>\n",
       "      <td>13.036637</td>\n",
       "      <td>13.676681</td>\n",
       "      <td>14.669622</td>\n",
       "      <td>16.249875</td>\n",
       "    </tr>\n",
       "    <tr>\n",
       "      <th>max</th>\n",
       "      <td>13.003875</td>\n",
       "      <td>13.639262</td>\n",
       "      <td>14.784376</td>\n",
       "      <td>18.965234</td>\n",
       "      <td>29.174831</td>\n",
       "      <td>63.345630</td>\n",
       "    </tr>\n",
       "  </tbody>\n",
       "</table>\n",
       "</div>"
      ],
      "text/plain": [
       "$\\sigma$            0.02         0.05         0.10         0.25         0.50  \\\n",
       "Price count  2048.000000  2048.000000  2048.000000  2048.000000  2048.000000   \n",
       "      mean     12.600822    12.602511    12.608550    12.651168    12.808162   \n",
       "      std       0.126563     0.316510     0.633743     1.597096     3.287308   \n",
       "      min      12.212594    11.658470    10.804274     8.690043     6.281002   \n",
       "      25%      12.512740    12.380292    12.158345    11.491909    10.397421   \n",
       "      50%      12.599974    12.597249    12.587588    12.522114    12.305924   \n",
       "      75%      12.688215    12.819759    13.036637    13.676681    14.669622   \n",
       "      max      13.003875    13.639262    14.784376    18.965234    29.174831   \n",
       "\n",
       "$\\sigma$            0.95  \n",
       "Price count  2048.000000  \n",
       "      mean     13.409541  \n",
       "      std       6.905992  \n",
       "      min       3.958541  \n",
       "      25%       8.570103  \n",
       "      50%      11.660371  \n",
       "      75%      16.249875  \n",
       "      max      63.345630  "
      ]
     },
     "execution_count": 163,
     "metadata": {},
     "output_type": "execute_result"
    }
   ],
   "source": [
    "df3 = df2.copy()\n",
    "df3.drop(\"index\", axis=1, inplace=True)\n",
    "df3.Price = ((1000./df3.Price)**(1/(l_prazo[-1]/252.)) - 1) * 100.\n",
    "df_stat = df3.groupby(\"$\\sigma$\").describe().unstack().T\n",
    "df_stat"
   ]
  },
  {
   "cell_type": "markdown",
   "metadata": {},
   "source": [
    "### 3.2. Ajustando a Volatilidade"
   ]
  },
  {
   "cell_type": "markdown",
   "metadata": {},
   "source": [
    "Para estimar a volatilidade, vamos calcular a volatilidade diária da primeira diferença da taxa *forward* entre os DIs com maior liquidez, que são os contratos com vencimento em janeiro de 2017 e 2018. Esta volatilidade será anualizada para 1 ano. Vamos pegar a curva ao meio dia dos últimos três meses para realizar os cálculos. Assim, primeiro vamos calcular as taxas forwards anualizadas e filtrar apenas o horário desejado. Os forwards vão ser calculados da seguinte maneira:\n",
    "\n",
    "$r_{forward}=\\frac{PU_{c}}{PU_{l}}^{252/(DU_{l}-DU_{c})}-1$\n",
    "\n",
    "Onde $c$ se refere à taxa curta e $l$ à taxa longa."
   ]
  },
  {
   "cell_type": "code",
   "execution_count": 11,
   "metadata": {
    "collapsed": false
   },
   "outputs": [
    {
     "data": {
      "text/html": [
       "<div>\n",
       "<table border=\"1\" class=\"dataframe\">\n",
       "  <thead>\n",
       "    <tr style=\"text-align: right;\">\n",
       "      <th></th>\n",
       "      <th>DI1F17</th>\n",
       "      <th>DI1F18</th>\n",
       "    </tr>\n",
       "    <tr>\n",
       "      <th>DATE</th>\n",
       "      <th></th>\n",
       "      <th></th>\n",
       "    </tr>\n",
       "  </thead>\n",
       "  <tbody>\n",
       "    <tr>\n",
       "      <th>2016-04-04 09:20:00</th>\n",
       "      <td>13.74</td>\n",
       "      <td>13.47</td>\n",
       "    </tr>\n",
       "    <tr>\n",
       "      <th>2016-04-04 09:25:00</th>\n",
       "      <td>13.75</td>\n",
       "      <td>13.48</td>\n",
       "    </tr>\n",
       "    <tr>\n",
       "      <th>2016-04-04 09:30:00</th>\n",
       "      <td>13.77</td>\n",
       "      <td>13.51</td>\n",
       "    </tr>\n",
       "    <tr>\n",
       "      <th>2016-04-04 09:35:00</th>\n",
       "      <td>13.77</td>\n",
       "      <td>13.53</td>\n",
       "    </tr>\n",
       "    <tr>\n",
       "      <th>2016-04-04 09:40:00</th>\n",
       "      <td>13.79</td>\n",
       "      <td>13.56</td>\n",
       "    </tr>\n",
       "  </tbody>\n",
       "</table>\n",
       "</div>"
      ],
      "text/plain": [
       "                     DI1F17  DI1F18\n",
       "DATE                               \n",
       "2016-04-04 09:20:00   13.74   13.47\n",
       "2016-04-04 09:25:00   13.75   13.48\n",
       "2016-04-04 09:30:00   13.77   13.51\n",
       "2016-04-04 09:35:00   13.77   13.53\n",
       "2016-04-04 09:40:00   13.79   13.56"
      ]
     },
     "execution_count": 11,
     "metadata": {},
     "output_type": "execute_result"
    }
   ],
   "source": [
    "df_di_prices = pd.read_csv(\"di_fut_price.tsv\", index_col=\"DATE\", parse_dates=\"DATE\")\n",
    "df_di_du = pd.read_csv(\"di_fut_maturity.tsv\", index_col=\"DATE\", parse_dates=\"DATE\")\n",
    "df_di_prices.ix[:, ['DI1F17', 'DI1F18']].head()"
   ]
  },
  {
   "cell_type": "code",
   "execution_count": 12,
   "metadata": {
    "collapsed": false
   },
   "outputs": [
    {
     "data": {
      "text/plain": [
       "DATE\n",
       "2016-04-04 12:00:00    0.134209\n",
       "2016-04-05 12:00:00    0.135644\n",
       "2016-04-06 12:00:00    0.135500\n",
       "2016-04-07 12:00:00    0.136704\n",
       "2016-04-08 12:00:00    0.134342\n",
       "dtype: float64"
      ]
     },
     "execution_count": 12,
     "metadata": {},
     "output_type": "execute_result"
    }
   ],
   "source": [
    "# calcula partes da formula\n",
    "df_pu = df_di_prices.ix[:, ['DI1F17', 'DI1F18']]\n",
    "df_du = df_di_du.ix[:, ['DI1F17', 'DI1F18']]\n",
    "df_prazo_norm = 252./(df_du['DI1F18']-df_du['DI1F17'])\n",
    "df_pu = df_pu/100. + 1\n",
    "df_pu = 10**5/(df_pu)**(df_du/252.)\n",
    "# calcula taxa forward\n",
    "df_fwrd = (df_pu['DI1F17']/df_pu['DI1F18'])**df_prazo_norm-1\n",
    "# cria lista de filtros da taxa\n",
    "l_filtros_meio_dia = [(x.hour==12)&(x.minute==0)&(x.second==0) for x in df_fwrd.index]\n",
    "# filtra dados\n",
    "df_fwrd = df_fwrd[l_filtros_meio_dia]\n",
    "df_fwrd.head()"
   ]
  },
  {
   "cell_type": "code",
   "execution_count": 13,
   "metadata": {
    "collapsed": false
   },
   "outputs": [
    {
     "name": "stdout",
     "output_type": "stream",
     "text": [
      "Quantidade de pontos faltantes de 55: 4\n"
     ]
    }
   ],
   "source": [
    "print \"Quantidade de pontos faltantes de {}: {}\".format(df_fwrd.shape[0], df_fwrd.isnull().sum())"
   ]
  },
  {
   "cell_type": "markdown",
   "metadata": {},
   "source": [
    "Vamos tirar estes pontos da série. Provavelmente seria mais apropriado usar alguma interpolação entre eles"
   ]
  },
  {
   "cell_type": "code",
   "execution_count": 14,
   "metadata": {
    "collapsed": false
   },
   "outputs": [
    {
     "name": "stdout",
     "output_type": "stream",
     "text": [
      "Quantidade de pontos faltantes de 51: 0\n"
     ]
    }
   ],
   "source": [
    "df_fwrd.dropna(inplace=True)\n",
    "print \"Quantidade de pontos faltantes de {}: {}\".format(df_fwrd.shape[0], df_fwrd.isnull().sum())"
   ]
  },
  {
   "cell_type": "markdown",
   "metadata": {},
   "source": [
    "Agora, vamos calcular a dispersão da [primeira diferença](https://en.wikipedia.org/wiki/First-difference_estimator) da taxa forward"
   ]
  },
  {
   "cell_type": "code",
   "execution_count": 15,
   "metadata": {
    "collapsed": false
   },
   "outputs": [],
   "source": [
    "df_first_difference = (df_fwrd - df_fwrd.shift())"
   ]
  },
  {
   "cell_type": "code",
   "execution_count": 16,
   "metadata": {
    "collapsed": false
   },
   "outputs": [
    {
     "data": {
      "image/png": "[encoded data removed]",
      "text/plain": [
       "<matplotlib.figure.Figure at 0x111d19fd0>"
      ]
     },
     "metadata": {},
     "output_type": "display_data"
    }
   ],
   "source": [
    "f, (ax1, ax2) = plt.subplots(1, 2)\n",
    "df_first_difference.plot(ax=ax1)\n",
    "df_first_difference.hist(ax=ax2);\n",
    "plt.suptitle(u'Primeira Diferença da Taxa Forward\\n', fontsize=16, y=1.04);\n",
    "f.tight_layout()"
   ]
  },
  {
   "cell_type": "code",
   "execution_count": 17,
   "metadata": {
    "collapsed": false
   },
   "outputs": [
    {
     "name": "stdout",
     "output_type": "stream",
     "text": [
      "A vol anualizada do forward de 1 ano entre o DI1F17 e DI1F18 foi de 1.92%\n"
     ]
    }
   ],
   "source": [
    "# calcula a volatilidade anualizada\n",
    "f_sigma = df_first_difference.std() * (252.)**.5\n",
    "print \"A vol anualizada do forward de 1 ano entre o DI1F17 e DI1F18 foi de {:01.2f}%\".format(f_sigma*100)"
   ]
  },
  {
   "cell_type": "markdown",
   "metadata": {},
   "source": [
    "Olhando assim parece baixa a volatilidade encontrada. Vamos calcular a estrutura inteira"
   ]
  },
  {
   "cell_type": "code",
   "execution_count": 8,
   "metadata": {
    "collapsed": true
   },
   "outputs": [],
   "source": [
    "def cal_col(df_di1, df_du, s_short, s_long):\n",
    "    '''\n",
    "    Return anuallized volatility of forward rate using daily data\n",
    "    '''\n",
    "    # calcula partes da formula\n",
    "    df_pu = df_di1.ix[:, [s_short, s_long]]\n",
    "    df_du = df_du.ix[:, [s_short, s_long]]\n",
    "    df_prazo_norm = 252./(df_du[s_long]-df_du[s_short])\n",
    "    df_pu = df_pu/100. + 1\n",
    "    df_pu = 10**5/(df_pu)**(df_du/252.)\n",
    "    # calcula taxa forward\n",
    "    df_fwrd = (df_pu[s_short]/df_pu[s_long])**df_prazo_norm-1\n",
    "    # cria lista de filtros da taxa\n",
    "    l_filtros_meio_dia = [(x.hour==12)&(x.minute==0)&(x.second==0)\n",
    "                          for x in df_fwrd.index]\n",
    "    df_fwrd = df_fwrd[l_filtros_meio_dia]\n",
    "    df_first_difference = (df_fwrd - df_fwrd.shift())\n",
    "    f_sigma = df_first_difference.std() * (252.)**.5\n",
    "    return f_sigma"
   ]
  },
  {
   "cell_type": "code",
   "execution_count": 9,
   "metadata": {
    "collapsed": false
   },
   "outputs": [],
   "source": [
    "l_col = [u'DI1F17', u'DI1F18', u'DI1F19', u'DI1F20', u'DI1F21',\n",
    "         u'DI1F22', u'DI1F23', u'DI1F24', u'DI1F25', u'DI1F26',\n",
    "         u'DI1F27']\n",
    "l_sigma = []\n",
    "l_leg = []\n",
    "for idx in xrange(len(l_col)-1):\n",
    "    f_sigma = cal_col(df_di_prices, df_di_du, l_col[idx], l_col[idx+1])\n",
    "    l_leg.append(\"{}-{}\".format(l_col[idx][3:], l_col[idx+1][3:]))\n",
    "    l_sigma.append(f_sigma)"
   ]
  },
  {
   "cell_type": "code",
   "execution_count": 13,
   "metadata": {
    "collapsed": false
   },
   "outputs": [
    {
     "data": {
      "image/png": "[encoded data removed]",
      "text/plain": [
       "<matplotlib.figure.Figure at 0x1123ae910>"
      ]
     },
     "metadata": {},
     "output_type": "display_data"
    }
   ],
   "source": [
    "ax = pd.DataFrame(l_sigma, index=l_leg).plot(legend=False);\n",
    "ax.set_title(\"Estrutura de Vol das Forwards de DI1 de $1$ ano\\n\", fontsize=16);"
   ]
  },
  {
   "cell_type": "markdown",
   "metadata": {},
   "source": [
    "Como pode ser visto, a volatilidade das forwards fico em um mesmo nível por vários vencimentos. Vamos utilizar a média das volatilidades destes vértices como a volatilidade da modelo daqui para frente"
   ]
  },
  {
   "cell_type": "code",
   "execution_count": 14,
   "metadata": {
    "collapsed": false
   },
   "outputs": [
    {
     "name": "stdout",
     "output_type": "stream",
     "text": [
      "A volatilidade utilizada será de 3.28%\n"
     ]
    }
   ],
   "source": [
    "f_sigma = np.mean(l_sigma[1:-2])\n",
    "print u\"A volatilidade utilizada será de {:0.2f}%\".format(f_sigma*100)"
   ]
  },
  {
   "cell_type": "markdown",
   "metadata": {
    "collapsed": true
   },
   "source": [
    "### 3.3. Precificando Borboletas de DI1\n",
    "\n",
    "A estratégia de borboleta no mercado de Juros Futuro (DI1) consistem em combinar três vencimentos diferentes de maneira a se proteger de movimentos paralelos na curva de juros. Apesar de existir muitas maneiras de se [balancear](http://www.jamesgoulding.com/Research_II/Butterfly/Butterfly%20%28Understanding%29.pdf) esta estratégia para privilegiar movimentos específicos da curva, os preços são calculados sempre da mesma maneira pelo mercado. Basicamente é uma diferença de taxas forwards, cotada em *basispoints*. Assim, o preço é dado por:\n",
    "\n",
    "$P_{fly} = \\left (  \\left (PU_{m}/PU_{l}\\right )^{252/(DU_{l}-DU_{m})} / \\left (PU_{c}/PU_{m}\\right )^{252/(DU_{m}-DU_{c})} \\right ) \\times 10^{\\,4}$\n",
    "\n",
    "Onde $c$ é a taxa curta, $l$ a longa e $m$ a taxa do miolo. Agora, vamos supor que nós confiamos nos preços dos contatos com vencimento $F$ (janeiro) e queremos saber se o preço da borboleta $F17-N17-F18$ (janeiro, julho, janeiro) está em um preço razoável. Vamos supor também que começamos o dia às 10:00 e fixamos a curva neste ponto. Então, utilizando apenas as $F$ e a volatilidade acima minha treliça ficaria da seguinte maneira:"
   ]
  },
  {
   "cell_type": "code",
   "execution_count": 2,
   "metadata": {
    "collapsed": false
   },
   "outputs": [],
   "source": [
    "df_di_prices = pd.read_csv(\"di_fut_price.tsv\", index_col=\"DATE\", parse_dates=\"DATE\")\n",
    "df_di_du = pd.read_csv(\"di_fut_maturity.tsv\", index_col=\"DATE\", parse_dates=\"DATE\")"
   ]
  },
  {
   "cell_type": "code",
   "execution_count": 3,
   "metadata": {
    "collapsed": false
   },
   "outputs": [],
   "source": [
    "l_filtros_cinco_maio = [(x.day==5)&(x.month==5)&(x.hour>=10)&(x.hour<=15) for x in df_di_prices.index]"
   ]
  },
  {
   "cell_type": "code",
   "execution_count": 4,
   "metadata": {
    "collapsed": false
   },
   "outputs": [],
   "source": [
    "df_maio_di = df_di_prices[l_filtros_cinco_maio]\n",
    "df_maio_du = df_di_du[l_filtros_cinco_maio]\n",
    "l_col = [u'DI1F17', u'DI1F18', u'DI1F19', u'DI1F20', u'DI1F21',\n",
    "         u'DI1F22', u'DI1F23', u'DI1F24', u'DI1F25']"
   ]
  },
  {
   "cell_type": "code",
   "execution_count": 5,
   "metadata": {
    "collapsed": false
   },
   "outputs": [],
   "source": [
    "#pontos utilizados\n",
    "l_tx_di= list((df_maio_di[l_col].head(1)/100.).values[0])\n",
    "l_du_di= list((df_maio_du[l_col].head(1)/252).values[0])"
   ]
  },
  {
   "cell_type": "code",
   "execution_count": 15,
   "metadata": {
    "collapsed": false
   },
   "outputs": [],
   "source": [
    "import binomial_tree\n",
    "my_tree = binomial_tree.KWFTreePU(l_tx_di, l_du_di)\n",
    "my_tree.fit_foward_curve(f_sigma=f_sigma, f_faceval=100000.)"
   ]
  },
  {
   "cell_type": "code",
   "execution_count": 16,
   "metadata": {
    "collapsed": false
   },
   "outputs": [],
   "source": [
    "#cria arvore e calcula taxas\n",
    "import instruments; reload(instruments);\n",
    "bond_example = instruments.Bond(f_face_value=100000., f_cupon=0.)\n",
    "d_rtn = {}\n",
    "for i in xrange(1, len(l_du_di) + 1):\n",
    "    df_aux = bond_example.get_range_of_values(my_tree, i_steps=i)\n",
    "    f_time = l_du_di[i-1]\n",
    "    df_aux = (100000./df_aux) ** (1./ f_time) - 1\n",
    "    d_rtn[f_time] = list(df_aux.values)"
   ]
  },
  {
   "cell_type": "code",
   "execution_count": 17,
   "metadata": {
    "collapsed": false
   },
   "outputs": [
    {
     "data": {
      "image/png": "[encoded data removed]",
      "text/plain": [
       "<matplotlib.figure.Figure at 0x117765a50>"
      ]
     },
     "metadata": {},
     "output_type": "display_data"
    }
   ],
   "source": [
    "f, (ax1, ax2) = plt.subplots(1, 2,sharey=True, sharex=True)\n",
    "# plota todas as curva geradas\n",
    "df_curves = pd.DataFrame(d_rtn)\n",
    "ax1 = df_curves.T.plot(legend=False, ax = ax1)\n",
    "ax1.set_xlabel('Prazos em anos')\n",
    "ax1.set_ylabel('Taxas')\n",
    "ax1.set_title(u'Curvas Geradas pela Árvore\\n', fontsize=14);\n",
    "\n",
    "# compara curva media e curva de mercado\n",
    "df_plot = pd.DataFrame(df_curves.mean())\n",
    "df_plot.columns = [u\"Média das Simulações\"]\n",
    "df_plot.plot(ax=ax2)\n",
    "df_plot = pd.DataFrame(l_tx_di, index=l_du_di)\n",
    "df_plot.columns = [\"Mercado\"]\n",
    "df_plot.plot(style='ro', alpha = 0.7, ax=ax2)\n",
    "ax2.set_title(u\"Comparação de Curvas\\n\", fontsize=14)\n",
    "ax2.set_xlabel('Prazos em anos')\n",
    "ax2.set_ylabel('Taxas');\n",
    "\n",
    "f.tight_layout()"
   ]
  },
  {
   "cell_type": "markdown",
   "metadata": {},
   "source": [
    "Agora vamos calcular os preços da estratégia com os dados de mercado deste dia"
   ]
  },
  {
   "cell_type": "code",
   "execution_count": 18,
   "metadata": {
    "collapsed": false
   },
   "outputs": [],
   "source": [
    "#pontos utilizados\n",
    "l_fnf = [u'DI1F17', u'DI1N17', u'DI1F18']\n",
    "df_fnf = df_maio_di[l_fnf]\n",
    "df_fnf_du =  df_maio_du[l_fnf]"
   ]
  },
  {
   "cell_type": "code",
   "execution_count": 19,
   "metadata": {
    "collapsed": false
   },
   "outputs": [],
   "source": [
    "def calc_forward(l_fnf, df_prices=df_maio_di, df_maturity=df_maio_du):\n",
    "    '''\n",
    "    Return a data frame with the the foward rate\n",
    "    between two points\n",
    "    :param l_fnf: list. The two instrument names\n",
    "    :param df_prices: data frame. Prices matrix\n",
    "    :param df_maturity: data frame. Maturity matrix\n",
    "    '''\n",
    "    df_p = df_prices[l_fnf]\n",
    "    df_d =  df_maturity[l_fnf]\n",
    "\n",
    "    # calcula partes da formula\n",
    "    df_prazo_norm = 252./(df_d[l_fnf[0]]-df_d[l_fnf[1]])\n",
    "    df_pu = df_p/100. + 1\n",
    "    df_pu = 10**5/(df_pu)**(df_d/252.)\n",
    "    # calcula taxa forward\n",
    "    df_fwrd1 = (df_pu[l_fnf[0]]/df_pu[l_fnf[1]])**df_prazo_norm-1\n",
    "    return df_fwrd1"
   ]
  },
  {
   "cell_type": "code",
   "execution_count": 20,
   "metadata": {
    "collapsed": false
   },
   "outputs": [],
   "source": [
    "# calcula preco da fly\n",
    "df_fly = (calc_forward([u'DI1N17', u'DI1F18']) - calc_forward([u'DI1F17', u'DI1N17']))*10**4"
   ]
  },
  {
   "cell_type": "code",
   "execution_count": 21,
   "metadata": {
    "collapsed": false
   },
   "outputs": [
    {
     "data": {
      "image/png": "[encoded data removed]",
      "text/plain": [
       "<matplotlib.figure.Figure at 0x117736390>"
      ]
     },
     "metadata": {},
     "output_type": "display_data"
    }
   ],
   "source": [
    "ax = df_fly.hist()\n",
    "ax.set_title(u\"Distribuição dos preços da F17-N17-F18\\n\", fontsize=16);"
   ]
  },
  {
   "cell_type": "markdown",
   "metadata": {},
   "source": [
    "Ótimo, agora vamos comparar esta distribuição de preços com os preços gerados pelo modelo. O problema aqui é que precisamos de um vencimento que está fora da discretização da árvore. Como a estrutura do modelo impõe que as taxas forwards sejam constantes entre os nós dela, podemos procurar o primeiro nó com vencimento depois do que queremos e começar o cálculo a partir do passo anterior, como em uma interpolação. A única mudança necessária é que no primeiro passo da precificação (de trás para frente), precisamos descontar apenas pelo prazo entre o nó encontrado e o instrumento desejado. Então, vamos começar testanto calculando qual seria os preços dos vencimentos $N17$, $N18$ e $N19$. Vamos compara em seguinda com a curva de mercado incluíndo os valores reais destes vencimentos."
   ]
  },
  {
   "cell_type": "code",
   "execution_count": null,
   "metadata": {
    "collapsed": true
   },
   "outputs": [],
   "source": [
    "# TODO: preciso corrigir prazo do primeiro noh das arvores"
   ]
  },
  {
   "cell_type": "code",
   "execution_count": 23,
   "metadata": {
    "collapsed": false
   },
   "outputs": [],
   "source": [
    "# calcula os vencimentos utilizando a arvore fitada apenas\n",
    "# com os contratos F\n",
    "import binomial_tree; reload(binomial_tree)\n",
    "import instruments; reload(instruments);\n",
    "# l_value = []\n",
    "l_value2 = []\n",
    "for f_du in [291., 540., 789.]:\n",
    "    DI1 = instruments.BondBetween(f_face_value=10.**5,\n",
    "                                  f_maturity=f_du/252,  # prazo do N17\n",
    "                                  f_cupon=0.)\n",
    "#     f_pu = DI1.get_range_of_values(my_tree).mean()\n",
    "#     l_value.append((10**5/f_pu)**(252./f_du)-1)\n",
    "    f_pu = DI1.get_current_value(my_tree)\n",
    "    l_value2.append((10**5/f_pu)**(252./f_du)-1)\n"
   ]
  },
  {
   "cell_type": "code",
   "execution_count": 24,
   "metadata": {
    "collapsed": false
   },
   "outputs": [],
   "source": [
    "# filtra os preços de mercado incluindo os contratos F e os N mencionados\n",
    "l_col3 = [u'DI1F17', u'DI1N17', u'DI1F18',  u'DI1N18', u'DI1F19', u'DI1N19',\n",
    "         u'DI1F20', u'DI1F21', u'DI1F22', u'DI1F23', u'DI1F24', u'DI1F25']\n",
    "l_tx_di2= list((df_maio_di[l_col3].head(1)/100.).values[0])\n",
    "l_du_di2= list((df_maio_du[l_col3].head(1)/252).values[0])"
   ]
  },
  {
   "cell_type": "code",
   "execution_count": 32,
   "metadata": {
    "collapsed": false
   },
   "outputs": [
    {
     "data": {
      "image/png": "[encoded data removed]",
      "text/plain": [
       "<matplotlib.figure.Figure at 0x1187d3ed0>"
      ]
     },
     "metadata": {},
     "output_type": "display_data"
    }
   ],
   "source": [
    "# compara pontos calculados e a curva de mercado\n",
    "# mercado\n",
    "df_plot = pd.DataFrame(l_tx_di2, index=l_du_di2)\n",
    "df_plot.columns = [u\"Curva de Mercado\"]\n",
    "ax = df_plot.plot()\n",
    "\n",
    "# mercado so os F\n",
    "df_plot = pd.DataFrame(l_tx_di, index=l_du_di)\n",
    "df_plot.columns = [u\"Curva Apenas dos F\"]\n",
    "ax = df_plot.plot(ax=ax, style='g--', alpha = 0.7)\n",
    "\n",
    "#pontos calculados\n",
    "df_plot = pd.DataFrame(l_value2,\n",
    "                       index=[x/252.\n",
    "                              for x in [291., 540., 789.]])\n",
    "df_plot.columns = [u\"Pontos fora da árvore\"]\n",
    "df_plot.plot(style='ro', alpha = 0.7, ax=ax)\n",
    "\n",
    "ax.set_title(u\"Comparação de Curvas\\n\", fontsize=14)\n",
    "ax.set_xlabel('Prazos em anos')\n",
    "ax.set_ylabel('Taxas');"
   ]
  },
  {
   "cell_type": "markdown",
   "metadata": {
    "collapsed": true
   },
   "source": [
    "É interessante notar que a utilização da árvore com os forwards constantes entre os nós tem um efeito parecido com uma interpolação cúbica: ela impões uma curvatura à estrutura da curva a termo entre os vértices. Por fim, vamos comparar o preço encontrado pelo modelo com o preço observados no mercado este dia."
   ]
  },
  {
   "cell_type": "code",
   "execution_count": 101,
   "metadata": {
    "collapsed": false
   },
   "outputs": [],
   "source": [
    "d_values = {}\n",
    "l_du = [167., 291., 416.]\n",
    "l_name = [u'F17', u'N17', u'F18']\n",
    "for s_name, f_du in zip(l_name, l_du):\n",
    "    DI1 = instruments.BondBetween(f_face_value=10.**5,\n",
    "                                  f_maturity=f_du/252,  # prazo do N17\n",
    "                                  f_cupon=0.)\n",
    "    f_pu = DI1.get_current_value(my_tree)\n",
    "    d_values[s_name] = {\"PU\": f_pu, \"DU\": f_du}\n",
    "    "
   ]
  },
  {
   "cell_type": "code",
   "execution_count": 104,
   "metadata": {
    "collapsed": false
   },
   "outputs": [
    {
     "data": {
      "text/plain": [
       "{u'F17': {'DU': 167.0, 'PU': 91848.68490871596},\n",
       " u'F18': {'DU': 416.0, 'PU': 81992.77727106294},\n",
       " u'N17': {'DU': 291.0, 'PU': 86800.6475019538}}"
      ]
     },
     "execution_count": 104,
     "metadata": {},
     "output_type": "execute_result"
    }
   ],
   "source": [
    "d_values"
   ]
  },
  {
   "cell_type": "code",
   "execution_count": 112,
   "metadata": {
    "collapsed": false
   },
   "outputs": [
    {
     "data": {
      "text/html": [
       "<div>\n",
       "<table border=\"1\" class=\"dataframe\">\n",
       "  <thead>\n",
       "    <tr style=\"text-align: right;\">\n",
       "      <th></th>\n",
       "      <th>DI1F17</th>\n",
       "      <th>DI1N17</th>\n",
       "      <th>DI1F18</th>\n",
       "    </tr>\n",
       "    <tr>\n",
       "      <th>DATE</th>\n",
       "      <th></th>\n",
       "      <th></th>\n",
       "      <th></th>\n",
       "    </tr>\n",
       "  </thead>\n",
       "  <tbody>\n",
       "    <tr>\n",
       "      <th>2016-05-05 10:00:00</th>\n",
       "      <td>13.69</td>\n",
       "      <td>13.11</td>\n",
       "      <td>12.78</td>\n",
       "    </tr>\n",
       "  </tbody>\n",
       "</table>\n",
       "</div>"
      ],
      "text/plain": [
       "                     DI1F17  DI1N17  DI1F18\n",
       "DATE                                       \n",
       "2016-05-05 10:00:00   13.69   13.11   12.78"
      ]
     },
     "execution_count": 112,
     "metadata": {},
     "output_type": "execute_result"
    }
   ],
   "source": [
    "\n",
    "df_fnf.head(1)"
   ]
  },
  {
   "cell_type": "code",
   "execution_count": 118,
   "metadata": {
    "collapsed": true
   },
   "outputs": [],
   "source": [
    "d_values = {}\n",
    "l_du = [167., 291., 416.]\n",
    "l_prices = df_fnf.head(1).values\n",
    "l_prices = list(l_prices[0])\n",
    "l_name = [u'F17', u'N17', u'F18']\n",
    "for s_name, f_du, f_price in zip(l_name, l_du, l_prices):\n",
    "    DI1 = instruments.BondBetween(f_face_value=10.**5,\n",
    "                                  f_maturity=f_du/252,  # prazo do N17\n",
    "                                  f_cupon=0.)\n",
    "    f_pu = 10**5/(1+f_price/100)**(f_du/252.)\n",
    "    d_values[s_name] = {\"PU\": f_pu, \"DU\": f_du}"
   ]
  },
  {
   "cell_type": "code",
   "execution_count": 119,
   "metadata": {
    "collapsed": false
   },
   "outputs": [
    {
     "data": {
      "text/plain": [
       "{u'F17': {'DU': 167.0, 'PU': 91848.684908715964},\n",
       " u'F18': {'DU': 416.0, 'PU': 81992.7772517259},\n",
       " u'N17': {'DU': 291.0, 'PU': 86739.932645320485}}"
      ]
     },
     "execution_count": 119,
     "metadata": {},
     "output_type": "execute_result"
    }
   ],
   "source": [
    "d_values"
   ]
  },
  {
   "cell_type": "code",
   "execution_count": 117,
   "metadata": {
    "collapsed": false
   },
   "outputs": [
    {
     "data": {
      "text/plain": [
       "[13.69, 13.109999999999999, 12.779999999999999]"
      ]
     },
     "execution_count": 117,
     "metadata": {},
     "output_type": "execute_result"
    }
   ],
   "source": []
  },
  {
   "cell_type": "code",
   "execution_count": null,
   "metadata": {
    "collapsed": true
   },
   "outputs": [],
   "source": []
  },
  {
   "cell_type": "code",
   "execution_count": 127,
   "metadata": {
    "collapsed": false
   },
   "outputs": [
    {
     "name": "stdout",
     "output_type": "stream",
     "text": [
      "9971.68616306\n"
     ]
    }
   ],
   "source": [
    "f_miolo_longo = (d_values['N17']['PU']/d_values['F18']['PU'])**(252./(d_values['F18']['DU'] - d_values['N17']['DU'])) \n",
    "f_curto_miolo = (d_values['F17']['PU']/d_values['N17']['PU'])**(252./(d_values['N17']['DU'] - d_values['F17']['DU']))\n",
    "print (f_miolo_longo/f_curto_miolo)*10**4"
   ]
  },
  {
   "cell_type": "code",
   "execution_count": 126,
   "metadata": {
    "collapsed": false
   },
   "outputs": [
    {
     "data": {
      "text/plain": [
       "291.0"
      ]
     },
     "execution_count": 126,
     "metadata": {},
     "output_type": "execute_result"
    }
   ],
   "source": [
    "d_values['N17']['DU']"
   ]
  },
  {
   "cell_type": "code",
   "execution_count": null,
   "metadata": {
    "collapsed": true
   },
   "outputs": [],
   "source": []
  },
  {
   "cell_type": "code",
   "execution_count": null,
   "metadata": {
    "collapsed": true
   },
   "outputs": [],
   "source": []
  },
  {
   "cell_type": "code",
   "execution_count": 108,
   "metadata": {
    "collapsed": false
   },
   "outputs": [
    {
     "data": {
      "text/plain": [
       "1217.3609136652462"
      ]
     },
     "execution_count": 108,
     "metadata": {},
     "output_type": "execute_result"
    }
   ],
   "source": [
    "f_miolo_longo*10**4"
   ]
  },
  {
   "cell_type": "code",
   "execution_count": 107,
   "metadata": {
    "collapsed": false
   },
   "outputs": [
    {
     "data": {
      "text/plain": [
       "0.1217391820201037"
      ]
     },
     "execution_count": 107,
     "metadata": {},
     "output_type": "execute_result"
    }
   ],
   "source": [
    "f_curto_miolo"
   ]
  },
  {
   "cell_type": "code",
   "execution_count": 103,
   "metadata": {
    "collapsed": false
   },
   "outputs": [
    {
     "data": {
      "text/plain": [
       "9999.972447663158"
      ]
     },
     "execution_count": 103,
     "metadata": {},
     "output_type": "execute_result"
    }
   ],
   "source": [
    "f_fly_price"
   ]
  },
  {
   "cell_type": "code",
   "execution_count": 89,
   "metadata": {
    "collapsed": false
   },
   "outputs": [
    {
     "data": {
      "text/plain": [
       "508.032"
      ]
     },
     "execution_count": 89,
     "metadata": {},
     "output_type": "execute_result"
    }
   ],
   "source": [
    "(252./(d_values['F18']['DU'] - d_values['N17']['DU']))"
   ]
  },
  {
   "cell_type": "code",
   "execution_count": null,
   "metadata": {
    "collapsed": false
   },
   "outputs": [],
   "source": [
    "l_fnf = [u'DI1F17', u'DI1N17', u'DI1F18']\n",
    "df_pu = df_pu_original[l_fnf[:2]]\n",
    "df_d =  df_maturity[l_fnf[1:]]\n",
    "df_prazo_norm = 252./(df_d[l_fnf[0]]-df_d[l_fnf[1]])"
   ]
  },
  {
   "cell_type": "code",
   "execution_count": 51,
   "metadata": {
    "collapsed": false
   },
   "outputs": [],
   "source": [
    "l_new_mat = []\n",
    "for i in xrange(df_pu_original.shape[0]):\n",
    "    l_new_mat.append([167., 291., 416.])\n",
    "    \n",
    "df_du_FNF = pd.DataFrame(l_new_mat)\n",
    "df_du_FNF.columns = [u'DI1F17', u'DI1N17', u'DI1F18']"
   ]
  },
  {
   "cell_type": "code",
   "execution_count": 65,
   "metadata": {
    "collapsed": true
   },
   "outputs": [],
   "source": [
    "df_fwrd = calc_forward([u'DI1N17', u'DI1F18'], df_prices=df_di_FNF, df_maturity=df_du_FNF) * 10**4\n",
    "df_fwrd2= calc_forward([u'DI1N17', u'DI1F18'])"
   ]
  },
  {
   "cell_type": "code",
   "execution_count": 60,
   "metadata": {
    "collapsed": false
   },
   "outputs": [
    {
     "data": {
      "text/plain": [
       "0   -0.001189\n",
       "1   -0.001189\n",
       "2   -0.001189\n",
       "3   -0.001189\n",
       "4   -0.001189\n",
       "dtype: float64"
      ]
     },
     "execution_count": 60,
     "metadata": {},
     "output_type": "execute_result"
    }
   ],
   "source": [
    "df_fwrd.head()"
   ]
  },
  {
   "cell_type": "code",
   "execution_count": 61,
   "metadata": {
    "collapsed": false
   },
   "outputs": [
    {
     "data": {
      "text/plain": [
       "DATE\n",
       "2016-05-05 10:00:00   -0.107266\n",
       "2016-05-05 10:05:00   -0.107187\n",
       "2016-05-05 10:10:00   -0.107003\n",
       "2016-05-05 10:15:00   -0.106899\n",
       "2016-05-05 10:20:00   -0.106899\n",
       "dtype: float64"
      ]
     },
     "execution_count": 61,
     "metadata": {},
     "output_type": "execute_result"
    }
   ],
   "source": [
    "df_fwrd2.head()"
   ]
  },
  {
   "cell_type": "code",
   "execution_count": 66,
   "metadata": {
    "collapsed": false
   },
   "outputs": [
    {
     "data": {
      "text/plain": [
       "<matplotlib.axes._subplots.AxesSubplot at 0x1190a9950>"
      ]
     },
     "execution_count": 66,
     "metadata": {},
     "output_type": "execute_result"
    },
    {
     "data": {
      "image/png": "[encoded data removed]",
      "text/plain": [
       "<matplotlib.figure.Figure at 0x118ec4410>"
      ]
     },
     "metadata": {},
     "output_type": "display_data"
    }
   ],
   "source": [
    "df_fwrd.hist()"
   ]
  },
  {
   "cell_type": "code",
   "execution_count": null,
   "metadata": {
    "collapsed": true
   },
   "outputs": [],
   "source": []
  },
  {
   "cell_type": "code",
   "execution_count": 68,
   "metadata": {
    "collapsed": false
   },
   "outputs": [
    {
     "data": {
      "text/plain": [
       "DI1F17    0.136900\n",
       "DI1N17    0.130416\n",
       "DI1F18    0.127803\n",
       "dtype: float64"
      ]
     },
     "execution_count": 68,
     "metadata": {},
     "output_type": "execute_result"
    }
   ],
   "source": [
    "df_di_FNF.mean()"
   ]
  },
  {
   "cell_type": "code",
   "execution_count": null,
   "metadata": {
    "collapsed": true
   },
   "outputs": [],
   "source": []
  },
  {
   "cell_type": "code",
   "execution_count": 55,
   "metadata": {
    "collapsed": false
   },
   "outputs": [],
   "source": [
    "df_fly = (calc_forward([u'DI1N17', u'DI1F18'], df_prices=df_di_FNF, df_maturity=df_du_FNF) - \n",
    "          calc_forward([u'DI1F17', u'DI1N17'], df_prices=df_di_FNF, df_maturity=df_du_FNF))\n",
    "df_fly*=10**4"
   ]
  },
  {
   "cell_type": "code",
   "execution_count": 56,
   "metadata": {
    "collapsed": false
   },
   "outputs": [
    {
     "data": {
      "text/plain": [
       "0     -0.004773\n",
       "1     -0.004773\n",
       "2     -0.004773\n",
       "3     -0.004773\n",
       "4     -0.004773\n",
       "5     -0.004773\n",
       "6     -0.004773\n",
       "7     -0.004773\n",
       "8     -0.004773\n",
       "9     -0.004773\n",
       "10    -0.004773\n",
       "11    -0.004773\n",
       "12    -0.004773\n",
       "13    -0.004773\n",
       "14    -0.004773\n",
       "15    -0.004773\n",
       "16    -0.004773\n",
       "17    -0.004773\n",
       "18    -0.004773\n",
       "19    -0.004773\n",
       "20    -0.004773\n",
       "21    -0.004773\n",
       "22    -0.004773\n",
       "23    -0.004773\n",
       "24    -0.004773\n",
       "25    -0.004773\n",
       "26    -0.004773\n",
       "27    -0.004773\n",
       "28    -0.004773\n",
       "29    -0.004773\n",
       "         ...   \n",
       "226   -0.002347\n",
       "227   -0.002347\n",
       "228   -0.002347\n",
       "229   -0.002347\n",
       "230   -0.002347\n",
       "231   -0.002347\n",
       "232   -0.002347\n",
       "233   -0.002347\n",
       "234   -0.002347\n",
       "235   -0.002347\n",
       "236   -0.002347\n",
       "237   -0.002347\n",
       "238   -0.002347\n",
       "239   -0.002347\n",
       "240   -0.002347\n",
       "241   -0.002347\n",
       "242   -0.002347\n",
       "243   -0.002347\n",
       "244   -0.002347\n",
       "245   -0.002347\n",
       "246   -0.002347\n",
       "247   -0.002347\n",
       "248   -0.002347\n",
       "249   -0.002347\n",
       "250   -0.002347\n",
       "251   -0.002347\n",
       "252   -0.002347\n",
       "253   -0.002347\n",
       "254   -0.002347\n",
       "255   -0.002347\n",
       "dtype: float64"
      ]
     },
     "execution_count": 56,
     "metadata": {},
     "output_type": "execute_result"
    }
   ],
   "source": [
    "df_fly"
   ]
  },
  {
   "cell_type": "code",
   "execution_count": null,
   "metadata": {
    "collapsed": true
   },
   "outputs": [],
   "source": []
  },
  {
   "cell_type": "code",
   "execution_count": null,
   "metadata": {
    "collapsed": true
   },
   "outputs": [],
   "source": []
  },
  {
   "cell_type": "code",
   "execution_count": 34,
   "metadata": {
    "collapsed": false
   },
   "outputs": [
    {
     "data": {
      "text/html": [
       "<div>\n",
       "<table border=\"1\" class=\"dataframe\">\n",
       "  <thead>\n",
       "    <tr style=\"text-align: right;\">\n",
       "      <th></th>\n",
       "      <th>DI1F17</th>\n",
       "      <th>DI1N17</th>\n",
       "      <th>DI1F18</th>\n",
       "    </tr>\n",
       "    <tr>\n",
       "      <th>DATE</th>\n",
       "      <th></th>\n",
       "      <th></th>\n",
       "      <th></th>\n",
       "    </tr>\n",
       "  </thead>\n",
       "  <tbody>\n",
       "    <tr>\n",
       "      <th>2016-05-05 10:00:00</th>\n",
       "      <td>167</td>\n",
       "      <td>291</td>\n",
       "      <td>416</td>\n",
       "    </tr>\n",
       "  </tbody>\n",
       "</table>\n",
       "</div>"
      ],
      "text/plain": [
       "                     DI1F17  DI1N17  DI1F18\n",
       "DATE                                       \n",
       "2016-05-05 10:00:00     167     291     416"
      ]
     },
     "execution_count": 34,
     "metadata": {},
     "output_type": "execute_result"
    }
   ],
   "source": [
    "df_fnf_du.head(1)"
   ]
  },
  {
   "cell_type": "code",
   "execution_count": null,
   "metadata": {
    "collapsed": true
   },
   "outputs": [],
   "source": []
  },
  {
   "cell_type": "markdown",
   "metadata": {
    "collapsed": true
   },
   "source": [
    "### 3.3. Precificando Bla"
   ]
  },
  {
   "cell_type": "code",
   "execution_count": null,
   "metadata": {
    "collapsed": true
   },
   "outputs": [],
   "source": []
  },
  {
   "cell_type": "code",
   "execution_count": null,
   "metadata": {
    "collapsed": true
   },
   "outputs": [],
   "source": []
  },
  {
   "cell_type": "markdown",
   "metadata": {},
   "source": [
    "## 4. Conclusão\n",
    "\n",
    "bla bla\n",
    "\n",
    "O modelo poderia ser utilizado de maneira relevatnte para tomada de decisão em trade, desde que se achasse outro método para criar uma curva crível.  \n",
    "\n",
    "\n",
    "\n",
    "## 5. Últimas Considerações\n",
    "\n",
    "bla bla\n",
    "\n",
    "Talvez se não mantesse todos os nós em memória fosse uma boa. Também criei todos os caminhos na força bruta, mas isso é inviável. Seria melhor criar a distrinuiçao ponderando cada valor pela respectiva probabilidade e criando uma distribuição hipotética"
   ]
  },
  {
   "cell_type": "code",
   "execution_count": null,
   "metadata": {
    "collapsed": true
   },
   "outputs": [],
   "source": []
  },
  {
   "cell_type": "code",
   "execution_count": null,
   "metadata": {
    "collapsed": true
   },
   "outputs": [],
   "source": []
  },
  {
   "cell_type": "code",
   "execution_count": null,
   "metadata": {
    "collapsed": true
   },
   "outputs": [],
   "source": []
  },
  {
   "cell_type": "markdown",
   "metadata": {},
   "source": [
    "#### TODO:\n",
    "- Implementar (OK)\n",
    "- Levantar os preços histórico dos títulos: NTB (OK)\n",
    "- Apresentar os principais pontos da abordagem (hipóteses, limitações e etc) (falta limitações)\n",
    "- detalhar o processo de calibração (juros e vol) (OK)\n",
    "- Detalhar a determiação dos parâmetros do modelo ($\\sigma$) (OK)\n",
    "- Checar se tem base de dados de opções (Call Européia) de Juros\n",
    "- Demonstrar a precificação de 2 derivativos mais complexos (opcional compara com mercado)\n"
   ]
  },
  {
   "cell_type": "code",
   "execution_count": null,
   "metadata": {
    "collapsed": true
   },
   "outputs": [],
   "source": []
  },
  {
   "cell_type": "code",
   "execution_count": null,
   "metadata": {
    "collapsed": true
   },
   "outputs": [],
   "source": []
  },
  {
   "cell_type": "markdown",
   "metadata": {},
   "source": [
    "*Style notebook and change matplotlib defaults*"
   ]
  },
  {
   "cell_type": "code",
   "execution_count": 214,
   "metadata": {
    "collapsed": false
   },
   "outputs": [
    {
     "data": {
      "text/html": [
       "<style>\n",
       "    @font-face {\n",
       "        font-family: \"Computer Modern\";\n",
       "        src: url('http://9dbb143991406a7c655e-aa5fcb0a5a4ec34cff238a2d56ca4144.r56.cf5.rackcdn.com/cmunss.otf');\n",
       "    }\n",
       "    @font-face {\n",
       "        font-family: \"Computer Modern\";\n",
       "        font-weight: bold;\n",
       "        src: url('http://9dbb143991406a7c655e-aa5fcb0a5a4ec34cff238a2d56ca4144.r56.cf5.rackcdn.com/cmunsx.otf');\n",
       "    }\n",
       "    @font-face {\n",
       "        font-family: \"Computer Modern\";\n",
       "        font-style: oblique;\n",
       "        src: url('http://9dbb143991406a7c655e-aa5fcb0a5a4ec34cff238a2d56ca4144.r56.cf5.rackcdn.com/cmunsi.otf');\n",
       "    }\n",
       "    @font-face {\n",
       "        font-family: \"Computer Modern\";\n",
       "        font-weight: bold;\n",
       "        font-style: oblique;\n",
       "        src: url('http://9dbb143991406a7c655e-aa5fcb0a5a4ec34cff238a2d56ca4144.r56.cf5.rackcdn.com/cmunso.otf');\n",
       "    }\n",
       "    div.cell{\n",
       "        width:800px;\n",
       "        margin-left:16% !important;\n",
       "        margin-right:auto;\n",
       "    }\n",
       "    h1 {\n",
       "        font-family: Helvetica, serif;\n",
       "    }\n",
       "    h4{\n",
       "        margin-top:12px;\n",
       "        margin-bottom: 3px;\n",
       "       }\n",
       "    div.text_cell_render{\n",
       "        font-family: Computer Modern, \"Helvetica Neue\", Arial, Helvetica, Geneva, sans-serif;\n",
       "        line-height: 145%;\n",
       "        font-size: 130%;\n",
       "        width:800px;\n",
       "        margin-left:auto;\n",
       "        margin-right:auto;\n",
       "    }\n",
       "    .CodeMirror{\n",
       "            font-family: \"Source Code Pro\", source-code-pro,Consolas, monospace;\n",
       "    }\n",
       "    .prompt{\n",
       "        display: None;\n",
       "    }\n",
       "    .text_cell_render h5 {\n",
       "        font-weight: 300;\n",
       "        font-size: 22pt;\n",
       "        color: #4057A1;\n",
       "        font-style: italic;\n",
       "        margin-bottom: .5em;\n",
       "        margin-top: 0.5em;\n",
       "        display: block;\n",
       "    }\n",
       "\n",
       "    .warning{\n",
       "        color: rgb( 240, 20, 20 )\n",
       "        }\n",
       "</style>\n",
       "\n",
       "\n",
       "\n",
       "<style>\n",
       "    table {\n",
       "        overflow:hidden;\n",
       "        font-family: Computer Modern, \"Helvetica Neue\", Arial, Helvetica, Geneva, sans-serif;\n",
       "        font-size: 12px;\n",
       "        margin: 10px;\n",
       "        width: 480px;\n",
       "        text-align: left;\n",
       "        border-collapse: collapse;\n",
       "        border: 1px solid #d3d3d3;\n",
       "        -moz-border-radius:5px; FF1+;\n",
       "        -webkit-border-radius:5px; Saf3-4;\n",
       "        border-radius:5px;\n",
       "        -moz-box-shadow: 0 0 4px rgba(0, 0, 0, 0.01);\n",
       "    }\n",
       "    th\n",
       "    {\n",
       "        padding: 12px 17px 12px 17px;\n",
       "        font-weight: normal;\n",
       "        font-size: 14px;\n",
       "        border-bottom: 1px dashed #69c;\n",
       "    }\n",
       "\n",
       "    td\n",
       "    {\n",
       "        padding: 7px 17px 7px 17px;\n",
       "\n",
       "    }\n",
       "\n",
       "    tbody tr:hover th\n",
       "    {\n",
       "\n",
       "        background:  #E9E9E9;\n",
       "    }\n",
       "\n",
       "    tbody tr:hover td\n",
       "    {\n",
       "\n",
       "        background:  #E9E9E9;\n",
       "    }\n",
       "\n",
       "</style>\n",
       "\n",
       "<script>\n",
       "    MathJax.Hub.Config({\n",
       "                        TeX: {\n",
       "                           extensions: [\"AMSmath.js\"]\n",
       "                           },\n",
       "                tex2jax: {\n",
       "                    inlineMath: [ ['$','$'], [\"\\\\(\",\"\\\\)\"] ],\n",
       "                    displayMath: [ ['$$','$$'], [\"\\\\[\",\"\\\\]\"] ]\n",
       "                },\n",
       "                displayAlign: 'center', // Change this to 'center' to center equations.\n",
       "                \"HTML-CSS\": {\n",
       "                    styles: {'.MathJax_Display': {\"margin\": 4}}\n",
       "                }\n",
       "        });\n",
       "</script>\n"
      ],
      "text/plain": [
       "<IPython.core.display.HTML object>"
      ]
     },
     "execution_count": 214,
     "metadata": {},
     "output_type": "execute_result"
    }
   ],
   "source": [
    "#loading style sheet\n",
    "from IPython.core.display import HTML\n",
    "HTML(open('ipython_style.css').read())"
   ]
  },
  {
   "cell_type": "code",
   "execution_count": 11,
   "metadata": {
    "collapsed": false
   },
   "outputs": [],
   "source": [
    "#changing matplotlib defaults\n",
    "%matplotlib inline\n",
    "import seaborn as sns\n",
    "sns.set_palette(\"deep\", desat=.6)\n",
    "sns.set_context(rc={\"figure.figsize\": (8, 4)})\n",
    "sns.set_style(\"whitegrid\")\n",
    "sns.set_palette(sns.color_palette(\"PuBuGn_d\", 10))"
   ]
  },
  {
   "cell_type": "code",
   "execution_count": null,
   "metadata": {
    "collapsed": true
   },
   "outputs": [],
   "source": []
  }
 ],
 "metadata": {
  "kernelspec": {
   "display_name": "Python 2",
   "language": "python",
   "name": "python2"
  },
  "language_info": {
   "codemirror_mode": {
    "name": "ipython",
    "version": 2
   },
   "file_extension": ".py",
   "mimetype": "text/x-python",
   "name": "python",
   "nbconvert_exporter": "python",
   "pygments_lexer": "ipython2",
   "version": "2.7.11"
  }
 },
 "nbformat": 4,
 "nbformat_minor": 0
}
