{
 "cells": [
  {
   "cell_type": "markdown",
   "metadata": {},
   "source": [
    "# Derivativos de Taxa de Juros\n",
    "## Modelo de Kalotay-Williams-Fabozzi\n",
    "\n",
    "Renato Mori, Uirá Caiado. 19 de Junho, 2016"
   ]
  },
  {
   "cell_type": "markdown",
   "metadata": {},
   "source": [
    "**Resumo**\n",
    "\n",
    "*Neste projeto vamos implementar um modelo de um fator chamado [Kalotay-Williams-Fabozzi](https://en.wikipedia.org/wiki/Short-rate_model#One-factor_short-rate_models), onde apenas um único fator estocástico - a taxa de juros instantânea - determina a evolução de toda estrutura a termo da taxa de juros. Vamos descrever brevemente o modelo, detalhar sua implementação, estimar seus parâmetros e demonstrar sua utilização para precificação de alguns títulos que sejam possíveis de compara com preços de mercado.*"
   ]
  },
  {
   "cell_type": "markdown",
   "metadata": {},
   "source": [
    "## 1. Introdução\n",
    "\n",
    "Nesta sessão vamos introduzir o modelo discutido neste trabalho e descrever o problema que será abordado aqui.\n",
    "\n",
    "\n",
    "### 1.1. Modelagem da Curva de Juros\n",
    "\n",
    "Como colocado por Fabozzi, a Taxa de Juros frequentemente é modelada usando equações diferenciais estocásticas ([SDEs](https://en.wikipedia.org/wiki/Stochastic_differential_equation) é a abreviação em inglês). Os modelos mais comumente utilizados são os modelos de um ou dois fatores (estocástios), sendo que o de um usa uma SDE para representar a taxa de juros de curto prazo e a segunda representa tanto a taxa de curto como a de longo prazo. Na dinâmica escolhida para o modelo que deve ser refletidas as características desejadas para a curva, como reversão a média e volatilidade dependente do nível da taxa.\n",
    "\n",
    "Existe duas abordagens para na utilizaçtão de equações estocásticas na modelagem da curva a termo de juros: modelos de equilibrio e modelos de não arbitragem, sendo que ambos são usados para precificar *Bonds* e derivativos sobre taxa de juros.\n",
    "\n",
    "Modelos de equilíbrio começam com uma SDE e desenvolvem uma estrutura que não necessariamente correspondem aos preços observados no mercado. Alguns exemplos de modelos desta classe são o Vasicek, Brenna and Schwartz e o Cox, Ingersoll and Ross.\n",
    "\n",
    "Os modelos de não arbitragem também utilizam uma SDE, porém usam os preços de mercado para gerar os caminhos possíveis para taxa de juros. Esta estrutura segue as características impostas pela SDE as taxas de juros encontradas, quando usadas para precificar um bond qualquer, resultam na mesma taxa de juros observada no mercado. Exemplos são o Ho and Lee, Black, Derman and Toy e o Hull and White.\n",
    "\n",
    "Os modelos de não arbitragem geralmente são escolhidos para precificação de Bonds e derivativos pois garantem que as taxas atuais correspondam ao mercado. Este trabalgho explorará um modelo de não arbitragem chamado Kalotay-Williams-Fabozzi.\n",
    "\n",
    "### 1.2. Modelo Kalotay-Williams-Fabozzi\n",
    "\n",
    "O modelo Kalotay-Williams-Fabozzi (KWF) assume que as mudanças na taxa de juros de curto prazo segue um certo [processo estocástico](https://en.wikipedia.org/wiki/Stochastic_process) que pode ser descrito pela seguinte SDE:\n",
    "\n",
    "$$ \\mathrm{d} \\ln \\left (  r(t) \\right ) = \\theta(t) \\mathrm{d} t + \\sigma\\mathrm{d}Z$$\n",
    "\n",
    "Onde $Z$ é um processo de [Wiener](https://en.wikipedia.org/wiki/Wiener_process), $\\theta$ é o *drift* do processo e $\\sigma$ é a volatilidade da primeira diferença das taxas de curto prazo.  Como o que a equação descreve é a dinâmica do **logarítimo natural** de taxa $r$; e $W$ tem distribuição normal, o $\\ln(r)$ terá distribuição normal e o $r$, log normal. Desta maneira, embora $\\ln(r)$ possa assumir valores negativos, $r$ não assumirá.\n",
    "\n",
    "No trabalho original em que o modelo KWF foi apresentado, os autores não incluiram explicitamente o *drift* na dinâmica do processo na modelagem e, por tanto, também não utilizaremos ele aqui. Assim, assumindo $\\theta=0$, integrando ambos os lados da SDE, chamando $\\ln(r)$ de $f(t)$ e sabendo que $W_t - W_s = W_{t-s}$, ficamos com:\n",
    "\n",
    "\\begin{equation}\n",
    "    \\begin{aligned}\n",
    "    \\int_{t}^{T}{\\mathrm{d} f(t)} &=  \\sigma \\int_{t}^{T}{\\mathrm{d}W_{t}} \\\\\n",
    "    f(T) - f(t) &= \\sigma \\left (  W_{T} - W_{t} \\right ) \\\\\n",
    "    \\ln \\left (  r(T) \\right ) - \\ln \\left (  r(t) \\right ) &= \\sigma \\left (  W_{T} - W_{t} \\right )\\\\\n",
    "    r(T) &= r(t) \\cdot e^{\\sigma \\cdot W_{T-t}}\n",
    "    \\end{aligned}\n",
    "\\end{equation}\n",
    "\n",
    "Na proxima seção, discretizaremos este processo e implementaremos este modelo."
   ]
  },
  {
   "cell_type": "markdown",
   "metadata": {},
   "source": [
    "## 2. Implementando o Modelo\n",
    "\n",
    "Nesta sessão detalharemos e implementaremos o modelo utilizando como referência o artigo original e calibraremos ele para que bata com os dados de mercado.\n",
    "\n",
    "### 2.1. Aproximação da SDE por Árvore Binomial\n",
    "\n",
    "As equações diferenciais estocásticas podem ter sua solução aproximada numericamente utilizando uma árvore binomial. Este método assume que a taxa de juros de curto prazo pode assumir apenas dois valores no período seguinte da discretização, $r_{u}$ ou $r_{d}$, onde $r_{u} > r_{d}$. Como cada nó da árvore dá origem à dois novos nós, a medida que se aumenta os passos de discretização, o número de nós aumenta rapidamente, resultando em uma árvore com $2^{\\,\\,passos-1}$ nós no último passo da árvore, cado um representando uma evolução específica da taxa.\n",
    "\n",
    "Para evitar este crescimento exponencial, é imposto ao modelo que a árvore seja recombinante, ou seja, um movimento de subida seguido por uma queda resulta no mesmo nó de uma queda seguida de uma alta. Isto reduz a árvore para a ter a mesma quantidade de nós que tem de passos no último estágio. Um movimento de alta na taxa de juros tem probabilidade $q$ de ocorrer, enquanto um de queda tem probabilidade de $1 - q$. Combinando cada nó com sua respectiva probabilidade, esta árvore é eqivalente à árvore não recombinante. \n",
    "\n",
    "Utilizaremos probabilidade de $q=0.5$ para garantir a neutralidade a risco na solução da SDE. É importante frisar que isso não implica na probabilidade real da taxa de juros cair. A probabilidade $q$ representa apenas a probabilidade no mundo [*neutro a risco*](https://en.wikipedia.org/wiki/Risk-neutral_measure). Abaixo, vamos testar a estrtutura criada para representar uma árvore binomial. Como será demonstrado, o total de nós criados é equivalente a $\\sum_{i=1}^{n+1}{i}$, onde $n$ é a quantidade de passos."
   ]
  },
  {
   "cell_type": "code",
   "execution_count": 4,
   "metadata": {
    "collapsed": false
   },
   "outputs": [],
   "source": [
    "# bibliotecas necessarias\n",
    "import numpy as np\n",
    "import math\n",
    "import pandas as pd\n",
    "import seaborn as sns\n",
    "import matplotlib.pylab as plt"
   ]
  },
  {
   "cell_type": "code",
   "execution_count": 5,
   "metadata": {
    "collapsed": false
   },
   "outputs": [
    {
     "name": "stdout",
     "output_type": "stream",
     "text": [
      "Tempo para inicar toda a arvore: \n",
      "- Com 10 passos: Criados 66 nós em 0.00 segundos\n",
      "- Com 100 passos: Criados 5,151 nós em 0.10 segundos\n",
      "- Com 250 passos: Criados 31,626 nós em 0.51 segundos\n",
      "- Com 500 passos: Criados 125,751 nós em 2.24 segundos\n",
      "- Com 1000 passos: Criados 501,501 nós em 10.10 segundos\n"
     ]
    }
   ],
   "source": [
    "import time\n",
    "import binomial_tree; reload(binomial_tree);\n",
    "\n",
    "def foo(i):\n",
    "    f_start = time.time()\n",
    "    x = binomial_tree.BinomialTree(i)\n",
    "    x._go_foward(i)\n",
    "    i_rtn = len(x.set_of_nodes)\n",
    "    return i_rtn, time.time() - f_start\n",
    "\n",
    "print \"Tempo para inicar toda a arvore: \"\n",
    "for i in [10, 100, 250, 500, 1000]:\n",
    "    # mais de 1000 nodes trava\n",
    "    i_nodes, f_time = foo(i)\n",
    "    print u\"- Com {} passos: Criados {:0,.0f} nós em {:.2f} segundos\".format(i, i_nodes, f_time)"
   ]
  },
  {
   "cell_type": "markdown",
   "metadata": {},
   "source": [
    "A propriedade da recombinação pode ser visualizada no diagrama abaixo:"
   ]
  },
  {
   "cell_type": "code",
   "execution_count": 6,
   "metadata": {
    "collapsed": false
   },
   "outputs": [
    {
     "name": "stdout",
     "output_type": "stream",
     "text": [
      "Primeiros passos da arvore criada:\n",
      "========================================\n",
      "\n",
      "\n",
      "\t\t\t\t\t\t\t\tUUUUUUUU\n",
      "\t\t\t\t\t\t\tUUUUUUU\t\n",
      "\t\t\t\t\t\tUUUUUU\t\tDUUUUUUU\n",
      "\t\t\t\t\tUUUUU\t\tDUUUUUU\t\n",
      "\t\t\t\tUUUU\t\tDUUUUU\t\tDDUUUUUU\n",
      "\t\t\tUUU\t\tDUUUU\t\tDDUUUUU\t\n",
      "\t\tUU\t\tDUUU\t\tDDUUUU\t\tDDDUUUUU\n",
      "\tU\t\tDUU\t\tDDUUU\t\tDDDUUUU\t\n",
      "_\t\tDU\t\tDDUU\t\tDDDUUU\t\tDDDDUUUU\n",
      "\tD\t\tDDU\t\tDDDUU\t\tDDDDUUU\t\n",
      "\t\tDD\t\tDDDU\t\tDDDDUU\t\tDDDDDUUU\n",
      "\t\t\tDDD\t\tDDDDU\t\tDDDDDUU\t\n",
      "\t\t\t\tDDDD\t\tDDDDDU\t\tDDDDDDUU\n",
      "\t\t\t\t\tDDDDD\t\tDDDDDDU\t\n",
      "\t\t\t\t\t\tDDDDDD\t\tDDDDDDDU\n",
      "\t\t\t\t\t\t\tDDDDDDD\t\n",
      "\t\t\t\t\t\t\t\tDDDDDDDD\n",
      "\n",
      "Plotted 8 from 12 steps\n"
     ]
    }
   ],
   "source": [
    "import binomial_tree; reload(binomial_tree);\n",
    "x = binomial_tree.BinomialTree(12)\n",
    "x._go_foward(12)\n",
    "print 'Primeiros passos da arvore criada:\\n========================================\\n\\n'\n",
    "print x"
   ]
  },
  {
   "cell_type": "markdown",
   "metadata": {},
   "source": [
    "### 2.2. Discretização o Modelo\n",
    "\n",
    "Como pode ser visto no diagrama acima, a taxa $r_U$ está sempre $2$ nós distante da taxa $r_D$  (há um nó vazio entre elas). Como a dinâmica proposta é dinâmica $r(T) = r(t) \\cdot e^{\\sigma \\cdot W_{T-t}}$, considerando que já possuímos o nó mais baixo, se utilizarmos $r_D$ como *proxy*, a taxa logo acima dela será $r_U=r_D\\, e ^{\\,2\\sigma}$, onde $\\sigma$ é a volatilidade constante da taxa [*forward*](http://www.investopedia.com/terms/f/forwardrate.asp) de um ano.\n",
    "\n",
    "```\n",
    "TODO: melhorar esse boloco. Preciso explicar ajuste proposto pelo Renato\n",
    "```\n",
    "\n",
    "Assim o modelo segue de maneira bem direta: itera os nós mais baixos de maneira que, ao atualizar os nós acima no mesmo passo e trazer o valor de um bond hipotético a valor presente, o preço seja seja markoviado, ou seja, que $E\\,[\\,X_{t+1}] = X_t$. A iteração foi feita chutando valores ao redor de um ponto inicial (o juros de mercado) e minimizando os [erros quadrados](http://docs.scipy.org/doc/scipy/reference/generated/scipy.optimize.leastsq.html) entre os preços encontrados pelo modelo e o preço observado no mercado."
   ]
  },
  {
   "cell_type": "code",
   "execution_count": 7,
   "metadata": {
    "collapsed": false
   },
   "outputs": [
    {
     "name": "stdout",
     "output_type": "stream",
     "text": [
      "\t\t\tUUU\n",
      "\t\tUU\t\n",
      "\tU\t\tDUU\n",
      "_\t\tDU\t\n",
      "\tD\t\tDDU\n",
      "\t\tDD\t\n",
      "\t\t\tDDD\n",
      "\n"
     ]
    }
   ],
   "source": [
    "# dados originais do paper\n",
    "import binomial_tree; reload(binomial_tree)\n",
    "l_txindicativa = [0.035, 0.04, 0.045]\n",
    "l_prazo = [1., 2., 3.]\n",
    "\n",
    "my_tree = binomial_tree.KWFTree(l_txindicativa, l_prazo)\n",
    "my_tree.fit_foward_curve(f_sigma=0.1, f_faceval=100.)\n",
    "print my_tree"
   ]
  },
  {
   "cell_type": "code",
   "execution_count": 8,
   "metadata": {
    "collapsed": false
   },
   "outputs": [
    {
     "name": "stdout",
     "output_type": "stream",
     "text": [
      "                 cupon     valor     taxa      prazo     venc      sigma     \n",
      "_                 0.00   100.000     3.500    1.0000    0.0000    0.0000\n",
      "D                 4.50    99.926     4.074    1.0000    1.0000   10.0000\n",
      "U                 4.50    98.074     4.976    1.0000    1.0000   10.0000\n",
      "DD                4.50    99.972     4.530    1.0000    2.0000   10.0000\n",
      "DU                4.50    99.022     5.532    1.0000    2.0000   10.0000\n",
      "UU                4.50    97.886     6.757    1.0000    2.0000   10.0000\n",
      "DDD               4.50   100.000     0.000    1.0000    3.0000    0.0000\n",
      "DDU               4.50   100.000     0.000    1.0000    3.0000    0.0000\n",
      "DUU               4.50   100.000     0.000    1.0000    3.0000    0.0000\n",
      "UUU               4.50   100.000     0.000    1.0000    3.0000    0.0000\n"
     ]
    }
   ],
   "source": [
    "my_tree.get_description()"
   ]
  },
  {
   "cell_type": "markdown",
   "metadata": {},
   "source": [
    "Onde as taxas nos pontos D, DD e DDD foram obtidas por iteração. Utilizando a curva obtida acima, pode-se então calcular o preço de um bond hipotético que vale $\\$\\,100$ no vencimento e paga cupons de $\\$\\,5.25$ por ano."
   ]
  },
  {
   "cell_type": "code",
   "execution_count": 9,
   "metadata": {
    "collapsed": false
   },
   "outputs": [
    {
     "name": "stdout",
     "output_type": "stream",
     "text": [
      "Preço do Bond: 102.07\n"
     ]
    }
   ],
   "source": [
    "import instruments; reload(instruments);\n",
    "bond_example = instruments.Bond(f_face_value=100., f_cupon=5.25)\n",
    "print \"Preço do Bond: {:.2f}\".format(bond_example.get_current_value(my_tree, 3))"
   ]
  },
  {
   "cell_type": "markdown",
   "metadata": {},
   "source": [
    "Abaixo realizamos o mesmo procedimento para fitar uma curva de LTNs. Utilizamos como referência os preços dos bonds no dia $13$ de Junho, que foram levantados pelo site da [ANBIMA](http://portal.anbima.com.br/Pages/home.aspx). Utilizamos $12$ vértices no total. O juros de um nó para outro e a volatilidade foram ajustados ao vencimento de cada ponto. Primeiro, vamos checar quanto temo a estrtutura criada leva para se ajustar aos vértices passados, utilizando bons hipotéticos com cupons nos juros de cada vértice."
   ]
  },
  {
   "cell_type": "code",
   "execution_count": 10,
   "metadata": {
    "collapsed": false
   },
   "outputs": [],
   "source": [
    "import binomial_tree; reload(binomial_tree)\n",
    "import pandas as pd\n",
    "# definindo parametros\n",
    "l_txindicativa = [14.152, 14.0265, 13.7596, 13.4663, 13.1995,\n",
    "                  12.9729, 12.8001, 12.7250, 12.6541, 12.5649,\n",
    "                  12.5653, 12.6005]\n",
    "l_prazo = [9., 74., 136., 199., 260., 324., 385., 446., 509, 635., 758., 888.]\n",
    "l_txindicativa = [x/100. for x in l_txindicativa]"
   ]
  },
  {
   "cell_type": "code",
   "execution_count": 11,
   "metadata": {
    "collapsed": false
   },
   "outputs": [
    {
     "name": "stdout",
     "output_type": "stream",
     "text": [
      "1 loop, best of 3: 603 ms per loop\n"
     ]
    }
   ],
   "source": [
    "# testa tempo\n",
    "def foo():\n",
    "    my_tree = binomial_tree.KWFTree([x for x in l_txindicativa],\n",
    "                                    [x/252. for x in l_prazo])\n",
    "    my_tree.fit_foward_curve(f_sigma=0.1)\n",
    "    \n",
    "%timeit foo()"
   ]
  },
  {
   "cell_type": "code",
   "execution_count": 66,
   "metadata": {
    "collapsed": false
   },
   "outputs": [],
   "source": [
    "#cria arvore\n",
    "import binomial_tree; reload(binomial_tree)\n",
    "my_tree = binomial_tree.KWFTree([x for x in l_txindicativa],\n",
    "                                [x/252. for x in l_prazo])\n",
    "my_tree.fit_foward_curve(f_sigma=0.1, f_faceval=1000.)"
   ]
  },
  {
   "cell_type": "code",
   "execution_count": 25,
   "metadata": {
    "collapsed": false
   },
   "outputs": [
    {
     "name": "stdout",
     "output_type": "stream",
     "text": [
      "                 cupon     valor     taxa      prazo     venc      sigma     \n",
      "_                 0.00  1000.000    14.152    0.0357    0.0000    0.0000\n",
      "D                 4.25  1032.765    12.622    0.0357    0.0357   10.0000\n",
      "U                 4.25   968.216    15.417    0.0357    0.0357   10.0000\n",
      "DD               31.08  1062.316    10.907    0.2579    0.2937   10.0000\n",
      "DU               31.08  1005.360    13.321    0.2579    0.2937   10.0000\n",
      "UU               31.08   941.862    16.271    0.2579    0.2937   10.0000\n",
      "DDD              29.63  1084.957     9.373    0.2460    0.5397   10.0000\n",
      "DDU              29.63  1035.224    11.448    0.2460    0.5397   10.0000\n",
      "DUU              29.63   979.065    13.983    0.2460    0.5397   10.0000\n",
      "UUU              29.63   916.580    17.079    0.2460    0.5397   10.0000\n",
      "DDDD             30.11  1100.834     8.103    0.2500    0.7897   10.0000\n",
      "...\n"
     ]
    }
   ],
   "source": [
    "my_tree.get_description()"
   ]
  },
  {
   "cell_type": "markdown",
   "metadata": {},
   "source": [
    "Com a curva ajustada, vamos calcular os preços atuais de zeros-cupons que tem principal de $\\$\\,1.000$ para cada um dos vértices e comparar com os seguintes PUs:"
   ]
  },
  {
   "cell_type": "code",
   "execution_count": 26,
   "metadata": {
    "collapsed": false
   },
   "outputs": [
    {
     "name": "stdout",
     "output_type": "stream",
     "text": [
      "PU do prazo    9: 995.28\n",
      "PU do prazo   74: 962.19\n",
      "PU do prazo  136: 932.79\n",
      "PU do prazo  199: 905.05\n",
      "PU do prazo  260: 879.93\n",
      "PU do prazo  324: 854.85\n",
      "PU do prazo  385: 831.92\n",
      "PU do prazo  446: 808.97\n",
      "PU do prazo  509: 786.10\n",
      "PU do prazo  635: 742.12\n",
      "PU do prazo  758: 700.45\n",
      "PU do prazo  888: 658.24\n"
     ]
    }
   ],
   "source": [
    "for f_r, f_prazo in zip(l_txindicativa, l_prazo):\n",
    "    f_aux = 1000./(1+f_r)**(f_prazo/252.)\n",
    "    print \"PU do prazo {:4.0f}: {:.2f}\".format(f_prazo, f_aux)"
   ]
  },
  {
   "cell_type": "code",
   "execution_count": 27,
   "metadata": {
    "collapsed": false
   },
   "outputs": [
    {
     "name": "stdout",
     "output_type": "stream",
     "text": [
      "1: 995.28\n",
      "2: 962.19\n",
      "3: 932.81\n",
      "4: 905.13\n",
      "5: 880.12\n",
      "6: 855.17\n",
      "7: 832.39\n",
      "8: 809.52\n",
      "9: 786.74\n",
      "10: 742.89\n",
      "11: 701.18\n",
      "12: 658.79\n"
     ]
    }
   ],
   "source": [
    "# calcula precos dos bonds\n",
    "import instruments; reload(instruments);\n",
    "bond_example = instruments.Bond(f_face_value=1000., f_cupon=0.)\n",
    "for i in xrange(1, 13):\n",
    "    print \"{}: {:5.2f}\".format(i, bond_example.get_current_value(my_tree, i_steps=i))"
   ]
  },
  {
   "cell_type": "markdown",
   "metadata": {
    "collapsed": false
   },
   "source": [
    "Como observado, os valores ficam muito próximos, porém ainda não condizem com os valores de mercado. Para garantir que o modelo convirja para os preços desejados, ao invés de calcularmos um bond hipotético que paga cupons para fazermos a aproximação, como feito no paper, faremos com um zero cupon e imporemos que o modelo se iguale os PUs originais."
   ]
  },
  {
   "cell_type": "code",
   "execution_count": 69,
   "metadata": {
    "collapsed": false
   },
   "outputs": [
    {
     "name": "stdout",
     "output_type": "stream",
     "text": [
      "                 cupon     valor     taxa      prazo     venc      sigma     \n",
      "_                 0.00   658.236    14.152    0.0357    0.0000    0.0000\n",
      "D                 0.00   666.684    13.959    0.0357    0.0357    0.3571\n",
      "U                 0.00   656.026    14.059    0.0357    0.0357    0.3571\n",
      "DD                0.00   694.906    13.051    0.2579    0.2937    1.4683\n",
      "DU                0.00   684.169    13.439    0.2579    0.2937    1.4683\n",
      "UU                0.00   673.166    13.840    0.2579    0.2937    1.4683\n",
      "DDD               0.00   721.363    12.157    0.2460    0.5397    1.7989\n",
      "DDU               0.00   711.032    12.602    0.2460    0.5397    1.7989\n",
      "DUU               0.00   700.423    13.064    0.2460    0.5397    1.7989\n",
      "UUU               0.00   689.536    13.542    0.2460    0.5397    1.7989\n",
      "DDDD              0.00   747.234    11.390    0.2500    0.7897    1.9742\n",
      "...\n"
     ]
    }
   ],
   "source": [
    "#cria arvore\n",
    "import binomial_tree; reload(binomial_tree)\n",
    "my_tree = binomial_tree.KWFTreePU([x for x in l_txindicativa],\n",
    "                                [x/252. for x in l_prazo])\n",
    "my_tree.fit_foward_curve(f_sigma=0.1, f_faceval=1000.)\n",
    "my_tree.get_description()"
   ]
  },
  {
   "cell_type": "code",
   "execution_count": 70,
   "metadata": {
    "collapsed": false
   },
   "outputs": [
    {
     "name": "stdout",
     "output_type": "stream",
     "text": [
      "1: 995.28\n",
      "2: 962.19\n",
      "3: 932.79\n",
      "4: 905.05\n",
      "5: 879.93\n",
      "6: 854.85\n",
      "7: 831.92\n",
      "8: 808.97\n",
      "9: 786.10\n",
      "10: 742.12\n",
      "11: 700.45\n",
      "12: 658.24\n"
     ]
    }
   ],
   "source": [
    "bond_example = instruments.Bond(f_face_value=1000., f_cupon=0.)\n",
    "for i in xrange(1, 13):\n",
    "    print \"{}: {:5.2f}\".format(i, bond_example.get_current_value(my_tree, i_steps=i))"
   ]
  },
  {
   "cell_type": "markdown",
   "metadata": {},
   "source": [
    "### 2.3. Por que Árvores Binomiais Funcionam ?"
   ]
  },
  {
   "cell_type": "markdown",
   "metadata": {},
   "source": [
    "É interessante notar que os modelos de árvore binomial, de maneira geral, usam a recombinação para diminuir a quantidade de simulações executadas. Porém, mantém as características da distribuição resultante se todos os caminhos possíveis fossem criados. Por exemplo, se criarmos todos os caminhos possíveis para a árvore atual com $12$ vértices teremos:"
   ]
  },
  {
   "cell_type": "code",
   "execution_count": 71,
   "metadata": {
    "collapsed": false
   },
   "outputs": [
    {
     "name": "stdout",
     "output_type": "stream",
     "text": [
      "Quantidade de caminhos gerados: 2048\n"
     ]
    }
   ],
   "source": [
    "df = bond_example.get_range_of_values(my_tree, i_steps=12)\n",
    "print \"Quantidade de caminhos gerados: {}\".format(df.shape[0])"
   ]
  },
  {
   "cell_type": "markdown",
   "metadata": {},
   "source": [
    "A média dos valores gerados será igual ao valor encontrado utilizando apenas a estrutura original, como pode ser visto abaixo para o último vértice:"
   ]
  },
  {
   "cell_type": "code",
   "execution_count": 72,
   "metadata": {
    "collapsed": false
   },
   "outputs": [
    {
     "name": "stdout",
     "output_type": "stream",
     "text": [
      "Preço encontrado do vértice 12: 658.24\n"
     ]
    }
   ],
   "source": [
    "print \"Preço encontrado do vértice {}: {:5.2f}\".format(12, df.mean())"
   ]
  },
  {
   "cell_type": "markdown",
   "metadata": {},
   "source": [
    "Todos os caminhos gerados podem ser visualizados na treliça abaixo:"
   ]
  },
  {
   "cell_type": "code",
   "execution_count": 73,
   "metadata": {
    "collapsed": false
   },
   "outputs": [],
   "source": [
    "#cria arvore e calcula taxas\n",
    "bond_example = instruments.Bond(f_face_value=1000., f_cupon=0.)\n",
    "d_rtn = {}\n",
    "for i in xrange(1, 13):\n",
    "    df_aux = bond_example.get_range_of_values(my_tree, i_steps=i)\n",
    "    f_time = l_prazo[i-1]/252.\n",
    "    df_aux = (1000./df_aux) ** (1./ f_time) - 1\n",
    "    d_rtn[f_time] = list(df_aux.values)"
   ]
  },
  {
   "cell_type": "code",
   "execution_count": 74,
   "metadata": {
    "collapsed": false
   },
   "outputs": [
    {
     "data": {
      "image/png": "[encoded data removed]",
      "text/plain": [
       "<matplotlib.figure.Figure at 0x11a56f410>"
      ]
     },
     "metadata": {},
     "output_type": "display_data"
    }
   ],
   "source": [
    "# plota todas as curva geradas\n",
    "df_curves = pd.DataFrame(d_rtn)\n",
    "ax1 = df_curves.T.plot(legend=False)\n",
    "ax1.set_xlabel('Prazos em anos')\n",
    "ax1.set_ylabel('Taxas')\n",
    "ax1.set_title(u'Curvas Geradas pela Árvore\\n', fontsize=16);"
   ]
  },
  {
   "cell_type": "markdown",
   "metadata": {},
   "source": [
    "Agora, comparando a média de todas as curvas geradas com os preços de mercado, temos:"
   ]
  },
  {
   "cell_type": "code",
   "execution_count": 75,
   "metadata": {
    "collapsed": false
   },
   "outputs": [
    {
     "data": {
      "image/png": "[encoded data removed]",
      "text/plain": [
       "<matplotlib.figure.Figure at 0x11aadb410>"
      ]
     },
     "metadata": {},
     "output_type": "display_data"
    }
   ],
   "source": [
    "# compara curva media e curva de mercado\n",
    "df_plot = pd.DataFrame(df_curves.mean())\n",
    "df_plot.columns = [u\"Média das Simulações\"]\n",
    "ax = df_plot.plot()\n",
    "df_plot = pd.DataFrame(l_txindicativa, index=[x/252. for x in l_prazo])\n",
    "df_plot.columns = [\"Mercado\"]\n",
    "df_plot.plot(style='ro', alpha = 0.7, ax=ax)\n",
    "ax.set_title(u\"Comparação de Curvas\\n\", fontsize=16)\n",
    "ax.set_xlabel('Prazos em anos')\n",
    "ax.set_ylabel('Taxas');"
   ]
  },
  {
   "cell_type": "markdown",
   "metadata": {},
   "source": [
    "Por fim, ainda podemos visualizar todas os preços possíveis para o bond do último vértice. A distribuição é centrada no preço de mercado do bond, por construção."
   ]
  },
  {
   "cell_type": "code",
   "execution_count": 76,
   "metadata": {
    "collapsed": false
   },
   "outputs": [
    {
     "data": {
      "image/png": "[encoded data removed]",
      "text/plain": [
       "<matplotlib.figure.Figure at 0x11cf02050>"
      ]
     },
     "metadata": {},
     "output_type": "display_data"
    }
   ],
   "source": [
    "ax = df.hist(bins=20)\n",
    "ax.set_xlabel(\"Valor Atual\")\n",
    "ax.set_title(u\"Valores Atuais Possíveis Para o Bond Precificado\\n\", fontsize=15);"
   ]
  },
  {
   "cell_type": "markdown",
   "metadata": {},
   "source": [
    "O curioso é que com apenas $91$ nós criados ao longo da árvore, é possível se obter o mesmo preço gerado com os $2048$ caminhos criados."
   ]
  },
  {
   "cell_type": "markdown",
   "metadata": {
    "collapsed": true
   },
   "source": [
    "## 3. Aplicação do Modelo\n",
    "\n",
    "Nesta seção iremos ajustar a volatilidade do modelo e usar a curva criada para precificar diversos instrumentos.\n",
    "\n",
    "### 3.1. A importância da Volatilidade\n",
    "\n",
    "A volatilidade é o único parâmetro do modelo e se refere ao $\\sigma$ da taxa *forward* de 1 ano. Para demonstrar sua importância, abaixo iremos plotar a distribuição dos valores encontrados para cada caminho do último vértice da curva. Vamos calcular a distribuição para os $\\sigma=\\{2\\%, 5\\%, 10\\%, 25\\%, 50\\%, 95\\%\\}$. Assim, primeiro vamos calcular as médias da distribuição."
   ]
  },
  {
   "cell_type": "code",
   "execution_count": 157,
   "metadata": {
    "collapsed": true
   },
   "outputs": [],
   "source": [
    "# TODO: criar dispersão para diferentes volatilidades. mostrar que eh importante ter\n",
    "# uma estimacaso crivel dela\n",
    "#cria arvore\n",
    "import binomial_tree; reload(binomial_tree)\n",
    "d_vals = {}\n",
    "bond_example = instruments.Bond(f_face_value=1000., f_cupon=0.)\n",
    "for f_sig in [0.02, 0.05, 0.1, 0.25, 0.5, 0.95]:\n",
    "    my_tree.fit_foward_curve(f_sigma=f_sig, f_faceval=1000.)\n",
    "    df = bond_example.get_range_of_values(my_tree, i_steps=12)\n",
    "    d_vals[f_sig] = list(df.values)"
   ]
  },
  {
   "cell_type": "code",
   "execution_count": 158,
   "metadata": {
    "collapsed": false
   },
   "outputs": [
    {
     "data": {
      "text/plain": [
       "0.02    658.236155\n",
       "0.05    658.236155\n",
       "0.10    658.236155\n",
       "0.25    658.236153\n",
       "0.50    658.236148\n",
       "0.95    658.236122\n",
       "dtype: float64"
      ]
     },
     "execution_count": 158,
     "metadata": {},
     "output_type": "execute_result"
    }
   ],
   "source": [
    "df_sig = pd.DataFrame(d_vals)\n",
    "df_sig.mean()"
   ]
  },
  {
   "cell_type": "markdown",
   "metadata": {},
   "source": [
    "Como esperado, são todas \"iguais\". Agora, vamos plotar o histograma de cada uma das distribuições. Observe que o range de valores do eixo X aumenta em cada gráfico, além da média ficar cada vez mais deslocada para direita."
   ]
  },
  {
   "cell_type": "code",
   "execution_count": 161,
   "metadata": {
    "collapsed": false
   },
   "outputs": [
    {
     "data": {
      "image/png": "[encoded data removed]",
      "text/plain": [
       "<matplotlib.figure.Figure at 0x114d66ad0>"
      ]
     },
     "metadata": {},
     "output_type": "display_data"
    }
   ],
   "source": [
    "df2 = df_sig.stack().reset_index()\n",
    "df2.columns = [\"index\", \"$\\sigma$\", u\"Price\"]\n",
    "g = sns.FacetGrid(df2, col=\"$\\sigma$\", col_wrap=3, margin_titles=True,\n",
    "                  sharex=False, sharey=True, size=3)\n",
    "g.map(plt.hist, 'Price', edgecolor='white')\n",
    "g.fig.suptitle(u\"Distribuição de Preços Atuais Para Diferentes Sigmas\",\n",
    "               fontsize=16, y=1.04);"
   ]
  },
  {
   "cell_type": "markdown",
   "metadata": {},
   "source": [
    "Para resaltar a disperssão para cada um dos sigmas, abaixo vamos plotar a descrição deste dados."
   ]
  },
  {
   "cell_type": "code",
   "execution_count": 163,
   "metadata": {
    "collapsed": false
   },
   "outputs": [
    {
     "data": {
      "text/html": [
       "<div>\n",
       "<table border=\"1\" class=\"dataframe\">\n",
       "  <thead>\n",
       "    <tr style=\"text-align: right;\">\n",
       "      <th></th>\n",
       "      <th>$\\sigma$</th>\n",
       "      <th>0.02</th>\n",
       "      <th>0.05</th>\n",
       "      <th>0.1</th>\n",
       "      <th>0.25</th>\n",
       "      <th>0.5</th>\n",
       "      <th>0.95</th>\n",
       "    </tr>\n",
       "  </thead>\n",
       "  <tbody>\n",
       "    <tr>\n",
       "      <th rowspan=\"8\" valign=\"top\">Price</th>\n",
       "      <th>count</th>\n",
       "      <td>2048.000000</td>\n",
       "      <td>2048.000000</td>\n",
       "      <td>2048.000000</td>\n",
       "      <td>2048.000000</td>\n",
       "      <td>2048.000000</td>\n",
       "      <td>2048.000000</td>\n",
       "    </tr>\n",
       "    <tr>\n",
       "      <th>mean</th>\n",
       "      <td>12.600822</td>\n",
       "      <td>12.602511</td>\n",
       "      <td>12.608550</td>\n",
       "      <td>12.651168</td>\n",
       "      <td>12.808162</td>\n",
       "      <td>13.409541</td>\n",
       "    </tr>\n",
       "    <tr>\n",
       "      <th>std</th>\n",
       "      <td>0.126563</td>\n",
       "      <td>0.316510</td>\n",
       "      <td>0.633743</td>\n",
       "      <td>1.597096</td>\n",
       "      <td>3.287308</td>\n",
       "      <td>6.905992</td>\n",
       "    </tr>\n",
       "    <tr>\n",
       "      <th>min</th>\n",
       "      <td>12.212594</td>\n",
       "      <td>11.658470</td>\n",
       "      <td>10.804274</td>\n",
       "      <td>8.690043</td>\n",
       "      <td>6.281002</td>\n",
       "      <td>3.958541</td>\n",
       "    </tr>\n",
       "    <tr>\n",
       "      <th>25%</th>\n",
       "      <td>12.512740</td>\n",
       "      <td>12.380292</td>\n",
       "      <td>12.158345</td>\n",
       "      <td>11.491909</td>\n",
       "      <td>10.397421</td>\n",
       "      <td>8.570103</td>\n",
       "    </tr>\n",
       "    <tr>\n",
       "      <th>50%</th>\n",
       "      <td>12.599974</td>\n",
       "      <td>12.597249</td>\n",
       "      <td>12.587588</td>\n",
       "      <td>12.522114</td>\n",
       "      <td>12.305924</td>\n",
       "      <td>11.660371</td>\n",
       "    </tr>\n",
       "    <tr>\n",
       "      <th>75%</th>\n",
       "      <td>12.688215</td>\n",
       "      <td>12.819759</td>\n",
       "      <td>13.036637</td>\n",
       "      <td>13.676681</td>\n",
       "      <td>14.669622</td>\n",
       "      <td>16.249875</td>\n",
       "    </tr>\n",
       "    <tr>\n",
       "      <th>max</th>\n",
       "      <td>13.003875</td>\n",
       "      <td>13.639262</td>\n",
       "      <td>14.784376</td>\n",
       "      <td>18.965234</td>\n",
       "      <td>29.174831</td>\n",
       "      <td>63.345630</td>\n",
       "    </tr>\n",
       "  </tbody>\n",
       "</table>\n",
       "</div>"
      ],
      "text/plain": [
       "$\\sigma$            0.02         0.05         0.10         0.25         0.50  \\\n",
       "Price count  2048.000000  2048.000000  2048.000000  2048.000000  2048.000000   \n",
       "      mean     12.600822    12.602511    12.608550    12.651168    12.808162   \n",
       "      std       0.126563     0.316510     0.633743     1.597096     3.287308   \n",
       "      min      12.212594    11.658470    10.804274     8.690043     6.281002   \n",
       "      25%      12.512740    12.380292    12.158345    11.491909    10.397421   \n",
       "      50%      12.599974    12.597249    12.587588    12.522114    12.305924   \n",
       "      75%      12.688215    12.819759    13.036637    13.676681    14.669622   \n",
       "      max      13.003875    13.639262    14.784376    18.965234    29.174831   \n",
       "\n",
       "$\\sigma$            0.95  \n",
       "Price count  2048.000000  \n",
       "      mean     13.409541  \n",
       "      std       6.905992  \n",
       "      min       3.958541  \n",
       "      25%       8.570103  \n",
       "      50%      11.660371  \n",
       "      75%      16.249875  \n",
       "      max      63.345630  "
      ]
     },
     "execution_count": 163,
     "metadata": {},
     "output_type": "execute_result"
    }
   ],
   "source": [
    "df3 = df2.copy()\n",
    "df3.drop(\"index\", axis=1, inplace=True)\n",
    "df3.Price = ((1000./df3.Price)**(1/(l_prazo[-1]/252.)) - 1) * 100.\n",
    "df_stat = df3.groupby(\"$\\sigma$\").describe().unstack().T\n",
    "df_stat"
   ]
  },
  {
   "cell_type": "markdown",
   "metadata": {},
   "source": [
    "### 3.2. Ajustando a Volatilidade"
   ]
  },
  {
   "cell_type": "markdown",
   "metadata": {},
   "source": [
    "Para estimar a volatilidade, vamos calcular a volatilidade diária da primeira diferença da taxa *forward* entre os DIs com maior liquidez, que são os contratos com vencimento em janeiro de 2017 e 2018. Esta volatilidade será anualizada para 1 ano. Vamos pegar a curva ao meio dia dos últimos três meeses para realizar os cálculos."
   ]
  },
  {
   "cell_type": "code",
   "execution_count": 232,
   "metadata": {
    "collapsed": true
   },
   "outputs": [],
   "source": [
    "df_di_prices = pd.read_csv(\"di_fut_price.tsv\", index_col=\"DATE\", parse_dates=\"DATE\")\n",
    "df_di_du = pd.read_csv(\"di_fut_maturity.tsv\", index_col=\"DATE\", parse_dates=\"DATE\")"
   ]
  },
  {
   "cell_type": "code",
   "execution_count": 237,
   "metadata": {
    "collapsed": false
   },
   "outputs": [
    {
     "data": {
      "text/plain": [
       "DI1F17     189\n",
       "DI1F18     438\n",
       "DI1F19     688\n",
       "DI1F20     941\n",
       "DI1F21    1192\n",
       "DI1F22    1443\n",
       "DI1F23    1694\n",
       "DI1F24    1943\n",
       "DI1F25    2197\n",
       "DI1F26    2450\n",
       "DI1F27    2700\n",
       "DI1F30     NaN\n",
       "DI1J17     252\n",
       "DI1J18     499\n",
       "DI1J19     749\n",
       "DI1J20    1003\n",
       "DI1J21    1253\n",
       "DI1K16     NaN\n",
       "DI1M16     NaN\n",
       "DI1N16      62\n",
       "DI1N17     313\n",
       "DI1N18     562\n",
       "DI1N19     811\n",
       "DI1N20    1064\n",
       "DI1N21    1315\n",
       "DI1N22     NaN\n",
       "DI1N23     NaN\n",
       "DI1N24     NaN\n",
       "DI1Q16     NaN\n",
       "DI1U16     NaN\n",
       "DI1V16     127\n",
       "DI1V17     377\n",
       "DI1V18     626\n",
       "DI1V19     877\n",
       "DI1V20    1129\n",
       "DI1V21    1380\n",
       "DI1X16     NaN\n",
       "Name: 2016-04-04 09:20:00, dtype: float64"
      ]
     },
     "execution_count": 237,
     "metadata": {},
     "output_type": "execute_result"
    }
   ],
   "source": [
    "df_di_du.ix[0, :]"
   ]
  },
  {
   "cell_type": "code",
   "execution_count": 238,
   "metadata": {
    "collapsed": false
   },
   "outputs": [
    {
     "data": {
      "text/plain": [
       "-249"
      ]
     },
     "execution_count": 238,
     "metadata": {},
     "output_type": "execute_result"
    }
   ],
   "source": [
    "189 - 438"
   ]
  },
  {
   "cell_type": "code",
   "execution_count": null,
   "metadata": {
    "collapsed": true
   },
   "outputs": [],
   "source": []
  },
  {
   "cell_type": "code",
   "execution_count": null,
   "metadata": {
    "collapsed": true
   },
   "outputs": [],
   "source": [
    "### 3.3. Como a distribuição "
   ]
  },
  {
   "cell_type": "code",
   "execution_count": null,
   "metadata": {
    "collapsed": true
   },
   "outputs": [],
   "source": []
  },
  {
   "cell_type": "code",
   "execution_count": null,
   "metadata": {
    "collapsed": true
   },
   "outputs": [],
   "source": []
  },
  {
   "cell_type": "code",
   "execution_count": null,
   "metadata": {
    "collapsed": true
   },
   "outputs": [],
   "source": []
  },
  {
   "cell_type": "code",
   "execution_count": null,
   "metadata": {
    "collapsed": true
   },
   "outputs": [],
   "source": []
  },
  {
   "cell_type": "code",
   "execution_count": null,
   "metadata": {
    "collapsed": true
   },
   "outputs": [],
   "source": []
  },
  {
   "cell_type": "markdown",
   "metadata": {
    "collapsed": true
   },
   "source": [
    "### 3.4. Precificando Diferentes Instrumentos\n",
    "\n",
    "\n",
    "bla bla"
   ]
  },
  {
   "cell_type": "code",
   "execution_count": null,
   "metadata": {
    "collapsed": true
   },
   "outputs": [],
   "source": []
  },
  {
   "cell_type": "code",
   "execution_count": null,
   "metadata": {
    "collapsed": true
   },
   "outputs": [],
   "source": []
  },
  {
   "cell_type": "code",
   "execution_count": null,
   "metadata": {
    "collapsed": true
   },
   "outputs": [],
   "source": []
  },
  {
   "cell_type": "code",
   "execution_count": null,
   "metadata": {
    "collapsed": true
   },
   "outputs": [],
   "source": []
  },
  {
   "cell_type": "code",
   "execution_count": null,
   "metadata": {
    "collapsed": true
   },
   "outputs": [],
   "source": []
  },
  {
   "cell_type": "markdown",
   "metadata": {},
   "source": [
    "## 4. Conclusão\n",
    "\n",
    "bla bla\n",
    "\n",
    "O modelo poderia ser utilizado de maneira relevatnte para tomada de decisão em trade, desde que se achasse outro método para criar uma curva crível.  \n",
    "\n",
    "\n",
    "\n",
    "## 5. Últimas Considerações\n",
    "\n",
    "bla bla\n",
    "\n",
    "Talvez se não mantesse todos os nós em memória fosse uma boa. Também criei todos os caminhos na força bruta, mas isso é inviável. Seria melhor criar a distrinuiçao ponderando cada valor pela respectiva probabilidade e criando uma distribuição hipotética"
   ]
  },
  {
   "cell_type": "code",
   "execution_count": null,
   "metadata": {
    "collapsed": true
   },
   "outputs": [],
   "source": []
  },
  {
   "cell_type": "code",
   "execution_count": null,
   "metadata": {
    "collapsed": true
   },
   "outputs": [],
   "source": []
  },
  {
   "cell_type": "code",
   "execution_count": null,
   "metadata": {
    "collapsed": true
   },
   "outputs": [],
   "source": []
  },
  {
   "cell_type": "markdown",
   "metadata": {},
   "source": [
    "#### TODO:\n",
    "- Implementar (OK)\n",
    "- Levantar os preços histórico dos títulos: NTB (OK)\n",
    "- Apresentar os principais pontos da abordagem (hipóteses, limitações e etc)\n",
    "- detalhar o processo de calibração (juros e vol)\n",
    "- Detalhar a determiação dos parâmetros do modelo ($\\sigma$)\n",
    "- Checar se tem base de dados de opções (Call Européia) de Juros\n",
    "- Demonstrar a precificação de 2 derivativos mais complexos (opcional compara com mercado)\n"
   ]
  },
  {
   "cell_type": "code",
   "execution_count": null,
   "metadata": {
    "collapsed": true
   },
   "outputs": [],
   "source": []
  },
  {
   "cell_type": "code",
   "execution_count": null,
   "metadata": {
    "collapsed": true
   },
   "outputs": [],
   "source": []
  },
  {
   "cell_type": "markdown",
   "metadata": {},
   "source": [
    "*Style notebook and change matplotlib defaults*"
   ]
  },
  {
   "cell_type": "code",
   "execution_count": 1,
   "metadata": {
    "collapsed": false
   },
   "outputs": [
    {
     "data": {
      "text/html": [
       "<style>\n",
       "    @font-face {\n",
       "        font-family: \"Computer Modern\";\n",
       "        src: url('http://9dbb143991406a7c655e-aa5fcb0a5a4ec34cff238a2d56ca4144.r56.cf5.rackcdn.com/cmunss.otf');\n",
       "    }\n",
       "    @font-face {\n",
       "        font-family: \"Computer Modern\";\n",
       "        font-weight: bold;\n",
       "        src: url('http://9dbb143991406a7c655e-aa5fcb0a5a4ec34cff238a2d56ca4144.r56.cf5.rackcdn.com/cmunsx.otf');\n",
       "    }\n",
       "    @font-face {\n",
       "        font-family: \"Computer Modern\";\n",
       "        font-style: oblique;\n",
       "        src: url('http://9dbb143991406a7c655e-aa5fcb0a5a4ec34cff238a2d56ca4144.r56.cf5.rackcdn.com/cmunsi.otf');\n",
       "    }\n",
       "    @font-face {\n",
       "        font-family: \"Computer Modern\";\n",
       "        font-weight: bold;\n",
       "        font-style: oblique;\n",
       "        src: url('http://9dbb143991406a7c655e-aa5fcb0a5a4ec34cff238a2d56ca4144.r56.cf5.rackcdn.com/cmunso.otf');\n",
       "    }\n",
       "    div.cell{\n",
       "        width:800px;\n",
       "        margin-left:16% !important;\n",
       "        margin-right:auto;\n",
       "    }\n",
       "    h1 {\n",
       "        font-family: Helvetica, serif;\n",
       "    }\n",
       "    h4{\n",
       "        margin-top:12px;\n",
       "        margin-bottom: 3px;\n",
       "       }\n",
       "    div.text_cell_render{\n",
       "        font-family: Computer Modern, \"Helvetica Neue\", Arial, Helvetica, Geneva, sans-serif;\n",
       "        line-height: 145%;\n",
       "        font-size: 130%;\n",
       "        width:800px;\n",
       "        margin-left:auto;\n",
       "        margin-right:auto;\n",
       "    }\n",
       "    .CodeMirror{\n",
       "            font-family: \"Source Code Pro\", source-code-pro,Consolas, monospace;\n",
       "    }\n",
       "    .prompt{\n",
       "        display: None;\n",
       "    }\n",
       "    .text_cell_render h5 {\n",
       "        font-weight: 300;\n",
       "        font-size: 22pt;\n",
       "        color: #4057A1;\n",
       "        font-style: italic;\n",
       "        margin-bottom: .5em;\n",
       "        margin-top: 0.5em;\n",
       "        display: block;\n",
       "    }\n",
       "\n",
       "    .warning{\n",
       "        color: rgb( 240, 20, 20 )\n",
       "        }\n",
       "</style>\n",
       "\n",
       "\n",
       "\n",
       "<style>\n",
       "    table {\n",
       "        overflow:hidden;\n",
       "        font-family: Computer Modern, \"Helvetica Neue\", Arial, Helvetica, Geneva, sans-serif;\n",
       "        font-size: 12px;\n",
       "        margin: 10px;\n",
       "        width: 480px;\n",
       "        text-align: left;\n",
       "        border-collapse: collapse;\n",
       "        border: 1px solid #d3d3d3;\n",
       "        -moz-border-radius:5px; FF1+;\n",
       "        -webkit-border-radius:5px; Saf3-4;\n",
       "        border-radius:5px;\n",
       "        -moz-box-shadow: 0 0 4px rgba(0, 0, 0, 0.01);\n",
       "    }\n",
       "    th\n",
       "    {\n",
       "        padding: 12px 17px 12px 17px;\n",
       "        font-weight: normal;\n",
       "        font-size: 14px;\n",
       "        border-bottom: 1px dashed #69c;\n",
       "    }\n",
       "\n",
       "    td\n",
       "    {\n",
       "        padding: 7px 17px 7px 17px;\n",
       "\n",
       "    }\n",
       "\n",
       "    tbody tr:hover th\n",
       "    {\n",
       "\n",
       "        background:  #E9E9E9;\n",
       "    }\n",
       "\n",
       "    tbody tr:hover td\n",
       "    {\n",
       "\n",
       "        background:  #E9E9E9;\n",
       "    }\n",
       "\n",
       "</style>\n",
       "\n",
       "<script>\n",
       "    MathJax.Hub.Config({\n",
       "                        TeX: {\n",
       "                           extensions: [\"AMSmath.js\"]\n",
       "                           },\n",
       "                tex2jax: {\n",
       "                    inlineMath: [ ['$','$'], [\"\\\\(\",\"\\\\)\"] ],\n",
       "                    displayMath: [ ['$$','$$'], [\"\\\\[\",\"\\\\]\"] ]\n",
       "                },\n",
       "                displayAlign: 'center', // Change this to 'center' to center equations.\n",
       "                \"HTML-CSS\": {\n",
       "                    styles: {'.MathJax_Display': {\"margin\": 4}}\n",
       "                }\n",
       "        });\n",
       "</script>\n"
      ],
      "text/plain": [
       "<IPython.core.display.HTML object>"
      ]
     },
     "execution_count": 1,
     "metadata": {},
     "output_type": "execute_result"
    }
   ],
   "source": [
    "#loading style sheet\n",
    "from IPython.core.display import HTML\n",
    "HTML(open('ipython_style.css').read())"
   ]
  },
  {
   "cell_type": "code",
   "execution_count": 2,
   "metadata": {
    "collapsed": false
   },
   "outputs": [],
   "source": [
    "#changing matplotlib defaults\n",
    "%matplotlib inline\n",
    "import seaborn as sns\n",
    "sns.set_palette(\"deep\", desat=.6)\n",
    "sns.set_context(rc={\"figure.figsize\": (8, 4)})\n",
    "sns.set_style(\"whitegrid\")\n",
    "sns.set_palette(sns.color_palette(\"PuBuGn_d\", 10))"
   ]
  },
  {
   "cell_type": "code",
   "execution_count": null,
   "metadata": {
    "collapsed": true
   },
   "outputs": [],
   "source": []
  }
 ],
 "metadata": {
  "kernelspec": {
   "display_name": "Python 2",
   "language": "python",
   "name": "python2"
  },
  "language_info": {
   "codemirror_mode": {
    "name": "ipython",
    "version": 2
   },
   "file_extension": ".py",
   "mimetype": "text/x-python",
   "name": "python",
   "nbconvert_exporter": "python",
   "pygments_lexer": "ipython2",
   "version": "2.7.11"
  }
 },
 "nbformat": 4,
 "nbformat_minor": 0
}
