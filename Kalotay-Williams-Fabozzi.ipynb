{
 "cells": [
  {
   "cell_type": "markdown",
   "metadata": {},
   "source": [
    "# Derivativos de Taxa de Juros\n",
    "## Modelo de Kalotay-Williams-Fabozzi\n",
    "\n",
    "Renato Mori, Uirá Caiado. 19 de Junho, 2016"
   ]
  },
  {
   "cell_type": "markdown",
   "metadata": {},
   "source": [
    "**Resumo**\n",
    "\n",
    "*Neste projeto vamos implementar um modelo de um fator chamado [Kalotay-Williams-Fabozzi](https://en.wikipedia.org/wiki/Short-rate_model#One-factor_short-rate_models), onde apenas um único fator estocástico - a taxa de juros instantânea - determina a evolução de toda estrutura a termo da taxa de juros. Vamos descrever brevemente o modelo, detalhar sua implementação, estimar seus parâmetros e demonstrar sua utilização para precificação de alguns títulos que sejam possíveis de compara com preços de mercado.*"
   ]
  },
  {
   "cell_type": "markdown",
   "metadata": {},
   "source": [
    "## 1. Introdução\n",
    "\n",
    "Nesta sessão vamos introduzir o modelo discutido neste trabalho e descrever o problema que será abordado aqui.\n",
    "\n",
    "\n",
    "### 1.1. Modelagem da Curva de Juros\n",
    "\n",
    "Como colocado por Fabozzi, a Taxa de Juros frequentemente é modelada usando equações diferenciais estocásticas([SDEs](https://en.wikipedia.org/wiki/Stochastic_differential_equation) é a abreviação em inglês). Os modelos mais comumente utilizados são os modelos de um ou dois fatores (estocástios), sendo que o de um usa uma SDE para representar a taxa de juros de curto prazo e a segunda representa tanto a taxa de curto como a de longo prazo. Na dinâmica escolhida para o modelo que deve ser refletidas as características desejadas para a curva, como reversão a média e volatilidade dependente do nível da taxa.\n",
    "\n",
    "Existe duas abordagens para na utilizaçtão de equações estocásticas na modelagem da curva a termo de juros: modelos de equilibrio e modelos de não arbitragem, sendo que ambos são usados para precificar *Bonds* e derivativos sobre taxa de juros.\n",
    "\n",
    "Modelos de equilíbrio começam com uma SDE e desenvolvem uma estrutura que não necessariamente correspondem aos preços observados no mercado. Alguns exemplos de modelos desta classe são o Vasicek, Brenna and Schwartz e o Cox, Ingersoll and Ross.\n",
    "\n",
    "Os modelos de não arbitragem também utilizam uma SDE, porém usam os preços de mercado para gerar os caminhos possíveis para taxa de juros. Esta estrutura segue as características impostas pela SDE as taxas de juros encontradas, quando usadas para precificar um bond qualquer, resultam na mesma taxa de juros observada no mercado. Exemplos são o Ho and Lee, Black, Derman and Toy e o Hull and White.\n",
    "\n",
    "Os modelos de não arbitragem geralmente são escolhidos para precificação de Bonds e derivativos pois garantem que as taxas atuais correspondam ao mercado. Este trabalgho explorará um modelo de não arbitragem chamado Kalotay-Williams-Fabozzi.\n",
    "\n",
    "### 1.2. Modelo Kalotay-Williams-Fabozzi\n",
    "\n",
    "O modelo Kalotay-Williams-Fabozzi (KWF) assume que as mudanças na taxa de juros de curto prazo segue um certo [processo estocástico](https://en.wikipedia.org/wiki/Stochastic_process) que pode ser descrito pela seguinte SDE:\n",
    "\n",
    "$$ \\mathrm{d} \\ln(r) = \\theta(t) \\mathrm{d} t + \\sigma\\mathrm{d}Z$$\n",
    "\n",
    "Onde $Z$ é um processo de [Wiener](https://en.wikipedia.org/wiki/Wiener_process), $\\theta$ é o *drift* do processo e $\\sigma$ é a volatilidade da primeira diferença das taxas de curto prazo.  Como o que a equação descreve é a dinâmica do **logarítimo natural** de taxa $r$ e $W$ tem distribuição normal, o $\\ln(r)$ terá distribuição normal e o $r$, log normal. Desta maneira, embora $\\ln(r)$ possa assumir valores negativos, $r$ não assumirá.\n",
    "\n",
    "No trabalho original em que o modelo KWF foi apresentado, os autores não incluiram explicitamente o *drift* na dinâmica do processo e, por tanto, também não utilizaremos ele aqui,"
   ]
  },
  {
   "cell_type": "markdown",
   "metadata": {},
   "source": [
    "## 2. Implementando o Modelo\n",
    "\n",
    "Nesta sessão detalharemos e implementaremos o modelo utilizando como referência o artigo original e calibraremos ele para que bata com os dados de mercado.\n",
    "\n",
    "### 2.1. Aproximação da SDE por Árvore Binomial\n",
    "\n",
    "As equações diferenciais estocásticas podem ter sua solução aproximada numericamente utilizando uma árvore binomial. Este método assume que a taxa de juros de curto prazo pode assumir apenas dois valores no período seguinte da discretização, $r_{u}$ ou $r_{d}$, onde $r_{u} > r_{d}$. Como cada nó da árvore dá origem à dois novos nós, a medida que se aumenta os passos de discretização, o número de nós rapidamente aumenta. Para evitar este crescimento exponencial, é imposto ao modelo que a árvore seja recombinante, ou seja, um movimento de subida seguido por uma queda resulta no mesmo nó de uma queda seguida de uma alta. \n",
    "\n",
    "Um movimento de alta na taxa de juros tem probabilidade $q$ de ocorrer, enquanto um de queda tem probabilidade de $1 - q$. Utilizaremos probabilidade de $q=0.5$ para garantir a netralidade a risco na solução da SDE. É importante frisar que isso não implica na probabilidade real da taxa de juros cair. $q$ representa apenas a probabilidade *neutra a risco*. "
   ]
  },
  {
   "cell_type": "code",
   "execution_count": 1,
   "metadata": {
    "collapsed": false
   },
   "outputs": [],
   "source": [
    "# bibliotecas necessarias\n",
    "import numpy as np\n",
    "import math\n",
    "import pandas as pd\n",
    "import seaborn as sns\n",
    "import matplotlib.pylab as plt"
   ]
  },
  {
   "cell_type": "code",
   "execution_count": 2,
   "metadata": {
    "collapsed": false
   },
   "outputs": [],
   "source": [
    "from collections import defaultdict\n",
    "\n",
    "class DIFFERENT_SOURCES_ERROR(Exception):\n",
    "    '''\n",
    "    DIFFERENT_SOURCES_ERROR is raised when ...\n",
    "    '''\n",
    "    pass\n",
    "\n",
    "\n",
    "class Node(object):\n",
    "    '''\n",
    "    A representation of a single Node in a binary tree\n",
    "    '''\n",
    "    def __init__(self, s_name, f_prob=0.5):\n",
    "        '''\n",
    "        Instatiate a Node object. Save all parameter as attributes\n",
    "        :param s_name: string. The name of the node. Is expected\n",
    "            to be composed just by 'D'(down) and 'U'(up)\n",
    "        '''\n",
    "        # conta a qtde de subidas e descidas para\n",
    "        # organizacao de nos posteriormente\n",
    "        i_d = s_name.count('D') * -1\n",
    "        i_u = s_name.count('U')\n",
    "        i_len = len(s_name)\n",
    "        if s_name == '_':\n",
    "            i_len = 0\n",
    "        self.i_step = i_len\n",
    "        self.i_level = i_d+i_u\n",
    "        self.node_idx = '{},{}'.format(i_len, i_d+i_u)\n",
    "        # guarda nome e inicia branch\n",
    "        self.name = str(s_name)\n",
    "        # inicia parametros do no\n",
    "        self.f_r = None\n",
    "        self.f_time = None\n",
    "        self.f_cupon = None\n",
    "        self.f_value = None\n",
    "        self.f_prob = 0.5\n",
    "    \n",
    "    def set_values(f_r, f_time, f_cupon, f_value):\n",
    "        '''\n",
    "        Set values of the node\n",
    "        '''\n",
    "        self.f_r = f_r\n",
    "        self.f_time = f_time\n",
    "        self.f_cupon = f_cupon\n",
    "        self.f_value = f_value\n",
    "        \n",
    "    def get_childrens(self):\n",
    "        '''\n",
    "        Return the possible childrens of the node\n",
    "        '''\n",
    "        s_name = self.name\n",
    "        if self.name == '_':\n",
    "            s_name = ''\n",
    "        return s_name + 'D',  s_name + 'U'\n",
    "    \n",
    "    def get_source(self):\n",
    "        '''\n",
    "        Return the possible childrens of the node\n",
    "        '''\n",
    "        s_name = self.name\n",
    "        if len(s_name) == 1 and s_name != '_':\n",
    "            return '_'\n",
    "        elif self.name == '_':\n",
    "            s_name = ''\n",
    "        else:\n",
    "            return s_name[:-1]\n",
    "\n",
    "    def __str__(self):\n",
    "        '''\n",
    "        Return the name of the node\n",
    "        '''\n",
    "        return self.name\n",
    "    \n",
    "    def __add__(self, other):\n",
    "        '''\n",
    "        Add Nodes. Return the value of the weighted sum\n",
    "        of face values of the given nodes\n",
    "        :param other: Object. A Node instace\n",
    "        '''\n",
    "        s_src = self.get_source()\n",
    "        # para serem somados, os nodes preciosam ser iguais\n",
    "        if other != other.get_source():\n",
    "            raise DIFFERENT_SOURCES_ERROR\n",
    "        # calcula valor\n",
    "        f_value = self.f_value * self.f_prob\n",
    "        f_value += other.f_value * other.f_prob\n",
    "        \n",
    "        return f_value\n",
    "\n",
    "    def __repr__(self):\n",
    "        '''\n",
    "        Return the name of the node\n",
    "        '''\n",
    "        return self.name\n",
    "\n",
    "    def __eq__(self, other):\n",
    "        '''\n",
    "        Return if a node has different node_idx from the other\n",
    "        :param other: node object. Node to be compared\n",
    "        '''\n",
    "        if isinstance(other, str):\n",
    "            i_aux = other.count('D')*-1 + other.count('U')\n",
    "            i_len = len(other)\n",
    "            if s_name == '_':\n",
    "                i_len = 0\n",
    "            s_aux = '{},{}'.format(i_len, i_aux)\n",
    "            return self.node_idx == s_aux\n",
    "        return self.node_idx == other.node_idx\n",
    "\n",
    "    def __ne__(self, other):\n",
    "        '''\n",
    "        Return if a node has the same node_idx from the other\n",
    "        :param other: node object. Node to be compared\n",
    "        '''\n",
    "        return not self.__eq__(other)\n",
    "\n",
    "    def __hash__(self):\n",
    "        '''\n",
    "        Allow the node object be used as a key in a hash\n",
    "        table\n",
    "        '''\n",
    "        return self.node_idx.__hash__()\n",
    "\n",
    "\n",
    "class BinomialTree(object):\n",
    "    '''\n",
    "    A representation of a Binomial Tree\n",
    "    '''\n",
    "    def __init__(self, i_steps):\n",
    "        '''\n",
    "        Initiate a BinomialTree object. Save all parameter as\n",
    "        attributes\n",
    "        :param i_step: integer. Number of steps in the tree\n",
    "        '''\n",
    "        # python sets se comportam como hastable. O tempo\n",
    "        # de procura eh O(1), e nao O(n) como uma lista\n",
    "        self.set_of_nodes = set([])\n",
    "        # inicia outras variaveis\n",
    "        self.i_steps = i_steps\n",
    "        self.d_step = defaultdict(list)\n",
    "        self.d_level = defaultdict(list)\n",
    "        # insere nodes\n",
    "        node_root = Node('_')\n",
    "        self.d_level[0] = [node_root]\n",
    "        self.d_step[0] = [node_root]\n",
    "        self.set_of_nodes.add(node_root)\n",
    "        # constroi arvore\n",
    "        self.set_branchs(i_steps)\n",
    "\n",
    "    def set_branchs(self, i_steps):\n",
    "        '''\n",
    "        Create all the brachs of the binomial tree using the\n",
    "        first node as root\n",
    "        :param i_step: integer. Number of steps in the tree\n",
    "        '''\n",
    "        # constroi arvore\n",
    "        for i_step in xrange(1, i_steps):\n",
    "            for node in self.d_step[i_step-1]:\n",
    "                s_down, s_up = node.get_childrens()\n",
    "                self.add_node(i_step, s_down)\n",
    "                self.add_node(i_step, s_up)\n",
    "\n",
    "    def add_node(self, i_step, s_name):\n",
    "        '''\n",
    "        Include a new node in the tree. To reduce the number\n",
    "        of nodes, a restriction called recombination condition\n",
    "        is imposed on the algorithm. This make the binomial\n",
    "        method more computationally tractable since the number\n",
    "        of nodes at each step increases by only one node\n",
    "        :param i_step: integer.\n",
    "        :param s_name: string.\n",
    "        '''\n",
    "        node = Node(s_name)\n",
    "        if node not in self.set_of_nodes:\n",
    "            self.set_of_nodes.add(node)\n",
    "            self.d_step[node.i_step].append(node)\n",
    "            self.d_level[node.i_level].append(node)\n",
    "\n",
    "    def __str__(self):\n",
    "        '''\n",
    "        Return ascii representation of the binomial tree,\n",
    "        imposing a limite of 8 nodes to be printed out\n",
    "        '''\n",
    "        # limita passos plotados\n",
    "        i_steps = min(8, self.i_steps)\n",
    "        # itera dicionario de niveis e insere em string tabulada\n",
    "        d_aux = {}\n",
    "        for i_key in xrange(-1 * i_steps, i_steps + 1, 1):\n",
    "            s_aux = ''\n",
    "            for i_inner in xrange(0, i_steps + 1):\n",
    "                valid_node = ''\n",
    "                for node in self.d_level[i_key]:\n",
    "                    if node.i_step == i_inner:\n",
    "                        valid_node = node\n",
    "                s_aux += '{}\\t'.format(valid_node)\n",
    "            d_aux[i_key] = s_aux[:-1] + '\\n'\n",
    "        # organiza chaves\n",
    "        l = d_aux.keys()\n",
    "        l.sort()\n",
    "        # junta strings criadas em uma unica, de maneir aordenada\n",
    "        s_rtn = ''\n",
    "        for i_key in l:\n",
    "            s_rtn += d_aux[i_key]\n",
    "        if i_steps != self.i_steps:\n",
    "            s_rtn += '\\nPlotted {} from {} steps'.format(i_steps, self.i_steps)\n",
    "        return s_rtn"
   ]
  },
  {
   "cell_type": "code",
   "execution_count": 3,
   "metadata": {
    "collapsed": false
   },
   "outputs": [
    {
     "name": "stdout",
     "output_type": "stream",
     "text": [
      "Tempo para inicar toda a arvore: \n",
      "- Com 10 passos: Criados 55 em 0.01 segundos\n",
      "- Com 100 passos: Criados 5,050 em 0.08 segundos\n",
      "- Com 250 passos: Criados 31,375 em 0.45 segundos\n",
      "- Com 500 passos: Criados 125,250 em 1.97 segundos\n",
      "- Com 1000 passos: Criados 500,500 em 8.87 segundos\n"
     ]
    }
   ],
   "source": [
    "import time\n",
    "import binomial_tree; reload(binomial_tree);\n",
    "\n",
    "def foo(i):\n",
    "    f_start = time.time()\n",
    "    x = binomial_tree.BinomialTree(i)\n",
    "    i_rtn = len(x.set_of_nodes)\n",
    "    return i_rtn, time.time() - f_start\n",
    "\n",
    "print \"Tempo para inicar toda a arvore: \"\n",
    "for i in [10, 100, 250, 500, 1000]:\n",
    "    # mais de 1000 nodes trava\n",
    "    i_nodes, f_time = foo(i)\n",
    "    print \"- Com {} passos: Criados {:0,.0f} em {:.2f} segundos\".format(i, i_nodes, f_time)"
   ]
  },
  {
   "cell_type": "code",
   "execution_count": 4,
   "metadata": {
    "collapsed": false
   },
   "outputs": [
    {
     "name": "stdout",
     "output_type": "stream",
     "text": [
      "Primeiros passos da arvore criada:\n",
      "========================================\n",
      "\n",
      "\n",
      "\t\t\t\t\t\t\t\tDDDDDDDD\n",
      "\t\t\t\t\t\t\tDDDDDDD\t\n",
      "\t\t\t\t\t\tDDDDDD\t\tDDDDDDDU\n",
      "\t\t\t\t\tDDDDD\t\tDDDDDDU\t\n",
      "\t\t\t\tDDDD\t\tDDDDDU\t\tDDDDDDUU\n",
      "\t\t\tDDD\t\tDDDDU\t\tDDDDDUU\t\n",
      "\t\tDD\t\tDDDU\t\tDDDDUU\t\tDDDDDUUU\n",
      "\tD\t\tDDU\t\tDDDUU\t\tDDDDUUU\t\n",
      "_\t\tDU\t\tDDUU\t\tDDDUUU\t\tDDDDUUUU\n",
      "\tU\t\tDUU\t\tDDUUU\t\tDDDUUUU\t\n",
      "\t\tUU\t\tDUUU\t\tDDUUUU\t\tDDDUUUUU\n",
      "\t\t\tUUU\t\tDUUUU\t\tDDUUUUU\t\n",
      "\t\t\t\tUUUU\t\tDUUUUU\t\tDDUUUUUU\n",
      "\t\t\t\t\tUUUUU\t\tDUUUUUU\t\n",
      "\t\t\t\t\t\tUUUUUU\t\tDUUUUUUU\n",
      "\t\t\t\t\t\t\tUUUUUUU\t\n",
      "\t\t\t\t\t\t\t\tUUUUUUUU\n",
      "\n",
      "Plotted 8 from 12 steps\n"
     ]
    }
   ],
   "source": [
    "import binomial_tree; reload(binomial_tree);\n",
    "x = binomial_tree.BinomialTree(12)\n",
    "print 'Primeiros passos da arvore criada:\\n========================================\\n\\n'\n",
    "print x"
   ]
  },
  {
   "cell_type": "code",
   "execution_count": null,
   "metadata": {
    "collapsed": true
   },
   "outputs": [],
   "source": []
  },
  {
   "cell_type": "code",
   "execution_count": 84,
   "metadata": {
    "collapsed": true
   },
   "outputs": [],
   "source": [
    "class Node(object):\n",
    "    '''\n",
    "    A representation of a single Node in a binary tree\n",
    "    '''\n",
    "    def __init__(self, s_name, f_prob=0.5):\n",
    "        '''\n",
    "        Instatiate a Node object. Save all parameter as attributes\n",
    "        :param s_name: string. The name of the node. Is expected\n",
    "            to be composed just by 'D'(down) and 'U'(up)\n",
    "        '''\n",
    "        # conta a qtde de subidas e descidas para\n",
    "        # organizacao de nos posteriormente\n",
    "        i_d = s_name.count('D') * -1\n",
    "        i_u = s_name.count('U')\n",
    "        i_len = len(s_name)\n",
    "        if s_name == '_':\n",
    "            i_len = 0\n",
    "        self.i_step = i_len\n",
    "        self.i_level = i_d+i_u\n",
    "        self.node_idx = '{},{}'.format(i_len, i_d+i_u)\n",
    "        # guarda nome e inicia branch\n",
    "        self.name = str(s_name)\n",
    "        # inicia parametros do no\n",
    "        self.f_r = 0.\n",
    "        self.f_time = 0.\n",
    "        self.f_cupon = 0.\n",
    "        self.f_value = 0.\n",
    "        self.f_prob = 0.5\n",
    "    \n",
    "    def set_values(self, f_cupon, f_value, f_r=None, f_time=None):\n",
    "        '''\n",
    "        Set values of the node\n",
    "        '''\n",
    "        if f_r:\n",
    "            self.f_r = f_r\n",
    "        if f_time:\n",
    "            self.f_time = f_time\n",
    "        self.f_cupon = f_cupon\n",
    "        self.f_value = f_value\n",
    "    \n",
    "    def set_rate(self, f_value):\n",
    "        '''\n",
    "        '''\n",
    "        self.f_r = f_r\n",
    "        \n",
    "    def get_childrens(self):\n",
    "        '''\n",
    "        Return the possible childrens of the node\n",
    "        '''\n",
    "        s_name = self.name\n",
    "        if self.name == '_':\n",
    "            s_name = ''\n",
    "        return s_name + 'D',  s_name + 'U'\n",
    "    \n",
    "    def get_source(self):\n",
    "        '''\n",
    "        Return the possible childrens of the node\n",
    "        '''\n",
    "        s_name = self.name\n",
    "        if len(s_name) == 1 and s_name != '_':\n",
    "            return '_'\n",
    "        elif self.name == '_':\n",
    "            s_name = ''\n",
    "        else:\n",
    "            return s_name[:-1]\n",
    "\n",
    "    def __str__(self):\n",
    "        '''\n",
    "        Return the name of the node\n",
    "        '''\n",
    "        return self.name\n",
    "    \n",
    "    def __add__(self, other):\n",
    "        '''\n",
    "        Add Nodes. Return the value of the weighted sum\n",
    "        of face values of the given nodes\n",
    "        :param other: Object. A Node instace\n",
    "        '''\n",
    "        s_src = self.get_source()\n",
    "        # para serem somados, os nodes preciosam ser iguais\n",
    "        if other != other.get_source():\n",
    "            raise DIFFERENT_SOURCES_ERROR\n",
    "        # calcula valor\n",
    "        f_value = self.f_value * self.f_prob\n",
    "        f_value += other.f_value * other.f_prob\n",
    "        \n",
    "        return f_value\n",
    "\n",
    "    def __repr__(self):\n",
    "        '''\n",
    "        Return the name of the node\n",
    "        '''\n",
    "        return self.name\n",
    "\n",
    "    def __eq__(self, other):\n",
    "        '''\n",
    "        Return if a node has different node_idx from the other\n",
    "        :param other: node object. Node to be compared\n",
    "        '''\n",
    "        if isinstance(other, str):\n",
    "            i_aux = other.count('D')*-1 + other.count('U')\n",
    "            i_len = len(other)\n",
    "            if s_name == '_':\n",
    "                i_len = 0\n",
    "            s_aux = '{},{}'.format(i_len, i_aux)\n",
    "            return self.node_idx == s_aux\n",
    "        return self.node_idx == other.node_idx\n",
    "\n",
    "    def __ne__(self, other):\n",
    "        '''\n",
    "        Return if a node has the same node_idx from the other\n",
    "        :param other: node object. Node to be compared\n",
    "        '''\n",
    "        return not self.__eq__(other)\n",
    "\n",
    "    def __hash__(self):\n",
    "        '''\n",
    "        Allow the node object be used as a key in a hash\n",
    "        table\n",
    "        '''\n",
    "        return self.node_idx.__hash__()"
   ]
  },
  {
   "cell_type": "code",
   "execution_count": 201,
   "metadata": {
    "collapsed": false
   },
   "outputs": [],
   "source": [
    "import math\n",
    "from scipy import optimize\n",
    "\n",
    "class DIFFERENT_SOURCES_ERROR(Exception):\n",
    "    '''\n",
    "    DIFFERENT_SOURCES_ERROR is raised when ...\n",
    "    '''\n",
    "    pass\n",
    "\n",
    "\n",
    "class DIFFERENT_LENGTHS_ERROR(Exception):\n",
    "    '''\n",
    "    DIFFERENT_LENGTHS_ERROR is raised when ...\n",
    "    '''\n",
    "    pass\n",
    "\n",
    "\n",
    "def kwf_sde(f_init_rate, f_sigma, i_above_min, f_time):\n",
    "    '''\n",
    "    Return the value of the short rate given by the dynamic\n",
    "    given in the paper\n",
    "    :param f_time: float. time to maturity\n",
    "    :param i_above_min: integer.\n",
    "    '''\n",
    "    theta_dt = 0.\n",
    "    sigma_w = f_sigma * (f_time**0.5) * (i_above_min * 1.)\n",
    "    return f_init_rate * math.exp(sigma_w)\n",
    "\n",
    "\n",
    "class KWFTree(object):\n",
    "    '''\n",
    "    A representation of a Binomial Tree\n",
    "    '''\n",
    "    def __init__(self, l_short_rates, l_maturities):\n",
    "        '''\n",
    "        Initiate a BinomialTree object. Save all parameter as\n",
    "        attributes\n",
    "        :param l_short_rates: list. The short rates to be fitted\n",
    "        :param l_maturities: list. The maturities of the rates\n",
    "        :param f_sigma: float. Dispersion of the short rate\n",
    "        '''\n",
    "        # checa se listas tem mesmo tamanho\n",
    "        if len(l_short_rates) != len(l_maturities):\n",
    "            raise DIFFERENT_LENGTHS_ERROR\n",
    "        self.l_maturities = l_maturities\n",
    "        self.l_short_rates = l_short_rates\n",
    "        # python sets se comportam como hastable. O tempo\n",
    "        # de procura eh O(1), e nao O(n) como uma lista\n",
    "        self.set_of_nodes = set([])\n",
    "        self.d_nodes = defaultdict(float)\n",
    "        # inicia outras variaveis\n",
    "        self.i_steps = len(l_short_rates)\n",
    "        self.d_step = defaultdict(list)\n",
    "        self.d_level = defaultdict(list)\n",
    "        # insere nodes\n",
    "        node_root = Node('_')\n",
    "        node_root.set_values(f_r=l_short_rates[0],\n",
    "                             f_time=l_maturities[0],\n",
    "                             f_cupon=0,\n",
    "                             f_value=None)\n",
    "        self.d_level[0] = [node_root]\n",
    "        self.d_step[0] = [node_root]\n",
    "        self.set_of_nodes.add(node_root)\n",
    "        self.d_nodes[node_root] = node_root\n",
    "        # constroi arvore\n",
    "        self.go_foward(self.i_steps)\n",
    "\n",
    "    def fit_short_term_curve(self, func_rate, f_sigma, f_face_value=100.):\n",
    "        '''\n",
    "        :param func_rate\n",
    "        :param f_sigma\n",
    "        :*param f_face_value\n",
    "        '''\n",
    "        self.f_face_value = f_face_value\n",
    "        self.f_sigma = f_sigma\n",
    "        self.func_rate = func_rate\n",
    "        for i_step in xrange(1, self.i_steps):\n",
    "            self._go_backward(i_step)\n",
    "    \n",
    "    def _get_short_rate(self, f_init_rate, node):\n",
    "        '''\n",
    "        '''\n",
    "        i_above_min = node.i_level - (node.i_step * -1)\n",
    "        f_rtn = self.func_rate(f_init_rate, self.f_sigma, i_above_min, node.f_time)\n",
    "        return f_rtn\n",
    "\n",
    "    def _get_time_step(self, i_step):\n",
    "        '''\n",
    "        '''\n",
    "        f_time = self.l_maturities[i_step]\n",
    "        if i_step==0:\n",
    "            f_time_0 = 0.\n",
    "        else:\n",
    "            f_time_0 = self.l_maturities[i_step-1]\n",
    "        return f_time-f_time_0\n",
    "    \n",
    "    def go_foward(self, i_steps):\n",
    "        '''\n",
    "        Create all the brachs of the binomial tree using the\n",
    "        first node as root\n",
    "        :param i_step: integer. Number of steps in the tree\n",
    "        '''\n",
    "        # constroi arvore\n",
    "        l_time = [0.] + self.l_maturities\n",
    "        for i_step in xrange(1, i_steps+1):\n",
    "            # cria nos do step\n",
    "            for node in self.d_step[i_step-1]:\n",
    "                f_time = l_time[i_step] - l_time[i_step-1]\n",
    "                s_down, s_up = node.get_childrens()\n",
    "                self.add_node(s_down, f_time)\n",
    "                self.add_node(s_up, f_time)\n",
    "\n",
    "    def _go_backward(self, i_step):\n",
    "        '''\n",
    "        Create all the brachs of the binomial tree using the\n",
    "        first node as root\n",
    "        :param i_step: integer. Number of steps in the tree\n",
    "        '''\n",
    "        # preenche valores no passo posterior\n",
    "        f_initial_rate = self.l_short_rates[i_step]\n",
    "        f_face_value = self.f_face_value\n",
    "        f_cupon = f_face_value * self.l_short_rates[i_step]\n",
    "        for node in self.d_step[i_step+1]:\n",
    "            node.set_values(f_cupon=f_cupon,\n",
    "                            f_value=f_face_value)\n",
    "        # itera taxas para fazer root ficar com valor de zero\n",
    "        # TODO: aqui que preciso iterar\n",
    "        res = optimize.minimize(self._set_all_values, f_initial_rate, args=(f_cupon, i_step))\n",
    "    \n",
    "    \n",
    "    def _set_all_values(self, f_rate, f_cupon, i_step):\n",
    "        '''\n",
    "        ...\n",
    "        :param i_step: integer. Step to start iteration.\n",
    "        '''\n",
    "        # preenche taxas do passo atual\n",
    "        for node in self.d_step[i_step]:\n",
    "            node.f_r = self._get_short_rate(f_rate, node)\n",
    "        # itera toda a arvore. Eh esperado que nos anteriores jah\n",
    "        # tenham a taxa setada\n",
    "        for i_aux_step in xrange(i_step, -1, -1):\n",
    "            for node in self.d_step[i_aux_step]:\n",
    "                s_down, s_up = node.get_childrens()\n",
    "                node_down = self[s_down]\n",
    "                node_up = self[s_up]\n",
    "                f_aux = (node_down.f_value + f_cupon) * node.f_prob\n",
    "                f_aux += (node_up.f_value + f_cupon) * node.f_prob\n",
    "                f_aux /= (1+node.f_r)**(node_down.f_time)\n",
    "                node.set_values(f_cupon=f_cupon,\n",
    "                                f_value=f_aux)\n",
    "        return (self[\"_\"].f_value - self.f_face_value)**2\n",
    "    \n",
    "    def add_node(self, s_name, f_time):\n",
    "        '''\n",
    "        Include a new node in the tree. To reduce the number\n",
    "        of nodes, a restriction called recombination condition\n",
    "        is imposed on the algorithm. This make the binomial\n",
    "        method more computationally tractable since the number\n",
    "        of nodes at each step increases by only one node\n",
    "        :param s_name: string.\n",
    "        :param f_time: float.\n",
    "        '''\n",
    "        node = Node(s_name)\n",
    "        if node not in self.set_of_nodes:\n",
    "            node.f_time = f_time\n",
    "            self.set_of_nodes.add(node)\n",
    "            self.d_nodes[node] = node\n",
    "            self.d_step[node.i_step].append(node)\n",
    "            self.d_level[node.i_level].append(node)\n",
    "\n",
    "    def __getitem__(self, s_idx):\n",
    "        '''\n",
    "        Allow direct access to the nodes of the object\n",
    "        '''\n",
    "        if isinstance(s_idx, str):\n",
    "            s_idx = Node(s_idx)\n",
    "        return self.d_nodes[s_idx]\n",
    "\n",
    "    def __str__(self):\n",
    "        '''\n",
    "        Return ascii representation of the binomial tree,\n",
    "        imposing a limite of 8 nodes to be printed out\n",
    "        '''\n",
    "        # limita passos plotados\n",
    "        i_steps = min(8, self.i_steps)\n",
    "        # itera dicionario de niveis e insere em string tabulada\n",
    "        d_aux = {}\n",
    "        for i_key in xrange(-1 * i_steps, i_steps + 1, 1):\n",
    "            s_aux = ''\n",
    "            for i_inner in xrange(0, i_steps + 1):\n",
    "                valid_node = ''\n",
    "                for node in self.d_level[i_key]:\n",
    "                    if node.i_step == i_inner:\n",
    "                        valid_node = node\n",
    "                s_aux += '{}\\t'.format(valid_node)\n",
    "            d_aux[i_key] = s_aux[:-1] + '\\n'\n",
    "        # organiza chaves\n",
    "        l = d_aux.keys()\n",
    "        l.sort()\n",
    "        # junta strings criadas em uma unica, de maneir aordenada\n",
    "        s_rtn = ''\n",
    "        for i_key in l:\n",
    "            s_rtn += d_aux[i_key]\n",
    "        if i_steps != self.i_steps:\n",
    "            s_rtn += '\\nPlotted {} from {} steps'.format(i_steps, self.i_steps)\n",
    "        return s_rtn"
   ]
  },
  {
   "cell_type": "code",
   "execution_count": 325,
   "metadata": {
    "collapsed": false
   },
   "outputs": [
    {
     "name": "stdout",
     "output_type": "stream",
     "text": [
      "Primeiros passos da arvore criada:\n",
      "========================================\n",
      "\n",
      "\t\t\t\n",
      "\t\tDD\t\n",
      "\tD\t\t\n",
      "_\t\tDU\t\n",
      "\tU\t\t\n",
      "\t\tUU\t\n",
      "\t\t\t\n",
      "\n"
     ]
    }
   ],
   "source": [
    "import binomial_tree; reload(binomial_tree);\n",
    "x = binomial_tree.BinomialTree(3)\n",
    "x._go_foward(x.i_steps)\n",
    "print 'Primeiros passos da arvore criada:\\n========================================\\n'\n",
    "print x"
   ]
  },
  {
   "cell_type": "code",
   "execution_count": 397,
   "metadata": {
    "collapsed": false
   },
   "outputs": [
    {
     "name": "stdout",
     "output_type": "stream",
     "text": [
      "Primeiros passos da arvore criada:\n",
      "========================================\n",
      "\n",
      "\t\t\tDDD\n",
      "\t\tDD\t\n",
      "\tD\t\tDDU\n",
      "_\t\tDU\t\n",
      "\tU\t\tDUU\n",
      "\t\tUU\t\n",
      "\t\t\tUUU\n",
      "\n"
     ]
    }
   ],
   "source": [
    "import binomial_tree; reload(binomial_tree);\n",
    "x = binomial_tree.KWFTree([0.035, 0.04, 0.045], [1., 2., 3.])\n",
    "print 'Primeiros passos da arvore criada:\\n========================================\\n'\n",
    "print x"
   ]
  },
  {
   "cell_type": "code",
   "execution_count": 398,
   "metadata": {
    "collapsed": false
   },
   "outputs": [],
   "source": [
    "x.fit_foward_curve(0.1)"
   ]
  },
  {
   "cell_type": "code",
   "execution_count": 399,
   "metadata": {
    "collapsed": false
   },
   "outputs": [],
   "source": [
    "df = x.get_lattice()"
   ]
  },
  {
   "cell_type": "code",
   "execution_count": 400,
   "metadata": {
    "collapsed": false
   },
   "outputs": [
    {
     "data": {
      "text/plain": [
       "<matplotlib.axes._subplots.AxesSubplot at 0x11d2e8cd0>"
      ]
     },
     "execution_count": 400,
     "metadata": {},
     "output_type": "execute_result"
    },
    {
     "data": {
      "image/png": "[encoded data removed]",
      "text/plain": [
       "<matplotlib.figure.Figure at 0x11bae1790>"
      ]
     },
     "metadata": {},
     "output_type": "display_data"
    }
   ],
   "source": [
    "df.plot(legend=False)"
   ]
  },
  {
   "cell_type": "code",
   "execution_count": 404,
   "metadata": {
    "collapsed": false
   },
   "outputs": [
    {
     "data": {
      "text/plain": [
       "<matplotlib.axes._subplots.AxesSubplot at 0x11ad33190>"
      ]
     },
     "execution_count": 404,
     "metadata": {},
     "output_type": "execute_result"
    },
    {
     "data": {
      "image/png": "[encoded data removed]",
      "text/plain": [
       "<matplotlib.figure.Figure at 0x1264139d0>"
      ]
     },
     "metadata": {},
     "output_type": "display_data"
    }
   ],
   "source": [
    "df.T.mean().plot()"
   ]
  },
  {
   "cell_type": "code",
   "execution_count": null,
   "metadata": {
    "collapsed": true
   },
   "outputs": [],
   "source": []
  },
  {
   "cell_type": "code",
   "execution_count": 355,
   "metadata": {
    "collapsed": true
   },
   "outputs": [],
   "source": [
    "import numpy as np"
   ]
  },
  {
   "cell_type": "code",
   "execution_count": 359,
   "metadata": {
    "collapsed": false
   },
   "outputs": [
    {
     "data": {
      "text/plain": [
       "[0.035000000000000003]"
      ]
     },
     "execution_count": 359,
     "metadata": {},
     "output_type": "execute_result"
    }
   ],
   "source": [
    "list(np.arange(0.035, 0.1))"
   ]
  },
  {
   "cell_type": "code",
   "execution_count": 385,
   "metadata": {
    "collapsed": false
   },
   "outputs": [
    {
     "name": "stdout",
     "output_type": "stream",
     "text": [
      "CPU times: user 36.4 s, sys: 187 ms, total: 36.6 s\n",
      "Wall time: 36.6 s\n"
     ]
    }
   ],
   "source": [
    "def foo():\n",
    "    l_rates = list(np.linspace(0.035, 0.12, 100))\n",
    "    l_mat = list(np.arange(1., len(l_rates)+1))\n",
    "    x = binomial_tree.KWFTree(l_rates, l_mat)\n",
    "    x.fit_foward_curve(0.1)\n",
    "    df = x.get_lattice()\n",
    "    return df\n",
    "\n",
    "%time df = foo()"
   ]
  },
  {
   "cell_type": "code",
   "execution_count": 389,
   "metadata": {
    "collapsed": false
   },
   "outputs": [
    {
     "data": {
      "text/html": [
       "<div>\n",
       "<table border=\"1\" class=\"dataframe\">\n",
       "  <thead>\n",
       "    <tr style=\"text-align: right;\">\n",
       "      <th></th>\n",
       "      <th>0</th>\n",
       "      <th>1</th>\n",
       "      <th>2</th>\n",
       "      <th>3</th>\n",
       "      <th>4</th>\n",
       "      <th>5</th>\n",
       "      <th>6</th>\n",
       "      <th>7</th>\n",
       "      <th>8</th>\n",
       "      <th>9</th>\n",
       "      <th>...</th>\n",
       "      <th>188</th>\n",
       "      <th>189</th>\n",
       "      <th>190</th>\n",
       "      <th>191</th>\n",
       "      <th>192</th>\n",
       "      <th>193</th>\n",
       "      <th>194</th>\n",
       "      <th>195</th>\n",
       "      <th>196</th>\n",
       "      <th>197</th>\n",
       "    </tr>\n",
       "  </thead>\n",
       "  <tbody>\n",
       "    <tr>\n",
       "      <th>95</th>\n",
       "      <td>0.147789</td>\n",
       "      <td>0.147789</td>\n",
       "      <td>0.147789</td>\n",
       "      <td>0.147789</td>\n",
       "      <td>0.147789</td>\n",
       "      <td>0.147789</td>\n",
       "      <td>0.147789</td>\n",
       "      <td>0.147789</td>\n",
       "      <td>0.148062</td>\n",
       "      <td>0.148062</td>\n",
       "      <td>...</td>\n",
       "      <td>712.019198</td>\n",
       "      <td>712.019198</td>\n",
       "      <td>831.302867</td>\n",
       "      <td>831.302867</td>\n",
       "      <td>971.339544</td>\n",
       "      <td>971.339544</td>\n",
       "      <td>1136.247253</td>\n",
       "      <td>1136.247253</td>\n",
       "      <td>1330.964444</td>\n",
       "      <td>1330.964444</td>\n",
       "    </tr>\n",
       "    <tr>\n",
       "      <th>96</th>\n",
       "      <td>0.147472</td>\n",
       "      <td>0.147472</td>\n",
       "      <td>0.147472</td>\n",
       "      <td>0.147472</td>\n",
       "      <td>0.147472</td>\n",
       "      <td>0.147472</td>\n",
       "      <td>0.147744</td>\n",
       "      <td>0.147744</td>\n",
       "      <td>0.148338</td>\n",
       "      <td>0.148338</td>\n",
       "      <td>...</td>\n",
       "      <td>786.914906</td>\n",
       "      <td>786.914906</td>\n",
       "      <td>919.157896</td>\n",
       "      <td>919.157896</td>\n",
       "      <td>1074.469540</td>\n",
       "      <td>1074.469540</td>\n",
       "      <td>1257.430117</td>\n",
       "      <td>1257.430117</td>\n",
       "      <td>1473.533642</td>\n",
       "      <td>1473.533642</td>\n",
       "    </tr>\n",
       "    <tr>\n",
       "      <th>97</th>\n",
       "      <td>0.147170</td>\n",
       "      <td>0.147170</td>\n",
       "      <td>0.147170</td>\n",
       "      <td>0.147170</td>\n",
       "      <td>0.147441</td>\n",
       "      <td>0.147441</td>\n",
       "      <td>0.148033</td>\n",
       "      <td>0.148033</td>\n",
       "      <td>0.149005</td>\n",
       "      <td>0.149005</td>\n",
       "      <td>...</td>\n",
       "      <td>869.744506</td>\n",
       "      <td>869.744506</td>\n",
       "      <td>1016.354983</td>\n",
       "      <td>1016.354983</td>\n",
       "      <td>1188.606718</td>\n",
       "      <td>1188.606718</td>\n",
       "      <td>1391.593865</td>\n",
       "      <td>1391.593865</td>\n",
       "      <td>inf</td>\n",
       "      <td>inf</td>\n",
       "    </tr>\n",
       "    <tr>\n",
       "      <th>98</th>\n",
       "      <td>0.146883</td>\n",
       "      <td>0.146883</td>\n",
       "      <td>0.147153</td>\n",
       "      <td>0.147153</td>\n",
       "      <td>0.147743</td>\n",
       "      <td>0.147743</td>\n",
       "      <td>0.148711</td>\n",
       "      <td>0.148711</td>\n",
       "      <td>0.150123</td>\n",
       "      <td>0.150123</td>\n",
       "      <td>...</td>\n",
       "      <td>961.352682</td>\n",
       "      <td>961.352682</td>\n",
       "      <td>1123.891805</td>\n",
       "      <td>1123.891805</td>\n",
       "      <td>inf</td>\n",
       "      <td>inf</td>\n",
       "      <td>inf</td>\n",
       "      <td>inf</td>\n",
       "      <td>inf</td>\n",
       "      <td>inf</td>\n",
       "    </tr>\n",
       "    <tr>\n",
       "      <th>99</th>\n",
       "      <td>0.146611</td>\n",
       "      <td>0.146880</td>\n",
       "      <td>0.147148</td>\n",
       "      <td>0.147468</td>\n",
       "      <td>0.148052</td>\n",
       "      <td>0.148431</td>\n",
       "      <td>0.149390</td>\n",
       "      <td>0.149838</td>\n",
       "      <td>0.151237</td>\n",
       "      <td>0.151763</td>\n",
       "      <td>...</td>\n",
       "      <td>1060.549118</td>\n",
       "      <td>1062.674340</td>\n",
       "      <td>inf</td>\n",
       "      <td>inf</td>\n",
       "      <td>inf</td>\n",
       "      <td>inf</td>\n",
       "      <td>inf</td>\n",
       "      <td>inf</td>\n",
       "      <td>inf</td>\n",
       "      <td>inf</td>\n",
       "    </tr>\n",
       "  </tbody>\n",
       "</table>\n",
       "<p>5 rows × 198 columns</p>\n",
       "</div>"
      ],
      "text/plain": [
       "         0         1         2         3         4         5         6    \\\n",
       "95  0.147789  0.147789  0.147789  0.147789  0.147789  0.147789  0.147789   \n",
       "96  0.147472  0.147472  0.147472  0.147472  0.147472  0.147472  0.147744   \n",
       "97  0.147170  0.147170  0.147170  0.147170  0.147441  0.147441  0.148033   \n",
       "98  0.146883  0.146883  0.147153  0.147153  0.147743  0.147743  0.148711   \n",
       "99  0.146611  0.146880  0.147148  0.147468  0.148052  0.148431  0.149390   \n",
       "\n",
       "         7         8         9       ...               188          189  \\\n",
       "95  0.147789  0.148062  0.148062     ...        712.019198   712.019198   \n",
       "96  0.147744  0.148338  0.148338     ...        786.914906   786.914906   \n",
       "97  0.148033  0.149005  0.149005     ...        869.744506   869.744506   \n",
       "98  0.148711  0.150123  0.150123     ...        961.352682   961.352682   \n",
       "99  0.149838  0.151237  0.151763     ...       1060.549118  1062.674340   \n",
       "\n",
       "            190          191          192          193          194  \\\n",
       "95   831.302867   831.302867   971.339544   971.339544  1136.247253   \n",
       "96   919.157896   919.157896  1074.469540  1074.469540  1257.430117   \n",
       "97  1016.354983  1016.354983  1188.606718  1188.606718  1391.593865   \n",
       "98  1123.891805  1123.891805          inf          inf          inf   \n",
       "99          inf          inf          inf          inf          inf   \n",
       "\n",
       "            195          196          197  \n",
       "95  1136.247253  1330.964444  1330.964444  \n",
       "96  1257.430117  1473.533642  1473.533642  \n",
       "97  1391.593865          inf          inf  \n",
       "98          inf          inf          inf  \n",
       "99          inf          inf          inf  \n",
       "\n",
       "[5 rows x 198 columns]"
      ]
     },
     "execution_count": 389,
     "metadata": {},
     "output_type": "execute_result"
    }
   ],
   "source": [
    "df.tail()"
   ]
  },
  {
   "cell_type": "code",
   "execution_count": 396,
   "metadata": {
    "collapsed": false
   },
   "outputs": [
    {
     "data": {
      "text/html": [
       "<div>\n",
       "<table border=\"1\" class=\"dataframe\">\n",
       "  <thead>\n",
       "    <tr style=\"text-align: right;\">\n",
       "      <th></th>\n",
       "      <th>99</th>\n",
       "    </tr>\n",
       "  </thead>\n",
       "  <tbody>\n",
       "    <tr>\n",
       "      <th>183</th>\n",
       "      <td>660.575320</td>\n",
       "    </tr>\n",
       "    <tr>\n",
       "      <th>184</th>\n",
       "      <td>774.974345</td>\n",
       "    </tr>\n",
       "    <tr>\n",
       "      <th>185</th>\n",
       "      <td>776.527847</td>\n",
       "    </tr>\n",
       "    <tr>\n",
       "      <th>186</th>\n",
       "      <td>906.993742</td>\n",
       "    </tr>\n",
       "    <tr>\n",
       "      <th>187</th>\n",
       "      <td>908.811547</td>\n",
       "    </tr>\n",
       "    <tr>\n",
       "      <th>188</th>\n",
       "      <td>1060.549118</td>\n",
       "    </tr>\n",
       "    <tr>\n",
       "      <th>189</th>\n",
       "      <td>1062.674340</td>\n",
       "    </tr>\n",
       "    <tr>\n",
       "      <th>190</th>\n",
       "      <td>inf</td>\n",
       "    </tr>\n",
       "    <tr>\n",
       "      <th>191</th>\n",
       "      <td>inf</td>\n",
       "    </tr>\n",
       "    <tr>\n",
       "      <th>192</th>\n",
       "      <td>inf</td>\n",
       "    </tr>\n",
       "    <tr>\n",
       "      <th>193</th>\n",
       "      <td>inf</td>\n",
       "    </tr>\n",
       "    <tr>\n",
       "      <th>194</th>\n",
       "      <td>inf</td>\n",
       "    </tr>\n",
       "    <tr>\n",
       "      <th>195</th>\n",
       "      <td>inf</td>\n",
       "    </tr>\n",
       "    <tr>\n",
       "      <th>196</th>\n",
       "      <td>inf</td>\n",
       "    </tr>\n",
       "    <tr>\n",
       "      <th>197</th>\n",
       "      <td>inf</td>\n",
       "    </tr>\n",
       "  </tbody>\n",
       "</table>\n",
       "</div>"
      ],
      "text/plain": [
       "              99\n",
       "183   660.575320\n",
       "184   774.974345\n",
       "185   776.527847\n",
       "186   906.993742\n",
       "187   908.811547\n",
       "188  1060.549118\n",
       "189  1062.674340\n",
       "190          inf\n",
       "191          inf\n",
       "192          inf\n",
       "193          inf\n",
       "194          inf\n",
       "195          inf\n",
       "196          inf\n",
       "197          inf"
      ]
     },
     "execution_count": 396,
     "metadata": {},
     "output_type": "execute_result"
    }
   ],
   "source": [
    "df.tail(1).T.tail(15)"
   ]
  },
  {
   "cell_type": "code",
   "execution_count": null,
   "metadata": {
    "collapsed": true
   },
   "outputs": [],
   "source": []
  },
  {
   "cell_type": "code",
   "execution_count": 387,
   "metadata": {
    "collapsed": false
   },
   "outputs": [
    {
     "data": {
      "text/plain": [
       "<matplotlib.axes._subplots.AxesSubplot at 0x11ed07c10>"
      ]
     },
     "execution_count": 387,
     "metadata": {},
     "output_type": "execute_result"
    },
    {
     "data": {
      "image/png": "[encoded data removed]",
      "text/plain": [
       "<matplotlib.figure.Figure at 0x115544850>"
      ]
     },
     "metadata": {},
     "output_type": "display_data"
    }
   ],
   "source": [
    "df.plot(legend=False)"
   ]
  },
  {
   "cell_type": "code",
   "execution_count": 388,
   "metadata": {
    "collapsed": false
   },
   "outputs": [
    {
     "data": {
      "text/plain": [
       "(100, 198)"
      ]
     },
     "execution_count": 388,
     "metadata": {},
     "output_type": "execute_result"
    }
   ],
   "source": [
    "df.shape"
   ]
  },
  {
   "cell_type": "code",
   "execution_count": null,
   "metadata": {
    "collapsed": true
   },
   "outputs": [],
   "source": []
  },
  {
   "cell_type": "code",
   "execution_count": null,
   "metadata": {
    "collapsed": true
   },
   "outputs": [],
   "source": []
  },
  {
   "cell_type": "code",
   "execution_count": null,
   "metadata": {
    "collapsed": true
   },
   "outputs": [],
   "source": []
  },
  {
   "cell_type": "code",
   "execution_count": 267,
   "metadata": {
    "collapsed": false
   },
   "outputs": [],
   "source": [
    "l_nodes = []\n",
    "for node in x.d_step[x.i_steps-2]:\n",
    "    s_d, s_u = node.get_childrens()\n",
    "    l_nodes.append(x[s_d])\n",
    "    l_nodes.append(x[s_u])"
   ]
  },
  {
   "cell_type": "code",
   "execution_count": 268,
   "metadata": {
    "collapsed": false
   },
   "outputs": [
    {
     "data": {
      "text/plain": [
       "[DDDD, DDDU, DDDU, DDUU, DDUU, DUUU, DUUU, UUUU]"
      ]
     },
     "execution_count": 268,
     "metadata": {},
     "output_type": "execute_result"
    }
   ],
   "source": [
    "l_nodes"
   ]
  },
  {
   "cell_type": "code",
   "execution_count": 323,
   "metadata": {
    "collapsed": false
   },
   "outputs": [
    {
     "data": {
      "text/plain": [
       "DU"
      ]
     },
     "execution_count": 323,
     "metadata": {},
     "output_type": "execute_result"
    }
   ],
   "source": [
    "self[s_d]"
   ]
  },
  {
   "cell_type": "code",
   "execution_count": 328,
   "metadata": {
    "collapsed": false
   },
   "outputs": [],
   "source": [
    "self = x\n",
    "\n",
    "\n",
    "d_rtn = {}\n",
    "# cria ultimos nos sem recombinacao\n",
    "l_nodes = []\n",
    "for node in self.d_step[self.i_steps-2]:\n",
    "    s_d, s_u = node.get_childrens()\n",
    "    \n",
    "    node_down = self[s_d].copy()\n",
    "    node_down.name = s_d\n",
    "    node_up = self[s_u].copy()\n",
    "    node_up.name = s_u\n",
    "    l_nodes.append(node_down)\n",
    "    l_nodes.append(node_up)\n",
    "# itera para recriar trelica\n",
    "for idx, node in enumerate(l_nodes):\n",
    "    s_name = node.name\n",
    "    s_key = \"{}_{}\".format(idx, s_name)\n",
    "\n",
    "    d_rtn[s_key] = []\n",
    "    for idx in xrange(len(s_name)+1):\n",
    "        d_rtn[s_key].append(float(self[s_name[:idx]].f_r))\n",
    "        \n",
    "# monta dataframe\n",
    "df = pd.DataFrame(d_rtn).T\n",
    "df = df + 1\n",
    "df = df.cumprod(axis=1)\n",
    "df = df.apply(lambda x: x**(1./(x.name+1))) - 1\n",
    "df = df.T"
   ]
  },
  {
   "cell_type": "code",
   "execution_count": 314,
   "metadata": {
    "collapsed": true
   },
   "outputs": [],
   "source": [
    "import pandas as pd"
   ]
  },
  {
   "cell_type": "code",
   "execution_count": 331,
   "metadata": {
    "collapsed": false
   },
   "outputs": [],
   "source": [
    "df = pd.DataFrame(d_rtn).T\n",
    "df = df + 1\n",
    "df = df.cumprod(axis=1)\n",
    "df = df.apply(lambda x: x**(1./(x.name+1))) - 1\n",
    "df = df.T"
   ]
  },
  {
   "cell_type": "code",
   "execution_count": 329,
   "metadata": {
    "collapsed": true
   },
   "outputs": [],
   "source": [
    "df = pd.DataFrame(d_rtn).T"
   ]
  },
  {
   "cell_type": "code",
   "execution_count": 330,
   "metadata": {
    "collapsed": false
   },
   "outputs": [
    {
     "data": {
      "text/html": [
       "<div>\n",
       "<table border=\"1\" class=\"dataframe\">\n",
       "  <thead>\n",
       "    <tr style=\"text-align: right;\">\n",
       "      <th></th>\n",
       "      <th>0</th>\n",
       "      <th>1</th>\n",
       "      <th>2</th>\n",
       "    </tr>\n",
       "  </thead>\n",
       "  <tbody>\n",
       "    <tr>\n",
       "      <th>0_DD</th>\n",
       "      <td>0.035</td>\n",
       "      <td>0.040736</td>\n",
       "      <td>0.045296</td>\n",
       "    </tr>\n",
       "    <tr>\n",
       "      <th>1_DU</th>\n",
       "      <td>0.035</td>\n",
       "      <td>0.040736</td>\n",
       "      <td>0.055325</td>\n",
       "    </tr>\n",
       "    <tr>\n",
       "      <th>2_UD</th>\n",
       "      <td>0.035</td>\n",
       "      <td>0.049755</td>\n",
       "      <td>0.055325</td>\n",
       "    </tr>\n",
       "    <tr>\n",
       "      <th>3_UU</th>\n",
       "      <td>0.035</td>\n",
       "      <td>0.049755</td>\n",
       "      <td>0.067574</td>\n",
       "    </tr>\n",
       "  </tbody>\n",
       "</table>\n",
       "</div>"
      ],
      "text/plain": [
       "          0         1         2\n",
       "0_DD  0.035  0.040736  0.045296\n",
       "1_DU  0.035  0.040736  0.055325\n",
       "2_UD  0.035  0.049755  0.055325\n",
       "3_UU  0.035  0.049755  0.067574"
      ]
     },
     "execution_count": 330,
     "metadata": {},
     "output_type": "execute_result"
    }
   ],
   "source": [
    "df"
   ]
  },
  {
   "cell_type": "code",
   "execution_count": null,
   "metadata": {
    "collapsed": true
   },
   "outputs": [],
   "source": []
  },
  {
   "cell_type": "code",
   "execution_count": null,
   "metadata": {
    "collapsed": true
   },
   "outputs": [],
   "source": []
  },
  {
   "cell_type": "code",
   "execution_count": 318,
   "metadata": {
    "collapsed": false
   },
   "outputs": [
    {
     "data": {
      "text/html": [
       "<div>\n",
       "<table border=\"1\" class=\"dataframe\">\n",
       "  <thead>\n",
       "    <tr style=\"text-align: right;\">\n",
       "      <th></th>\n",
       "      <th>0</th>\n",
       "      <th>1</th>\n",
       "      <th>2</th>\n",
       "    </tr>\n",
       "  </thead>\n",
       "  <tbody>\n",
       "    <tr>\n",
       "      <th>0_DD</th>\n",
       "      <td>0.035</td>\n",
       "      <td>0.037864</td>\n",
       "      <td>0.040335</td>\n",
       "    </tr>\n",
       "    <tr>\n",
       "      <th>1_DU</th>\n",
       "      <td>0.035</td>\n",
       "      <td>0.037864</td>\n",
       "      <td>0.043652</td>\n",
       "    </tr>\n",
       "    <tr>\n",
       "      <th>2_DU</th>\n",
       "      <td>0.035</td>\n",
       "      <td>0.037864</td>\n",
       "      <td>0.043652</td>\n",
       "    </tr>\n",
       "    <tr>\n",
       "      <th>3_UU</th>\n",
       "      <td>0.035</td>\n",
       "      <td>0.042351</td>\n",
       "      <td>0.050692</td>\n",
       "    </tr>\n",
       "  </tbody>\n",
       "</table>\n",
       "</div>"
      ],
      "text/plain": [
       "          0         1         2\n",
       "0_DD  0.035  0.037864  0.040335\n",
       "1_DU  0.035  0.037864  0.043652\n",
       "2_DU  0.035  0.037864  0.043652\n",
       "3_UU  0.035  0.042351  0.050692"
      ]
     },
     "execution_count": 318,
     "metadata": {},
     "output_type": "execute_result"
    }
   ],
   "source": [
    "df"
   ]
  },
  {
   "cell_type": "code",
   "execution_count": 332,
   "metadata": {
    "collapsed": false
   },
   "outputs": [
    {
     "data": {
      "text/plain": [
       "<matplotlib.axes._subplots.AxesSubplot at 0x113812550>"
      ]
     },
     "execution_count": 332,
     "metadata": {},
     "output_type": "execute_result"
    },
    {
     "data": {
      "image/png": "[encoded data removed]",
      "text/plain": [
       "<matplotlib.figure.Figure at 0x11384df50>"
      ]
     },
     "metadata": {},
     "output_type": "display_data"
    }
   ],
   "source": [
    "df.T.plot()"
   ]
  },
  {
   "cell_type": "code",
   "execution_count": null,
   "metadata": {
    "collapsed": true
   },
   "outputs": [],
   "source": []
  },
  {
   "cell_type": "code",
   "execution_count": 277,
   "metadata": {
    "collapsed": false
   },
   "outputs": [
    {
     "data": {
      "text/plain": [
       "[DDDD, DDDU, DDDU, DDUU, DDUU, DUUU, DUUU, UUUU]"
      ]
     },
     "execution_count": 277,
     "metadata": {},
     "output_type": "execute_result"
    }
   ],
   "source": [
    "l_nodes"
   ]
  },
  {
   "cell_type": "code",
   "execution_count": 278,
   "metadata": {
    "collapsed": false
   },
   "outputs": [
    {
     "data": {
      "text/plain": [
       "['UUUU', 'DUUU', 'DDDD', 'DDDU', 'DDUU']"
      ]
     },
     "execution_count": 278,
     "metadata": {},
     "output_type": "execute_result"
    }
   ],
   "source": [
    "d_rtn.keys()"
   ]
  },
  {
   "cell_type": "code",
   "execution_count": null,
   "metadata": {
    "collapsed": true
   },
   "outputs": [],
   "source": []
  },
  {
   "cell_type": "code",
   "execution_count": 322,
   "metadata": {
    "collapsed": false
   },
   "outputs": [
    {
     "name": "stdout",
     "output_type": "stream",
     "text": [
      "0.035\n",
      "[ 0.04073606]\n",
      "[ 0.04975513]\n",
      "[ 0.04529594]\n",
      "[ 0.05532458]\n",
      "[ 0.0675736]\n"
     ]
    }
   ],
   "source": [
    "print x['_'].f_r\n",
    "print x['D'].f_r\n",
    "print x['U'].f_r\n",
    "print x['DD'].f_r\n",
    "print x['UD'].f_r\n",
    "print x['UU'].f_r"
   ]
  },
  {
   "cell_type": "code",
   "execution_count": 274,
   "metadata": {
    "collapsed": false
   },
   "outputs": [
    {
     "data": {
      "text/plain": [
       "{'DDDD': [0.035,\n",
       "  0.04073605689199079,\n",
       "  0.04529593659505166,\n",
       "  0.04895437891365224,\n",
       "  6644.9405767442],\n",
       " 'DDDU': [0.035,\n",
       "  0.04073605689199079,\n",
       "  0.04529593659505166,\n",
       "  0.04895437891365224,\n",
       "  8116.148748245796],\n",
       " 'DDUU': [0.035,\n",
       "  0.04073605689199079,\n",
       "  0.04529593659505166,\n",
       "  0.0597930134291529,\n",
       "  9913.086466745624],\n",
       " 'DUUU': [0.035,\n",
       "  0.04073605689199079,\n",
       "  0.05532458189064427,\n",
       "  0.07303135152107543,\n",
       "  12107.87115236336],\n",
       " 'UUUU': [0.035,\n",
       "  0.04975513224444715,\n",
       "  0.06757359691529109,\n",
       "  0.08920069418000645,\n",
       "  14788.587220944562]}"
      ]
     },
     "execution_count": 274,
     "metadata": {},
     "output_type": "execute_result"
    }
   ],
   "source": [
    "x.get_lattice()"
   ]
  },
  {
   "cell_type": "code",
   "execution_count": null,
   "metadata": {
    "collapsed": true
   },
   "outputs": [],
   "source": []
  },
  {
   "cell_type": "code",
   "execution_count": null,
   "metadata": {
    "collapsed": true
   },
   "outputs": [],
   "source": []
  },
  {
   "cell_type": "code",
   "execution_count": 209,
   "metadata": {
    "collapsed": false
   },
   "outputs": [
    {
     "name": "stdout",
     "output_type": "stream",
     "text": [
      "0.035\n",
      "[ 0.04073606]\n"
     ]
    }
   ],
   "source": [
    "print x['_'].f_r\n",
    "print x['D'].f_r"
   ]
  },
  {
   "cell_type": "code",
   "execution_count": 184,
   "metadata": {
    "collapsed": true
   },
   "outputs": [],
   "source": [
    "for i_aux_step in xrange(1, 0, -1):\n",
    "    if i_aux_step==0:\n",
    "        print \"entrei aqui\""
   ]
  },
  {
   "cell_type": "code",
   "execution_count": 186,
   "metadata": {
    "collapsed": false
   },
   "outputs": [
    {
     "data": {
      "text/plain": [
       "[1, 0]"
      ]
     },
     "execution_count": 186,
     "metadata": {},
     "output_type": "execute_result"
    }
   ],
   "source": [
    "range(1, -1, -1)"
   ]
  },
  {
   "cell_type": "code",
   "execution_count": 69,
   "metadata": {
    "collapsed": false
   },
   "outputs": [
    {
     "data": {
      "text/plain": [
       "1.0"
      ]
     },
     "execution_count": 69,
     "metadata": {},
     "output_type": "execute_result"
    }
   ],
   "source": [
    "x.d_step[3][3].f_time"
   ]
  },
  {
   "cell_type": "code",
   "execution_count": 46,
   "metadata": {
    "collapsed": false
   },
   "outputs": [],
   "source": [
    "g.f_value"
   ]
  },
  {
   "cell_type": "code",
   "execution_count": 47,
   "metadata": {
    "collapsed": false
   },
   "outputs": [
    {
     "data": {
      "text/plain": [
       "'DDD'"
      ]
     },
     "execution_count": 47,
     "metadata": {},
     "output_type": "execute_result"
    }
   ],
   "source": [
    "'D' * 3"
   ]
  },
  {
   "cell_type": "code",
   "execution_count": 31,
   "metadata": {
    "collapsed": false
   },
   "outputs": [],
   "source": [
    "y = x.d_nodes[\"_\"]"
   ]
  },
  {
   "cell_type": "code",
   "execution_count": 34,
   "metadata": {
    "collapsed": false
   },
   "outputs": [
    {
     "data": {
      "text/plain": [
       "float"
      ]
     },
     "execution_count": 34,
     "metadata": {},
     "output_type": "execute_result"
    }
   ],
   "source": [
    "type(y)"
   ]
  },
  {
   "cell_type": "code",
   "execution_count": null,
   "metadata": {
    "collapsed": true
   },
   "outputs": [],
   "source": []
  },
  {
   "cell_type": "code",
   "execution_count": null,
   "metadata": {
    "collapsed": true
   },
   "outputs": [],
   "source": []
  },
  {
   "cell_type": "code",
   "execution_count": null,
   "metadata": {
    "collapsed": true
   },
   "outputs": [],
   "source": []
  },
  {
   "cell_type": "code",
   "execution_count": null,
   "metadata": {
    "collapsed": true
   },
   "outputs": [],
   "source": []
  },
  {
   "cell_type": "code",
   "execution_count": null,
   "metadata": {
    "collapsed": true
   },
   "outputs": [],
   "source": []
  },
  {
   "cell_type": "code",
   "execution_count": null,
   "metadata": {
    "collapsed": true
   },
   "outputs": [],
   "source": [
    "def squared_error(l_par, l_T, l_yield):\n",
    "    '''\n",
    "    Return the squared error between the curve calculate by the NSS model and\n",
    "    the real data\n",
    "    :param l_par: list. parameters to be used to create the NSS model\n",
    "    :param l_T: list. a ordered list of time in years of each foward rate\n",
    "    :param l_yield: list. list of floats of the foward rates. ordered by l_T\n",
    "    '''\n",
    "    nss = NelsonSiegelSvensson(*l_par)\n",
    "    return sum([(b-float(a)) ** 2 for a, b in zip(nss(l_T), l_yield)])\n",
    "\n",
    "res = optimize.minimize(squared_error, l_par2, args=(l_T, l_yield))\n",
    "nss = NelsonSiegelSvensson(*res.x)"
   ]
  },
  {
   "cell_type": "code",
   "execution_count": 148,
   "metadata": {
    "collapsed": true
   },
   "outputs": [],
   "source": [
    "class BinomialTreeOptimized(object):\n",
    "    '''\n",
    "    A representation of the Binomial Tree Optimized\n",
    "    '''\n",
    "    def __init__(self, i_steps):\n",
    "        '''\n",
    "        Initiate a BinomialTreeOptimized object. Save all parameter as\n",
    "        attributes\n",
    "        :param i_step: integer. Number of steps in the tree\n",
    "        '''\n",
    "        # python sets se comportam como hastable. O tempo\n",
    "        # de procura eh O(1), e nao O(n) como uma lista\n",
    "        self.set_of_nodes = set([])\n",
    "        self.set_of_nodes_new = set([])\n",
    "        # inicia outras variaveis\n",
    "        self.i_steps = i_steps\n",
    "        self.d_step = defaultdict(Node)\n",
    "        # insere nodes\n",
    "        node_root = Node('_')\n",
    "        self.d_step[0] = [node_root]\n",
    "        self.set_of_nodes.add(node_root)\n",
    "        # constroi arvore\n",
    "        self.set_foward(i_steps)\n",
    "\n",
    "    def set_foward(self, i_steps):\n",
    "        '''\n",
    "        Create all the brachs of the binomial tree using the\n",
    "        first node as root\n",
    "        :param i_step: integer. Number of steps in the tree\n",
    "        '''\n",
    "        # constroi arvore\n",
    "        for i_step in xrange(1, i_steps):\n",
    "            self.set_of_nodes_new = set([])\n",
    "            for node in self.set_of_nodes:\n",
    "                s_down, s_up = node.get_childrens()\n",
    "                self.add_node(s_down)\n",
    "                self.add_node(s_up)\n",
    "            self.set_of_nodes = self.set_of_nodes_new.copy()\n",
    "            \n",
    "    def set_backward(self):\n",
    "        '''\n",
    "        Create all the brachs of the binomial tree from\n",
    "        the last step to the first\n",
    "        '''\n",
    "        # constroi arvore\n",
    "        for i_step in xrange(len(self.set_of_nodes)-1, 0, -1):\n",
    "            self.set_of_nodes_new = set([])\n",
    "            for node in self.set_of_nodes:\n",
    "                s_src= node.get_source()\n",
    "                self.add_node(s_src)\n",
    "            self.set_of_nodes = self.set_of_nodes_new.copy()\n",
    "\n",
    "    def add_node(self, s_name):\n",
    "        '''\n",
    "        Include a new node in the tree. To reduce the number\n",
    "        of nodes, a restriction called recombination condition\n",
    "        is imposed on the algorithm. This make the binomial\n",
    "        method more computationally tractable since the number\n",
    "        of nodes at each step increases by only one node\n",
    "        :param s_name: string.\n",
    "        '''\n",
    "        node = Node(s_name)\n",
    "        if node not in self.set_of_nodes:\n",
    "            self.set_of_nodes_new.add(node)\n",
    "            if node.name.count('D') == node.i_step:\n",
    "                self.d_step[node.i_step] = node\n",
    "    \n",
    "    def __str__(self):\n",
    "        '''\n",
    "        Create a BinomialTree to return ascii representation tree,\n",
    "        imposing a limite of 8 nodes to be printed out\n",
    "        '''\n",
    "        # limita passos plotados\n",
    "        i_steps = min(8, self.i_steps)\n",
    "        # TODO: isso tah muito porco\n",
    "        tree_aux = BinomialTree(i_steps)\n",
    "        s_rtn = str(tree_aux)\n",
    "        if i_steps != self.i_steps:\n",
    "            s_rtn += '\\nPlotted {} from {} steps'.format(i_steps, self.i_steps)\n",
    "        return s_rtn"
   ]
  },
  {
   "cell_type": "code",
   "execution_count": 143,
   "metadata": {
    "collapsed": false
   },
   "outputs": [],
   "source": [
    "# from scipy import optimize\n",
    "\n",
    "class KWFTree(object):\n",
    "    '''\n",
    "    A representation of the Binomial Tree used in Kalotay-\n",
    "    Williams-Fabozzi model\n",
    "    '''\n",
    "    def __init__(self, l_short_rates, l_maturity):\n",
    "        '''\n",
    "        Initiate a BinomialTree object. Save all parameter as\n",
    "        attributes\n",
    "        :param l_short_rates: list. short rates from the market\n",
    "        :param l_maturity: list. maturities of the short rates\n",
    "        '''\n",
    "        # checa se a quantidade de passos eh a mesma das listas\n",
    "        s_err = \"The lists should have the same length\"\n",
    "        assert len(l_short_rates) == len(l_maturity), s_err\n",
    "        # python sets se comportam como hastable. O tempo\n",
    "        # de procura eh O(1), e nao O(n) como uma lista\n",
    "        self.set_of_nodes = set([])\n",
    "        self.set_of_nodes_new = set([])\n",
    "        # inicia outras variaveis\n",
    "        self.l_short_rates = l_short_rates\n",
    "        self.l_maturity = l_maturity\n",
    "        self.i_steps = len(l_short_rates)\n",
    "        self.d_step = defaultdict(Node)\n",
    "        # insere nodes\n",
    "        node_root = Node('_')\n",
    "        node_root.f_r = l_short_rates[0]\n",
    "        node_root.f_time = l_maturity[0]\n",
    "        self.d_step[0] = [node_root]\n",
    "        self.set_of_nodes.add(node_root)\n",
    "        # constroi arvore\n",
    "        self.set_foward(i_steps)\n",
    "\n",
    "    def set_foward(self, i_steps):\n",
    "        '''\n",
    "        Create all the brachs of the binomial tree using the\n",
    "        first node as root\n",
    "        :param i_step: integer. Number of steps in the tree\n",
    "        '''\n",
    "        # constroi arvore\n",
    "        for i_step in xrange(1, i_steps):\n",
    "            self.set_of_nodes_new = set([])\n",
    "            for node in self.set_of_nodes:\n",
    "                s_down, s_up = node.get_childrens()\n",
    "                self.add_node(s_down)\n",
    "                self.add_node(s_up)\n",
    "            self.set_of_nodes = self.set_of_nodes_new.copy()\n",
    "            \n",
    "    def set_backward(self):\n",
    "        '''\n",
    "        Create all the brachs of the binomial tree from\n",
    "        the last step to the first\n",
    "        '''\n",
    "        # constroi arvore\n",
    "        for i_step in xrange(len(self.set_of_nodes)-1, 0, -1):\n",
    "            self.set_of_nodes_new = set([])\n",
    "            for node in self.set_of_nodes:\n",
    "                s_src= node.get_source()\n",
    "                self.add_node(s_src)\n",
    "            self.set_of_nodes = self.set_of_nodes_new.copy()\n",
    "\n",
    "    def add_node(self, s_name):\n",
    "        '''\n",
    "        Include a new node in the tree. To reduce the number\n",
    "        of nodes, a restriction called recombination condition\n",
    "        is imposed on the algorithm. This make the binomial\n",
    "        method more computationally tractable since the number\n",
    "        of nodes at each step increases by only one node\n",
    "        :param s_name: string.\n",
    "        '''\n",
    "        node = Node(s_name)\n",
    "        if node not in self.set_of_nodes:\n",
    "            self.set_of_nodes_new.add(node)\n",
    "            if node.name.count('D') == node.i_step:\n",
    "                self.d_step[node.i_step] = node\n",
    "    \n",
    "    def __str__(self):\n",
    "        '''\n",
    "        Create a BinomialTree to return ascii representation tree,\n",
    "        imposing a limite of 8 nodes to be printed out\n",
    "        '''\n",
    "        # limita passos plotados\n",
    "        i_steps = min(8, self.i_steps)\n",
    "        # TODO: isso tah muito porco\n",
    "        tree_aux = BinomialTree(i_steps)\n",
    "        s_rtn = str(tree_aux)\n",
    "        if i_steps != self.i_steps:\n",
    "            s_rtn += '\\nPlotted {} from {} steps'.format(i_steps, self.i_steps)\n",
    "        return s_rtn\n",
    "        \n",
    "        "
   ]
  },
  {
   "cell_type": "code",
   "execution_count": 149,
   "metadata": {
    "collapsed": false
   },
   "outputs": [
    {
     "name": "stdout",
     "output_type": "stream",
     "text": [
      "Tempo para inicar toda a arvore: \n",
      "- Com 10 passos: Criados 10 em 0.00 segundos\n",
      "- Com 100 passos: Criados 100 em 0.10 segundos\n",
      "- Com 250 passos: Criados 250 em 0.74 segundos\n",
      "- Com 500 passos: Criados 500 em 3.22 segundos\n",
      "- Com 1000 passos: Criados 1,000 em 16.55 segundos\n",
      "- Com 2000 passos: Criados 2,000 em 92.47 segundos\n"
     ]
    }
   ],
   "source": [
    "import time\n",
    "import binomial_tree; reload(binomial_tree);\n",
    "\n",
    "def foo(i):\n",
    "    f_start = time.time()\n",
    "    x = BinomialTreeOptimized(i)\n",
    "    i_rtn = len(x.set_of_nodes)\n",
    "    return i_rtn, time.time() - f_start\n",
    "\n",
    "print \"Tempo para inicar toda a arvore: \"\n",
    "for i in [10, 100, 250, 500, 1000, 2000]:\n",
    "    # mais de 1000 nodes trava\n",
    "    i_nodes, f_time = foo(i)\n",
    "    print \"- Com {} passos: Criados {:0,.0f} em {:.2f} segundos\".format(i, i_nodes, f_time)"
   ]
  },
  {
   "cell_type": "code",
   "execution_count": 132,
   "metadata": {
    "collapsed": false
   },
   "outputs": [
    {
     "name": "stdout",
     "output_type": "stream",
     "text": [
      "Primeiros passos da arvore criada:\n",
      "========================================\n",
      "\n",
      "\n",
      "\t\t\t\t\t\t\t\t\n",
      "\t\t\t\t\t\t\tDDDDDDD\t\n",
      "\t\t\t\t\t\tDDDDDD\t\t\n",
      "\t\t\t\t\tDDDDD\t\tDDDDDDU\t\n",
      "\t\t\t\tDDDD\t\tDDDDDU\t\t\n",
      "\t\t\tDDD\t\tDDDDU\t\tDDDDDUU\t\n",
      "\t\tDD\t\tDDDU\t\tDDDDUU\t\t\n",
      "\tD\t\tDDU\t\tDDDUU\t\tDDDDUUU\t\n",
      "_\t\tDU\t\tDDUU\t\tDDDUUU\t\t\n",
      "\tU\t\tDUU\t\tDDUUU\t\tDDDUUUU\t\n",
      "\t\tUU\t\tDUUU\t\tDDUUUU\t\t\n",
      "\t\t\tUUU\t\tDUUUU\t\tDDUUUUU\t\n",
      "\t\t\t\tUUUU\t\tDUUUUU\t\t\n",
      "\t\t\t\t\tUUUUU\t\tDUUUUUU\t\n",
      "\t\t\t\t\t\tUUUUUU\t\t\n",
      "\t\t\t\t\t\t\tUUUUUUU\t\n",
      "\t\t\t\t\t\t\t\t\n",
      "\n",
      "Plotted 8 from 12 steps\n"
     ]
    }
   ],
   "source": [
    "print 'Primeiros passos da arvore criada:\\n========================================\\n\\n'\n",
    "x = KWFTree(12, [], [])\n",
    "print x"
   ]
  },
  {
   "cell_type": "code",
   "execution_count": 133,
   "metadata": {
    "collapsed": true
   },
   "outputs": [],
   "source": [
    "x.set_backward()"
   ]
  },
  {
   "cell_type": "code",
   "execution_count": 134,
   "metadata": {
    "collapsed": false
   },
   "outputs": [
    {
     "data": {
      "text/plain": [
       "{_}"
      ]
     },
     "execution_count": 134,
     "metadata": {},
     "output_type": "execute_result"
    }
   ],
   "source": [
    "x.set_of_nodes"
   ]
  },
  {
   "cell_type": "code",
   "execution_count": null,
   "metadata": {
    "collapsed": true
   },
   "outputs": [],
   "source": []
  },
  {
   "cell_type": "code",
   "execution_count": 138,
   "metadata": {
    "collapsed": false
   },
   "outputs": [
    {
     "ename": "AssertionError",
     "evalue": "The lists should have the same length",
     "output_type": "error",
     "traceback": [
      "\u001b[1;31m---------------------------------------------------------------------------\u001b[0m",
      "\u001b[1;31mAssertionError\u001b[0m                            Traceback (most recent call last)",
      "\u001b[1;32m<ipython-input-138-55d386f62431>\u001b[0m in \u001b[0;36m<module>\u001b[1;34m()\u001b[0m\n\u001b[0;32m      3\u001b[0m \u001b[1;33m\u001b[0m\u001b[0m\n\u001b[0;32m      4\u001b[0m \u001b[0ms_err\u001b[0m \u001b[1;33m=\u001b[0m \u001b[1;34m\"The lists should have the same length\"\u001b[0m\u001b[1;33m\u001b[0m\u001b[0m\n\u001b[1;32m----> 5\u001b[1;33m \u001b[1;32massert\u001b[0m \u001b[0mlen\u001b[0m\u001b[1;33m(\u001b[0m\u001b[0ml_short_rates\u001b[0m\u001b[1;33m)\u001b[0m \u001b[1;33m==\u001b[0m \u001b[0mlen\u001b[0m\u001b[1;33m(\u001b[0m\u001b[0ml_maturity\u001b[0m\u001b[1;33m)\u001b[0m\u001b[1;33m,\u001b[0m \u001b[0ms_err\u001b[0m\u001b[1;33m\u001b[0m\u001b[0m\n\u001b[0m",
      "\u001b[1;31mAssertionError\u001b[0m: The lists should have the same length"
     ]
    }
   ],
   "source": [
    "l_maturity = [1, 2, 3]\n",
    "l_short_rates = [1, 2, 3, 4]\n",
    "\n",
    "s_err = \"The lists should have the same length\"\n",
    "assert len(l_short_rates) == len(l_maturity), s_err"
   ]
  },
  {
   "cell_type": "code",
   "execution_count": null,
   "metadata": {
    "collapsed": true
   },
   "outputs": [],
   "source": []
  },
  {
   "cell_type": "code",
   "execution_count": null,
   "metadata": {
    "collapsed": true
   },
   "outputs": [],
   "source": []
  },
  {
   "cell_type": "code",
   "execution_count": null,
   "metadata": {
    "collapsed": true
   },
   "outputs": [],
   "source": []
  },
  {
   "cell_type": "code",
   "execution_count": null,
   "metadata": {
    "collapsed": true
   },
   "outputs": [],
   "source": []
  },
  {
   "cell_type": "code",
   "execution_count": 84,
   "metadata": {
    "collapsed": true
   },
   "outputs": [],
   "source": [
    "self.set_of_nodes = set([Node('_')])\n",
    "l_last_set = list(self.set_of_nodes)"
   ]
  },
  {
   "cell_type": "code",
   "execution_count": 88,
   "metadata": {
    "collapsed": false
   },
   "outputs": [],
   "source": [
    "for node in l_last_set:\n",
    "    s_down, s_up = node.get_childrens()"
   ]
  },
  {
   "cell_type": "code",
   "execution_count": 90,
   "metadata": {
    "collapsed": true
   },
   "outputs": [],
   "source": [
    "self.set_of_nodes_new = set([])"
   ]
  },
  {
   "cell_type": "code",
   "execution_count": null,
   "metadata": {
    "collapsed": false
   },
   "outputs": [],
   "source": [
    "        node = Node(s_name)\n",
    "        l_last_set = list(self.set_of_nodes)"
   ]
  },
  {
   "cell_type": "code",
   "execution_count": null,
   "metadata": {
    "collapsed": true
   },
   "outputs": [],
   "source": []
  },
  {
   "cell_type": "code",
   "execution_count": 89,
   "metadata": {
    "collapsed": false
   },
   "outputs": [
    {
     "data": {
      "text/plain": [
       "'D'"
      ]
     },
     "execution_count": 89,
     "metadata": {},
     "output_type": "execute_result"
    }
   ],
   "source": [
    "s_down"
   ]
  },
  {
   "cell_type": "code",
   "execution_count": null,
   "metadata": {
    "collapsed": true
   },
   "outputs": [],
   "source": []
  },
  {
   "cell_type": "code",
   "execution_count": 78,
   "metadata": {
    "collapsed": true
   },
   "outputs": [],
   "source": [
    "x = binomial_tree.BinomialTree(4)"
   ]
  },
  {
   "cell_type": "code",
   "execution_count": 80,
   "metadata": {
    "collapsed": false
   },
   "outputs": [
    {
     "data": {
      "text/plain": [
       "[DDD, DDU, DUU, UUU]"
      ]
     },
     "execution_count": 80,
     "metadata": {},
     "output_type": "execute_result"
    }
   ],
   "source": [
    "x.d_step[3]"
   ]
  },
  {
   "cell_type": "code",
   "execution_count": 83,
   "metadata": {
    "collapsed": true
   },
   "outputs": [],
   "source": [
    "self = y"
   ]
  },
  {
   "cell_type": "code",
   "execution_count": 86,
   "metadata": {
    "collapsed": true
   },
   "outputs": [],
   "source": [
    "self.set_of_nodes = set([Node('_')])\n",
    "l_last_set = list(self.set_of_nodes)"
   ]
  },
  {
   "cell_type": "code",
   "execution_count": 87,
   "metadata": {
    "collapsed": false
   },
   "outputs": [
    {
     "data": {
      "text/plain": [
       "[_]"
      ]
     },
     "execution_count": 87,
     "metadata": {},
     "output_type": "execute_result"
    }
   ],
   "source": [
    "l_last_set"
   ]
  },
  {
   "cell_type": "code",
   "execution_count": null,
   "metadata": {
    "collapsed": true
   },
   "outputs": [],
   "source": []
  },
  {
   "cell_type": "code",
   "execution_count": null,
   "metadata": {
    "collapsed": true
   },
   "outputs": [],
   "source": []
  },
  {
   "cell_type": "code",
   "execution_count": null,
   "metadata": {
    "collapsed": true
   },
   "outputs": [],
   "source": []
  },
  {
   "cell_type": "code",
   "execution_count": null,
   "metadata": {
    "collapsed": true
   },
   "outputs": [],
   "source": []
  },
  {
   "cell_type": "code",
   "execution_count": 97,
   "metadata": {
    "collapsed": true
   },
   "outputs": [],
   "source": [
    "x = binomial_tree.BinomialTree(10)"
   ]
  },
  {
   "cell_type": "code",
   "execution_count": null,
   "metadata": {
    "collapsed": false
   },
   "outputs": [],
   "source": []
  },
  {
   "cell_type": "code",
   "execution_count": 101,
   "metadata": {
    "collapsed": false
   },
   "outputs": [
    {
     "name": "stdout",
     "output_type": "stream",
     "text": [
      "\t\t\t\t\t\t\t\tDDDDDDDD\n",
      "\t\t\t\t\t\t\tDDDDDDD\t\n",
      "\t\t\t\t\t\tDDDDDD\t\tDDDDDDDU\n",
      "\t\t\t\t\tDDDDD\t\tDDDDDDU\t\n",
      "\t\t\t\tDDDD\t\tDDDDDU\t\tDDDDDDUU\n",
      "\t\t\tDDD\t\tDDDDU\t\tDDDDDUU\t\n",
      "\t\tDD\t\tDDDU\t\tDDDDUU\t\tDDDDDUUU\n",
      "\tD\t\tDDU\t\tDDDUU\t\tDDDDUUU\t\n",
      "_\t\tDU\t\tDDUU\t\tDDDUUU\t\tDDDDUUUU\n",
      "\tU\t\tDUU\t\tDDUUU\t\tDDDUUUU\t\n",
      "\t\tUU\t\tDUUU\t\tDDUUUU\t\tDDDUUUUU\n",
      "\t\t\tUUU\t\tDUUUU\t\tDDUUUUU\t\n",
      "\t\t\t\tUUUU\t\tDUUUUU\t\tDDUUUUUU\n",
      "\t\t\t\t\tUUUUU\t\tDUUUUUU\t\n",
      "\t\t\t\t\t\tUUUUUU\t\tDUUUUUUU\n",
      "\t\t\t\t\t\t\tUUUUUUU\t\n",
      "\t\t\t\t\t\t\t\tUUUUUUUU\n",
      "\n",
      "Plotted 8 from 10 steps\n"
     ]
    }
   ],
   "source": [
    "print x\n"
   ]
  },
  {
   "cell_type": "code",
   "execution_count": null,
   "metadata": {
    "collapsed": true
   },
   "outputs": [],
   "source": [
    "aaa"
   ]
  },
  {
   "cell_type": "code",
   "execution_count": 95,
   "metadata": {
    "collapsed": false
   },
   "outputs": [],
   "source": [
    "y = KWFTree(10)"
   ]
  },
  {
   "cell_type": "code",
   "execution_count": 96,
   "metadata": {
    "collapsed": false
   },
   "outputs": [
    {
     "data": {
      "text/plain": [
       "{UUUUUUUUU,\n",
       " DUUUUUUUD,\n",
       " DDDUUUUUD,\n",
       " DUUUUDUUD,\n",
       " DDDDDDDDU,\n",
       " DDDUDDDUU,\n",
       " UUUUUUUUD,\n",
       " DDDDDDDUU,\n",
       " DDDUDUDUU,\n",
       " DDDDDDDDD}"
      ]
     },
     "execution_count": 96,
     "metadata": {},
     "output_type": "execute_result"
    }
   ],
   "source": [
    "y.set_of_nodes"
   ]
  },
  {
   "cell_type": "code",
   "execution_count": null,
   "metadata": {
    "collapsed": true
   },
   "outputs": [],
   "source": []
  },
  {
   "cell_type": "code",
   "execution_count": null,
   "metadata": {
    "collapsed": true
   },
   "outputs": [],
   "source": []
  },
  {
   "cell_type": "code",
   "execution_count": null,
   "metadata": {
    "collapsed": true
   },
   "outputs": [],
   "source": []
  },
  {
   "cell_type": "code",
   "execution_count": null,
   "metadata": {
    "collapsed": true
   },
   "outputs": [],
   "source": []
  },
  {
   "cell_type": "markdown",
   "metadata": {},
   "source": [
    "#### TODO:\n",
    "- Apresentar os principais pontos da abordagem (hipóteses, limitações e etc)\n",
    "- Implementar\n",
    "- detalhar o processo de calibração (juros e vol)\n",
    "- Detalhar a determiação dos parâmetros do modelo ($\\sigma$)\n",
    "- Checar se tem base de dados de opções (Call Européia) de Juros\n",
    "- Levantar os preços histórico dos títulos: NTB...\n",
    "- Demonstrar a precificação de 2 derivativos mais complexos (opcional compara com mercado)\n"
   ]
  },
  {
   "cell_type": "code",
   "execution_count": 1,
   "metadata": {
    "collapsed": false
   },
   "outputs": [
    {
     "data": {
      "text/plain": [
       "[1, 2, 3, 4, 5]"
      ]
     },
     "execution_count": 1,
     "metadata": {},
     "output_type": "execute_result"
    }
   ],
   "source": [
    "[1, 2, 3, 4, 5]"
   ]
  },
  {
   "cell_type": "code",
   "execution_count": null,
   "metadata": {
    "collapsed": true
   },
   "outputs": [],
   "source": [
    "{1: [1], 2:[2, 2], 3:[3, 3, 3]}"
   ]
  },
  {
   "cell_type": "code",
   "execution_count": null,
   "metadata": {
    "collapsed": true
   },
   "outputs": [],
   "source": []
  },
  {
   "cell_type": "code",
   "execution_count": null,
   "metadata": {
    "collapsed": true
   },
   "outputs": [],
   "source": [
    "class kwf_model(object):\n",
    "    '''\n",
    "    '''\n",
    "    def __init__(self, l_prices, l_maturity, f_sigma, ll_cupon=[])\n",
    "        '''\n",
    "        Implements the kwf model\n",
    "        :param l_prices: list. Market Prices\n",
    "        :param l_maturity: list. The maturirity in year of the contracts\n",
    "        :param f_sigma. float. The volatility of the \n",
    "        :*ll_cupon: list of lists. The cupons of each instrument\n",
    "        '''\n",
    "        self.l_prices = l_prices\n",
    "        self.l_maturity = l_maturity\n",
    "        self.f_sigma = f_sigma\n",
    "        sefl.ll_cupon = ll_cupon\n",
    "        self.d_forward = self.fit_curve()\n",
    "\n",
    "    def fit_curve(self):\n",
    "        '''\n",
    "        Return the forwards that fit the market curve\n",
    "        '''\n",
    "        raise NotImplementedError()\n",
    "        return d_rtn\n",
    "\n",
    "    \n",
    "class Bond(object):\n",
    "    '''\n",
    "    '''\n",
    "    def __init__(self, f_cupon, f_face_value):\n",
    "        '''\n",
    "        '''\n",
    "        raise NotImplementedError()\n",
    "\n",
    "    def get_value(self, o_kwf_model):\n",
    "        '''\n",
    "        '''\n",
    "        raise NotImplementedError()\n",
    "        return f_rtn\n"
   ]
  },
  {
   "cell_type": "code",
   "execution_count": null,
   "metadata": {
    "collapsed": true
   },
   "outputs": [],
   "source": [
    "l_prices = [0.035, 0.04, 0.045]\n",
    "l_maturity = [1., 2., 3.]\n",
    "f_sigma = 0.1\n",
    "\n",
    "\n",
    "my_curve = kwf_model(l_prices, l_maturity, f_sigma)"
   ]
  },
  {
   "cell_type": "code",
   "execution_count": null,
   "metadata": {
    "collapsed": true
   },
   "outputs": [],
   "source": [
    "mybond = Bond(0.045, 100.)\n",
    "mybond.get_value(my_curve)  # retorna preco"
   ]
  },
  {
   "cell_type": "code",
   "execution_count": null,
   "metadata": {
    "collapsed": true
   },
   "outputs": [],
   "source": []
  },
  {
   "cell_type": "code",
   "execution_count": null,
   "metadata": {
    "collapsed": true
   },
   "outputs": [],
   "source": []
  },
  {
   "cell_type": "code",
   "execution_count": null,
   "metadata": {
    "collapsed": true
   },
   "outputs": [],
   "source": []
  },
  {
   "cell_type": "code",
   "execution_count": null,
   "metadata": {
    "collapsed": true
   },
   "outputs": [],
   "source": []
  },
  {
   "cell_type": "markdown",
   "metadata": {},
   "source": [
    "## 2. Bla\n",
    "\n",
    "bla bla\n",
    "\n",
    "### 2.1. Bla\n",
    "\n",
    "bla bla"
   ]
  },
  {
   "cell_type": "code",
   "execution_count": null,
   "metadata": {
    "collapsed": true
   },
   "outputs": [],
   "source": []
  },
  {
   "cell_type": "code",
   "execution_count": null,
   "metadata": {
    "collapsed": true
   },
   "outputs": [],
   "source": []
  },
  {
   "cell_type": "code",
   "execution_count": null,
   "metadata": {
    "collapsed": true
   },
   "outputs": [],
   "source": []
  },
  {
   "cell_type": "code",
   "execution_count": null,
   "metadata": {
    "collapsed": true
   },
   "outputs": [],
   "source": []
  },
  {
   "cell_type": "markdown",
   "metadata": {},
   "source": [
    "## 3. Conclusão\n",
    "\n",
    "bla bla\n",
    "\n",
    "## 4. Últimas Considerações\n",
    "\n",
    "bla bla"
   ]
  },
  {
   "cell_type": "code",
   "execution_count": null,
   "metadata": {
    "collapsed": true
   },
   "outputs": [],
   "source": []
  },
  {
   "cell_type": "code",
   "execution_count": null,
   "metadata": {
    "collapsed": true
   },
   "outputs": [],
   "source": []
  },
  {
   "cell_type": "code",
   "execution_count": null,
   "metadata": {
    "collapsed": true
   },
   "outputs": [],
   "source": []
  },
  {
   "cell_type": "code",
   "execution_count": null,
   "metadata": {
    "collapsed": true
   },
   "outputs": [],
   "source": []
  },
  {
   "cell_type": "code",
   "execution_count": null,
   "metadata": {
    "collapsed": true
   },
   "outputs": [],
   "source": []
  },
  {
   "cell_type": "markdown",
   "metadata": {},
   "source": [
    "*Style notebook and change matplotlib defaults*"
   ]
  },
  {
   "cell_type": "code",
   "execution_count": 292,
   "metadata": {
    "collapsed": false
   },
   "outputs": [
    {
     "data": {
      "text/html": [
       "<style>\n",
       "    @font-face {\n",
       "        font-family: \"Computer Modern\";\n",
       "        src: url('http://9dbb143991406a7c655e-aa5fcb0a5a4ec34cff238a2d56ca4144.r56.cf5.rackcdn.com/cmunss.otf');\n",
       "    }\n",
       "    @font-face {\n",
       "        font-family: \"Computer Modern\";\n",
       "        font-weight: bold;\n",
       "        src: url('http://9dbb143991406a7c655e-aa5fcb0a5a4ec34cff238a2d56ca4144.r56.cf5.rackcdn.com/cmunsx.otf');\n",
       "    }\n",
       "    @font-face {\n",
       "        font-family: \"Computer Modern\";\n",
       "        font-style: oblique;\n",
       "        src: url('http://9dbb143991406a7c655e-aa5fcb0a5a4ec34cff238a2d56ca4144.r56.cf5.rackcdn.com/cmunsi.otf');\n",
       "    }\n",
       "    @font-face {\n",
       "        font-family: \"Computer Modern\";\n",
       "        font-weight: bold;\n",
       "        font-style: oblique;\n",
       "        src: url('http://9dbb143991406a7c655e-aa5fcb0a5a4ec34cff238a2d56ca4144.r56.cf5.rackcdn.com/cmunso.otf');\n",
       "    }\n",
       "    div.cell{\n",
       "        width:800px;\n",
       "        margin-left:16% !important;\n",
       "        margin-right:auto;\n",
       "    }\n",
       "    h1 {\n",
       "        font-family: Helvetica, serif;\n",
       "    }\n",
       "    h4{\n",
       "        margin-top:12px;\n",
       "        margin-bottom: 3px;\n",
       "       }\n",
       "    div.text_cell_render{\n",
       "        font-family: Computer Modern, \"Helvetica Neue\", Arial, Helvetica, Geneva, sans-serif;\n",
       "        line-height: 145%;\n",
       "        font-size: 130%;\n",
       "        width:800px;\n",
       "        margin-left:auto;\n",
       "        margin-right:auto;\n",
       "    }\n",
       "    .CodeMirror{\n",
       "            font-family: \"Source Code Pro\", source-code-pro,Consolas, monospace;\n",
       "    }\n",
       "    .prompt{\n",
       "        display: None;\n",
       "    }\n",
       "    .text_cell_render h5 {\n",
       "        font-weight: 300;\n",
       "        font-size: 22pt;\n",
       "        color: #4057A1;\n",
       "        font-style: italic;\n",
       "        margin-bottom: .5em;\n",
       "        margin-top: 0.5em;\n",
       "        display: block;\n",
       "    }\n",
       "\n",
       "    .warning{\n",
       "        color: rgb( 240, 20, 20 )\n",
       "        }\n",
       "</style>\n",
       "\n",
       "\n",
       "\n",
       "<style>\n",
       "    table {\n",
       "        overflow:hidden;\n",
       "        font-family: Computer Modern, \"Helvetica Neue\", Arial, Helvetica, Geneva, sans-serif;\n",
       "        font-size: 12px;\n",
       "        margin: 10px;\n",
       "        width: 480px;\n",
       "        text-align: left;\n",
       "        border-collapse: collapse;\n",
       "        border: 1px solid #d3d3d3;\n",
       "        -moz-border-radius:5px; FF1+;\n",
       "        -webkit-border-radius:5px; Saf3-4;\n",
       "        border-radius:5px;\n",
       "        -moz-box-shadow: 0 0 4px rgba(0, 0, 0, 0.01);\n",
       "    }\n",
       "    th\n",
       "    {\n",
       "        padding: 12px 17px 12px 17px;\n",
       "        font-weight: normal;\n",
       "        font-size: 14px;\n",
       "        border-bottom: 1px dashed #69c;\n",
       "    }\n",
       "\n",
       "    td\n",
       "    {\n",
       "        padding: 7px 17px 7px 17px;\n",
       "\n",
       "    }\n",
       "\n",
       "    tbody tr:hover th\n",
       "    {\n",
       "\n",
       "        background:  #E9E9E9;\n",
       "    }\n",
       "\n",
       "    tbody tr:hover td\n",
       "    {\n",
       "\n",
       "        background:  #E9E9E9;\n",
       "    }\n",
       "\n",
       "</style>\n",
       "\n",
       "<script>\n",
       "    MathJax.Hub.Config({\n",
       "                        TeX: {\n",
       "                           extensions: [\"AMSmath.js\"]\n",
       "                           },\n",
       "                tex2jax: {\n",
       "                    inlineMath: [ ['$','$'], [\"\\\\(\",\"\\\\)\"] ],\n",
       "                    displayMath: [ ['$$','$$'], [\"\\\\[\",\"\\\\]\"] ]\n",
       "                },\n",
       "                displayAlign: 'center', // Change this to 'center' to center equations.\n",
       "                \"HTML-CSS\": {\n",
       "                    styles: {'.MathJax_Display': {\"margin\": 4}}\n",
       "                }\n",
       "        });\n",
       "</script>\n"
      ],
      "text/plain": [
       "<IPython.core.display.HTML object>"
      ]
     },
     "execution_count": 292,
     "metadata": {},
     "output_type": "execute_result"
    }
   ],
   "source": [
    "#loading style sheet\n",
    "from IPython.core.display import HTML\n",
    "HTML(open('ipython_style.css').read())"
   ]
  },
  {
   "cell_type": "code",
   "execution_count": 293,
   "metadata": {
    "collapsed": false
   },
   "outputs": [],
   "source": [
    "#changing matplotlib defaults\n",
    "%matplotlib inline\n",
    "import seaborn as sns\n",
    "sns.set_palette(\"deep\", desat=.6)\n",
    "sns.set_context(rc={\"figure.figsize\": (8, 4)})\n",
    "sns.set_style(\"whitegrid\")\n",
    "sns.set_palette(sns.color_palette(\"PuBuGn_d\", 10))"
   ]
  },
  {
   "cell_type": "code",
   "execution_count": null,
   "metadata": {
    "collapsed": true
   },
   "outputs": [],
   "source": []
  }
 ],
 "metadata": {
  "kernelspec": {
   "display_name": "Python 2",
   "language": "python",
   "name": "python2"
  },
  "language_info": {
   "codemirror_mode": {
    "name": "ipython",
    "version": 2
   },
   "file_extension": ".py",
   "mimetype": "text/x-python",
   "name": "python",
   "nbconvert_exporter": "python",
   "pygments_lexer": "ipython2",
   "version": "2.7.11"
  }
 },
 "nbformat": 4,
 "nbformat_minor": 0
}
