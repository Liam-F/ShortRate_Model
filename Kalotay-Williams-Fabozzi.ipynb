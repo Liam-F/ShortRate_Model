{
 "cells": [
  {
   "cell_type": "markdown",
   "metadata": {},
   "source": [
    "# Derivativos de Taxa de Juros\n",
    "## Modelo de Kalotay-Williams-Fabozzi\n",
    "\n",
    "Renato Mori, Uirá Caiado. 19 de Junho, 2016"
   ]
  },
  {
   "cell_type": "markdown",
   "metadata": {},
   "source": [
    "**Resumo**\n",
    "\n",
    "*Neste projeto vamos implementar um modelo de um fator chamado [Kalotay-Williams-Fabozzi](https://en.wikipedia.org/wiki/Short-rate_model#One-factor_short-rate_models), onde apenas um único fator estocástico - a taxa de juros instantânea - determina a evolução de toda estrutura a termo da taxa de juros. Vamos descrever brevemente o modelo, detalhar sua implementação, estimar seus parâmetros e demonstrar sua utilização para precificação de alguns títulos que sejam possíveis de compara com preços de mercado.*"
   ]
  },
  {
   "cell_type": "markdown",
   "metadata": {},
   "source": [
    "## 1. Introdução\n",
    "\n",
    "Nesta sessão vamos introduzir o modelo discutido neste trabalho e descrever o problema que será abordado aqui.\n",
    "\n",
    "\n",
    "### 1.1. Modelagem da Curva de Juros\n",
    "\n",
    "Como colocado por Fabozzi, a Taxa de Juros frequentemente é modelada usando equações diferenciais estocásticas ([SDEs](https://en.wikipedia.org/wiki/Stochastic_differential_equation) é a abreviação em inglês). Os modelos mais comumente utilizados são os modelos de um ou dois fatores (estocástios), sendo que o de um usa uma SDE para representar a taxa de juros de curto prazo e a segunda representa tanto a taxa de curto como a de longo prazo. Na dinâmica escolhida para o modelo que deve ser refletidas as características desejadas para a curva, como reversão a média e volatilidade dependente do nível da taxa.\n",
    "\n",
    "Existe duas abordagens para na utilizaçtão de equações estocásticas na modelagem da curva a termo de juros: modelos de equilibrio e modelos de não arbitragem, sendo que ambos são usados para precificar *Bonds* e derivativos sobre taxa de juros.\n",
    "\n",
    "Modelos de equilíbrio começam com uma SDE e desenvolvem uma estrutura que não necessariamente correspondem aos preços observados no mercado. Alguns exemplos de modelos desta classe são o Vasicek, Brenna and Schwartz e o Cox, Ingersoll and Ross.\n",
    "\n",
    "Os modelos de não arbitragem também utilizam uma SDE, porém usam os preços de mercado para gerar os caminhos possíveis para taxa de juros. Esta estrutura segue as características impostas pela SDE as taxas de juros encontradas, quando usadas para precificar um bond qualquer, resultam na mesma taxa de juros observada no mercado. Exemplos são o Ho and Lee, Black, Derman and Toy e o Hull and White.\n",
    "\n",
    "Os modelos de não arbitragem geralmente são escolhidos para precificação de Bonds e derivativos pois garantem que as taxas atuais correspondam ao mercado. Este trabalgho explorará um modelo de não arbitragem chamado Kalotay-Williams-Fabozzi.\n",
    "\n",
    "### 1.2. Modelo Kalotay-Williams-Fabozzi\n",
    "\n",
    "O modelo Kalotay-Williams-Fabozzi (KWF) assume que as mudanças na taxa de juros de curto prazo segue um certo [processo estocástico](https://en.wikipedia.org/wiki/Stochastic_process) que pode ser descrito pela seguinte SDE:\n",
    "\n",
    "$$ \\mathrm{d} \\ln \\left (  r(t) \\right ) = \\theta(t) \\mathrm{d} t + \\sigma\\mathrm{d}Z$$\n",
    "\n",
    "Onde $Z$ é um processo de [Wiener](https://en.wikipedia.org/wiki/Wiener_process), $\\theta$ é o *drift* do processo e $\\sigma$ é a volatilidade da primeira diferença das taxas de curto prazo.  Como o que a equação descreve é a dinâmica do **logarítimo natural** de taxa $r$; e $W$ tem distribuição normal, o $\\ln(r)$ terá distribuição normal e o $r$, log normal. Desta maneira, embora $\\ln(r)$ possa assumir valores negativos, $r$ não assumirá.\n",
    "\n",
    "No trabalho original em que o modelo KWF foi apresentado, os autores não incluiram explicitamente o *drift* na dinâmica do processo na modelagem e, por tanto, também não utilizaremos ele aqui. Assim, assumindo $\\theta=0$, integrando ambos os lados da SDE, chamando $\\ln(r)$ de $f(t)$ e sabendo que $W_t - W_s = W_{t-s}$, ficamos com:\n",
    "\n",
    "\\begin{equation}\n",
    "    \\begin{aligned}\n",
    "    \\int_{t}^{T}{\\mathrm{d} f(t)} &=  \\sigma \\int_{t}^{T}{\\mathrm{d}W_{t}} \\\\\n",
    "    f(T) - f(t) &= \\sigma \\left (  W_{T} - W_{t} \\right ) \\\\\n",
    "    \\ln \\left (  r(T) \\right ) - \\ln \\left (  r(t) \\right ) &= \\sigma \\left (  W_{T} - W_{t} \\right )\\\\\n",
    "    r(T) &= r(t) \\cdot e^{\\sigma \\cdot W_{T-t}}\n",
    "    \\end{aligned}\n",
    "\\end{equation}\n",
    "\n",
    "Na proxima seção, discretizaremos este processo."
   ]
  },
  {
   "cell_type": "markdown",
   "metadata": {},
   "source": [
    "## 2. Implementando o Modelo\n",
    "\n",
    "Nesta sessão detalharemos e implementaremos o modelo utilizando como referência o artigo original e calibraremos ele para que bata com os dados de mercado.\n",
    "\n",
    "### 2.1. Aproximação da SDE por Árvore Binomial\n",
    "\n",
    "As equações diferenciais estocásticas podem ter sua solução aproximada numericamente utilizando uma árvore binomial. Este método assume que a taxa de juros de curto prazo pode assumir apenas dois valores no período seguinte da discretização, $r_{u}$ ou $r_{d}$, onde $r_{u} > r_{d}$. Como cada nó da árvore dá origem à dois novos nós, a medida que se aumenta os passos de discretização, o número de nós rapidamente aumenta. Para evitar este crescimento exponencial, é imposto ao modelo que a árvore seja recombinante, ou seja, um movimento de subida seguido por uma queda resulta no mesmo nó de uma queda seguida de uma alta. \n",
    "\n",
    "Um movimento de alta na taxa de juros tem probabilidade $q$ de ocorrer, enquanto um de queda tem probabilidade de $1 - q$. Utilizaremos probabilidade de $q=0.5$ para garantir a netralidade a risco na solução da SDE. É importante frisar que isso não implica na probabilidade real da taxa de juros cair. $q$ representa apenas a probabilidade *neutra a risco*. "
   ]
  },
  {
   "cell_type": "code",
   "execution_count": 66,
   "metadata": {
    "collapsed": false
   },
   "outputs": [],
   "source": [
    "# bibliotecas necessarias\n",
    "import numpy as np\n",
    "import math\n",
    "import pandas as pd\n",
    "import seaborn as sns\n",
    "import matplotlib.pylab as plt"
   ]
  },
  {
   "cell_type": "code",
   "execution_count": 216,
   "metadata": {
    "collapsed": false
   },
   "outputs": [
    {
     "name": "stdout",
     "output_type": "stream",
     "text": [
      "Tempo para inicar toda a arvore: \n",
      "- Com 10 passos: Criados 55 em 0.00 segundos\n",
      "- Com 100 passos: Criados 5,050 em 0.10 segundos\n",
      "- Com 250 passos: Criados 31,375 em 0.63 segundos\n",
      "- Com 500 passos: Criados 125,250 em 2.24 segundos\n",
      "- Com 1000 passos: Criados 500,500 em 10.16 segundos\n"
     ]
    }
   ],
   "source": [
    "import time\n",
    "import binomial_tree; reload(binomial_tree);\n",
    "\n",
    "def foo(i):\n",
    "    f_start = time.time()\n",
    "    x = binomial_tree.BinomialTree(i)\n",
    "    x._go_foward(i)\n",
    "    i_rtn = len(x.set_of_nodes)\n",
    "    return i_rtn, time.time() - f_start\n",
    "\n",
    "print \"Tempo para inicar toda a arvore: \"\n",
    "for i in [10, 100, 250, 500, 1000]:\n",
    "    # mais de 1000 nodes trava\n",
    "    i_nodes, f_time = foo(i)\n",
    "    print \"- Com {} passos: Criados {:0,.0f} em {:.2f} segundos\".format(i, i_nodes, f_time)"
   ]
  },
  {
   "cell_type": "code",
   "execution_count": 69,
   "metadata": {
    "collapsed": false
   },
   "outputs": [
    {
     "name": "stdout",
     "output_type": "stream",
     "text": [
      "Primeiros passos da arvore criada:\n",
      "========================================\n",
      "\n",
      "\n",
      "\t\t\t\t\t\t\t\tUUUUUUUU\n",
      "\t\t\t\t\t\t\tUUUUUUU\t\n",
      "\t\t\t\t\t\tUUUUUU\t\tDUUUUUUU\n",
      "\t\t\t\t\tUUUUU\t\tDUUUUUU\t\n",
      "\t\t\t\tUUUU\t\tDUUUUU\t\tDDUUUUUU\n",
      "\t\t\tUUU\t\tDUUUU\t\tDDUUUUU\t\n",
      "\t\tUU\t\tDUUU\t\tDDUUUU\t\tDDDUUUUU\n",
      "\tU\t\tDUU\t\tDDUUU\t\tDDDUUUU\t\n",
      "_\t\tDU\t\tDDUU\t\tDDDUUU\t\tDDDDUUUU\n",
      "\tD\t\tDDU\t\tDDDUU\t\tDDDDUUU\t\n",
      "\t\tDD\t\tDDDU\t\tDDDDUU\t\tDDDDDUUU\n",
      "\t\t\tDDD\t\tDDDDU\t\tDDDDDUU\t\n",
      "\t\t\t\tDDDD\t\tDDDDDU\t\tDDDDDDUU\n",
      "\t\t\t\t\tDDDDD\t\tDDDDDDU\t\n",
      "\t\t\t\t\t\tDDDDDD\t\tDDDDDDDU\n",
      "\t\t\t\t\t\t\tDDDDDDD\t\n",
      "\t\t\t\t\t\t\t\tDDDDDDDD\n",
      "\n",
      "Plotted 8 from 12 steps\n"
     ]
    }
   ],
   "source": [
    "import binomial_tree; reload(binomial_tree);\n",
    "x = binomial_tree.BinomialTree(12)\n",
    "x._go_foward(12)\n",
    "print 'Primeiros passos da arvore criada:\\n========================================\\n\\n'\n",
    "print x"
   ]
  },
  {
   "cell_type": "code",
   "execution_count": 70,
   "metadata": {
    "collapsed": false
   },
   "outputs": [],
   "source": [
    "import binomial_tree; reload(binomial_tree)\n",
    "import pandas as pd\n",
    "# definindo parametros\n",
    "l_txindicativa = [14.152, 14.0265, 13.7596, 13.4663, 13.1995,\n",
    "                  12.9729, 12.8001, 12.7250, 12.6541, 12.5649,\n",
    "                  12.5653, 12.6005]\n",
    "l_prazo = [9., 74., 136., 199., 260., 324., 385., 446., 509, 635., 758., 888.]\n",
    "l_txindicativa = [x/100. for x in l_txindicativa]"
   ]
  },
  {
   "cell_type": "code",
   "execution_count": 71,
   "metadata": {
    "collapsed": false
   },
   "outputs": [
    {
     "name": "stdout",
     "output_type": "stream",
     "text": [
      "1 loop, best of 3: 818 ms per loop\n"
     ]
    }
   ],
   "source": [
    "# testa tempo\n",
    "def foo():\n",
    "    my_tree = binomial_tree.KWFTree([x for x in l_txindicativa],\n",
    "                                    [x/252. for x in l_prazo])\n",
    "    my_tree.fit_foward_curve(f_sigma=0.1)\n",
    "    \n",
    "%timeit foo()"
   ]
  },
  {
   "cell_type": "code",
   "execution_count": 72,
   "metadata": {
    "collapsed": false
   },
   "outputs": [],
   "source": [
    "#cria arvore\n",
    "import binomial_tree; reload(binomial_tree)\n",
    "my_tree = binomial_tree.KWFTree([x for x in l_txindicativa],\n",
    "                                [x/252. for x in l_prazo])\n",
    "my_tree.fit_foward_curve(f_sigma=0.1, f_faceval=1000.)\n",
    "self = my_tree"
   ]
  },
  {
   "cell_type": "code",
   "execution_count": 73,
   "metadata": {
    "collapsed": false
   },
   "outputs": [
    {
     "data": {
      "image/png": "[encoded data removed]",
      "text/plain": [
       "<matplotlib.figure.Figure at 0x7f7065e42790>"
      ]
     },
     "metadata": {},
     "output_type": "display_data"
    }
   ],
   "source": [
    "my_tree.plot_curves();"
   ]
  },
  {
   "cell_type": "code",
   "execution_count": 74,
   "metadata": {
    "collapsed": false
   },
   "outputs": [
    {
     "data": {
      "image/png": "[encoded data removed]",
      "text/plain": [
       "<matplotlib.figure.Figure at 0x7f70659ce6d0>"
      ]
     },
     "metadata": {},
     "output_type": "display_data"
    }
   ],
   "source": [
    "my_tree.plot_hist();"
   ]
  },
  {
   "cell_type": "code",
   "execution_count": 75,
   "metadata": {
    "collapsed": false
   },
   "outputs": [
    {
     "data": {
      "image/png": "[encoded data removed]",
      "text/plain": [
       "<matplotlib.figure.Figure at 0x7f706627e290>"
      ]
     },
     "metadata": {},
     "output_type": "display_data"
    }
   ],
   "source": [
    "my_tree.plot_lattice();"
   ]
  },
  {
   "cell_type": "code",
   "execution_count": 79,
   "metadata": {
    "collapsed": false
   },
   "outputs": [
    {
     "name": "stdout",
     "output_type": "stream",
     "text": [
      "                 cupon     valor     taxa      prazo     \n",
      "_                 0.00   658.236    14.152    0.0357\n",
      "D                 0.00   686.853    12.623    0.0357\n",
      "U                 0.00   635.858    15.417    0.0357\n",
      "DD                0.00   731.192    10.915    0.2579\n",
      "DU                0.00   685.285    13.332    0.2579\n",
      "UU                0.00   634.344    16.284    0.2579\n",
      "DDD               0.00   770.468     9.396    0.2460\n",
      "DDU               0.00   729.669    11.476    0.2460\n",
      "DUU               0.00   683.760    14.017    0.2460\n",
      "UUU               0.00   632.902    17.121    0.2460\n",
      "DDDD              0.00   805.822     8.140    0.2500\n",
      "...\n"
     ]
    }
   ],
   "source": [
    "my_tree.get_description()"
   ]
  },
  {
   "cell_type": "code",
   "execution_count": 80,
   "metadata": {
    "collapsed": true
   },
   "outputs": [],
   "source": [
    "#cria arvore\n",
    "import binomial_tree; reload(binomial_tree)\n",
    "my_tree = binomial_tree.KWFTreePU([x for x in l_txindicativa],\n",
    "                                [x/252. for x in l_prazo])\n",
    "my_tree.fit_foward_curve(f_sigma=0.1, f_faceval=1000.)\n",
    "self = my_tree\n",
    "df = my_tree.get_lattice()"
   ]
  },
  {
   "cell_type": "code",
   "execution_count": 81,
   "metadata": {
    "collapsed": false
   },
   "outputs": [
    {
     "data": {
      "image/png": "[encoded data removed]",
      "text/plain": [
       "<matplotlib.figure.Figure at 0x7f70658c8990>"
      ]
     },
     "metadata": {},
     "output_type": "display_data"
    }
   ],
   "source": [
    "my_tree.plot_curves();"
   ]
  },
  {
   "cell_type": "code",
   "execution_count": 82,
   "metadata": {
    "collapsed": false
   },
   "outputs": [
    {
     "data": {
      "image/png": "[encoded data removed]",
      "text/plain": [
       "<matplotlib.figure.Figure at 0x7f70693e7c90>"
      ]
     },
     "metadata": {},
     "output_type": "display_data"
    }
   ],
   "source": [
    "my_tree.plot_hist();"
   ]
  },
  {
   "cell_type": "code",
   "execution_count": 83,
   "metadata": {
    "collapsed": false
   },
   "outputs": [
    {
     "data": {
      "image/png": "[encoded data removed]",
      "text/plain": [
       "<matplotlib.figure.Figure at 0x7f7065ae7f90>"
      ]
     },
     "metadata": {},
     "output_type": "display_data"
    }
   ],
   "source": [
    "my_tree.plot_lattice();"
   ]
  },
  {
   "cell_type": "code",
   "execution_count": 84,
   "metadata": {
    "collapsed": false
   },
   "outputs": [
    {
     "name": "stdout",
     "output_type": "stream",
     "text": [
      "                 cupon     valor     taxa      prazo     \n",
      "_                 0.00   658.236    14.152    0.0357\n",
      "D                 0.00   686.853    12.623    0.0357\n",
      "U                 0.00   635.858    15.417    0.0357\n",
      "DD                0.00   731.192    10.915    0.2579\n",
      "DU                0.00   685.285    13.332    0.2579\n",
      "UU                0.00   634.344    16.284    0.2579\n",
      "DDD               0.00   770.468     9.396    0.2460\n",
      "DDU               0.00   729.669    11.476    0.2460\n",
      "DUU               0.00   683.760    14.017    0.2460\n",
      "UUU               0.00   632.902    17.121    0.2460\n",
      "DDDD              0.00   805.822     8.140    0.2500\n",
      "...\n"
     ]
    }
   ],
   "source": [
    "my_tree.get_description()"
   ]
  },
  {
   "cell_type": "markdown",
   "metadata": {
    "collapsed": true
   },
   "source": [
    "Testando códigos para precificação do Bond proposto pelo paper"
   ]
  },
  {
   "cell_type": "code",
   "execution_count": 113,
   "metadata": {
    "collapsed": false
   },
   "outputs": [
    {
     "name": "stdout",
     "output_type": "stream",
     "text": [
      "\t\t\tUUU\n",
      "\t\tUU\t\n",
      "\tU\t\tDUU\n",
      "_\t\tDU\t\n",
      "\tD\t\tDDU\n",
      "\t\tDD\t\n",
      "\t\t\tDDD\n",
      "\n"
     ]
    }
   ],
   "source": [
    "# dados originais do paper\n",
    "l_txindicativa = [0.035, 0.04, 0.045]\n",
    "l_prazo = [1., 2., 3.]\n",
    "\n",
    "my_tree = binomial_tree.KWFTree(l_txindicativa, l_prazo)\n",
    "my_tree.fit_foward_curve(f_sigma=0.1, f_faceval=100.)\n",
    "print my_tree"
   ]
  },
  {
   "cell_type": "code",
   "execution_count": 112,
   "metadata": {
    "collapsed": false
   },
   "outputs": [
    {
     "name": "stdout",
     "output_type": "stream",
     "text": [
      "                 cupon     valor     taxa      prazo     \n",
      "_                 0.00   100.000     3.500    1.0000\n",
      "D                 4.50    99.926     4.074    1.0000\n",
      "U                 4.50    98.074     4.976    1.0000\n",
      "DD                4.50    99.972     4.530    1.0000\n",
      "DU                4.50    99.022     5.532    1.0000\n",
      "UU                4.50    97.886     6.757    1.0000\n",
      "DDD               4.50   100.000     0.000    1.0000\n",
      "DDU               4.50   100.000     0.000    1.0000\n",
      "DUU               4.50   100.000     0.000    1.0000\n",
      "UUU               4.50   100.000     0.000    1.0000\n"
     ]
    }
   ],
   "source": [
    "my_tree.get_description()"
   ]
  },
  {
   "cell_type": "code",
   "execution_count": 114,
   "metadata": {
    "collapsed": true
   },
   "outputs": [],
   "source": [
    "import instruments; reload(instruments);\n",
    "bond_example = instruments.Bond(f_face_value=100., f_cupon=5.25)"
   ]
  },
  {
   "cell_type": "code",
   "execution_count": 116,
   "metadata": {
    "collapsed": false
   },
   "outputs": [
    {
     "data": {
      "text/plain": [
       "102.07456540525168"
      ]
     },
     "execution_count": 116,
     "metadata": {},
     "output_type": "execute_result"
    }
   ],
   "source": [
    "bond_example.get_current_value(my_tree, i_steps=3)"
   ]
  },
  {
   "cell_type": "markdown",
   "metadata": {},
   "source": [
    "Testo com valores da planilha, fitando curva da maneira do jeito do paper"
   ]
  },
  {
   "cell_type": "code",
   "execution_count": 117,
   "metadata": {
    "collapsed": true
   },
   "outputs": [],
   "source": [
    "l_txindicativa = [14.152, 14.0265, 13.7596, 13.4663, 13.1995,\n",
    "                  12.9729, 12.8001, 12.7250, 12.6541, 12.5649,\n",
    "                  12.5653, 12.6005]\n",
    "l_prazo = [9., 74., 136., 199., 260., 324., 385., 446., 509, 635., 758., 888.]\n",
    "l_txindicativa = [x/100. for x in l_txindicativa]"
   ]
  },
  {
   "cell_type": "code",
   "execution_count": 118,
   "metadata": {
    "collapsed": true
   },
   "outputs": [],
   "source": [
    "my_tree = binomial_tree.KWFTree([x for x in l_txindicativa],\n",
    "                                [x/252. for x in l_prazo])\n",
    "my_tree.fit_foward_curve(f_sigma=0.1, f_faceval=1000.)"
   ]
  },
  {
   "cell_type": "code",
   "execution_count": 119,
   "metadata": {
    "collapsed": true
   },
   "outputs": [],
   "source": [
    "import instruments; reload(instruments);\n",
    "bond_example = instruments.Bond(f_face_value=1000., f_cupon=0.)"
   ]
  },
  {
   "cell_type": "code",
   "execution_count": 125,
   "metadata": {
    "collapsed": false
   },
   "outputs": [
    {
     "name": "stdout",
     "output_type": "stream",
     "text": [
      "1: 995.28399\n",
      "2: 962.18877\n",
      "3: 932.81297\n",
      "4: 905.13473\n",
      "5: 880.11516\n",
      "6: 855.17478\n",
      "7: 832.39269\n",
      "8: 809.51780\n",
      "9: 786.74483\n",
      "10: 742.89192\n",
      "11: 701.18197\n",
      "12: 658.78551\n"
     ]
    }
   ],
   "source": [
    "for i in xrange(1, 13):\n",
    "    print \"{}: {:5.5f}\".format(i, bond_example.get_current_value(my_tree, i_steps=i))"
   ]
  },
  {
   "cell_type": "markdown",
   "metadata": {},
   "source": [
    "Testo com valores da planilha, fitando pelo PU"
   ]
  },
  {
   "cell_type": "code",
   "execution_count": 127,
   "metadata": {
    "collapsed": true
   },
   "outputs": [],
   "source": [
    "my_tree = binomial_tree.KWFTreePU([x for x in l_txindicativa],\n",
    "                                  [x/252. for x in l_prazo])\n",
    "my_tree.fit_foward_curve(f_sigma=0.1, f_faceval=1000.)"
   ]
  },
  {
   "cell_type": "code",
   "execution_count": 128,
   "metadata": {
    "collapsed": false
   },
   "outputs": [
    {
     "name": "stdout",
     "output_type": "stream",
     "text": [
      "1: 995.28399\n",
      "2: 962.18859\n",
      "3: 932.79073\n",
      "4: 905.05000\n",
      "5: 879.92598\n",
      "6: 854.85059\n",
      "7: 831.92223\n",
      "8: 808.97002\n",
      "9: 786.10266\n",
      "10: 742.11741\n",
      "11: 700.45207\n",
      "12: 658.23615\n"
     ]
    }
   ],
   "source": [
    "for i in xrange(1, 13):\n",
    "    print \"{}: {:5.5f}\".format(i, bond_example.get_current_value(my_tree, i_steps=i))"
   ]
  },
  {
   "cell_type": "code",
   "execution_count": null,
   "metadata": {
    "collapsed": true
   },
   "outputs": [],
   "source": []
  },
  {
   "cell_type": "code",
   "execution_count": null,
   "metadata": {
    "collapsed": true
   },
   "outputs": [],
   "source": []
  },
  {
   "cell_type": "code",
   "execution_count": null,
   "metadata": {
    "collapsed": true
   },
   "outputs": [],
   "source": []
  },
  {
   "cell_type": "code",
   "execution_count": null,
   "metadata": {
    "collapsed": true
   },
   "outputs": [],
   "source": []
  },
  {
   "cell_type": "markdown",
   "metadata": {},
   "source": [
    "#### TODO:\n",
    "- Implementar (OK)\n",
    "- Levantar os preços histórico dos títulos: NTB (OK)\n",
    "- Apresentar os principais pontos da abordagem (hipóteses, limitações e etc)\n",
    "- detalhar o processo de calibração (juros e vol)\n",
    "- Detalhar a determiação dos parâmetros do modelo ($\\sigma$)\n",
    "- Checar se tem base de dados de opções (Call Européia) de Juros\n",
    "- Demonstrar a precificação de 2 derivativos mais complexos (opcional compara com mercado)\n"
   ]
  },
  {
   "cell_type": "code",
   "execution_count": null,
   "metadata": {
    "collapsed": true
   },
   "outputs": [],
   "source": []
  },
  {
   "cell_type": "code",
   "execution_count": null,
   "metadata": {
    "collapsed": true
   },
   "outputs": [],
   "source": []
  },
  {
   "cell_type": "code",
   "execution_count": null,
   "metadata": {
    "collapsed": true
   },
   "outputs": [],
   "source": []
  },
  {
   "cell_type": "code",
   "execution_count": null,
   "metadata": {
    "collapsed": true
   },
   "outputs": [],
   "source": []
  },
  {
   "cell_type": "code",
   "execution_count": null,
   "metadata": {
    "collapsed": true
   },
   "outputs": [],
   "source": []
  },
  {
   "cell_type": "markdown",
   "metadata": {},
   "source": [
    "## 2. Bla\n",
    "\n",
    "bla bla\n",
    "\n",
    "### 2.1. Bla\n",
    "\n",
    "bla bla"
   ]
  },
  {
   "cell_type": "code",
   "execution_count": null,
   "metadata": {
    "collapsed": true
   },
   "outputs": [],
   "source": []
  },
  {
   "cell_type": "code",
   "execution_count": null,
   "metadata": {
    "collapsed": true
   },
   "outputs": [],
   "source": []
  },
  {
   "cell_type": "code",
   "execution_count": null,
   "metadata": {
    "collapsed": true
   },
   "outputs": [],
   "source": []
  },
  {
   "cell_type": "code",
   "execution_count": null,
   "metadata": {
    "collapsed": true
   },
   "outputs": [],
   "source": []
  },
  {
   "cell_type": "markdown",
   "metadata": {},
   "source": [
    "## 3. Conclusão\n",
    "\n",
    "bla bla\n",
    "\n",
    "## 4. Últimas Considerações\n",
    "\n",
    "bla bla"
   ]
  },
  {
   "cell_type": "code",
   "execution_count": null,
   "metadata": {
    "collapsed": true
   },
   "outputs": [],
   "source": []
  },
  {
   "cell_type": "code",
   "execution_count": null,
   "metadata": {
    "collapsed": true
   },
   "outputs": [],
   "source": []
  },
  {
   "cell_type": "code",
   "execution_count": null,
   "metadata": {
    "collapsed": true
   },
   "outputs": [],
   "source": []
  },
  {
   "cell_type": "code",
   "execution_count": null,
   "metadata": {
    "collapsed": true
   },
   "outputs": [],
   "source": []
  },
  {
   "cell_type": "code",
   "execution_count": null,
   "metadata": {
    "collapsed": true
   },
   "outputs": [],
   "source": []
  },
  {
   "cell_type": "markdown",
   "metadata": {},
   "source": [
    "*Style notebook and change matplotlib defaults*"
   ]
  },
  {
   "cell_type": "code",
   "execution_count": 8,
   "metadata": {
    "collapsed": false
   },
   "outputs": [
    {
     "data": {
      "text/html": [
       "<style>\n",
       "    @font-face {\n",
       "        font-family: \"Computer Modern\";\n",
       "        src: url('http://9dbb143991406a7c655e-aa5fcb0a5a4ec34cff238a2d56ca4144.r56.cf5.rackcdn.com/cmunss.otf');\n",
       "    }\n",
       "    @font-face {\n",
       "        font-family: \"Computer Modern\";\n",
       "        font-weight: bold;\n",
       "        src: url('http://9dbb143991406a7c655e-aa5fcb0a5a4ec34cff238a2d56ca4144.r56.cf5.rackcdn.com/cmunsx.otf');\n",
       "    }\n",
       "    @font-face {\n",
       "        font-family: \"Computer Modern\";\n",
       "        font-style: oblique;\n",
       "        src: url('http://9dbb143991406a7c655e-aa5fcb0a5a4ec34cff238a2d56ca4144.r56.cf5.rackcdn.com/cmunsi.otf');\n",
       "    }\n",
       "    @font-face {\n",
       "        font-family: \"Computer Modern\";\n",
       "        font-weight: bold;\n",
       "        font-style: oblique;\n",
       "        src: url('http://9dbb143991406a7c655e-aa5fcb0a5a4ec34cff238a2d56ca4144.r56.cf5.rackcdn.com/cmunso.otf');\n",
       "    }\n",
       "    div.cell{\n",
       "        width:800px;\n",
       "        margin-left:16% !important;\n",
       "        margin-right:auto;\n",
       "    }\n",
       "    h1 {\n",
       "        font-family: Helvetica, serif;\n",
       "    }\n",
       "    h4{\n",
       "        margin-top:12px;\n",
       "        margin-bottom: 3px;\n",
       "       }\n",
       "    div.text_cell_render{\n",
       "        font-family: Computer Modern, \"Helvetica Neue\", Arial, Helvetica, Geneva, sans-serif;\n",
       "        line-height: 145%;\n",
       "        font-size: 130%;\n",
       "        width:800px;\n",
       "        margin-left:auto;\n",
       "        margin-right:auto;\n",
       "    }\n",
       "    .CodeMirror{\n",
       "            font-family: \"Source Code Pro\", source-code-pro,Consolas, monospace;\n",
       "    }\n",
       "    .prompt{\n",
       "        display: None;\n",
       "    }\n",
       "    .text_cell_render h5 {\n",
       "        font-weight: 300;\n",
       "        font-size: 22pt;\n",
       "        color: #4057A1;\n",
       "        font-style: italic;\n",
       "        margin-bottom: .5em;\n",
       "        margin-top: 0.5em;\n",
       "        display: block;\n",
       "    }\n",
       "\n",
       "    .warning{\n",
       "        color: rgb( 240, 20, 20 )\n",
       "        }\n",
       "</style>\n",
       "\n",
       "\n",
       "\n",
       "<style>\n",
       "    table {\n",
       "        overflow:hidden;\n",
       "        font-family: Computer Modern, \"Helvetica Neue\", Arial, Helvetica, Geneva, sans-serif;\n",
       "        font-size: 12px;\n",
       "        margin: 10px;\n",
       "        width: 480px;\n",
       "        text-align: left;\n",
       "        border-collapse: collapse;\n",
       "        border: 1px solid #d3d3d3;\n",
       "        -moz-border-radius:5px; FF1+;\n",
       "        -webkit-border-radius:5px; Saf3-4;\n",
       "        border-radius:5px;\n",
       "        -moz-box-shadow: 0 0 4px rgba(0, 0, 0, 0.01);\n",
       "    }\n",
       "    th\n",
       "    {\n",
       "        padding: 12px 17px 12px 17px;\n",
       "        font-weight: normal;\n",
       "        font-size: 14px;\n",
       "        border-bottom: 1px dashed #69c;\n",
       "    }\n",
       "\n",
       "    td\n",
       "    {\n",
       "        padding: 7px 17px 7px 17px;\n",
       "\n",
       "    }\n",
       "\n",
       "    tbody tr:hover th\n",
       "    {\n",
       "\n",
       "        background:  #E9E9E9;\n",
       "    }\n",
       "\n",
       "    tbody tr:hover td\n",
       "    {\n",
       "\n",
       "        background:  #E9E9E9;\n",
       "    }\n",
       "\n",
       "</style>\n",
       "\n",
       "<script>\n",
       "    MathJax.Hub.Config({\n",
       "                        TeX: {\n",
       "                           extensions: [\"AMSmath.js\"]\n",
       "                           },\n",
       "                tex2jax: {\n",
       "                    inlineMath: [ ['$','$'], [\"\\\\(\",\"\\\\)\"] ],\n",
       "                    displayMath: [ ['$$','$$'], [\"\\\\[\",\"\\\\]\"] ]\n",
       "                },\n",
       "                displayAlign: 'center', // Change this to 'center' to center equations.\n",
       "                \"HTML-CSS\": {\n",
       "                    styles: {'.MathJax_Display': {\"margin\": 4}}\n",
       "                }\n",
       "        });\n",
       "</script>\n"
      ],
      "text/plain": [
       "<IPython.core.display.HTML object>"
      ]
     },
     "execution_count": 8,
     "metadata": {},
     "output_type": "execute_result"
    }
   ],
   "source": [
    "#loading style sheet\n",
    "from IPython.core.display import HTML\n",
    "HTML(open('ipython_style.css').read())"
   ]
  },
  {
   "cell_type": "code",
   "execution_count": 9,
   "metadata": {
    "collapsed": false
   },
   "outputs": [],
   "source": [
    "#changing matplotlib defaults\n",
    "%matplotlib inline\n",
    "import seaborn as sns\n",
    "sns.set_palette(\"deep\", desat=.6)\n",
    "sns.set_context(rc={\"figure.figsize\": (8, 4)})\n",
    "sns.set_style(\"whitegrid\")\n",
    "sns.set_palette(sns.color_palette(\"PuBuGn_d\", 10))"
   ]
  },
  {
   "cell_type": "code",
   "execution_count": null,
   "metadata": {
    "collapsed": true
   },
   "outputs": [],
   "source": []
  }
 ],
 "metadata": {
  "kernelspec": {
   "display_name": "Python 2",
   "language": "python",
   "name": "python2"
  },
  "language_info": {
   "codemirror_mode": {
    "name": "ipython",
    "version": 2
   },
   "file_extension": ".py",
   "mimetype": "text/x-python",
   "name": "python",
   "nbconvert_exporter": "python",
   "pygments_lexer": "ipython2",
   "version": "2.7.11"
  }
 },
 "nbformat": 4,
 "nbformat_minor": 0
}
